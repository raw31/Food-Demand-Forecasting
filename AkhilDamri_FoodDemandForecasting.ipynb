{
 "cells": [
  {
   "cell_type": "code",
   "execution_count": 1,
   "metadata": {},
   "outputs": [],
   "source": [
    "import pandas as pd\n",
    "import numpy as np\n",
    "#For plotting\n",
    "from matplotlib import pyplot as plt\n",
    "\n",
    "plt.rcParams['agg.path.chunksize'] = 10000\n",
    "import seaborn as sns\n",
    "%matplotlib inline\n",
    "from sklearn.metrics import r2_score\n"
   ]
  },
  {
   "cell_type": "code",
   "execution_count": 2,
   "metadata": {},
   "outputs": [],
   "source": [
    "df1=pd.read_csv(\"train.csv\")\n",
    "df2=pd.read_csv(\"fulfilment_center_info.csv\")\n",
    "df3=pd.read_csv(\"meal_info.csv\")"
   ]
  },
  {
   "cell_type": "code",
   "execution_count": 3,
   "metadata": {},
   "outputs": [
    {
     "data": {
      "text/html": [
       "<div>\n",
       "<style scoped>\n",
       "    .dataframe tbody tr th:only-of-type {\n",
       "        vertical-align: middle;\n",
       "    }\n",
       "\n",
       "    .dataframe tbody tr th {\n",
       "        vertical-align: top;\n",
       "    }\n",
       "\n",
       "    .dataframe thead th {\n",
       "        text-align: right;\n",
       "    }\n",
       "</style>\n",
       "<table border=\"1\" class=\"dataframe\">\n",
       "  <thead>\n",
       "    <tr style=\"text-align: right;\">\n",
       "      <th></th>\n",
       "      <th>id</th>\n",
       "      <th>week</th>\n",
       "      <th>center_id</th>\n",
       "      <th>meal_id</th>\n",
       "      <th>checkout_price</th>\n",
       "      <th>base_price</th>\n",
       "      <th>emailer_for_promotion</th>\n",
       "      <th>homepage_featured</th>\n",
       "      <th>num_orders</th>\n",
       "    </tr>\n",
       "  </thead>\n",
       "  <tbody>\n",
       "    <tr>\n",
       "      <th>0</th>\n",
       "      <td>1379560</td>\n",
       "      <td>1</td>\n",
       "      <td>55</td>\n",
       "      <td>1885</td>\n",
       "      <td>136.83</td>\n",
       "      <td>152.29</td>\n",
       "      <td>0</td>\n",
       "      <td>0</td>\n",
       "      <td>177</td>\n",
       "    </tr>\n",
       "    <tr>\n",
       "      <th>1</th>\n",
       "      <td>1466964</td>\n",
       "      <td>1</td>\n",
       "      <td>55</td>\n",
       "      <td>1993</td>\n",
       "      <td>136.83</td>\n",
       "      <td>135.83</td>\n",
       "      <td>0</td>\n",
       "      <td>0</td>\n",
       "      <td>270</td>\n",
       "    </tr>\n",
       "    <tr>\n",
       "      <th>2</th>\n",
       "      <td>1346989</td>\n",
       "      <td>1</td>\n",
       "      <td>55</td>\n",
       "      <td>2539</td>\n",
       "      <td>134.86</td>\n",
       "      <td>135.86</td>\n",
       "      <td>0</td>\n",
       "      <td>0</td>\n",
       "      <td>189</td>\n",
       "    </tr>\n",
       "    <tr>\n",
       "      <th>3</th>\n",
       "      <td>1338232</td>\n",
       "      <td>1</td>\n",
       "      <td>55</td>\n",
       "      <td>2139</td>\n",
       "      <td>339.50</td>\n",
       "      <td>437.53</td>\n",
       "      <td>0</td>\n",
       "      <td>0</td>\n",
       "      <td>54</td>\n",
       "    </tr>\n",
       "    <tr>\n",
       "      <th>4</th>\n",
       "      <td>1448490</td>\n",
       "      <td>1</td>\n",
       "      <td>55</td>\n",
       "      <td>2631</td>\n",
       "      <td>243.50</td>\n",
       "      <td>242.50</td>\n",
       "      <td>0</td>\n",
       "      <td>0</td>\n",
       "      <td>40</td>\n",
       "    </tr>\n",
       "  </tbody>\n",
       "</table>\n",
       "</div>"
      ],
      "text/plain": [
       "        id  week  center_id  meal_id  checkout_price  base_price  \\\n",
       "0  1379560     1         55     1885          136.83      152.29   \n",
       "1  1466964     1         55     1993          136.83      135.83   \n",
       "2  1346989     1         55     2539          134.86      135.86   \n",
       "3  1338232     1         55     2139          339.50      437.53   \n",
       "4  1448490     1         55     2631          243.50      242.50   \n",
       "\n",
       "   emailer_for_promotion  homepage_featured  num_orders  \n",
       "0                      0                  0         177  \n",
       "1                      0                  0         270  \n",
       "2                      0                  0         189  \n",
       "3                      0                  0          54  \n",
       "4                      0                  0          40  "
      ]
     },
     "execution_count": 3,
     "metadata": {},
     "output_type": "execute_result"
    }
   ],
   "source": [
    "df1.head()"
   ]
  },
  {
   "cell_type": "code",
   "execution_count": 4,
   "metadata": {},
   "outputs": [
    {
     "data": {
      "text/html": [
       "<div>\n",
       "<style scoped>\n",
       "    .dataframe tbody tr th:only-of-type {\n",
       "        vertical-align: middle;\n",
       "    }\n",
       "\n",
       "    .dataframe tbody tr th {\n",
       "        vertical-align: top;\n",
       "    }\n",
       "\n",
       "    .dataframe thead th {\n",
       "        text-align: right;\n",
       "    }\n",
       "</style>\n",
       "<table border=\"1\" class=\"dataframe\">\n",
       "  <thead>\n",
       "    <tr style=\"text-align: right;\">\n",
       "      <th></th>\n",
       "      <th>center_id</th>\n",
       "      <th>city_code</th>\n",
       "      <th>region_code</th>\n",
       "      <th>center_type</th>\n",
       "      <th>op_area</th>\n",
       "    </tr>\n",
       "  </thead>\n",
       "  <tbody>\n",
       "    <tr>\n",
       "      <th>0</th>\n",
       "      <td>11</td>\n",
       "      <td>679</td>\n",
       "      <td>56</td>\n",
       "      <td>TYPE_A</td>\n",
       "      <td>3.7</td>\n",
       "    </tr>\n",
       "    <tr>\n",
       "      <th>1</th>\n",
       "      <td>13</td>\n",
       "      <td>590</td>\n",
       "      <td>56</td>\n",
       "      <td>TYPE_B</td>\n",
       "      <td>6.7</td>\n",
       "    </tr>\n",
       "    <tr>\n",
       "      <th>2</th>\n",
       "      <td>124</td>\n",
       "      <td>590</td>\n",
       "      <td>56</td>\n",
       "      <td>TYPE_C</td>\n",
       "      <td>4.0</td>\n",
       "    </tr>\n",
       "    <tr>\n",
       "      <th>3</th>\n",
       "      <td>66</td>\n",
       "      <td>648</td>\n",
       "      <td>34</td>\n",
       "      <td>TYPE_A</td>\n",
       "      <td>4.1</td>\n",
       "    </tr>\n",
       "    <tr>\n",
       "      <th>4</th>\n",
       "      <td>94</td>\n",
       "      <td>632</td>\n",
       "      <td>34</td>\n",
       "      <td>TYPE_C</td>\n",
       "      <td>3.6</td>\n",
       "    </tr>\n",
       "  </tbody>\n",
       "</table>\n",
       "</div>"
      ],
      "text/plain": [
       "   center_id  city_code  region_code center_type  op_area\n",
       "0         11        679           56      TYPE_A      3.7\n",
       "1         13        590           56      TYPE_B      6.7\n",
       "2        124        590           56      TYPE_C      4.0\n",
       "3         66        648           34      TYPE_A      4.1\n",
       "4         94        632           34      TYPE_C      3.6"
      ]
     },
     "execution_count": 4,
     "metadata": {},
     "output_type": "execute_result"
    }
   ],
   "source": [
    "df2.head()"
   ]
  },
  {
   "cell_type": "code",
   "execution_count": 5,
   "metadata": {},
   "outputs": [
    {
     "data": {
      "text/html": [
       "<div>\n",
       "<style scoped>\n",
       "    .dataframe tbody tr th:only-of-type {\n",
       "        vertical-align: middle;\n",
       "    }\n",
       "\n",
       "    .dataframe tbody tr th {\n",
       "        vertical-align: top;\n",
       "    }\n",
       "\n",
       "    .dataframe thead th {\n",
       "        text-align: right;\n",
       "    }\n",
       "</style>\n",
       "<table border=\"1\" class=\"dataframe\">\n",
       "  <thead>\n",
       "    <tr style=\"text-align: right;\">\n",
       "      <th></th>\n",
       "      <th>meal_id</th>\n",
       "      <th>category</th>\n",
       "      <th>cuisine</th>\n",
       "    </tr>\n",
       "  </thead>\n",
       "  <tbody>\n",
       "    <tr>\n",
       "      <th>0</th>\n",
       "      <td>1885</td>\n",
       "      <td>Beverages</td>\n",
       "      <td>Thai</td>\n",
       "    </tr>\n",
       "    <tr>\n",
       "      <th>1</th>\n",
       "      <td>1993</td>\n",
       "      <td>Beverages</td>\n",
       "      <td>Thai</td>\n",
       "    </tr>\n",
       "    <tr>\n",
       "      <th>2</th>\n",
       "      <td>2539</td>\n",
       "      <td>Beverages</td>\n",
       "      <td>Thai</td>\n",
       "    </tr>\n",
       "    <tr>\n",
       "      <th>3</th>\n",
       "      <td>1248</td>\n",
       "      <td>Beverages</td>\n",
       "      <td>Indian</td>\n",
       "    </tr>\n",
       "    <tr>\n",
       "      <th>4</th>\n",
       "      <td>2631</td>\n",
       "      <td>Beverages</td>\n",
       "      <td>Indian</td>\n",
       "    </tr>\n",
       "  </tbody>\n",
       "</table>\n",
       "</div>"
      ],
      "text/plain": [
       "   meal_id   category cuisine\n",
       "0     1885  Beverages    Thai\n",
       "1     1993  Beverages    Thai\n",
       "2     2539  Beverages    Thai\n",
       "3     1248  Beverages  Indian\n",
       "4     2631  Beverages  Indian"
      ]
     },
     "execution_count": 5,
     "metadata": {},
     "output_type": "execute_result"
    }
   ],
   "source": [
    "df3.head()"
   ]
  },
  {
   "cell_type": "markdown",
   "metadata": {},
   "source": [
    "# Merging the lookups table to main data With primary key as meal_id and center_id respectively"
   ]
  },
  {
   "cell_type": "code",
   "execution_count": 6,
   "metadata": {},
   "outputs": [],
   "source": [
    "res=pd.merge(df1,df3,on=['meal_id'])"
   ]
  },
  {
   "cell_type": "code",
   "execution_count": 7,
   "metadata": {},
   "outputs": [],
   "source": [
    "res=pd.merge(res,df2,on=['center_id'])"
   ]
  },
  {
   "cell_type": "code",
   "execution_count": 8,
   "metadata": {},
   "outputs": [],
   "source": [
    "res.sort_values('week',inplace=True)"
   ]
  },
  {
   "cell_type": "code",
   "execution_count": 9,
   "metadata": {},
   "outputs": [
    {
     "data": {
      "text/html": [
       "<div>\n",
       "<style scoped>\n",
       "    .dataframe tbody tr th:only-of-type {\n",
       "        vertical-align: middle;\n",
       "    }\n",
       "\n",
       "    .dataframe tbody tr th {\n",
       "        vertical-align: top;\n",
       "    }\n",
       "\n",
       "    .dataframe thead th {\n",
       "        text-align: right;\n",
       "    }\n",
       "</style>\n",
       "<table border=\"1\" class=\"dataframe\">\n",
       "  <thead>\n",
       "    <tr style=\"text-align: right;\">\n",
       "      <th></th>\n",
       "      <th>id</th>\n",
       "      <th>week</th>\n",
       "      <th>center_id</th>\n",
       "      <th>meal_id</th>\n",
       "      <th>checkout_price</th>\n",
       "      <th>base_price</th>\n",
       "      <th>emailer_for_promotion</th>\n",
       "      <th>homepage_featured</th>\n",
       "      <th>num_orders</th>\n",
       "      <th>category</th>\n",
       "      <th>cuisine</th>\n",
       "      <th>city_code</th>\n",
       "      <th>region_code</th>\n",
       "      <th>center_type</th>\n",
       "      <th>op_area</th>\n",
       "    </tr>\n",
       "  </thead>\n",
       "  <tbody>\n",
       "    <tr>\n",
       "      <th>0</th>\n",
       "      <td>1379560</td>\n",
       "      <td>1</td>\n",
       "      <td>55</td>\n",
       "      <td>1885</td>\n",
       "      <td>136.83</td>\n",
       "      <td>152.29</td>\n",
       "      <td>0</td>\n",
       "      <td>0</td>\n",
       "      <td>177</td>\n",
       "      <td>Beverages</td>\n",
       "      <td>Thai</td>\n",
       "      <td>647</td>\n",
       "      <td>56</td>\n",
       "      <td>TYPE_C</td>\n",
       "      <td>2.0</td>\n",
       "    </tr>\n",
       "    <tr>\n",
       "      <th>284804</th>\n",
       "      <td>1409622</td>\n",
       "      <td>1</td>\n",
       "      <td>113</td>\n",
       "      <td>2444</td>\n",
       "      <td>658.63</td>\n",
       "      <td>660.63</td>\n",
       "      <td>0</td>\n",
       "      <td>0</td>\n",
       "      <td>14</td>\n",
       "      <td>Seafood</td>\n",
       "      <td>Continental</td>\n",
       "      <td>680</td>\n",
       "      <td>77</td>\n",
       "      <td>TYPE_C</td>\n",
       "      <td>4.0</td>\n",
       "    </tr>\n",
       "    <tr>\n",
       "      <th>285005</th>\n",
       "      <td>1203879</td>\n",
       "      <td>1</td>\n",
       "      <td>113</td>\n",
       "      <td>1525</td>\n",
       "      <td>244.50</td>\n",
       "      <td>282.33</td>\n",
       "      <td>0</td>\n",
       "      <td>0</td>\n",
       "      <td>14</td>\n",
       "      <td>Other Snacks</td>\n",
       "      <td>Thai</td>\n",
       "      <td>680</td>\n",
       "      <td>77</td>\n",
       "      <td>TYPE_C</td>\n",
       "      <td>4.0</td>\n",
       "    </tr>\n",
       "    <tr>\n",
       "      <th>285106</th>\n",
       "      <td>1235654</td>\n",
       "      <td>1</td>\n",
       "      <td>113</td>\n",
       "      <td>2704</td>\n",
       "      <td>242.50</td>\n",
       "      <td>280.33</td>\n",
       "      <td>0</td>\n",
       "      <td>0</td>\n",
       "      <td>121</td>\n",
       "      <td>Other Snacks</td>\n",
       "      <td>Thai</td>\n",
       "      <td>680</td>\n",
       "      <td>77</td>\n",
       "      <td>TYPE_C</td>\n",
       "      <td>4.0</td>\n",
       "    </tr>\n",
       "    <tr>\n",
       "      <th>43263</th>\n",
       "      <td>1393327</td>\n",
       "      <td>1</td>\n",
       "      <td>52</td>\n",
       "      <td>1248</td>\n",
       "      <td>247.35</td>\n",
       "      <td>247.35</td>\n",
       "      <td>0</td>\n",
       "      <td>0</td>\n",
       "      <td>81</td>\n",
       "      <td>Beverages</td>\n",
       "      <td>Indian</td>\n",
       "      <td>685</td>\n",
       "      <td>56</td>\n",
       "      <td>TYPE_B</td>\n",
       "      <td>5.6</td>\n",
       "    </tr>\n",
       "    <tr>\n",
       "      <th>...</th>\n",
       "      <td>...</td>\n",
       "      <td>...</td>\n",
       "      <td>...</td>\n",
       "      <td>...</td>\n",
       "      <td>...</td>\n",
       "      <td>...</td>\n",
       "      <td>...</td>\n",
       "      <td>...</td>\n",
       "      <td>...</td>\n",
       "      <td>...</td>\n",
       "      <td>...</td>\n",
       "      <td>...</td>\n",
       "      <td>...</td>\n",
       "      <td>...</td>\n",
       "      <td>...</td>\n",
       "    </tr>\n",
       "    <tr>\n",
       "      <th>287668</th>\n",
       "      <td>1184135</td>\n",
       "      <td>145</td>\n",
       "      <td>145</td>\n",
       "      <td>1778</td>\n",
       "      <td>160.05</td>\n",
       "      <td>160.08</td>\n",
       "      <td>1</td>\n",
       "      <td>0</td>\n",
       "      <td>378</td>\n",
       "      <td>Beverages</td>\n",
       "      <td>Italian</td>\n",
       "      <td>620</td>\n",
       "      <td>77</td>\n",
       "      <td>TYPE_A</td>\n",
       "      <td>3.9</td>\n",
       "    </tr>\n",
       "    <tr>\n",
       "      <th>350483</th>\n",
       "      <td>1007940</td>\n",
       "      <td>145</td>\n",
       "      <td>59</td>\n",
       "      <td>1445</td>\n",
       "      <td>727.53</td>\n",
       "      <td>726.53</td>\n",
       "      <td>0</td>\n",
       "      <td>1</td>\n",
       "      <td>40</td>\n",
       "      <td>Seafood</td>\n",
       "      <td>Continental</td>\n",
       "      <td>456</td>\n",
       "      <td>56</td>\n",
       "      <td>TYPE_A</td>\n",
       "      <td>4.2</td>\n",
       "    </tr>\n",
       "    <tr>\n",
       "      <th>262083</th>\n",
       "      <td>1154446</td>\n",
       "      <td>145</td>\n",
       "      <td>73</td>\n",
       "      <td>1770</td>\n",
       "      <td>440.38</td>\n",
       "      <td>442.38</td>\n",
       "      <td>0</td>\n",
       "      <td>0</td>\n",
       "      <td>55</td>\n",
       "      <td>Biryani</td>\n",
       "      <td>Indian</td>\n",
       "      <td>576</td>\n",
       "      <td>34</td>\n",
       "      <td>TYPE_A</td>\n",
       "      <td>4.0</td>\n",
       "    </tr>\n",
       "    <tr>\n",
       "      <th>448468</th>\n",
       "      <td>1450789</td>\n",
       "      <td>145</td>\n",
       "      <td>51</td>\n",
       "      <td>2304</td>\n",
       "      <td>484.03</td>\n",
       "      <td>485.03</td>\n",
       "      <td>0</td>\n",
       "      <td>0</td>\n",
       "      <td>80</td>\n",
       "      <td>Desert</td>\n",
       "      <td>Indian</td>\n",
       "      <td>638</td>\n",
       "      <td>56</td>\n",
       "      <td>TYPE_A</td>\n",
       "      <td>7.0</td>\n",
       "    </tr>\n",
       "    <tr>\n",
       "      <th>456547</th>\n",
       "      <td>1443704</td>\n",
       "      <td>145</td>\n",
       "      <td>61</td>\n",
       "      <td>2104</td>\n",
       "      <td>581.03</td>\n",
       "      <td>582.03</td>\n",
       "      <td>0</td>\n",
       "      <td>0</td>\n",
       "      <td>27</td>\n",
       "      <td>Fish</td>\n",
       "      <td>Continental</td>\n",
       "      <td>473</td>\n",
       "      <td>77</td>\n",
       "      <td>TYPE_A</td>\n",
       "      <td>4.5</td>\n",
       "    </tr>\n",
       "  </tbody>\n",
       "</table>\n",
       "<p>456548 rows × 15 columns</p>\n",
       "</div>"
      ],
      "text/plain": [
       "             id  week  center_id  meal_id  checkout_price  base_price  \\\n",
       "0       1379560     1         55     1885          136.83      152.29   \n",
       "284804  1409622     1        113     2444          658.63      660.63   \n",
       "285005  1203879     1        113     1525          244.50      282.33   \n",
       "285106  1235654     1        113     2704          242.50      280.33   \n",
       "43263   1393327     1         52     1248          247.35      247.35   \n",
       "...         ...   ...        ...      ...             ...         ...   \n",
       "287668  1184135   145        145     1778          160.05      160.08   \n",
       "350483  1007940   145         59     1445          727.53      726.53   \n",
       "262083  1154446   145         73     1770          440.38      442.38   \n",
       "448468  1450789   145         51     2304          484.03      485.03   \n",
       "456547  1443704   145         61     2104          581.03      582.03   \n",
       "\n",
       "        emailer_for_promotion  homepage_featured  num_orders      category  \\\n",
       "0                           0                  0         177     Beverages   \n",
       "284804                      0                  0          14       Seafood   \n",
       "285005                      0                  0          14  Other Snacks   \n",
       "285106                      0                  0         121  Other Snacks   \n",
       "43263                       0                  0          81     Beverages   \n",
       "...                       ...                ...         ...           ...   \n",
       "287668                      1                  0         378     Beverages   \n",
       "350483                      0                  1          40       Seafood   \n",
       "262083                      0                  0          55       Biryani   \n",
       "448468                      0                  0          80        Desert   \n",
       "456547                      0                  0          27          Fish   \n",
       "\n",
       "            cuisine  city_code  region_code center_type  op_area  \n",
       "0              Thai        647           56      TYPE_C      2.0  \n",
       "284804  Continental        680           77      TYPE_C      4.0  \n",
       "285005         Thai        680           77      TYPE_C      4.0  \n",
       "285106         Thai        680           77      TYPE_C      4.0  \n",
       "43263        Indian        685           56      TYPE_B      5.6  \n",
       "...             ...        ...          ...         ...      ...  \n",
       "287668      Italian        620           77      TYPE_A      3.9  \n",
       "350483  Continental        456           56      TYPE_A      4.2  \n",
       "262083       Indian        576           34      TYPE_A      4.0  \n",
       "448468       Indian        638           56      TYPE_A      7.0  \n",
       "456547  Continental        473           77      TYPE_A      4.5  \n",
       "\n",
       "[456548 rows x 15 columns]"
      ]
     },
     "execution_count": 9,
     "metadata": {},
     "output_type": "execute_result"
    }
   ],
   "source": [
    "res"
   ]
  },
  {
   "cell_type": "code",
   "execution_count": 10,
   "metadata": {},
   "outputs": [
    {
     "data": {
      "text/plain": [
       "id                       0\n",
       "week                     0\n",
       "center_id                0\n",
       "meal_id                  0\n",
       "checkout_price           0\n",
       "base_price               0\n",
       "emailer_for_promotion    0\n",
       "homepage_featured        0\n",
       "num_orders               0\n",
       "category                 0\n",
       "cuisine                  0\n",
       "city_code                0\n",
       "region_code              0\n",
       "center_type              0\n",
       "op_area                  0\n",
       "dtype: int64"
      ]
     },
     "execution_count": 10,
     "metadata": {},
     "output_type": "execute_result"
    }
   ],
   "source": [
    "res.isna().sum()"
   ]
  },
  {
   "cell_type": "code",
   "execution_count": 11,
   "metadata": {},
   "outputs": [
    {
     "data": {
      "text/plain": [
       "id                         int64\n",
       "week                       int64\n",
       "center_id                  int64\n",
       "meal_id                    int64\n",
       "checkout_price           float64\n",
       "base_price               float64\n",
       "emailer_for_promotion      int64\n",
       "homepage_featured          int64\n",
       "num_orders                 int64\n",
       "category                  object\n",
       "cuisine                   object\n",
       "city_code                  int64\n",
       "region_code                int64\n",
       "center_type               object\n",
       "op_area                  float64\n",
       "dtype: object"
      ]
     },
     "execution_count": 11,
     "metadata": {},
     "output_type": "execute_result"
    }
   ],
   "source": [
    "res.dtypes\n"
   ]
  },
  {
   "cell_type": "code",
   "execution_count": null,
   "metadata": {},
   "outputs": [],
   "source": []
  },
  {
   "cell_type": "code",
   "execution_count": 12,
   "metadata": {},
   "outputs": [
    {
     "name": "stdout",
     "output_type": "stream",
     "text": [
      "This dataset has 456548 rows, and 15 columns\n"
     ]
    }
   ],
   "source": [
    "print('This dataset has ' + str(res.shape[0]) + ' rows, and ' + str(res.shape[1]) + ' columns')"
   ]
  },
  {
   "cell_type": "markdown",
   "metadata": {},
   "source": [
    "Numeric features description"
   ]
  },
  {
   "cell_type": "code",
   "execution_count": 13,
   "metadata": {},
   "outputs": [
    {
     "data": {
      "text/html": [
       "<div>\n",
       "<style scoped>\n",
       "    .dataframe tbody tr th:only-of-type {\n",
       "        vertical-align: middle;\n",
       "    }\n",
       "\n",
       "    .dataframe tbody tr th {\n",
       "        vertical-align: top;\n",
       "    }\n",
       "\n",
       "    .dataframe thead th {\n",
       "        text-align: right;\n",
       "    }\n",
       "</style>\n",
       "<table border=\"1\" class=\"dataframe\">\n",
       "  <thead>\n",
       "    <tr style=\"text-align: right;\">\n",
       "      <th></th>\n",
       "      <th>id</th>\n",
       "      <th>week</th>\n",
       "      <th>center_id</th>\n",
       "      <th>meal_id</th>\n",
       "      <th>checkout_price</th>\n",
       "      <th>base_price</th>\n",
       "      <th>emailer_for_promotion</th>\n",
       "      <th>homepage_featured</th>\n",
       "      <th>num_orders</th>\n",
       "      <th>city_code</th>\n",
       "      <th>region_code</th>\n",
       "      <th>op_area</th>\n",
       "    </tr>\n",
       "  </thead>\n",
       "  <tbody>\n",
       "    <tr>\n",
       "      <th>count</th>\n",
       "      <td>4.565480e+05</td>\n",
       "      <td>456548.000000</td>\n",
       "      <td>456548.000000</td>\n",
       "      <td>456548.000000</td>\n",
       "      <td>456548.000000</td>\n",
       "      <td>456548.000000</td>\n",
       "      <td>456548.000000</td>\n",
       "      <td>456548.00000</td>\n",
       "      <td>456548.000000</td>\n",
       "      <td>456548.000000</td>\n",
       "      <td>456548.000000</td>\n",
       "      <td>456548.000000</td>\n",
       "    </tr>\n",
       "    <tr>\n",
       "      <th>mean</th>\n",
       "      <td>1.250096e+06</td>\n",
       "      <td>74.768771</td>\n",
       "      <td>82.105796</td>\n",
       "      <td>2024.337458</td>\n",
       "      <td>332.238933</td>\n",
       "      <td>354.156627</td>\n",
       "      <td>0.081152</td>\n",
       "      <td>0.10920</td>\n",
       "      <td>261.872760</td>\n",
       "      <td>601.553399</td>\n",
       "      <td>56.614566</td>\n",
       "      <td>4.083590</td>\n",
       "    </tr>\n",
       "    <tr>\n",
       "      <th>std</th>\n",
       "      <td>1.443548e+05</td>\n",
       "      <td>41.524956</td>\n",
       "      <td>45.975046</td>\n",
       "      <td>547.420920</td>\n",
       "      <td>152.939723</td>\n",
       "      <td>160.715914</td>\n",
       "      <td>0.273069</td>\n",
       "      <td>0.31189</td>\n",
       "      <td>395.922798</td>\n",
       "      <td>66.195914</td>\n",
       "      <td>17.641306</td>\n",
       "      <td>1.091686</td>\n",
       "    </tr>\n",
       "    <tr>\n",
       "      <th>min</th>\n",
       "      <td>1.000000e+06</td>\n",
       "      <td>1.000000</td>\n",
       "      <td>10.000000</td>\n",
       "      <td>1062.000000</td>\n",
       "      <td>2.970000</td>\n",
       "      <td>55.350000</td>\n",
       "      <td>0.000000</td>\n",
       "      <td>0.00000</td>\n",
       "      <td>13.000000</td>\n",
       "      <td>456.000000</td>\n",
       "      <td>23.000000</td>\n",
       "      <td>0.900000</td>\n",
       "    </tr>\n",
       "    <tr>\n",
       "      <th>25%</th>\n",
       "      <td>1.124999e+06</td>\n",
       "      <td>39.000000</td>\n",
       "      <td>43.000000</td>\n",
       "      <td>1558.000000</td>\n",
       "      <td>228.950000</td>\n",
       "      <td>243.500000</td>\n",
       "      <td>0.000000</td>\n",
       "      <td>0.00000</td>\n",
       "      <td>54.000000</td>\n",
       "      <td>553.000000</td>\n",
       "      <td>34.000000</td>\n",
       "      <td>3.600000</td>\n",
       "    </tr>\n",
       "    <tr>\n",
       "      <th>50%</th>\n",
       "      <td>1.250184e+06</td>\n",
       "      <td>76.000000</td>\n",
       "      <td>76.000000</td>\n",
       "      <td>1993.000000</td>\n",
       "      <td>296.820000</td>\n",
       "      <td>310.460000</td>\n",
       "      <td>0.000000</td>\n",
       "      <td>0.00000</td>\n",
       "      <td>136.000000</td>\n",
       "      <td>596.000000</td>\n",
       "      <td>56.000000</td>\n",
       "      <td>4.000000</td>\n",
       "    </tr>\n",
       "    <tr>\n",
       "      <th>75%</th>\n",
       "      <td>1.375140e+06</td>\n",
       "      <td>111.000000</td>\n",
       "      <td>110.000000</td>\n",
       "      <td>2539.000000</td>\n",
       "      <td>445.230000</td>\n",
       "      <td>458.870000</td>\n",
       "      <td>0.000000</td>\n",
       "      <td>0.00000</td>\n",
       "      <td>324.000000</td>\n",
       "      <td>651.000000</td>\n",
       "      <td>77.000000</td>\n",
       "      <td>4.500000</td>\n",
       "    </tr>\n",
       "    <tr>\n",
       "      <th>max</th>\n",
       "      <td>1.499999e+06</td>\n",
       "      <td>145.000000</td>\n",
       "      <td>186.000000</td>\n",
       "      <td>2956.000000</td>\n",
       "      <td>866.270000</td>\n",
       "      <td>866.270000</td>\n",
       "      <td>1.000000</td>\n",
       "      <td>1.00000</td>\n",
       "      <td>24299.000000</td>\n",
       "      <td>713.000000</td>\n",
       "      <td>93.000000</td>\n",
       "      <td>7.000000</td>\n",
       "    </tr>\n",
       "  </tbody>\n",
       "</table>\n",
       "</div>"
      ],
      "text/plain": [
       "                 id           week      center_id        meal_id  \\\n",
       "count  4.565480e+05  456548.000000  456548.000000  456548.000000   \n",
       "mean   1.250096e+06      74.768771      82.105796    2024.337458   \n",
       "std    1.443548e+05      41.524956      45.975046     547.420920   \n",
       "min    1.000000e+06       1.000000      10.000000    1062.000000   \n",
       "25%    1.124999e+06      39.000000      43.000000    1558.000000   \n",
       "50%    1.250184e+06      76.000000      76.000000    1993.000000   \n",
       "75%    1.375140e+06     111.000000     110.000000    2539.000000   \n",
       "max    1.499999e+06     145.000000     186.000000    2956.000000   \n",
       "\n",
       "       checkout_price     base_price  emailer_for_promotion  \\\n",
       "count   456548.000000  456548.000000          456548.000000   \n",
       "mean       332.238933     354.156627               0.081152   \n",
       "std        152.939723     160.715914               0.273069   \n",
       "min          2.970000      55.350000               0.000000   \n",
       "25%        228.950000     243.500000               0.000000   \n",
       "50%        296.820000     310.460000               0.000000   \n",
       "75%        445.230000     458.870000               0.000000   \n",
       "max        866.270000     866.270000               1.000000   \n",
       "\n",
       "       homepage_featured     num_orders      city_code    region_code  \\\n",
       "count       456548.00000  456548.000000  456548.000000  456548.000000   \n",
       "mean             0.10920     261.872760     601.553399      56.614566   \n",
       "std              0.31189     395.922798      66.195914      17.641306   \n",
       "min              0.00000      13.000000     456.000000      23.000000   \n",
       "25%              0.00000      54.000000     553.000000      34.000000   \n",
       "50%              0.00000     136.000000     596.000000      56.000000   \n",
       "75%              0.00000     324.000000     651.000000      77.000000   \n",
       "max              1.00000   24299.000000     713.000000      93.000000   \n",
       "\n",
       "             op_area  \n",
       "count  456548.000000  \n",
       "mean        4.083590  \n",
       "std         1.091686  \n",
       "min         0.900000  \n",
       "25%         3.600000  \n",
       "50%         4.000000  \n",
       "75%         4.500000  \n",
       "max         7.000000  "
      ]
     },
     "execution_count": 13,
     "metadata": {},
     "output_type": "execute_result"
    }
   ],
   "source": [
    "res.describe()"
   ]
  },
  {
   "cell_type": "markdown",
   "metadata": {},
   "source": [
    "Univariate Analysis"
   ]
  },
  {
   "cell_type": "code",
   "execution_count": 14,
   "metadata": {},
   "outputs": [
    {
     "data": {
      "image/png": "[encoded data removed]",
      "text/plain": [
       "<Figure size 432x288 with 1 Axes>"
      ]
     },
     "metadata": {
      "needs_background": "light"
     },
     "output_type": "display_data"
    }
   ],
   "source": [
    "sns.distplot(res.base_price.dropna(), kde=False, bins = 15);"
   ]
  },
  {
   "cell_type": "markdown",
   "metadata": {},
   "source": [
    "1.The plot looks like positive sekwed with mean of 354 rs"
   ]
  },
  {
   "cell_type": "markdown",
   "metadata": {},
   "source": [
    "2.People tend to order item which has base price aroud 250-350 rs"
   ]
  },
  {
   "cell_type": "markdown",
   "metadata": {},
   "source": [
    "checkout_price"
   ]
  },
  {
   "cell_type": "code",
   "execution_count": 15,
   "metadata": {},
   "outputs": [
    {
     "data": {
      "image/png": "[encoded data removed]",
      "text/plain": [
       "<Figure size 432x288 with 1 Axes>"
      ]
     },
     "metadata": {
      "needs_background": "light"
     },
     "output_type": "display_data"
    }
   ],
   "source": [
    "sns.distplot(res.checkout_price.dropna(), kde=False, bins = 15);"
   ]
  },
  {
   "cell_type": "markdown",
   "metadata": {},
   "source": [
    "1. The graph is positive sekwed with mean of 332"
   ]
  },
  {
   "cell_type": "markdown",
   "metadata": {},
   "source": [
    "2.Item with checkout price between 250-350 are ordered in high numbers ."
   ]
  },
  {
   "cell_type": "code",
   "execution_count": null,
   "metadata": {},
   "outputs": [],
   "source": []
  },
  {
   "cell_type": "markdown",
   "metadata": {},
   "source": [
    "# Here we can see that basic price and checkout price have a diffrence . Checkout price is relatively less in than base price"
   ]
  },
  {
   "cell_type": "markdown",
   "metadata": {},
   "source": [
    "So we can make a feature which \"Discount\" which tells the discount offered on particular order"
   ]
  },
  {
   "cell_type": "markdown",
   "metadata": {},
   "source": [
    "# Total amount of discount offered = (base price - checkout price)"
   ]
  },
  {
   "cell_type": "code",
   "execution_count": 16,
   "metadata": {},
   "outputs": [],
   "source": [
    "res['discount'] = (res['base_price'] - res['checkout_price'])"
   ]
  },
  {
   "cell_type": "code",
   "execution_count": 17,
   "metadata": {},
   "outputs": [
    {
     "data": {
      "text/plain": [
       "count    456548.000000\n",
       "mean         21.917695\n",
       "std          48.495857\n",
       "min        -185.300000\n",
       "25%          -1.000000\n",
       "50%           1.000000\n",
       "75%          16.520000\n",
       "max         561.600000\n",
       "Name: discount, dtype: float64"
      ]
     },
     "execution_count": 17,
     "metadata": {},
     "output_type": "execute_result"
    }
   ],
   "source": [
    "res.discount.describe()"
   ]
  },
  {
   "cell_type": "markdown",
   "metadata": {},
   "source": [
    "From Below code we can notice that discount is applied on more than half of orders"
   ]
  },
  {
   "cell_type": "code",
   "execution_count": 18,
   "metadata": {},
   "outputs": [
    {
     "name": "stdout",
     "output_type": "stream",
     "text": [
      "229687\n"
     ]
    }
   ],
   "source": [
    "a=res.discount\n",
    "flag=0\n",
    "for i in a:\n",
    "    if i>0:\n",
    "        flag=flag+1\n",
    "print(flag)"
   ]
  },
  {
   "cell_type": "code",
   "execution_count": 19,
   "metadata": {},
   "outputs": [
    {
     "data": {
      "text/plain": [
       "456548"
      ]
     },
     "execution_count": 19,
     "metadata": {},
     "output_type": "execute_result"
    }
   ],
   "source": [
    "len(res)"
   ]
  },
  {
   "cell_type": "code",
   "execution_count": 20,
   "metadata": {},
   "outputs": [
    {
     "data": {
      "image/png": "[encoded data removed]",
      "text/plain": [
       "<Figure size 432x288 with 1 Axes>"
      ]
     },
     "metadata": {
      "needs_background": "light"
     },
     "output_type": "display_data"
    }
   ],
   "source": [
    "sns.distplot(res.discount.dropna(), kde=False, bins = 400);"
   ]
  },
  {
   "cell_type": "markdown",
   "metadata": {},
   "source": [
    "It is highly posivtive sekwed"
   ]
  },
  {
   "cell_type": "markdown",
   "metadata": {},
   "source": [
    "Making discount a \"binary\" column as this making it will give us the effect of discount on orders"
   ]
  },
  {
   "cell_type": "code",
   "execution_count": 21,
   "metadata": {},
   "outputs": [],
   "source": [
    "res['discount_amt']=res['discount']\n",
    "res.loc[res['discount'] <0, 'discount'] = 0\n",
    "res.loc[res['discount'] > 0, 'discount'] = 1"
   ]
  },
  {
   "cell_type": "code",
   "execution_count": 22,
   "metadata": {},
   "outputs": [
    {
     "data": {
      "text/plain": [
       "1.0    229687\n",
       "0.0    226861\n",
       "Name: discount, dtype: int64"
      ]
     },
     "execution_count": 22,
     "metadata": {},
     "output_type": "execute_result"
    }
   ],
   "source": [
    "res.discount.value_counts()"
   ]
  },
  {
   "cell_type": "code",
   "execution_count": 23,
   "metadata": {},
   "outputs": [
    {
     "data": {
      "text/plain": [
       "Index(['id', 'week', 'center_id', 'meal_id', 'checkout_price', 'base_price',\n",
       "       'emailer_for_promotion', 'homepage_featured', 'num_orders', 'category',\n",
       "       'cuisine', 'city_code', 'region_code', 'center_type', 'op_area',\n",
       "       'discount', 'discount_amt'],\n",
       "      dtype='object')"
      ]
     },
     "execution_count": 23,
     "metadata": {},
     "output_type": "execute_result"
    }
   ],
   "source": [
    "res.columns"
   ]
  },
  {
   "cell_type": "markdown",
   "metadata": {},
   "source": [
    "Total 77 centers located "
   ]
  },
  {
   "cell_type": "code",
   "execution_count": 24,
   "metadata": {},
   "outputs": [
    {
     "data": {
      "text/plain": [
       "77"
      ]
     },
     "execution_count": 24,
     "metadata": {},
     "output_type": "execute_result"
    }
   ],
   "source": [
    "res.center_id.nunique()"
   ]
  },
  {
   "cell_type": "code",
   "execution_count": 25,
   "metadata": {},
   "outputs": [
    {
     "data": {
      "text/plain": [
       "13     7046\n",
       "10     7015\n",
       "52     6993\n",
       "43     6970\n",
       "67     6915\n",
       "       ... \n",
       "139    4627\n",
       "57     4501\n",
       "162    4366\n",
       "41     4083\n",
       "91     3432\n",
       "Name: center_id, Length: 77, dtype: int64"
      ]
     },
     "execution_count": 25,
     "metadata": {},
     "output_type": "execute_result"
    }
   ],
   "source": [
    "res.center_id.value_counts()"
   ]
  },
  {
   "cell_type": "markdown",
   "metadata": {},
   "source": [
    "# Center Type"
   ]
  },
  {
   "cell_type": "markdown",
   "metadata": {},
   "source": [
    "There are three type of center of type  A,B,C."
   ]
  },
  {
   "cell_type": "markdown",
   "metadata": {},
   "source": [
    "\n",
    "# Number of restaurant of each type"
   ]
  },
  {
   "cell_type": "code",
   "execution_count": 26,
   "metadata": {},
   "outputs": [
    {
     "data": {
      "image/png": "[encoded data removed]",
      "text/plain": [
       "<Figure size 432x288 with 1 Axes>"
      ]
     },
     "metadata": {
      "needs_background": "light"
     },
     "output_type": "display_data"
    }
   ],
   "source": [
    "b = sns.countplot(data =res, x = 'center_type', order = res.center_type.value_counts().index)\n",
    "b.set_xticklabels(b.get_xticklabels(),rotation = 90)\n",
    "plt.title('Count of number of restaurant of each type')\n",
    "plt.show()"
   ]
  },
  {
   "cell_type": "markdown",
   "metadata": {},
   "source": [
    "Type A restaurants are highest in number"
   ]
  },
  {
   "cell_type": "markdown",
   "metadata": {},
   "source": [
    "# Operation area under each restraunt type"
   ]
  },
  {
   "cell_type": "code",
   "execution_count": 27,
   "metadata": {},
   "outputs": [
    {
     "data": {
      "text/html": [
       "<div>\n",
       "<style scoped>\n",
       "    .dataframe tbody tr th:only-of-type {\n",
       "        vertical-align: middle;\n",
       "    }\n",
       "\n",
       "    .dataframe tbody tr th {\n",
       "        vertical-align: top;\n",
       "    }\n",
       "\n",
       "    .dataframe thead th {\n",
       "        text-align: right;\n",
       "    }\n",
       "</style>\n",
       "<table border=\"1\" class=\"dataframe\">\n",
       "  <thead>\n",
       "    <tr style=\"text-align: right;\">\n",
       "      <th></th>\n",
       "      <th>center_type</th>\n",
       "      <th>op_area</th>\n",
       "    </tr>\n",
       "  </thead>\n",
       "  <tbody>\n",
       "    <tr>\n",
       "      <th>0</th>\n",
       "      <td>TYPE_A</td>\n",
       "      <td>1.082014e+06</td>\n",
       "    </tr>\n",
       "    <tr>\n",
       "      <th>1</th>\n",
       "      <td>TYPE_B</td>\n",
       "      <td>4.565292e+05</td>\n",
       "    </tr>\n",
       "    <tr>\n",
       "      <th>2</th>\n",
       "      <td>TYPE_C</td>\n",
       "      <td>3.258120e+05</td>\n",
       "    </tr>\n",
       "  </tbody>\n",
       "</table>\n",
       "</div>"
      ],
      "text/plain": [
       "  center_type       op_area\n",
       "0      TYPE_A  1.082014e+06\n",
       "1      TYPE_B  4.565292e+05\n",
       "2      TYPE_C  3.258120e+05"
      ]
     },
     "execution_count": 27,
     "metadata": {},
     "output_type": "execute_result"
    }
   ],
   "source": [
    "pivot = res.pivot_table(index=['center_type'], values=['op_area'], aggfunc='sum').reset_index()\n",
    "pivot"
   ]
  },
  {
   "cell_type": "code",
   "execution_count": 28,
   "metadata": {},
   "outputs": [
    {
     "data": {
      "image/png": "[encoded data removed]",
      "text/plain": [
       "<Figure size 432x288 with 1 Axes>"
      ]
     },
     "metadata": {
      "needs_background": "light"
     },
     "output_type": "display_data"
    }
   ],
   "source": [
    "b = sns.barplot(data =pivot, x = 'center_type', y='op_area')\n",
    "b.set_xticklabels(b.get_xticklabels(),rotation = 90)\n",
    "plt.title('Total Operation area under each restaurant type')\n",
    "plt.show()"
   ]
  },
  {
   "cell_type": "code",
   "execution_count": 29,
   "metadata": {},
   "outputs": [
    {
     "data": {
      "text/html": [
       "<div>\n",
       "<style scoped>\n",
       "    .dataframe tbody tr th:only-of-type {\n",
       "        vertical-align: middle;\n",
       "    }\n",
       "\n",
       "    .dataframe tbody tr th {\n",
       "        vertical-align: top;\n",
       "    }\n",
       "\n",
       "    .dataframe thead th {\n",
       "        text-align: right;\n",
       "    }\n",
       "</style>\n",
       "<table border=\"1\" class=\"dataframe\">\n",
       "  <thead>\n",
       "    <tr style=\"text-align: right;\">\n",
       "      <th></th>\n",
       "      <th>id</th>\n",
       "      <th>week</th>\n",
       "      <th>center_id</th>\n",
       "      <th>meal_id</th>\n",
       "      <th>checkout_price</th>\n",
       "      <th>base_price</th>\n",
       "      <th>emailer_for_promotion</th>\n",
       "      <th>homepage_featured</th>\n",
       "      <th>num_orders</th>\n",
       "      <th>category</th>\n",
       "      <th>cuisine</th>\n",
       "      <th>city_code</th>\n",
       "      <th>region_code</th>\n",
       "      <th>center_type</th>\n",
       "      <th>op_area</th>\n",
       "      <th>discount</th>\n",
       "      <th>discount_amt</th>\n",
       "    </tr>\n",
       "  </thead>\n",
       "  <tbody>\n",
       "    <tr>\n",
       "      <th>0</th>\n",
       "      <td>1379560</td>\n",
       "      <td>1</td>\n",
       "      <td>55</td>\n",
       "      <td>1885</td>\n",
       "      <td>136.83</td>\n",
       "      <td>152.29</td>\n",
       "      <td>0</td>\n",
       "      <td>0</td>\n",
       "      <td>177</td>\n",
       "      <td>Beverages</td>\n",
       "      <td>Thai</td>\n",
       "      <td>647</td>\n",
       "      <td>56</td>\n",
       "      <td>TYPE_C</td>\n",
       "      <td>2.0</td>\n",
       "      <td>1.0</td>\n",
       "      <td>15.46</td>\n",
       "    </tr>\n",
       "    <tr>\n",
       "      <th>284804</th>\n",
       "      <td>1409622</td>\n",
       "      <td>1</td>\n",
       "      <td>113</td>\n",
       "      <td>2444</td>\n",
       "      <td>658.63</td>\n",
       "      <td>660.63</td>\n",
       "      <td>0</td>\n",
       "      <td>0</td>\n",
       "      <td>14</td>\n",
       "      <td>Seafood</td>\n",
       "      <td>Continental</td>\n",
       "      <td>680</td>\n",
       "      <td>77</td>\n",
       "      <td>TYPE_C</td>\n",
       "      <td>4.0</td>\n",
       "      <td>1.0</td>\n",
       "      <td>2.00</td>\n",
       "    </tr>\n",
       "    <tr>\n",
       "      <th>285005</th>\n",
       "      <td>1203879</td>\n",
       "      <td>1</td>\n",
       "      <td>113</td>\n",
       "      <td>1525</td>\n",
       "      <td>244.50</td>\n",
       "      <td>282.33</td>\n",
       "      <td>0</td>\n",
       "      <td>0</td>\n",
       "      <td>14</td>\n",
       "      <td>Other Snacks</td>\n",
       "      <td>Thai</td>\n",
       "      <td>680</td>\n",
       "      <td>77</td>\n",
       "      <td>TYPE_C</td>\n",
       "      <td>4.0</td>\n",
       "      <td>1.0</td>\n",
       "      <td>37.83</td>\n",
       "    </tr>\n",
       "    <tr>\n",
       "      <th>285106</th>\n",
       "      <td>1235654</td>\n",
       "      <td>1</td>\n",
       "      <td>113</td>\n",
       "      <td>2704</td>\n",
       "      <td>242.50</td>\n",
       "      <td>280.33</td>\n",
       "      <td>0</td>\n",
       "      <td>0</td>\n",
       "      <td>121</td>\n",
       "      <td>Other Snacks</td>\n",
       "      <td>Thai</td>\n",
       "      <td>680</td>\n",
       "      <td>77</td>\n",
       "      <td>TYPE_C</td>\n",
       "      <td>4.0</td>\n",
       "      <td>1.0</td>\n",
       "      <td>37.83</td>\n",
       "    </tr>\n",
       "    <tr>\n",
       "      <th>43263</th>\n",
       "      <td>1393327</td>\n",
       "      <td>1</td>\n",
       "      <td>52</td>\n",
       "      <td>1248</td>\n",
       "      <td>247.35</td>\n",
       "      <td>247.35</td>\n",
       "      <td>0</td>\n",
       "      <td>0</td>\n",
       "      <td>81</td>\n",
       "      <td>Beverages</td>\n",
       "      <td>Indian</td>\n",
       "      <td>685</td>\n",
       "      <td>56</td>\n",
       "      <td>TYPE_B</td>\n",
       "      <td>5.6</td>\n",
       "      <td>0.0</td>\n",
       "      <td>0.00</td>\n",
       "    </tr>\n",
       "  </tbody>\n",
       "</table>\n",
       "</div>"
      ],
      "text/plain": [
       "             id  week  center_id  meal_id  checkout_price  base_price  \\\n",
       "0       1379560     1         55     1885          136.83      152.29   \n",
       "284804  1409622     1        113     2444          658.63      660.63   \n",
       "285005  1203879     1        113     1525          244.50      282.33   \n",
       "285106  1235654     1        113     2704          242.50      280.33   \n",
       "43263   1393327     1         52     1248          247.35      247.35   \n",
       "\n",
       "        emailer_for_promotion  homepage_featured  num_orders      category  \\\n",
       "0                           0                  0         177     Beverages   \n",
       "284804                      0                  0          14       Seafood   \n",
       "285005                      0                  0          14  Other Snacks   \n",
       "285106                      0                  0         121  Other Snacks   \n",
       "43263                       0                  0          81     Beverages   \n",
       "\n",
       "            cuisine  city_code  region_code center_type  op_area  discount  \\\n",
       "0              Thai        647           56      TYPE_C      2.0       1.0   \n",
       "284804  Continental        680           77      TYPE_C      4.0       1.0   \n",
       "285005         Thai        680           77      TYPE_C      4.0       1.0   \n",
       "285106         Thai        680           77      TYPE_C      4.0       1.0   \n",
       "43263        Indian        685           56      TYPE_B      5.6       0.0   \n",
       "\n",
       "        discount_amt  \n",
       "0              15.46  \n",
       "284804          2.00  \n",
       "285005         37.83  \n",
       "285106         37.83  \n",
       "43263           0.00  "
      ]
     },
     "execution_count": 29,
     "metadata": {},
     "output_type": "execute_result"
    }
   ],
   "source": [
    "res.head()"
   ]
  },
  {
   "cell_type": "markdown",
   "metadata": {},
   "source": [
    "Type A has highest operational area than B and than c"
   ]
  },
  {
   "cell_type": "markdown",
   "metadata": {},
   "source": [
    "# Checking the most ordered category "
   ]
  },
  {
   "cell_type": "code",
   "execution_count": 30,
   "metadata": {},
   "outputs": [],
   "source": [
    "pivot = res.pivot_table(index=['category'], values=['num_orders'], aggfunc='sum').reset_index()\n",
    "pivot['num_order_percentage'] = pivot['num_orders']/pivot['num_orders'].sum()*100"
   ]
  },
  {
   "cell_type": "code",
   "execution_count": 31,
   "metadata": {},
   "outputs": [
    {
     "data": {
      "image/png": "[encoded data removed]",
      "text/plain": [
       "<Figure size 432x288 with 1 Axes>"
      ]
     },
     "metadata": {
      "needs_background": "light"
     },
     "output_type": "display_data"
    }
   ],
   "source": [
    "b = sns.barplot(data =pivot, x = 'category', y='num_order_percentage')\n",
    "b.set_xticklabels(b.get_xticklabels(),rotation = 90)\n",
    "plt.title('Percent Share of Number oforder category wise')\n",
    "plt.show()"
   ]
  },
  {
   "cell_type": "markdown",
   "metadata": {},
   "source": [
    "Bevrages, RiceBowls, Sandwich, Salad hold a great share"
   ]
  },
  {
   "cell_type": "markdown",
   "metadata": {},
   "source": [
    "#  Checking the most ordered CUISINE "
   ]
  },
  {
   "cell_type": "code",
   "execution_count": null,
   "metadata": {},
   "outputs": [],
   "source": []
  },
  {
   "cell_type": "code",
   "execution_count": 32,
   "metadata": {},
   "outputs": [],
   "source": [
    "pivot = res.pivot_table(index=['cuisine'], values=['num_orders'], aggfunc='sum').reset_index()\n",
    "pivot['num_order_percentage'] = pivot['num_orders']/pivot['num_orders'].sum()*100"
   ]
  },
  {
   "cell_type": "code",
   "execution_count": 33,
   "metadata": {},
   "outputs": [
    {
     "data": {
      "image/png": "[encoded data removed]",
      "text/plain": [
       "<Figure size 432x288 with 1 Axes>"
      ]
     },
     "metadata": {
      "needs_background": "light"
     },
     "output_type": "display_data"
    }
   ],
   "source": [
    "b = sns.barplot(data =pivot, x = 'cuisine', y='num_order_percentage')\n",
    "b.set_xticklabels(b.get_xticklabels(),rotation = 90)\n",
    "plt.title('Percent Share of Number oforder category wise')\n",
    "plt.show()"
   ]
  },
  {
   "cell_type": "markdown",
   "metadata": {},
   "source": [
    "ITALIAN CUISINE ARE MOST ORDERED CUISINE"
   ]
  },
  {
   "cell_type": "markdown",
   "metadata": {},
   "source": [
    "# Share of number of order region wise"
   ]
  },
  {
   "cell_type": "code",
   "execution_count": 34,
   "metadata": {},
   "outputs": [
    {
     "data": {
      "text/html": [
       "<div>\n",
       "<style scoped>\n",
       "    .dataframe tbody tr th:only-of-type {\n",
       "        vertical-align: middle;\n",
       "    }\n",
       "\n",
       "    .dataframe tbody tr th {\n",
       "        vertical-align: top;\n",
       "    }\n",
       "\n",
       "    .dataframe thead th {\n",
       "        text-align: right;\n",
       "    }\n",
       "</style>\n",
       "<table border=\"1\" class=\"dataframe\">\n",
       "  <thead>\n",
       "    <tr style=\"text-align: right;\">\n",
       "      <th></th>\n",
       "      <th>region_code</th>\n",
       "      <th>num_orders</th>\n",
       "      <th>num_order_percentage</th>\n",
       "    </tr>\n",
       "  </thead>\n",
       "  <tbody>\n",
       "    <tr>\n",
       "      <th>0</th>\n",
       "      <td>23</td>\n",
       "      <td>1609906</td>\n",
       "      <td>1.346554</td>\n",
       "    </tr>\n",
       "    <tr>\n",
       "      <th>1</th>\n",
       "      <td>34</td>\n",
       "      <td>24051733</td>\n",
       "      <td>20.117296</td>\n",
       "    </tr>\n",
       "    <tr>\n",
       "      <th>2</th>\n",
       "      <td>35</td>\n",
       "      <td>691044</td>\n",
       "      <td>0.578001</td>\n",
       "    </tr>\n",
       "    <tr>\n",
       "      <th>3</th>\n",
       "      <td>56</td>\n",
       "      <td>60520191</td>\n",
       "      <td>50.620161</td>\n",
       "    </tr>\n",
       "    <tr>\n",
       "      <th>4</th>\n",
       "      <td>71</td>\n",
       "      <td>2103282</td>\n",
       "      <td>1.759222</td>\n",
       "    </tr>\n",
       "    <tr>\n",
       "      <th>5</th>\n",
       "      <td>77</td>\n",
       "      <td>20529653</td>\n",
       "      <td>17.171366</td>\n",
       "    </tr>\n",
       "    <tr>\n",
       "      <th>6</th>\n",
       "      <td>85</td>\n",
       "      <td>8685386</td>\n",
       "      <td>7.264611</td>\n",
       "    </tr>\n",
       "    <tr>\n",
       "      <th>7</th>\n",
       "      <td>93</td>\n",
       "      <td>1366290</td>\n",
       "      <td>1.142789</td>\n",
       "    </tr>\n",
       "  </tbody>\n",
       "</table>\n",
       "</div>"
      ],
      "text/plain": [
       "   region_code  num_orders  num_order_percentage\n",
       "0           23     1609906              1.346554\n",
       "1           34    24051733             20.117296\n",
       "2           35      691044              0.578001\n",
       "3           56    60520191             50.620161\n",
       "4           71     2103282              1.759222\n",
       "5           77    20529653             17.171366\n",
       "6           85     8685386              7.264611\n",
       "7           93     1366290              1.142789"
      ]
     },
     "execution_count": 34,
     "metadata": {},
     "output_type": "execute_result"
    }
   ],
   "source": [
    "pivot=pd.DataFrame(res.groupby('region_code').num_orders.sum()).reset_index()\n",
    "pivot['num_order_percentage'] = pivot['num_orders']/pivot['num_orders'].sum()*100\n",
    "pivot"
   ]
  },
  {
   "cell_type": "code",
   "execution_count": 35,
   "metadata": {},
   "outputs": [
    {
     "data": {
      "image/png": "[encoded data removed]",
      "text/plain": [
       "<Figure size 432x288 with 1 Axes>"
      ]
     },
     "metadata": {
      "needs_background": "light"
     },
     "output_type": "display_data"
    }
   ],
   "source": [
    "b = sns.barplot(data =pivot, x = 'region_code', y='num_order_percentage')\n",
    "b.set_xticklabels(b.get_xticklabels(),rotation = 90)\n",
    "plt.title('Percent Share of Number of order region wise')\n",
    "plt.show()"
   ]
  },
  {
   "cell_type": "markdown",
   "metadata": {},
   "source": [
    "region with region code =56 have around 50% share in total orders"
   ]
  },
  {
   "cell_type": "code",
   "execution_count": 36,
   "metadata": {},
   "outputs": [
    {
     "data": {
      "text/plain": [
       "Index(['id', 'week', 'center_id', 'meal_id', 'checkout_price', 'base_price',\n",
       "       'emailer_for_promotion', 'homepage_featured', 'num_orders', 'category',\n",
       "       'cuisine', 'city_code', 'region_code', 'center_type', 'op_area',\n",
       "       'discount', 'discount_amt'],\n",
       "      dtype='object')"
      ]
     },
     "execution_count": 36,
     "metadata": {},
     "output_type": "execute_result"
    }
   ],
   "source": [
    "res.columns"
   ]
  },
  {
   "cell_type": "markdown",
   "metadata": {},
   "source": [
    "# Category most featured in homepage"
   ]
  },
  {
   "cell_type": "code",
   "execution_count": 37,
   "metadata": {},
   "outputs": [
    {
     "data": {
      "text/html": [
       "<div>\n",
       "<style scoped>\n",
       "    .dataframe tbody tr th:only-of-type {\n",
       "        vertical-align: middle;\n",
       "    }\n",
       "\n",
       "    .dataframe tbody tr th {\n",
       "        vertical-align: top;\n",
       "    }\n",
       "\n",
       "    .dataframe thead th {\n",
       "        text-align: right;\n",
       "    }\n",
       "</style>\n",
       "<table border=\"1\" class=\"dataframe\">\n",
       "  <thead>\n",
       "    <tr style=\"text-align: right;\">\n",
       "      <th></th>\n",
       "      <th>category</th>\n",
       "      <th>homepage_featured</th>\n",
       "      <th>homepage_featured_perc</th>\n",
       "    </tr>\n",
       "  </thead>\n",
       "  <tbody>\n",
       "    <tr>\n",
       "      <th>0</th>\n",
       "      <td>Beverages</td>\n",
       "      <td>14573</td>\n",
       "      <td>29.230769</td>\n",
       "    </tr>\n",
       "    <tr>\n",
       "      <th>1</th>\n",
       "      <td>Biryani</td>\n",
       "      <td>60</td>\n",
       "      <td>0.120349</td>\n",
       "    </tr>\n",
       "    <tr>\n",
       "      <th>2</th>\n",
       "      <td>Desert</td>\n",
       "      <td>3367</td>\n",
       "      <td>6.753585</td>\n",
       "    </tr>\n",
       "    <tr>\n",
       "      <th>3</th>\n",
       "      <td>Extras</td>\n",
       "      <td>262</td>\n",
       "      <td>0.525524</td>\n",
       "    </tr>\n",
       "    <tr>\n",
       "      <th>4</th>\n",
       "      <td>Fish</td>\n",
       "      <td>408</td>\n",
       "      <td>0.818373</td>\n",
       "    </tr>\n",
       "    <tr>\n",
       "      <th>5</th>\n",
       "      <td>Other Snacks</td>\n",
       "      <td>4809</td>\n",
       "      <td>9.645973</td>\n",
       "    </tr>\n",
       "    <tr>\n",
       "      <th>6</th>\n",
       "      <td>Pasta</td>\n",
       "      <td>3805</td>\n",
       "      <td>7.632133</td>\n",
       "    </tr>\n",
       "    <tr>\n",
       "      <th>7</th>\n",
       "      <td>Pizza</td>\n",
       "      <td>7586</td>\n",
       "      <td>15.216127</td>\n",
       "    </tr>\n",
       "    <tr>\n",
       "      <th>8</th>\n",
       "      <td>Rice Bowl</td>\n",
       "      <td>2958</td>\n",
       "      <td>5.933206</td>\n",
       "    </tr>\n",
       "    <tr>\n",
       "      <th>9</th>\n",
       "      <td>Salad</td>\n",
       "      <td>1767</td>\n",
       "      <td>3.544278</td>\n",
       "    </tr>\n",
       "    <tr>\n",
       "      <th>10</th>\n",
       "      <td>Sandwich</td>\n",
       "      <td>3794</td>\n",
       "      <td>7.610069</td>\n",
       "    </tr>\n",
       "    <tr>\n",
       "      <th>11</th>\n",
       "      <td>Seafood</td>\n",
       "      <td>3802</td>\n",
       "      <td>7.626116</td>\n",
       "    </tr>\n",
       "    <tr>\n",
       "      <th>12</th>\n",
       "      <td>Soup</td>\n",
       "      <td>478</td>\n",
       "      <td>0.958780</td>\n",
       "    </tr>\n",
       "    <tr>\n",
       "      <th>13</th>\n",
       "      <td>Starters</td>\n",
       "      <td>2186</td>\n",
       "      <td>4.384716</td>\n",
       "    </tr>\n",
       "  </tbody>\n",
       "</table>\n",
       "</div>"
      ],
      "text/plain": [
       "        category  homepage_featured  homepage_featured_perc\n",
       "0      Beverages              14573               29.230769\n",
       "1        Biryani                 60                0.120349\n",
       "2         Desert               3367                6.753585\n",
       "3         Extras                262                0.525524\n",
       "4           Fish                408                0.818373\n",
       "5   Other Snacks               4809                9.645973\n",
       "6          Pasta               3805                7.632133\n",
       "7          Pizza               7586               15.216127\n",
       "8      Rice Bowl               2958                5.933206\n",
       "9          Salad               1767                3.544278\n",
       "10      Sandwich               3794                7.610069\n",
       "11       Seafood               3802                7.626116\n",
       "12          Soup                478                0.958780\n",
       "13      Starters               2186                4.384716"
      ]
     },
     "execution_count": 37,
     "metadata": {},
     "output_type": "execute_result"
    }
   ],
   "source": [
    "pivot=pd.DataFrame(res.groupby('category').homepage_featured.sum()).reset_index()\n",
    "pivot['homepage_featured_perc'] = pivot['homepage_featured']/pivot['homepage_featured'].sum()*100\n",
    "pivot"
   ]
  },
  {
   "cell_type": "code",
   "execution_count": 38,
   "metadata": {},
   "outputs": [
    {
     "data": {
      "image/png": "[encoded data removed]",
      "text/plain": [
       "<Figure size 432x288 with 1 Axes>"
      ]
     },
     "metadata": {
      "needs_background": "light"
     },
     "output_type": "display_data"
    }
   ],
   "source": [
    "b = sns.barplot(data =pivot, x = 'category', y='homepage_featured_perc')\n",
    "b.set_xticklabels(b.get_xticklabels(),rotation = 90)\n",
    "plt.title('Share of categories which are featured at homepage')\n",
    "plt.show()"
   ]
  },
  {
   "cell_type": "markdown",
   "metadata": {},
   "source": [
    "30% of times beverages featured on homepage|||\n",
    "around 15% of times pizza is featured on homepage"
   ]
  },
  {
   "cell_type": "markdown",
   "metadata": {},
   "source": [
    "# Category most promoted through email"
   ]
  },
  {
   "cell_type": "code",
   "execution_count": 39,
   "metadata": {},
   "outputs": [
    {
     "data": {
      "text/html": [
       "<div>\n",
       "<style scoped>\n",
       "    .dataframe tbody tr th:only-of-type {\n",
       "        vertical-align: middle;\n",
       "    }\n",
       "\n",
       "    .dataframe tbody tr th {\n",
       "        vertical-align: top;\n",
       "    }\n",
       "\n",
       "    .dataframe thead th {\n",
       "        text-align: right;\n",
       "    }\n",
       "</style>\n",
       "<table border=\"1\" class=\"dataframe\">\n",
       "  <thead>\n",
       "    <tr style=\"text-align: right;\">\n",
       "      <th></th>\n",
       "      <th>category</th>\n",
       "      <th>emailer_for_promotion</th>\n",
       "      <th>emailer_for_promotion_perc</th>\n",
       "    </tr>\n",
       "  </thead>\n",
       "  <tbody>\n",
       "    <tr>\n",
       "      <th>0</th>\n",
       "      <td>Beverages</td>\n",
       "      <td>6596</td>\n",
       "      <td>17.802969</td>\n",
       "    </tr>\n",
       "    <tr>\n",
       "      <th>1</th>\n",
       "      <td>Biryani</td>\n",
       "      <td>0</td>\n",
       "      <td>0.000000</td>\n",
       "    </tr>\n",
       "    <tr>\n",
       "      <th>2</th>\n",
       "      <td>Desert</td>\n",
       "      <td>1804</td>\n",
       "      <td>4.869096</td>\n",
       "    </tr>\n",
       "    <tr>\n",
       "      <th>3</th>\n",
       "      <td>Extras</td>\n",
       "      <td>0</td>\n",
       "      <td>0.000000</td>\n",
       "    </tr>\n",
       "    <tr>\n",
       "      <th>4</th>\n",
       "      <td>Fish</td>\n",
       "      <td>141</td>\n",
       "      <td>0.380567</td>\n",
       "    </tr>\n",
       "    <tr>\n",
       "      <th>5</th>\n",
       "      <td>Other Snacks</td>\n",
       "      <td>653</td>\n",
       "      <td>1.762483</td>\n",
       "    </tr>\n",
       "    <tr>\n",
       "      <th>6</th>\n",
       "      <td>Pasta</td>\n",
       "      <td>2669</td>\n",
       "      <td>7.203779</td>\n",
       "    </tr>\n",
       "    <tr>\n",
       "      <th>7</th>\n",
       "      <td>Pizza</td>\n",
       "      <td>9382</td>\n",
       "      <td>25.322537</td>\n",
       "    </tr>\n",
       "    <tr>\n",
       "      <th>8</th>\n",
       "      <td>Rice Bowl</td>\n",
       "      <td>3086</td>\n",
       "      <td>8.329285</td>\n",
       "    </tr>\n",
       "    <tr>\n",
       "      <th>9</th>\n",
       "      <td>Salad</td>\n",
       "      <td>2084</td>\n",
       "      <td>5.624831</td>\n",
       "    </tr>\n",
       "    <tr>\n",
       "      <th>10</th>\n",
       "      <td>Sandwich</td>\n",
       "      <td>4306</td>\n",
       "      <td>11.622132</td>\n",
       "    </tr>\n",
       "    <tr>\n",
       "      <th>11</th>\n",
       "      <td>Seafood</td>\n",
       "      <td>4958</td>\n",
       "      <td>13.381916</td>\n",
       "    </tr>\n",
       "    <tr>\n",
       "      <th>12</th>\n",
       "      <td>Soup</td>\n",
       "      <td>0</td>\n",
       "      <td>0.000000</td>\n",
       "    </tr>\n",
       "    <tr>\n",
       "      <th>13</th>\n",
       "      <td>Starters</td>\n",
       "      <td>1371</td>\n",
       "      <td>3.700405</td>\n",
       "    </tr>\n",
       "  </tbody>\n",
       "</table>\n",
       "</div>"
      ],
      "text/plain": [
       "        category  emailer_for_promotion  emailer_for_promotion_perc\n",
       "0      Beverages                   6596                   17.802969\n",
       "1        Biryani                      0                    0.000000\n",
       "2         Desert                   1804                    4.869096\n",
       "3         Extras                      0                    0.000000\n",
       "4           Fish                    141                    0.380567\n",
       "5   Other Snacks                    653                    1.762483\n",
       "6          Pasta                   2669                    7.203779\n",
       "7          Pizza                   9382                   25.322537\n",
       "8      Rice Bowl                   3086                    8.329285\n",
       "9          Salad                   2084                    5.624831\n",
       "10      Sandwich                   4306                   11.622132\n",
       "11       Seafood                   4958                   13.381916\n",
       "12          Soup                      0                    0.000000\n",
       "13      Starters                   1371                    3.700405"
      ]
     },
     "execution_count": 39,
     "metadata": {},
     "output_type": "execute_result"
    }
   ],
   "source": [
    "pivot=pd.DataFrame(res.groupby('category').emailer_for_promotion.sum()).reset_index()\n",
    "pivot['emailer_for_promotion_perc'] = pivot['emailer_for_promotion']/pivot['emailer_for_promotion'].sum()*100\n",
    "pivot"
   ]
  },
  {
   "cell_type": "code",
   "execution_count": 40,
   "metadata": {},
   "outputs": [
    {
     "data": {
      "image/png": "[encoded data removed]",
      "text/plain": [
       "<Figure size 432x288 with 1 Axes>"
      ]
     },
     "metadata": {
      "needs_background": "light"
     },
     "output_type": "display_data"
    }
   ],
   "source": [
    "b = sns.barplot(data =pivot, x = 'category', y='emailer_for_promotion_perc')\n",
    "b.set_xticklabels(b.get_xticklabels(),rotation = 90)\n",
    "plt.title('Share of categories which are promoted through emails')\n",
    "plt.show()"
   ]
  },
  {
   "cell_type": "markdown",
   "metadata": {},
   "source": [
    "Pizza is most promoted category for email promotion , around 25%  "
   ]
  },
  {
   "cell_type": "markdown",
   "metadata": {},
   "source": [
    "# Percentage times categories are getting discounts"
   ]
  },
  {
   "cell_type": "code",
   "execution_count": 41,
   "metadata": {},
   "outputs": [
    {
     "data": {
      "text/html": [
       "<div>\n",
       "<style scoped>\n",
       "    .dataframe tbody tr th:only-of-type {\n",
       "        vertical-align: middle;\n",
       "    }\n",
       "\n",
       "    .dataframe tbody tr th {\n",
       "        vertical-align: top;\n",
       "    }\n",
       "\n",
       "    .dataframe thead th {\n",
       "        text-align: right;\n",
       "    }\n",
       "</style>\n",
       "<table border=\"1\" class=\"dataframe\">\n",
       "  <thead>\n",
       "    <tr style=\"text-align: right;\">\n",
       "      <th></th>\n",
       "      <th>category</th>\n",
       "      <th>discount</th>\n",
       "      <th>discount_percc</th>\n",
       "    </tr>\n",
       "  </thead>\n",
       "  <tbody>\n",
       "    <tr>\n",
       "      <th>0</th>\n",
       "      <td>Beverages</td>\n",
       "      <td>63149.0</td>\n",
       "      <td>27.493502</td>\n",
       "    </tr>\n",
       "    <tr>\n",
       "      <th>1</th>\n",
       "      <td>Biryani</td>\n",
       "      <td>8818.0</td>\n",
       "      <td>3.839138</td>\n",
       "    </tr>\n",
       "    <tr>\n",
       "      <th>2</th>\n",
       "      <td>Desert</td>\n",
       "      <td>15155.0</td>\n",
       "      <td>6.598110</td>\n",
       "    </tr>\n",
       "    <tr>\n",
       "      <th>3</th>\n",
       "      <td>Extras</td>\n",
       "      <td>9413.0</td>\n",
       "      <td>4.098186</td>\n",
       "    </tr>\n",
       "    <tr>\n",
       "      <th>4</th>\n",
       "      <td>Fish</td>\n",
       "      <td>4145.0</td>\n",
       "      <td>1.804630</td>\n",
       "    </tr>\n",
       "    <tr>\n",
       "      <th>5</th>\n",
       "      <td>Other Snacks</td>\n",
       "      <td>16316.0</td>\n",
       "      <td>7.103580</td>\n",
       "    </tr>\n",
       "    <tr>\n",
       "      <th>6</th>\n",
       "      <td>Pasta</td>\n",
       "      <td>16003.0</td>\n",
       "      <td>6.967308</td>\n",
       "    </tr>\n",
       "    <tr>\n",
       "      <th>7</th>\n",
       "      <td>Pizza</td>\n",
       "      <td>19662.0</td>\n",
       "      <td>8.560345</td>\n",
       "    </tr>\n",
       "    <tr>\n",
       "      <th>8</th>\n",
       "      <td>Rice Bowl</td>\n",
       "      <td>16957.0</td>\n",
       "      <td>7.382656</td>\n",
       "    </tr>\n",
       "    <tr>\n",
       "      <th>9</th>\n",
       "      <td>Salad</td>\n",
       "      <td>12114.0</td>\n",
       "      <td>5.274134</td>\n",
       "    </tr>\n",
       "    <tr>\n",
       "      <th>10</th>\n",
       "      <td>Sandwich</td>\n",
       "      <td>15992.0</td>\n",
       "      <td>6.962519</td>\n",
       "    </tr>\n",
       "    <tr>\n",
       "      <th>11</th>\n",
       "      <td>Seafood</td>\n",
       "      <td>14226.0</td>\n",
       "      <td>6.193646</td>\n",
       "    </tr>\n",
       "    <tr>\n",
       "      <th>12</th>\n",
       "      <td>Soup</td>\n",
       "      <td>5910.0</td>\n",
       "      <td>2.573067</td>\n",
       "    </tr>\n",
       "    <tr>\n",
       "      <th>13</th>\n",
       "      <td>Starters</td>\n",
       "      <td>11827.0</td>\n",
       "      <td>5.149181</td>\n",
       "    </tr>\n",
       "  </tbody>\n",
       "</table>\n",
       "</div>"
      ],
      "text/plain": [
       "        category  discount  discount_percc\n",
       "0      Beverages   63149.0       27.493502\n",
       "1        Biryani    8818.0        3.839138\n",
       "2         Desert   15155.0        6.598110\n",
       "3         Extras    9413.0        4.098186\n",
       "4           Fish    4145.0        1.804630\n",
       "5   Other Snacks   16316.0        7.103580\n",
       "6          Pasta   16003.0        6.967308\n",
       "7          Pizza   19662.0        8.560345\n",
       "8      Rice Bowl   16957.0        7.382656\n",
       "9          Salad   12114.0        5.274134\n",
       "10      Sandwich   15992.0        6.962519\n",
       "11       Seafood   14226.0        6.193646\n",
       "12          Soup    5910.0        2.573067\n",
       "13      Starters   11827.0        5.149181"
      ]
     },
     "execution_count": 41,
     "metadata": {},
     "output_type": "execute_result"
    }
   ],
   "source": [
    "pivot=pd.DataFrame(res.groupby('category').discount.sum()).reset_index()\n",
    "pivot['discount_percc'] = pivot['discount']/pivot['discount'].sum()*100\n",
    "pivot"
   ]
  },
  {
   "cell_type": "code",
   "execution_count": 42,
   "metadata": {},
   "outputs": [
    {
     "data": {
      "image/png": "[encoded data removed]",
      "text/plain": [
       "<Figure size 432x288 with 1 Axes>"
      ]
     },
     "metadata": {
      "needs_background": "light"
     },
     "output_type": "display_data"
    }
   ],
   "source": [
    "b = sns.barplot(data =pivot, x = 'category', y='discount_percc')\n",
    "b.set_xticklabels(b.get_xticklabels(),rotation = 90)\n",
    "plt.title('Percentage times categories getting discounts')\n",
    "plt.show()"
   ]
  },
  {
   "cell_type": "markdown",
   "metadata": {},
   "source": [
    "beverages are getting discount around more than 25% times\n"
   ]
  },
  {
   "cell_type": "markdown",
   "metadata": {},
   "source": [
    "# Categories getting high discounts on base price(By amount)"
   ]
  },
  {
   "cell_type": "code",
   "execution_count": 43,
   "metadata": {},
   "outputs": [
    {
     "data": {
      "text/html": [
       "<div>\n",
       "<style scoped>\n",
       "    .dataframe tbody tr th:only-of-type {\n",
       "        vertical-align: middle;\n",
       "    }\n",
       "\n",
       "    .dataframe tbody tr th {\n",
       "        vertical-align: top;\n",
       "    }\n",
       "\n",
       "    .dataframe thead th {\n",
       "        text-align: right;\n",
       "    }\n",
       "</style>\n",
       "<table border=\"1\" class=\"dataframe\">\n",
       "  <thead>\n",
       "    <tr style=\"text-align: right;\">\n",
       "      <th></th>\n",
       "      <th>category</th>\n",
       "      <th>discount_amt</th>\n",
       "      <th>discount_amt_percc</th>\n",
       "    </tr>\n",
       "  </thead>\n",
       "  <tbody>\n",
       "    <tr>\n",
       "      <th>0</th>\n",
       "      <td>Beverages</td>\n",
       "      <td>1738100.00</td>\n",
       "      <td>17.369745</td>\n",
       "    </tr>\n",
       "    <tr>\n",
       "      <th>1</th>\n",
       "      <td>Biryani</td>\n",
       "      <td>217624.83</td>\n",
       "      <td>2.174839</td>\n",
       "    </tr>\n",
       "    <tr>\n",
       "      <th>2</th>\n",
       "      <td>Desert</td>\n",
       "      <td>848321.17</td>\n",
       "      <td>8.477718</td>\n",
       "    </tr>\n",
       "    <tr>\n",
       "      <th>3</th>\n",
       "      <td>Extras</td>\n",
       "      <td>430479.43</td>\n",
       "      <td>4.302007</td>\n",
       "    </tr>\n",
       "    <tr>\n",
       "      <th>4</th>\n",
       "      <td>Fish</td>\n",
       "      <td>182828.52</td>\n",
       "      <td>1.827101</td>\n",
       "    </tr>\n",
       "    <tr>\n",
       "      <th>5</th>\n",
       "      <td>Other Snacks</td>\n",
       "      <td>448135.39</td>\n",
       "      <td>4.478452</td>\n",
       "    </tr>\n",
       "    <tr>\n",
       "      <th>6</th>\n",
       "      <td>Pasta</td>\n",
       "      <td>896795.42</td>\n",
       "      <td>8.962147</td>\n",
       "    </tr>\n",
       "    <tr>\n",
       "      <th>7</th>\n",
       "      <td>Pizza</td>\n",
       "      <td>1980362.53</td>\n",
       "      <td>19.790801</td>\n",
       "    </tr>\n",
       "    <tr>\n",
       "      <th>8</th>\n",
       "      <td>Rice Bowl</td>\n",
       "      <td>730116.40</td>\n",
       "      <td>7.296436</td>\n",
       "    </tr>\n",
       "    <tr>\n",
       "      <th>9</th>\n",
       "      <td>Salad</td>\n",
       "      <td>274843.38</td>\n",
       "      <td>2.746654</td>\n",
       "    </tr>\n",
       "    <tr>\n",
       "      <th>10</th>\n",
       "      <td>Sandwich</td>\n",
       "      <td>507507.53</td>\n",
       "      <td>5.071789</td>\n",
       "    </tr>\n",
       "    <tr>\n",
       "      <th>11</th>\n",
       "      <td>Seafood</td>\n",
       "      <td>1469013.19</td>\n",
       "      <td>14.680619</td>\n",
       "    </tr>\n",
       "    <tr>\n",
       "      <th>12</th>\n",
       "      <td>Soup</td>\n",
       "      <td>107304.19</td>\n",
       "      <td>1.072347</td>\n",
       "    </tr>\n",
       "    <tr>\n",
       "      <th>13</th>\n",
       "      <td>Starters</td>\n",
       "      <td>175047.79</td>\n",
       "      <td>1.749344</td>\n",
       "    </tr>\n",
       "  </tbody>\n",
       "</table>\n",
       "</div>"
      ],
      "text/plain": [
       "        category  discount_amt  discount_amt_percc\n",
       "0      Beverages    1738100.00           17.369745\n",
       "1        Biryani     217624.83            2.174839\n",
       "2         Desert     848321.17            8.477718\n",
       "3         Extras     430479.43            4.302007\n",
       "4           Fish     182828.52            1.827101\n",
       "5   Other Snacks     448135.39            4.478452\n",
       "6          Pasta     896795.42            8.962147\n",
       "7          Pizza    1980362.53           19.790801\n",
       "8      Rice Bowl     730116.40            7.296436\n",
       "9          Salad     274843.38            2.746654\n",
       "10      Sandwich     507507.53            5.071789\n",
       "11       Seafood    1469013.19           14.680619\n",
       "12          Soup     107304.19            1.072347\n",
       "13      Starters     175047.79            1.749344"
      ]
     },
     "execution_count": 43,
     "metadata": {},
     "output_type": "execute_result"
    }
   ],
   "source": [
    "pivot=pd.DataFrame(res.groupby('category').discount_amt.sum()).reset_index()\n",
    "pivot['discount_amt_percc'] = pivot['discount_amt']/pivot['discount_amt'].sum()*100\n",
    "pivot"
   ]
  },
  {
   "cell_type": "code",
   "execution_count": 44,
   "metadata": {},
   "outputs": [
    {
     "data": {
      "image/png": "[encoded data removed]",
      "text/plain": [
       "<Figure size 432x288 with 1 Axes>"
      ]
     },
     "metadata": {
      "needs_background": "light"
     },
     "output_type": "display_data"
    }
   ],
   "source": [
    "b = sns.barplot(data =pivot, x = 'category', y='discount_amt_percc')\n",
    "b.set_xticklabels(b.get_xticklabels(),rotation = 90)\n",
    "plt.title('categories getting high discounts(By amount)')\n",
    "plt.show()"
   ]
  },
  {
   "cell_type": "markdown",
   "metadata": {},
   "source": [
    "Rice Bowl and pizza are getting highest discount on the base price"
   ]
  },
  {
   "cell_type": "code",
   "execution_count": 45,
   "metadata": {},
   "outputs": [
    {
     "data": {
      "text/html": [
       "<div>\n",
       "<style scoped>\n",
       "    .dataframe tbody tr th:only-of-type {\n",
       "        vertical-align: middle;\n",
       "    }\n",
       "\n",
       "    .dataframe tbody tr th {\n",
       "        vertical-align: top;\n",
       "    }\n",
       "\n",
       "    .dataframe thead th {\n",
       "        text-align: right;\n",
       "    }\n",
       "</style>\n",
       "<table border=\"1\" class=\"dataframe\">\n",
       "  <thead>\n",
       "    <tr style=\"text-align: right;\">\n",
       "      <th></th>\n",
       "      <th>week</th>\n",
       "      <th>num_orders</th>\n",
       "    </tr>\n",
       "  </thead>\n",
       "  <tbody>\n",
       "    <tr>\n",
       "      <th>0</th>\n",
       "      <td>1</td>\n",
       "      <td>792261</td>\n",
       "    </tr>\n",
       "    <tr>\n",
       "      <th>1</th>\n",
       "      <td>2</td>\n",
       "      <td>787084</td>\n",
       "    </tr>\n",
       "    <tr>\n",
       "      <th>2</th>\n",
       "      <td>3</td>\n",
       "      <td>695262</td>\n",
       "    </tr>\n",
       "    <tr>\n",
       "      <th>3</th>\n",
       "      <td>4</td>\n",
       "      <td>743529</td>\n",
       "    </tr>\n",
       "    <tr>\n",
       "      <th>4</th>\n",
       "      <td>5</td>\n",
       "      <td>1198675</td>\n",
       "    </tr>\n",
       "    <tr>\n",
       "      <th>...</th>\n",
       "      <td>...</td>\n",
       "      <td>...</td>\n",
       "    </tr>\n",
       "    <tr>\n",
       "      <th>140</th>\n",
       "      <td>141</td>\n",
       "      <td>776240</td>\n",
       "    </tr>\n",
       "    <tr>\n",
       "      <th>141</th>\n",
       "      <td>142</td>\n",
       "      <td>739661</td>\n",
       "    </tr>\n",
       "    <tr>\n",
       "      <th>142</th>\n",
       "      <td>143</td>\n",
       "      <td>759926</td>\n",
       "    </tr>\n",
       "    <tr>\n",
       "      <th>143</th>\n",
       "      <td>144</td>\n",
       "      <td>801197</td>\n",
       "    </tr>\n",
       "    <tr>\n",
       "      <th>144</th>\n",
       "      <td>145</td>\n",
       "      <td>671926</td>\n",
       "    </tr>\n",
       "  </tbody>\n",
       "</table>\n",
       "<p>145 rows × 2 columns</p>\n",
       "</div>"
      ],
      "text/plain": [
       "     week  num_orders\n",
       "0       1      792261\n",
       "1       2      787084\n",
       "2       3      695262\n",
       "3       4      743529\n",
       "4       5     1198675\n",
       "..    ...         ...\n",
       "140   141      776240\n",
       "141   142      739661\n",
       "142   143      759926\n",
       "143   144      801197\n",
       "144   145      671926\n",
       "\n",
       "[145 rows x 2 columns]"
      ]
     },
     "execution_count": 45,
     "metadata": {},
     "output_type": "execute_result"
    }
   ],
   "source": [
    "pivot = res.pivot_table(index=['week'], values=['num_orders'], aggfunc='sum').reset_index()\n",
    "pivot\n"
   ]
  },
  {
   "cell_type": "markdown",
   "metadata": {},
   "source": [
    "# Plotting number of orders week wise"
   ]
  },
  {
   "cell_type": "code",
   "execution_count": 46,
   "metadata": {
    "scrolled": true
   },
   "outputs": [
    {
     "data": {
      "image/png": "[encoded data removed]",
      "text/plain": [
       "<Figure size 432x288 with 1 Axes>"
      ]
     },
     "metadata": {
      "needs_background": "light"
     },
     "output_type": "display_data"
    }
   ],
   "source": [
    "b = sns.scatterplot(data =pivot, x = 'week', y='num_orders')\n",
    "plt.title('')\n",
    "plt.show()"
   ]
  },
  {
   "cell_type": "code",
   "execution_count": 47,
   "metadata": {},
   "outputs": [
    {
     "data": {
      "text/plain": [
       "Index(['id', 'week', 'center_id', 'meal_id', 'checkout_price', 'base_price',\n",
       "       'emailer_for_promotion', 'homepage_featured', 'num_orders', 'category',\n",
       "       'cuisine', 'city_code', 'region_code', 'center_type', 'op_area',\n",
       "       'discount', 'discount_amt'],\n",
       "      dtype='object')"
      ]
     },
     "execution_count": 47,
     "metadata": {},
     "output_type": "execute_result"
    }
   ],
   "source": [
    "res.columns"
   ]
  },
  {
   "cell_type": "markdown",
   "metadata": {},
   "source": [
    "# Feature Engineering and Selection\n"
   ]
  },
  {
   "cell_type": "markdown",
   "metadata": {},
   "source": [
    "# Removing id column\n"
   ]
  },
  {
   "cell_type": "code",
   "execution_count": 48,
   "metadata": {},
   "outputs": [],
   "source": [
    "res.drop(['id'],axis=1,inplace=True) #dropiing id columns "
   ]
  },
  {
   "cell_type": "code",
   "execution_count": 49,
   "metadata": {},
   "outputs": [
    {
     "data": {
      "text/html": [
       "<div>\n",
       "<style scoped>\n",
       "    .dataframe tbody tr th:only-of-type {\n",
       "        vertical-align: middle;\n",
       "    }\n",
       "\n",
       "    .dataframe tbody tr th {\n",
       "        vertical-align: top;\n",
       "    }\n",
       "\n",
       "    .dataframe thead th {\n",
       "        text-align: right;\n",
       "    }\n",
       "</style>\n",
       "<table border=\"1\" class=\"dataframe\">\n",
       "  <thead>\n",
       "    <tr style=\"text-align: right;\">\n",
       "      <th></th>\n",
       "      <th>week</th>\n",
       "      <th>center_id</th>\n",
       "      <th>meal_id</th>\n",
       "      <th>checkout_price</th>\n",
       "      <th>base_price</th>\n",
       "      <th>emailer_for_promotion</th>\n",
       "      <th>homepage_featured</th>\n",
       "      <th>num_orders</th>\n",
       "      <th>category</th>\n",
       "      <th>cuisine</th>\n",
       "      <th>city_code</th>\n",
       "      <th>region_code</th>\n",
       "      <th>center_type</th>\n",
       "      <th>op_area</th>\n",
       "      <th>discount</th>\n",
       "      <th>discount_amt</th>\n",
       "    </tr>\n",
       "  </thead>\n",
       "  <tbody>\n",
       "    <tr>\n",
       "      <th>0</th>\n",
       "      <td>1</td>\n",
       "      <td>55</td>\n",
       "      <td>1885</td>\n",
       "      <td>136.83</td>\n",
       "      <td>152.29</td>\n",
       "      <td>0</td>\n",
       "      <td>0</td>\n",
       "      <td>177</td>\n",
       "      <td>Beverages</td>\n",
       "      <td>Thai</td>\n",
       "      <td>647</td>\n",
       "      <td>56</td>\n",
       "      <td>TYPE_C</td>\n",
       "      <td>2.0</td>\n",
       "      <td>1.0</td>\n",
       "      <td>15.46</td>\n",
       "    </tr>\n",
       "    <tr>\n",
       "      <th>284804</th>\n",
       "      <td>1</td>\n",
       "      <td>113</td>\n",
       "      <td>2444</td>\n",
       "      <td>658.63</td>\n",
       "      <td>660.63</td>\n",
       "      <td>0</td>\n",
       "      <td>0</td>\n",
       "      <td>14</td>\n",
       "      <td>Seafood</td>\n",
       "      <td>Continental</td>\n",
       "      <td>680</td>\n",
       "      <td>77</td>\n",
       "      <td>TYPE_C</td>\n",
       "      <td>4.0</td>\n",
       "      <td>1.0</td>\n",
       "      <td>2.00</td>\n",
       "    </tr>\n",
       "    <tr>\n",
       "      <th>285005</th>\n",
       "      <td>1</td>\n",
       "      <td>113</td>\n",
       "      <td>1525</td>\n",
       "      <td>244.50</td>\n",
       "      <td>282.33</td>\n",
       "      <td>0</td>\n",
       "      <td>0</td>\n",
       "      <td>14</td>\n",
       "      <td>Other Snacks</td>\n",
       "      <td>Thai</td>\n",
       "      <td>680</td>\n",
       "      <td>77</td>\n",
       "      <td>TYPE_C</td>\n",
       "      <td>4.0</td>\n",
       "      <td>1.0</td>\n",
       "      <td>37.83</td>\n",
       "    </tr>\n",
       "    <tr>\n",
       "      <th>285106</th>\n",
       "      <td>1</td>\n",
       "      <td>113</td>\n",
       "      <td>2704</td>\n",
       "      <td>242.50</td>\n",
       "      <td>280.33</td>\n",
       "      <td>0</td>\n",
       "      <td>0</td>\n",
       "      <td>121</td>\n",
       "      <td>Other Snacks</td>\n",
       "      <td>Thai</td>\n",
       "      <td>680</td>\n",
       "      <td>77</td>\n",
       "      <td>TYPE_C</td>\n",
       "      <td>4.0</td>\n",
       "      <td>1.0</td>\n",
       "      <td>37.83</td>\n",
       "    </tr>\n",
       "    <tr>\n",
       "      <th>43263</th>\n",
       "      <td>1</td>\n",
       "      <td>52</td>\n",
       "      <td>1248</td>\n",
       "      <td>247.35</td>\n",
       "      <td>247.35</td>\n",
       "      <td>0</td>\n",
       "      <td>0</td>\n",
       "      <td>81</td>\n",
       "      <td>Beverages</td>\n",
       "      <td>Indian</td>\n",
       "      <td>685</td>\n",
       "      <td>56</td>\n",
       "      <td>TYPE_B</td>\n",
       "      <td>5.6</td>\n",
       "      <td>0.0</td>\n",
       "      <td>0.00</td>\n",
       "    </tr>\n",
       "  </tbody>\n",
       "</table>\n",
       "</div>"
      ],
      "text/plain": [
       "        week  center_id  meal_id  checkout_price  base_price  \\\n",
       "0          1         55     1885          136.83      152.29   \n",
       "284804     1        113     2444          658.63      660.63   \n",
       "285005     1        113     1525          244.50      282.33   \n",
       "285106     1        113     2704          242.50      280.33   \n",
       "43263      1         52     1248          247.35      247.35   \n",
       "\n",
       "        emailer_for_promotion  homepage_featured  num_orders      category  \\\n",
       "0                           0                  0         177     Beverages   \n",
       "284804                      0                  0          14       Seafood   \n",
       "285005                      0                  0          14  Other Snacks   \n",
       "285106                      0                  0         121  Other Snacks   \n",
       "43263                       0                  0          81     Beverages   \n",
       "\n",
       "            cuisine  city_code  region_code center_type  op_area  discount  \\\n",
       "0              Thai        647           56      TYPE_C      2.0       1.0   \n",
       "284804  Continental        680           77      TYPE_C      4.0       1.0   \n",
       "285005         Thai        680           77      TYPE_C      4.0       1.0   \n",
       "285106         Thai        680           77      TYPE_C      4.0       1.0   \n",
       "43263        Indian        685           56      TYPE_B      5.6       0.0   \n",
       "\n",
       "        discount_amt  \n",
       "0              15.46  \n",
       "284804          2.00  \n",
       "285005         37.83  \n",
       "285106         37.83  \n",
       "43263           0.00  "
      ]
     },
     "execution_count": 49,
     "metadata": {},
     "output_type": "execute_result"
    }
   ],
   "source": [
    "res.head()"
   ]
  },
  {
   "cell_type": "code",
   "execution_count": 50,
   "metadata": {},
   "outputs": [
    {
     "data": {
      "text/plain": [
       "cuisine\n",
       "Continental    515.978809\n",
       "Indian         340.769833\n",
       "Italian        285.133102\n",
       "Thai           213.323235\n",
       "Name: checkout_price, dtype: float64"
      ]
     },
     "execution_count": 50,
     "metadata": {},
     "output_type": "execute_result"
    }
   ],
   "source": [
    "res.groupby('cuisine').checkout_price.mean()"
   ]
  },
  {
   "cell_type": "code",
   "execution_count": 51,
   "metadata": {},
   "outputs": [
    {
     "data": {
      "text/plain": [
       "center_type\n",
       "TYPE_A    57.081447\n",
       "TYPE_B    54.680060\n",
       "TYPE_C    57.209513\n",
       "Name: region_code, dtype: float64"
      ]
     },
     "execution_count": 51,
     "metadata": {},
     "output_type": "execute_result"
    }
   ],
   "source": [
    "res.groupby('center_type').region_code.mean()"
   ]
  },
  {
   "cell_type": "markdown",
   "metadata": {},
   "source": [
    "# DISCOUNT,DISCOUNT_AMT  columns made in EDA section."
   ]
  },
  {
   "cell_type": "markdown",
   "metadata": {},
   "source": [
    "\n",
    "# Discount is a binary column stating wether discount was there on order or not"
   ]
  },
  {
   "cell_type": "markdown",
   "metadata": {},
   "source": [
    "# Discount Amt is continous column which states the ammount of discount offered.|| Discount_amt=(base_price-checkout_price)*num_orders"
   ]
  },
  {
   "cell_type": "markdown",
   "metadata": {},
   "source": [
    "Checking the correlation of the discount and discount amt feature with correlation matrix"
   ]
  },
  {
   "cell_type": "code",
   "execution_count": 52,
   "metadata": {},
   "outputs": [
    {
     "data": {
      "text/html": [
       "<div>\n",
       "<style scoped>\n",
       "    .dataframe tbody tr th:only-of-type {\n",
       "        vertical-align: middle;\n",
       "    }\n",
       "\n",
       "    .dataframe tbody tr th {\n",
       "        vertical-align: top;\n",
       "    }\n",
       "\n",
       "    .dataframe thead th {\n",
       "        text-align: right;\n",
       "    }\n",
       "</style>\n",
       "<table border=\"1\" class=\"dataframe\">\n",
       "  <thead>\n",
       "    <tr style=\"text-align: right;\">\n",
       "      <th></th>\n",
       "      <th>week</th>\n",
       "      <th>center_id</th>\n",
       "      <th>meal_id</th>\n",
       "      <th>checkout_price</th>\n",
       "      <th>base_price</th>\n",
       "      <th>emailer_for_promotion</th>\n",
       "      <th>homepage_featured</th>\n",
       "      <th>num_orders</th>\n",
       "      <th>city_code</th>\n",
       "      <th>region_code</th>\n",
       "      <th>op_area</th>\n",
       "      <th>discount</th>\n",
       "      <th>discount_amt</th>\n",
       "    </tr>\n",
       "  </thead>\n",
       "  <tbody>\n",
       "    <tr>\n",
       "      <th>week</th>\n",
       "      <td>1.000000</td>\n",
       "      <td>-0.003450</td>\n",
       "      <td>0.019814</td>\n",
       "      <td>0.026581</td>\n",
       "      <td>0.028614</td>\n",
       "      <td>-0.000841</td>\n",
       "      <td>-0.008263</td>\n",
       "      <td>-0.017210</td>\n",
       "      <td>0.000405</td>\n",
       "      <td>0.004600</td>\n",
       "      <td>0.001550</td>\n",
       "      <td>-0.017744</td>\n",
       "      <td>0.010997</td>\n",
       "    </tr>\n",
       "    <tr>\n",
       "      <th>center_id</th>\n",
       "      <td>-0.003450</td>\n",
       "      <td>1.000000</td>\n",
       "      <td>0.009893</td>\n",
       "      <td>0.001348</td>\n",
       "      <td>0.000604</td>\n",
       "      <td>0.013658</td>\n",
       "      <td>-0.005043</td>\n",
       "      <td>-0.053035</td>\n",
       "      <td>0.061078</td>\n",
       "      <td>-0.003426</td>\n",
       "      <td>-0.111869</td>\n",
       "      <td>-0.002971</td>\n",
       "      <td>-0.002247</td>\n",
       "    </tr>\n",
       "    <tr>\n",
       "      <th>meal_id</th>\n",
       "      <td>0.019814</td>\n",
       "      <td>0.009893</td>\n",
       "      <td>1.000000</td>\n",
       "      <td>0.010748</td>\n",
       "      <td>0.002605</td>\n",
       "      <td>0.013402</td>\n",
       "      <td>0.016354</td>\n",
       "      <td>0.010597</td>\n",
       "      <td>-0.003198</td>\n",
       "      <td>-0.001662</td>\n",
       "      <td>-0.001546</td>\n",
       "      <td>-0.033679</td>\n",
       "      <td>-0.025262</td>\n",
       "    </tr>\n",
       "    <tr>\n",
       "      <th>checkout_price</th>\n",
       "      <td>0.026581</td>\n",
       "      <td>0.001348</td>\n",
       "      <td>0.010748</td>\n",
       "      <td>1.000000</td>\n",
       "      <td>0.953389</td>\n",
       "      <td>0.004818</td>\n",
       "      <td>-0.057184</td>\n",
       "      <td>-0.282108</td>\n",
       "      <td>-0.004805</td>\n",
       "      <td>-0.003648</td>\n",
       "      <td>0.021569</td>\n",
       "      <td>-0.103340</td>\n",
       "      <td>0.005878</td>\n",
       "    </tr>\n",
       "    <tr>\n",
       "      <th>base_price</th>\n",
       "      <td>0.028614</td>\n",
       "      <td>0.000604</td>\n",
       "      <td>0.002605</td>\n",
       "      <td>0.953389</td>\n",
       "      <td>1.000000</td>\n",
       "      <td>0.171173</td>\n",
       "      <td>0.057156</td>\n",
       "      <td>-0.222306</td>\n",
       "      <td>-0.002054</td>\n",
       "      <td>-0.001934</td>\n",
       "      <td>0.018031</td>\n",
       "      <td>0.043064</td>\n",
       "      <td>0.307343</td>\n",
       "    </tr>\n",
       "    <tr>\n",
       "      <th>emailer_for_promotion</th>\n",
       "      <td>-0.000841</td>\n",
       "      <td>0.013658</td>\n",
       "      <td>0.013402</td>\n",
       "      <td>0.004818</td>\n",
       "      <td>0.171173</td>\n",
       "      <td>1.000000</td>\n",
       "      <td>0.390534</td>\n",
       "      <td>0.277147</td>\n",
       "      <td>-0.005234</td>\n",
       "      <td>-0.007462</td>\n",
       "      <td>-0.019462</td>\n",
       "      <td>0.276454</td>\n",
       "      <td>0.552075</td>\n",
       "    </tr>\n",
       "    <tr>\n",
       "      <th>homepage_featured</th>\n",
       "      <td>-0.008263</td>\n",
       "      <td>-0.005043</td>\n",
       "      <td>0.016354</td>\n",
       "      <td>-0.057184</td>\n",
       "      <td>0.057156</td>\n",
       "      <td>0.390534</td>\n",
       "      <td>1.000000</td>\n",
       "      <td>0.294490</td>\n",
       "      <td>0.008640</td>\n",
       "      <td>0.003605</td>\n",
       "      <td>0.041498</td>\n",
       "      <td>0.213979</td>\n",
       "      <td>0.369758</td>\n",
       "    </tr>\n",
       "    <tr>\n",
       "      <th>num_orders</th>\n",
       "      <td>-0.017210</td>\n",
       "      <td>-0.053035</td>\n",
       "      <td>0.010597</td>\n",
       "      <td>-0.282108</td>\n",
       "      <td>-0.222306</td>\n",
       "      <td>0.277147</td>\n",
       "      <td>0.294490</td>\n",
       "      <td>1.000000</td>\n",
       "      <td>0.041596</td>\n",
       "      <td>0.029744</td>\n",
       "      <td>0.176976</td>\n",
       "      <td>0.111766</td>\n",
       "      <td>0.152950</td>\n",
       "    </tr>\n",
       "    <tr>\n",
       "      <th>city_code</th>\n",
       "      <td>0.000405</td>\n",
       "      <td>0.061078</td>\n",
       "      <td>-0.003198</td>\n",
       "      <td>-0.004805</td>\n",
       "      <td>-0.002054</td>\n",
       "      <td>-0.005234</td>\n",
       "      <td>0.008640</td>\n",
       "      <td>0.041596</td>\n",
       "      <td>1.000000</td>\n",
       "      <td>0.042686</td>\n",
       "      <td>0.131476</td>\n",
       "      <td>0.003876</td>\n",
       "      <td>0.008345</td>\n",
       "    </tr>\n",
       "    <tr>\n",
       "      <th>region_code</th>\n",
       "      <td>0.004600</td>\n",
       "      <td>-0.003426</td>\n",
       "      <td>-0.001662</td>\n",
       "      <td>-0.003648</td>\n",
       "      <td>-0.001934</td>\n",
       "      <td>-0.007462</td>\n",
       "      <td>0.003605</td>\n",
       "      <td>0.029744</td>\n",
       "      <td>0.042686</td>\n",
       "      <td>1.000000</td>\n",
       "      <td>0.023327</td>\n",
       "      <td>0.003672</td>\n",
       "      <td>0.005095</td>\n",
       "    </tr>\n",
       "    <tr>\n",
       "      <th>op_area</th>\n",
       "      <td>0.001550</td>\n",
       "      <td>-0.111869</td>\n",
       "      <td>-0.001546</td>\n",
       "      <td>0.021569</td>\n",
       "      <td>0.018031</td>\n",
       "      <td>-0.019462</td>\n",
       "      <td>0.041498</td>\n",
       "      <td>0.176976</td>\n",
       "      <td>0.131476</td>\n",
       "      <td>0.023327</td>\n",
       "      <td>1.000000</td>\n",
       "      <td>-0.004067</td>\n",
       "      <td>-0.008267</td>\n",
       "    </tr>\n",
       "    <tr>\n",
       "      <th>discount</th>\n",
       "      <td>-0.017744</td>\n",
       "      <td>-0.002971</td>\n",
       "      <td>-0.033679</td>\n",
       "      <td>-0.103340</td>\n",
       "      <td>0.043064</td>\n",
       "      <td>0.276454</td>\n",
       "      <td>0.213979</td>\n",
       "      <td>0.111766</td>\n",
       "      <td>0.003876</td>\n",
       "      <td>0.003672</td>\n",
       "      <td>-0.004067</td>\n",
       "      <td>1.000000</td>\n",
       "      <td>0.468613</td>\n",
       "    </tr>\n",
       "    <tr>\n",
       "      <th>discount_amt</th>\n",
       "      <td>0.010997</td>\n",
       "      <td>-0.002247</td>\n",
       "      <td>-0.025262</td>\n",
       "      <td>0.005878</td>\n",
       "      <td>0.307343</td>\n",
       "      <td>0.552075</td>\n",
       "      <td>0.369758</td>\n",
       "      <td>0.152950</td>\n",
       "      <td>0.008345</td>\n",
       "      <td>0.005095</td>\n",
       "      <td>-0.008267</td>\n",
       "      <td>0.468613</td>\n",
       "      <td>1.000000</td>\n",
       "    </tr>\n",
       "  </tbody>\n",
       "</table>\n",
       "</div>"
      ],
      "text/plain": [
       "                           week  center_id   meal_id  checkout_price  \\\n",
       "week                   1.000000  -0.003450  0.019814        0.026581   \n",
       "center_id             -0.003450   1.000000  0.009893        0.001348   \n",
       "meal_id                0.019814   0.009893  1.000000        0.010748   \n",
       "checkout_price         0.026581   0.001348  0.010748        1.000000   \n",
       "base_price             0.028614   0.000604  0.002605        0.953389   \n",
       "emailer_for_promotion -0.000841   0.013658  0.013402        0.004818   \n",
       "homepage_featured     -0.008263  -0.005043  0.016354       -0.057184   \n",
       "num_orders            -0.017210  -0.053035  0.010597       -0.282108   \n",
       "city_code              0.000405   0.061078 -0.003198       -0.004805   \n",
       "region_code            0.004600  -0.003426 -0.001662       -0.003648   \n",
       "op_area                0.001550  -0.111869 -0.001546        0.021569   \n",
       "discount              -0.017744  -0.002971 -0.033679       -0.103340   \n",
       "discount_amt           0.010997  -0.002247 -0.025262        0.005878   \n",
       "\n",
       "                       base_price  emailer_for_promotion  homepage_featured  \\\n",
       "week                     0.028614              -0.000841          -0.008263   \n",
       "center_id                0.000604               0.013658          -0.005043   \n",
       "meal_id                  0.002605               0.013402           0.016354   \n",
       "checkout_price           0.953389               0.004818          -0.057184   \n",
       "base_price               1.000000               0.171173           0.057156   \n",
       "emailer_for_promotion    0.171173               1.000000           0.390534   \n",
       "homepage_featured        0.057156               0.390534           1.000000   \n",
       "num_orders              -0.222306               0.277147           0.294490   \n",
       "city_code               -0.002054              -0.005234           0.008640   \n",
       "region_code             -0.001934              -0.007462           0.003605   \n",
       "op_area                  0.018031              -0.019462           0.041498   \n",
       "discount                 0.043064               0.276454           0.213979   \n",
       "discount_amt             0.307343               0.552075           0.369758   \n",
       "\n",
       "                       num_orders  city_code  region_code   op_area  discount  \\\n",
       "week                    -0.017210   0.000405     0.004600  0.001550 -0.017744   \n",
       "center_id               -0.053035   0.061078    -0.003426 -0.111869 -0.002971   \n",
       "meal_id                  0.010597  -0.003198    -0.001662 -0.001546 -0.033679   \n",
       "checkout_price          -0.282108  -0.004805    -0.003648  0.021569 -0.103340   \n",
       "base_price              -0.222306  -0.002054    -0.001934  0.018031  0.043064   \n",
       "emailer_for_promotion    0.277147  -0.005234    -0.007462 -0.019462  0.276454   \n",
       "homepage_featured        0.294490   0.008640     0.003605  0.041498  0.213979   \n",
       "num_orders               1.000000   0.041596     0.029744  0.176976  0.111766   \n",
       "city_code                0.041596   1.000000     0.042686  0.131476  0.003876   \n",
       "region_code              0.029744   0.042686     1.000000  0.023327  0.003672   \n",
       "op_area                  0.176976   0.131476     0.023327  1.000000 -0.004067   \n",
       "discount                 0.111766   0.003876     0.003672 -0.004067  1.000000   \n",
       "discount_amt             0.152950   0.008345     0.005095 -0.008267  0.468613   \n",
       "\n",
       "                       discount_amt  \n",
       "week                       0.010997  \n",
       "center_id                 -0.002247  \n",
       "meal_id                   -0.025262  \n",
       "checkout_price             0.005878  \n",
       "base_price                 0.307343  \n",
       "emailer_for_promotion      0.552075  \n",
       "homepage_featured          0.369758  \n",
       "num_orders                 0.152950  \n",
       "city_code                  0.008345  \n",
       "region_code                0.005095  \n",
       "op_area                   -0.008267  \n",
       "discount                   0.468613  \n",
       "discount_amt               1.000000  "
      ]
     },
     "execution_count": 52,
     "metadata": {},
     "output_type": "execute_result"
    }
   ],
   "source": [
    "res.corr()"
   ]
  },
  {
   "cell_type": "markdown",
   "metadata": {},
   "source": [
    "# Here we can see that dicount_ amt is having great correlation with target column"
   ]
  },
  {
   "cell_type": "markdown",
   "metadata": {},
   "source": [
    "# Analyzing category and its respective cuisines"
   ]
  },
  {
   "cell_type": "code",
   "execution_count": 53,
   "metadata": {},
   "outputs": [
    {
     "data": {
      "text/html": [
       "<div>\n",
       "<style scoped>\n",
       "    .dataframe tbody tr th:only-of-type {\n",
       "        vertical-align: middle;\n",
       "    }\n",
       "\n",
       "    .dataframe tbody tr th {\n",
       "        vertical-align: top;\n",
       "    }\n",
       "\n",
       "    .dataframe thead th {\n",
       "        text-align: right;\n",
       "    }\n",
       "</style>\n",
       "<table border=\"1\" class=\"dataframe\">\n",
       "  <thead>\n",
       "    <tr style=\"text-align: right;\">\n",
       "      <th></th>\n",
       "      <th>category</th>\n",
       "      <th>cuisine</th>\n",
       "      <th>num_orders</th>\n",
       "    </tr>\n",
       "  </thead>\n",
       "  <tbody>\n",
       "    <tr>\n",
       "      <th>0</th>\n",
       "      <td>Beverages</td>\n",
       "      <td>Continental</td>\n",
       "      <td>5943046</td>\n",
       "    </tr>\n",
       "    <tr>\n",
       "      <th>1</th>\n",
       "      <td>Beverages</td>\n",
       "      <td>Indian</td>\n",
       "      <td>2345879</td>\n",
       "    </tr>\n",
       "    <tr>\n",
       "      <th>2</th>\n",
       "      <td>Beverages</td>\n",
       "      <td>Italian</td>\n",
       "      <td>13953970</td>\n",
       "    </tr>\n",
       "    <tr>\n",
       "      <th>3</th>\n",
       "      <td>Beverages</td>\n",
       "      <td>Thai</td>\n",
       "      <td>18237630</td>\n",
       "    </tr>\n",
       "    <tr>\n",
       "      <th>4</th>\n",
       "      <td>Biryani</td>\n",
       "      <td>Indian</td>\n",
       "      <td>631848</td>\n",
       "    </tr>\n",
       "    <tr>\n",
       "      <th>5</th>\n",
       "      <td>Desert</td>\n",
       "      <td>Indian</td>\n",
       "      <td>1940754</td>\n",
       "    </tr>\n",
       "    <tr>\n",
       "      <th>6</th>\n",
       "      <td>Extras</td>\n",
       "      <td>Thai</td>\n",
       "      <td>3984979</td>\n",
       "    </tr>\n",
       "    <tr>\n",
       "      <th>7</th>\n",
       "      <td>Fish</td>\n",
       "      <td>Continental</td>\n",
       "      <td>871959</td>\n",
       "    </tr>\n",
       "    <tr>\n",
       "      <th>8</th>\n",
       "      <td>Other Snacks</td>\n",
       "      <td>Thai</td>\n",
       "      <td>4766293</td>\n",
       "    </tr>\n",
       "    <tr>\n",
       "      <th>9</th>\n",
       "      <td>Pasta</td>\n",
       "      <td>Italian</td>\n",
       "      <td>1637744</td>\n",
       "    </tr>\n",
       "    <tr>\n",
       "      <th>10</th>\n",
       "      <td>Pizza</td>\n",
       "      <td>Continental</td>\n",
       "      <td>7383720</td>\n",
       "    </tr>\n",
       "    <tr>\n",
       "      <th>11</th>\n",
       "      <td>Rice Bowl</td>\n",
       "      <td>Indian</td>\n",
       "      <td>20874063</td>\n",
       "    </tr>\n",
       "    <tr>\n",
       "      <th>12</th>\n",
       "      <td>Salad</td>\n",
       "      <td>Italian</td>\n",
       "      <td>10944336</td>\n",
       "    </tr>\n",
       "    <tr>\n",
       "      <th>13</th>\n",
       "      <td>Sandwich</td>\n",
       "      <td>Italian</td>\n",
       "      <td>17636782</td>\n",
       "    </tr>\n",
       "    <tr>\n",
       "      <th>14</th>\n",
       "      <td>Seafood</td>\n",
       "      <td>Continental</td>\n",
       "      <td>2715714</td>\n",
       "    </tr>\n",
       "    <tr>\n",
       "      <th>15</th>\n",
       "      <td>Soup</td>\n",
       "      <td>Thai</td>\n",
       "      <td>1039646</td>\n",
       "    </tr>\n",
       "    <tr>\n",
       "      <th>16</th>\n",
       "      <td>Starters</td>\n",
       "      <td>Thai</td>\n",
       "      <td>4649122</td>\n",
       "    </tr>\n",
       "  </tbody>\n",
       "</table>\n",
       "</div>"
      ],
      "text/plain": [
       "        category      cuisine  num_orders\n",
       "0      Beverages  Continental     5943046\n",
       "1      Beverages       Indian     2345879\n",
       "2      Beverages      Italian    13953970\n",
       "3      Beverages         Thai    18237630\n",
       "4        Biryani       Indian      631848\n",
       "5         Desert       Indian     1940754\n",
       "6         Extras         Thai     3984979\n",
       "7           Fish  Continental      871959\n",
       "8   Other Snacks         Thai     4766293\n",
       "9          Pasta      Italian     1637744\n",
       "10         Pizza  Continental     7383720\n",
       "11     Rice Bowl       Indian    20874063\n",
       "12         Salad      Italian    10944336\n",
       "13      Sandwich      Italian    17636782\n",
       "14       Seafood  Continental     2715714\n",
       "15          Soup         Thai     1039646\n",
       "16      Starters         Thai     4649122"
      ]
     },
     "execution_count": 53,
     "metadata": {},
     "output_type": "execute_result"
    }
   ],
   "source": [
    "pivot=pd.DataFrame(res.groupby(['category','cuisine']).num_orders.sum()).reset_index()\n",
    "pivot"
   ]
  },
  {
   "cell_type": "markdown",
   "metadata": {},
   "source": [
    "# From here we can see that only beverage is the item which is all cuisine"
   ]
  },
  {
   "cell_type": "markdown",
   "metadata": {},
   "source": [
    "\n",
    "# We can combine these columns and get one column called product"
   ]
  },
  {
   "cell_type": "code",
   "execution_count": 54,
   "metadata": {},
   "outputs": [],
   "source": [
    "res[\"item\"] = res[\"category\"] +\"_\"+ res[\"cuisine\"]"
   ]
  },
  {
   "cell_type": "code",
   "execution_count": 55,
   "metadata": {},
   "outputs": [
    {
     "data": {
      "text/plain": [
       "Rice Bowl_Indian         33408\n",
       "Beverages_Italian        33381\n",
       "Sandwich_Italian         33291\n",
       "Pizza_Continental        33138\n",
       "Beverages_Thai           32659\n",
       "Beverages_Continental    32554\n",
       "Starters_Thai            29941\n",
       "Other Snacks_Thai        29379\n",
       "Beverages_Indian         29296\n",
       "Desert_Indian            29294\n",
       "Salad_Italian            28559\n",
       "Pasta_Italian            27694\n",
       "Seafood_Continental      26916\n",
       "Biryani_Indian           20614\n",
       "Extras_Thai              13562\n",
       "Soup_Thai                12675\n",
       "Fish_Continental         10187\n",
       "Name: item, dtype: int64"
      ]
     },
     "execution_count": 55,
     "metadata": {},
     "output_type": "execute_result"
    }
   ],
   "source": [
    "res.item.value_counts()"
   ]
  },
  {
   "cell_type": "code",
   "execution_count": null,
   "metadata": {},
   "outputs": [],
   "source": []
  },
  {
   "cell_type": "code",
   "execution_count": null,
   "metadata": {},
   "outputs": [],
   "source": []
  },
  {
   "cell_type": "code",
   "execution_count": 56,
   "metadata": {},
   "outputs": [
    {
     "data": {
      "text/plain": [
       "Index(['week', 'center_id', 'meal_id', 'checkout_price', 'base_price',\n",
       "       'emailer_for_promotion', 'homepage_featured', 'num_orders', 'category',\n",
       "       'cuisine', 'city_code', 'region_code', 'center_type', 'op_area',\n",
       "       'discount', 'discount_amt', 'item'],\n",
       "      dtype='object')"
      ]
     },
     "execution_count": 56,
     "metadata": {},
     "output_type": "execute_result"
    }
   ],
   "source": [
    "res.columns"
   ]
  },
  {
   "cell_type": "markdown",
   "metadata": {},
   "source": [
    "# Dropping the cuisine and category column as we already made a new column out of it"
   ]
  },
  {
   "cell_type": "code",
   "execution_count": 57,
   "metadata": {},
   "outputs": [],
   "source": [
    "res.drop(['cuisine','category'],axis=1,inplace=True)"
   ]
  },
  {
   "cell_type": "code",
   "execution_count": 58,
   "metadata": {},
   "outputs": [
    {
     "data": {
      "text/plain": [
       "array([  1,   2,   3,   4,   5,   6,   7,   8,   9,  10,  11,  12,  13,\n",
       "        14,  15,  16,  17,  18,  19,  20,  21,  22,  23,  24,  25,  26,\n",
       "        27,  28,  29,  30,  31,  32,  33,  34,  35,  36,  37,  38,  39,\n",
       "        40,  41,  42,  43,  44,  45,  46,  47,  48,  49,  50,  51,  52,\n",
       "        53,  54,  55,  56,  57,  58,  59,  60,  61,  62,  63,  64,  65,\n",
       "        66,  67,  68,  69,  70,  71,  72,  73,  74,  75,  76,  77,  78,\n",
       "        79,  80,  81,  82,  83,  84,  85,  86,  87,  88,  89,  90,  91,\n",
       "        92,  93,  94,  95,  96,  97,  98,  99, 100, 101, 102, 103, 104,\n",
       "       105, 106, 107, 108, 109, 110, 111, 112, 113, 114, 115, 116, 117,\n",
       "       118, 119, 120, 121, 122, 123, 124, 125, 126, 127, 128, 129, 130,\n",
       "       131, 132, 133, 134, 135, 136, 137, 138, 139, 140, 141, 142, 143,\n",
       "       144, 145], dtype=int64)"
      ]
     },
     "execution_count": 58,
     "metadata": {},
     "output_type": "execute_result"
    }
   ],
   "source": [
    "res.week.unique()"
   ]
  },
  {
   "cell_type": "markdown",
   "metadata": {},
   "source": [
    "# Splitting the data into two train and test "
   ]
  },
  {
   "cell_type": "markdown",
   "metadata": {},
   "source": [
    "# This is a forecasting problem statement so we need to preserve the time "
   ]
  },
  {
   "cell_type": "markdown",
   "metadata": {},
   "source": [
    "# So, Splitting on basis of week "
   ]
  },
  {
   "cell_type": "code",
   "execution_count": null,
   "metadata": {},
   "outputs": [],
   "source": []
  },
  {
   "cell_type": "code",
   "execution_count": null,
   "metadata": {},
   "outputs": [],
   "source": []
  },
  {
   "cell_type": "code",
   "execution_count": 59,
   "metadata": {},
   "outputs": [],
   "source": [
    "res_test=res[res['week']>131]"
   ]
  },
  {
   "cell_type": "code",
   "execution_count": 60,
   "metadata": {},
   "outputs": [],
   "source": [
    "res_train=res[res['week']<=131]"
   ]
  },
  {
   "cell_type": "code",
   "execution_count": null,
   "metadata": {},
   "outputs": [],
   "source": []
  },
  {
   "cell_type": "code",
   "execution_count": 61,
   "metadata": {},
   "outputs": [
    {
     "data": {
      "text/html": [
       "<div>\n",
       "<style scoped>\n",
       "    .dataframe tbody tr th:only-of-type {\n",
       "        vertical-align: middle;\n",
       "    }\n",
       "\n",
       "    .dataframe tbody tr th {\n",
       "        vertical-align: top;\n",
       "    }\n",
       "\n",
       "    .dataframe thead th {\n",
       "        text-align: right;\n",
       "    }\n",
       "</style>\n",
       "<table border=\"1\" class=\"dataframe\">\n",
       "  <thead>\n",
       "    <tr style=\"text-align: right;\">\n",
       "      <th></th>\n",
       "      <th>week</th>\n",
       "      <th>center_id</th>\n",
       "      <th>meal_id</th>\n",
       "      <th>checkout_price</th>\n",
       "      <th>base_price</th>\n",
       "      <th>emailer_for_promotion</th>\n",
       "      <th>homepage_featured</th>\n",
       "      <th>num_orders</th>\n",
       "      <th>city_code</th>\n",
       "      <th>region_code</th>\n",
       "      <th>center_type</th>\n",
       "      <th>op_area</th>\n",
       "      <th>discount</th>\n",
       "      <th>discount_amt</th>\n",
       "      <th>item</th>\n",
       "    </tr>\n",
       "  </thead>\n",
       "  <tbody>\n",
       "    <tr>\n",
       "      <th>0</th>\n",
       "      <td>1</td>\n",
       "      <td>55</td>\n",
       "      <td>1885</td>\n",
       "      <td>136.83</td>\n",
       "      <td>152.29</td>\n",
       "      <td>0</td>\n",
       "      <td>0</td>\n",
       "      <td>177</td>\n",
       "      <td>647</td>\n",
       "      <td>56</td>\n",
       "      <td>TYPE_C</td>\n",
       "      <td>2.0</td>\n",
       "      <td>1.0</td>\n",
       "      <td>15.46</td>\n",
       "      <td>Beverages_Thai</td>\n",
       "    </tr>\n",
       "    <tr>\n",
       "      <th>284804</th>\n",
       "      <td>1</td>\n",
       "      <td>113</td>\n",
       "      <td>2444</td>\n",
       "      <td>658.63</td>\n",
       "      <td>660.63</td>\n",
       "      <td>0</td>\n",
       "      <td>0</td>\n",
       "      <td>14</td>\n",
       "      <td>680</td>\n",
       "      <td>77</td>\n",
       "      <td>TYPE_C</td>\n",
       "      <td>4.0</td>\n",
       "      <td>1.0</td>\n",
       "      <td>2.00</td>\n",
       "      <td>Seafood_Continental</td>\n",
       "    </tr>\n",
       "    <tr>\n",
       "      <th>285005</th>\n",
       "      <td>1</td>\n",
       "      <td>113</td>\n",
       "      <td>1525</td>\n",
       "      <td>244.50</td>\n",
       "      <td>282.33</td>\n",
       "      <td>0</td>\n",
       "      <td>0</td>\n",
       "      <td>14</td>\n",
       "      <td>680</td>\n",
       "      <td>77</td>\n",
       "      <td>TYPE_C</td>\n",
       "      <td>4.0</td>\n",
       "      <td>1.0</td>\n",
       "      <td>37.83</td>\n",
       "      <td>Other Snacks_Thai</td>\n",
       "    </tr>\n",
       "    <tr>\n",
       "      <th>285106</th>\n",
       "      <td>1</td>\n",
       "      <td>113</td>\n",
       "      <td>2704</td>\n",
       "      <td>242.50</td>\n",
       "      <td>280.33</td>\n",
       "      <td>0</td>\n",
       "      <td>0</td>\n",
       "      <td>121</td>\n",
       "      <td>680</td>\n",
       "      <td>77</td>\n",
       "      <td>TYPE_C</td>\n",
       "      <td>4.0</td>\n",
       "      <td>1.0</td>\n",
       "      <td>37.83</td>\n",
       "      <td>Other Snacks_Thai</td>\n",
       "    </tr>\n",
       "    <tr>\n",
       "      <th>43263</th>\n",
       "      <td>1</td>\n",
       "      <td>52</td>\n",
       "      <td>1248</td>\n",
       "      <td>247.35</td>\n",
       "      <td>247.35</td>\n",
       "      <td>0</td>\n",
       "      <td>0</td>\n",
       "      <td>81</td>\n",
       "      <td>685</td>\n",
       "      <td>56</td>\n",
       "      <td>TYPE_B</td>\n",
       "      <td>5.6</td>\n",
       "      <td>0.0</td>\n",
       "      <td>0.00</td>\n",
       "      <td>Beverages_Indian</td>\n",
       "    </tr>\n",
       "    <tr>\n",
       "      <th>...</th>\n",
       "      <td>...</td>\n",
       "      <td>...</td>\n",
       "      <td>...</td>\n",
       "      <td>...</td>\n",
       "      <td>...</td>\n",
       "      <td>...</td>\n",
       "      <td>...</td>\n",
       "      <td>...</td>\n",
       "      <td>...</td>\n",
       "      <td>...</td>\n",
       "      <td>...</td>\n",
       "      <td>...</td>\n",
       "      <td>...</td>\n",
       "      <td>...</td>\n",
       "      <td>...</td>\n",
       "    </tr>\n",
       "    <tr>\n",
       "      <th>6150</th>\n",
       "      <td>131</td>\n",
       "      <td>24</td>\n",
       "      <td>1207</td>\n",
       "      <td>334.65</td>\n",
       "      <td>334.65</td>\n",
       "      <td>0</td>\n",
       "      <td>0</td>\n",
       "      <td>337</td>\n",
       "      <td>614</td>\n",
       "      <td>85</td>\n",
       "      <td>TYPE_B</td>\n",
       "      <td>3.6</td>\n",
       "      <td>0.0</td>\n",
       "      <td>0.00</td>\n",
       "      <td>Beverages_Continental</td>\n",
       "    </tr>\n",
       "    <tr>\n",
       "      <th>6624</th>\n",
       "      <td>131</td>\n",
       "      <td>24</td>\n",
       "      <td>1727</td>\n",
       "      <td>466.63</td>\n",
       "      <td>465.63</td>\n",
       "      <td>0</td>\n",
       "      <td>0</td>\n",
       "      <td>512</td>\n",
       "      <td>614</td>\n",
       "      <td>85</td>\n",
       "      <td>TYPE_B</td>\n",
       "      <td>3.6</td>\n",
       "      <td>0.0</td>\n",
       "      <td>-1.00</td>\n",
       "      <td>Rice Bowl_Indian</td>\n",
       "    </tr>\n",
       "    <tr>\n",
       "      <th>441465</th>\n",
       "      <td>131</td>\n",
       "      <td>68</td>\n",
       "      <td>1445</td>\n",
       "      <td>767.33</td>\n",
       "      <td>766.33</td>\n",
       "      <td>0</td>\n",
       "      <td>0</td>\n",
       "      <td>54</td>\n",
       "      <td>676</td>\n",
       "      <td>34</td>\n",
       "      <td>TYPE_B</td>\n",
       "      <td>4.1</td>\n",
       "      <td>0.0</td>\n",
       "      <td>-1.00</td>\n",
       "      <td>Seafood_Continental</td>\n",
       "    </tr>\n",
       "    <tr>\n",
       "      <th>40695</th>\n",
       "      <td>131</td>\n",
       "      <td>109</td>\n",
       "      <td>2304</td>\n",
       "      <td>468.51</td>\n",
       "      <td>470.51</td>\n",
       "      <td>0</td>\n",
       "      <td>0</td>\n",
       "      <td>68</td>\n",
       "      <td>599</td>\n",
       "      <td>56</td>\n",
       "      <td>TYPE_A</td>\n",
       "      <td>3.6</td>\n",
       "      <td>1.0</td>\n",
       "      <td>2.00</td>\n",
       "      <td>Desert_Indian</td>\n",
       "    </tr>\n",
       "    <tr>\n",
       "      <th>49081</th>\n",
       "      <td>131</td>\n",
       "      <td>52</td>\n",
       "      <td>2664</td>\n",
       "      <td>304.64</td>\n",
       "      <td>304.64</td>\n",
       "      <td>0</td>\n",
       "      <td>0</td>\n",
       "      <td>474</td>\n",
       "      <td>685</td>\n",
       "      <td>56</td>\n",
       "      <td>TYPE_B</td>\n",
       "      <td>5.6</td>\n",
       "      <td>0.0</td>\n",
       "      <td>0.00</td>\n",
       "      <td>Salad_Italian</td>\n",
       "    </tr>\n",
       "  </tbody>\n",
       "</table>\n",
       "<p>410536 rows × 15 columns</p>\n",
       "</div>"
      ],
      "text/plain": [
       "        week  center_id  meal_id  checkout_price  base_price  \\\n",
       "0          1         55     1885          136.83      152.29   \n",
       "284804     1        113     2444          658.63      660.63   \n",
       "285005     1        113     1525          244.50      282.33   \n",
       "285106     1        113     2704          242.50      280.33   \n",
       "43263      1         52     1248          247.35      247.35   \n",
       "...      ...        ...      ...             ...         ...   \n",
       "6150     131         24     1207          334.65      334.65   \n",
       "6624     131         24     1727          466.63      465.63   \n",
       "441465   131         68     1445          767.33      766.33   \n",
       "40695    131        109     2304          468.51      470.51   \n",
       "49081    131         52     2664          304.64      304.64   \n",
       "\n",
       "        emailer_for_promotion  homepage_featured  num_orders  city_code  \\\n",
       "0                           0                  0         177        647   \n",
       "284804                      0                  0          14        680   \n",
       "285005                      0                  0          14        680   \n",
       "285106                      0                  0         121        680   \n",
       "43263                       0                  0          81        685   \n",
       "...                       ...                ...         ...        ...   \n",
       "6150                        0                  0         337        614   \n",
       "6624                        0                  0         512        614   \n",
       "441465                      0                  0          54        676   \n",
       "40695                       0                  0          68        599   \n",
       "49081                       0                  0         474        685   \n",
       "\n",
       "        region_code center_type  op_area  discount  discount_amt  \\\n",
       "0                56      TYPE_C      2.0       1.0         15.46   \n",
       "284804           77      TYPE_C      4.0       1.0          2.00   \n",
       "285005           77      TYPE_C      4.0       1.0         37.83   \n",
       "285106           77      TYPE_C      4.0       1.0         37.83   \n",
       "43263            56      TYPE_B      5.6       0.0          0.00   \n",
       "...             ...         ...      ...       ...           ...   \n",
       "6150             85      TYPE_B      3.6       0.0          0.00   \n",
       "6624             85      TYPE_B      3.6       0.0         -1.00   \n",
       "441465           34      TYPE_B      4.1       0.0         -1.00   \n",
       "40695            56      TYPE_A      3.6       1.0          2.00   \n",
       "49081            56      TYPE_B      5.6       0.0          0.00   \n",
       "\n",
       "                         item  \n",
       "0              Beverages_Thai  \n",
       "284804    Seafood_Continental  \n",
       "285005      Other Snacks_Thai  \n",
       "285106      Other Snacks_Thai  \n",
       "43263        Beverages_Indian  \n",
       "...                       ...  \n",
       "6150    Beverages_Continental  \n",
       "6624         Rice Bowl_Indian  \n",
       "441465    Seafood_Continental  \n",
       "40695           Desert_Indian  \n",
       "49081           Salad_Italian  \n",
       "\n",
       "[410536 rows x 15 columns]"
      ]
     },
     "execution_count": 61,
     "metadata": {},
     "output_type": "execute_result"
    }
   ],
   "source": [
    "res_train"
   ]
  },
  {
   "cell_type": "code",
   "execution_count": 62,
   "metadata": {},
   "outputs": [
    {
     "data": {
      "text/plain": [
       "center_type\n",
       "TYPE_A    262.394456\n",
       "TYPE_B    318.856145\n",
       "TYPE_C    206.670097\n",
       "Name: num_orders, dtype: float64"
      ]
     },
     "execution_count": 62,
     "metadata": {},
     "output_type": "execute_result"
    }
   ],
   "source": [
    "res.groupby('center_type').num_orders.mean()"
   ]
  },
  {
   "cell_type": "markdown",
   "metadata": {},
   "source": [
    "# Target Encoding The center_type Columns"
   ]
  },
  {
   "cell_type": "markdown",
   "metadata": {},
   "source": [
    "# Here we are using target encode , Using num_orders to encode the center_type will replace categorical variable with mean of num_of orders "
   ]
  },
  {
   "cell_type": "code",
   "execution_count": 63,
   "metadata": {},
   "outputs": [
    {
     "data": {
      "text/plain": [
       "center_type\n",
       "TYPE_A    265.492956\n",
       "TYPE_B    320.991068\n",
       "TYPE_C    208.512473\n",
       "Name: num_orders, dtype: float64"
      ]
     },
     "execution_count": 63,
     "metadata": {},
     "output_type": "execute_result"
    }
   ],
   "source": [
    "lookup=(res_train.groupby('center_type').num_orders.mean())\n",
    "lookup"
   ]
  },
  {
   "cell_type": "code",
   "execution_count": 64,
   "metadata": {},
   "outputs": [
    {
     "name": "stderr",
     "output_type": "stream",
     "text": [
      "C:\\Users\\akhil.damri\\anaconda3\\lib\\site-packages\\pandas\\core\\indexing.py:965: SettingWithCopyWarning: \n",
      "A value is trying to be set on a copy of a slice from a DataFrame.\n",
      "Try using .loc[row_indexer,col_indexer] = value instead\n",
      "\n",
      "See the caveats in the documentation: https://pandas.pydata.org/pandas-docs/stable/user_guide/indexing.html#returning-a-view-versus-a-copy\n",
      "  self.obj[item] = s\n"
     ]
    }
   ],
   "source": [
    "res_train.loc[:,'center_type']=res_train['center_type'].map(lookup)\n"
   ]
  },
  {
   "cell_type": "code",
   "execution_count": 65,
   "metadata": {},
   "outputs": [
    {
     "data": {
      "text/plain": [
       "center_type\n",
       "TYPE_A    265.492956\n",
       "TYPE_B    320.991068\n",
       "TYPE_C    208.512473\n",
       "Name: num_orders, dtype: float64"
      ]
     },
     "execution_count": 65,
     "metadata": {},
     "output_type": "execute_result"
    }
   ],
   "source": [
    "lookup"
   ]
  },
  {
   "cell_type": "markdown",
   "metadata": {},
   "source": [
    "# Mapping the test data with lookup table "
   ]
  },
  {
   "cell_type": "code",
   "execution_count": 66,
   "metadata": {},
   "outputs": [],
   "source": [
    "res_test.loc[:,'center_type']=res_test['center_type'].map(lookup)\n"
   ]
  },
  {
   "cell_type": "code",
   "execution_count": null,
   "metadata": {},
   "outputs": [],
   "source": []
  },
  {
   "cell_type": "code",
   "execution_count": 67,
   "metadata": {},
   "outputs": [
    {
     "data": {
      "text/html": [
       "<div>\n",
       "<style scoped>\n",
       "    .dataframe tbody tr th:only-of-type {\n",
       "        vertical-align: middle;\n",
       "    }\n",
       "\n",
       "    .dataframe tbody tr th {\n",
       "        vertical-align: top;\n",
       "    }\n",
       "\n",
       "    .dataframe thead th {\n",
       "        text-align: right;\n",
       "    }\n",
       "</style>\n",
       "<table border=\"1\" class=\"dataframe\">\n",
       "  <thead>\n",
       "    <tr style=\"text-align: right;\">\n",
       "      <th></th>\n",
       "      <th>week</th>\n",
       "      <th>center_id</th>\n",
       "      <th>meal_id</th>\n",
       "      <th>checkout_price</th>\n",
       "      <th>base_price</th>\n",
       "      <th>emailer_for_promotion</th>\n",
       "      <th>homepage_featured</th>\n",
       "      <th>num_orders</th>\n",
       "      <th>city_code</th>\n",
       "      <th>region_code</th>\n",
       "      <th>center_type</th>\n",
       "      <th>op_area</th>\n",
       "      <th>discount</th>\n",
       "      <th>discount_amt</th>\n",
       "      <th>item</th>\n",
       "    </tr>\n",
       "  </thead>\n",
       "  <tbody>\n",
       "    <tr>\n",
       "      <th>412100</th>\n",
       "      <td>132</td>\n",
       "      <td>102</td>\n",
       "      <td>1878</td>\n",
       "      <td>320.13</td>\n",
       "      <td>319.13</td>\n",
       "      <td>0</td>\n",
       "      <td>0</td>\n",
       "      <td>26</td>\n",
       "      <td>593</td>\n",
       "      <td>77</td>\n",
       "      <td>265.492956</td>\n",
       "      <td>2.8</td>\n",
       "      <td>0.0</td>\n",
       "      <td>-1.00</td>\n",
       "      <td>Starters_Thai</td>\n",
       "    </tr>\n",
       "    <tr>\n",
       "      <th>48810</th>\n",
       "      <td>132</td>\n",
       "      <td>52</td>\n",
       "      <td>2492</td>\n",
       "      <td>272.57</td>\n",
       "      <td>387.03</td>\n",
       "      <td>0</td>\n",
       "      <td>1</td>\n",
       "      <td>418</td>\n",
       "      <td>685</td>\n",
       "      <td>56</td>\n",
       "      <td>320.991068</td>\n",
       "      <td>5.6</td>\n",
       "      <td>1.0</td>\n",
       "      <td>114.46</td>\n",
       "      <td>Desert_Indian</td>\n",
       "    </tr>\n",
       "    <tr>\n",
       "      <th>252090</th>\n",
       "      <td>132</td>\n",
       "      <td>81</td>\n",
       "      <td>2490</td>\n",
       "      <td>276.51</td>\n",
       "      <td>275.51</td>\n",
       "      <td>0</td>\n",
       "      <td>0</td>\n",
       "      <td>271</td>\n",
       "      <td>526</td>\n",
       "      <td>34</td>\n",
       "      <td>265.492956</td>\n",
       "      <td>4.0</td>\n",
       "      <td>0.0</td>\n",
       "      <td>-1.00</td>\n",
       "      <td>Salad_Italian</td>\n",
       "    </tr>\n",
       "    <tr>\n",
       "      <th>159827</th>\n",
       "      <td>132</td>\n",
       "      <td>126</td>\n",
       "      <td>2707</td>\n",
       "      <td>238.65</td>\n",
       "      <td>238.65</td>\n",
       "      <td>0</td>\n",
       "      <td>0</td>\n",
       "      <td>716</td>\n",
       "      <td>577</td>\n",
       "      <td>56</td>\n",
       "      <td>265.492956</td>\n",
       "      <td>2.7</td>\n",
       "      <td>0.0</td>\n",
       "      <td>0.00</td>\n",
       "      <td>Beverages_Italian</td>\n",
       "    </tr>\n",
       "    <tr>\n",
       "      <th>411865</th>\n",
       "      <td>132</td>\n",
       "      <td>102</td>\n",
       "      <td>2704</td>\n",
       "      <td>249.29</td>\n",
       "      <td>320.13</td>\n",
       "      <td>0</td>\n",
       "      <td>0</td>\n",
       "      <td>107</td>\n",
       "      <td>593</td>\n",
       "      <td>77</td>\n",
       "      <td>265.492956</td>\n",
       "      <td>2.8</td>\n",
       "      <td>1.0</td>\n",
       "      <td>70.84</td>\n",
       "      <td>Other Snacks_Thai</td>\n",
       "    </tr>\n",
       "    <tr>\n",
       "      <th>...</th>\n",
       "      <td>...</td>\n",
       "      <td>...</td>\n",
       "      <td>...</td>\n",
       "      <td>...</td>\n",
       "      <td>...</td>\n",
       "      <td>...</td>\n",
       "      <td>...</td>\n",
       "      <td>...</td>\n",
       "      <td>...</td>\n",
       "      <td>...</td>\n",
       "      <td>...</td>\n",
       "      <td>...</td>\n",
       "      <td>...</td>\n",
       "      <td>...</td>\n",
       "      <td>...</td>\n",
       "    </tr>\n",
       "    <tr>\n",
       "      <th>287668</th>\n",
       "      <td>145</td>\n",
       "      <td>145</td>\n",
       "      <td>1778</td>\n",
       "      <td>160.05</td>\n",
       "      <td>160.08</td>\n",
       "      <td>1</td>\n",
       "      <td>0</td>\n",
       "      <td>378</td>\n",
       "      <td>620</td>\n",
       "      <td>77</td>\n",
       "      <td>265.492956</td>\n",
       "      <td>3.9</td>\n",
       "      <td>1.0</td>\n",
       "      <td>0.03</td>\n",
       "      <td>Beverages_Italian</td>\n",
       "    </tr>\n",
       "    <tr>\n",
       "      <th>350483</th>\n",
       "      <td>145</td>\n",
       "      <td>59</td>\n",
       "      <td>1445</td>\n",
       "      <td>727.53</td>\n",
       "      <td>726.53</td>\n",
       "      <td>0</td>\n",
       "      <td>1</td>\n",
       "      <td>40</td>\n",
       "      <td>456</td>\n",
       "      <td>56</td>\n",
       "      <td>265.492956</td>\n",
       "      <td>4.2</td>\n",
       "      <td>0.0</td>\n",
       "      <td>-1.00</td>\n",
       "      <td>Seafood_Continental</td>\n",
       "    </tr>\n",
       "    <tr>\n",
       "      <th>262083</th>\n",
       "      <td>145</td>\n",
       "      <td>73</td>\n",
       "      <td>1770</td>\n",
       "      <td>440.38</td>\n",
       "      <td>442.38</td>\n",
       "      <td>0</td>\n",
       "      <td>0</td>\n",
       "      <td>55</td>\n",
       "      <td>576</td>\n",
       "      <td>34</td>\n",
       "      <td>265.492956</td>\n",
       "      <td>4.0</td>\n",
       "      <td>1.0</td>\n",
       "      <td>2.00</td>\n",
       "      <td>Biryani_Indian</td>\n",
       "    </tr>\n",
       "    <tr>\n",
       "      <th>448468</th>\n",
       "      <td>145</td>\n",
       "      <td>51</td>\n",
       "      <td>2304</td>\n",
       "      <td>484.03</td>\n",
       "      <td>485.03</td>\n",
       "      <td>0</td>\n",
       "      <td>0</td>\n",
       "      <td>80</td>\n",
       "      <td>638</td>\n",
       "      <td>56</td>\n",
       "      <td>265.492956</td>\n",
       "      <td>7.0</td>\n",
       "      <td>1.0</td>\n",
       "      <td>1.00</td>\n",
       "      <td>Desert_Indian</td>\n",
       "    </tr>\n",
       "    <tr>\n",
       "      <th>456547</th>\n",
       "      <td>145</td>\n",
       "      <td>61</td>\n",
       "      <td>2104</td>\n",
       "      <td>581.03</td>\n",
       "      <td>582.03</td>\n",
       "      <td>0</td>\n",
       "      <td>0</td>\n",
       "      <td>27</td>\n",
       "      <td>473</td>\n",
       "      <td>77</td>\n",
       "      <td>265.492956</td>\n",
       "      <td>4.5</td>\n",
       "      <td>1.0</td>\n",
       "      <td>1.00</td>\n",
       "      <td>Fish_Continental</td>\n",
       "    </tr>\n",
       "  </tbody>\n",
       "</table>\n",
       "<p>46012 rows × 15 columns</p>\n",
       "</div>"
      ],
      "text/plain": [
       "        week  center_id  meal_id  checkout_price  base_price  \\\n",
       "412100   132        102     1878          320.13      319.13   \n",
       "48810    132         52     2492          272.57      387.03   \n",
       "252090   132         81     2490          276.51      275.51   \n",
       "159827   132        126     2707          238.65      238.65   \n",
       "411865   132        102     2704          249.29      320.13   \n",
       "...      ...        ...      ...             ...         ...   \n",
       "287668   145        145     1778          160.05      160.08   \n",
       "350483   145         59     1445          727.53      726.53   \n",
       "262083   145         73     1770          440.38      442.38   \n",
       "448468   145         51     2304          484.03      485.03   \n",
       "456547   145         61     2104          581.03      582.03   \n",
       "\n",
       "        emailer_for_promotion  homepage_featured  num_orders  city_code  \\\n",
       "412100                      0                  0          26        593   \n",
       "48810                       0                  1         418        685   \n",
       "252090                      0                  0         271        526   \n",
       "159827                      0                  0         716        577   \n",
       "411865                      0                  0         107        593   \n",
       "...                       ...                ...         ...        ...   \n",
       "287668                      1                  0         378        620   \n",
       "350483                      0                  1          40        456   \n",
       "262083                      0                  0          55        576   \n",
       "448468                      0                  0          80        638   \n",
       "456547                      0                  0          27        473   \n",
       "\n",
       "        region_code  center_type  op_area  discount  discount_amt  \\\n",
       "412100           77   265.492956      2.8       0.0         -1.00   \n",
       "48810            56   320.991068      5.6       1.0        114.46   \n",
       "252090           34   265.492956      4.0       0.0         -1.00   \n",
       "159827           56   265.492956      2.7       0.0          0.00   \n",
       "411865           77   265.492956      2.8       1.0         70.84   \n",
       "...             ...          ...      ...       ...           ...   \n",
       "287668           77   265.492956      3.9       1.0          0.03   \n",
       "350483           56   265.492956      4.2       0.0         -1.00   \n",
       "262083           34   265.492956      4.0       1.0          2.00   \n",
       "448468           56   265.492956      7.0       1.0          1.00   \n",
       "456547           77   265.492956      4.5       1.0          1.00   \n",
       "\n",
       "                       item  \n",
       "412100        Starters_Thai  \n",
       "48810         Desert_Indian  \n",
       "252090        Salad_Italian  \n",
       "159827    Beverages_Italian  \n",
       "411865    Other Snacks_Thai  \n",
       "...                     ...  \n",
       "287668    Beverages_Italian  \n",
       "350483  Seafood_Continental  \n",
       "262083       Biryani_Indian  \n",
       "448468        Desert_Indian  \n",
       "456547     Fish_Continental  \n",
       "\n",
       "[46012 rows x 15 columns]"
      ]
     },
     "execution_count": 67,
     "metadata": {},
     "output_type": "execute_result"
    }
   ],
   "source": [
    "res_test"
   ]
  },
  {
   "cell_type": "markdown",
   "metadata": {},
   "source": [
    "# Target Encoding The item Columns"
   ]
  },
  {
   "cell_type": "markdown",
   "metadata": {},
   "source": [
    "Encoding ITEM column with num_orders will replace the item with average number of order for each"
   ]
  },
  {
   "cell_type": "markdown",
   "metadata": {},
   "source": [
    "itemList=list(res_train.item.unique())"
   ]
  },
  {
   "cell_type": "markdown",
   "metadata": {},
   "source": [
    "for i in itemList:\n",
    "    li=res_train[res_train['item']==i]\n",
    "    encode=li.groupby('item').num_orders.mean()\n",
    "    \n",
    "    "
   ]
  },
  {
   "cell_type": "code",
   "execution_count": 68,
   "metadata": {},
   "outputs": [
    {
     "data": {
      "text/html": [
       "<div>\n",
       "<style scoped>\n",
       "    .dataframe tbody tr th:only-of-type {\n",
       "        vertical-align: middle;\n",
       "    }\n",
       "\n",
       "    .dataframe tbody tr th {\n",
       "        vertical-align: top;\n",
       "    }\n",
       "\n",
       "    .dataframe thead th {\n",
       "        text-align: right;\n",
       "    }\n",
       "</style>\n",
       "<table border=\"1\" class=\"dataframe\">\n",
       "  <thead>\n",
       "    <tr style=\"text-align: right;\">\n",
       "      <th></th>\n",
       "      <th>week</th>\n",
       "      <th>center_id</th>\n",
       "      <th>meal_id</th>\n",
       "      <th>checkout_price</th>\n",
       "      <th>base_price</th>\n",
       "      <th>emailer_for_promotion</th>\n",
       "      <th>homepage_featured</th>\n",
       "      <th>num_orders</th>\n",
       "      <th>city_code</th>\n",
       "      <th>region_code</th>\n",
       "      <th>center_type</th>\n",
       "      <th>op_area</th>\n",
       "      <th>discount</th>\n",
       "      <th>discount_amt</th>\n",
       "      <th>item</th>\n",
       "    </tr>\n",
       "  </thead>\n",
       "  <tbody>\n",
       "    <tr>\n",
       "      <th>0</th>\n",
       "      <td>1</td>\n",
       "      <td>55</td>\n",
       "      <td>1885</td>\n",
       "      <td>136.83</td>\n",
       "      <td>152.29</td>\n",
       "      <td>0</td>\n",
       "      <td>0</td>\n",
       "      <td>177</td>\n",
       "      <td>647</td>\n",
       "      <td>56</td>\n",
       "      <td>208.512473</td>\n",
       "      <td>2.0</td>\n",
       "      <td>1.0</td>\n",
       "      <td>15.46</td>\n",
       "      <td>Beverages_Thai</td>\n",
       "    </tr>\n",
       "    <tr>\n",
       "      <th>284804</th>\n",
       "      <td>1</td>\n",
       "      <td>113</td>\n",
       "      <td>2444</td>\n",
       "      <td>658.63</td>\n",
       "      <td>660.63</td>\n",
       "      <td>0</td>\n",
       "      <td>0</td>\n",
       "      <td>14</td>\n",
       "      <td>680</td>\n",
       "      <td>77</td>\n",
       "      <td>208.512473</td>\n",
       "      <td>4.0</td>\n",
       "      <td>1.0</td>\n",
       "      <td>2.00</td>\n",
       "      <td>Seafood_Continental</td>\n",
       "    </tr>\n",
       "    <tr>\n",
       "      <th>285005</th>\n",
       "      <td>1</td>\n",
       "      <td>113</td>\n",
       "      <td>1525</td>\n",
       "      <td>244.50</td>\n",
       "      <td>282.33</td>\n",
       "      <td>0</td>\n",
       "      <td>0</td>\n",
       "      <td>14</td>\n",
       "      <td>680</td>\n",
       "      <td>77</td>\n",
       "      <td>208.512473</td>\n",
       "      <td>4.0</td>\n",
       "      <td>1.0</td>\n",
       "      <td>37.83</td>\n",
       "      <td>Other Snacks_Thai</td>\n",
       "    </tr>\n",
       "    <tr>\n",
       "      <th>285106</th>\n",
       "      <td>1</td>\n",
       "      <td>113</td>\n",
       "      <td>2704</td>\n",
       "      <td>242.50</td>\n",
       "      <td>280.33</td>\n",
       "      <td>0</td>\n",
       "      <td>0</td>\n",
       "      <td>121</td>\n",
       "      <td>680</td>\n",
       "      <td>77</td>\n",
       "      <td>208.512473</td>\n",
       "      <td>4.0</td>\n",
       "      <td>1.0</td>\n",
       "      <td>37.83</td>\n",
       "      <td>Other Snacks_Thai</td>\n",
       "    </tr>\n",
       "    <tr>\n",
       "      <th>43263</th>\n",
       "      <td>1</td>\n",
       "      <td>52</td>\n",
       "      <td>1248</td>\n",
       "      <td>247.35</td>\n",
       "      <td>247.35</td>\n",
       "      <td>0</td>\n",
       "      <td>0</td>\n",
       "      <td>81</td>\n",
       "      <td>685</td>\n",
       "      <td>56</td>\n",
       "      <td>320.991068</td>\n",
       "      <td>5.6</td>\n",
       "      <td>0.0</td>\n",
       "      <td>0.00</td>\n",
       "      <td>Beverages_Indian</td>\n",
       "    </tr>\n",
       "    <tr>\n",
       "      <th>...</th>\n",
       "      <td>...</td>\n",
       "      <td>...</td>\n",
       "      <td>...</td>\n",
       "      <td>...</td>\n",
       "      <td>...</td>\n",
       "      <td>...</td>\n",
       "      <td>...</td>\n",
       "      <td>...</td>\n",
       "      <td>...</td>\n",
       "      <td>...</td>\n",
       "      <td>...</td>\n",
       "      <td>...</td>\n",
       "      <td>...</td>\n",
       "      <td>...</td>\n",
       "      <td>...</td>\n",
       "    </tr>\n",
       "    <tr>\n",
       "      <th>6150</th>\n",
       "      <td>131</td>\n",
       "      <td>24</td>\n",
       "      <td>1207</td>\n",
       "      <td>334.65</td>\n",
       "      <td>334.65</td>\n",
       "      <td>0</td>\n",
       "      <td>0</td>\n",
       "      <td>337</td>\n",
       "      <td>614</td>\n",
       "      <td>85</td>\n",
       "      <td>320.991068</td>\n",
       "      <td>3.6</td>\n",
       "      <td>0.0</td>\n",
       "      <td>0.00</td>\n",
       "      <td>Beverages_Continental</td>\n",
       "    </tr>\n",
       "    <tr>\n",
       "      <th>6624</th>\n",
       "      <td>131</td>\n",
       "      <td>24</td>\n",
       "      <td>1727</td>\n",
       "      <td>466.63</td>\n",
       "      <td>465.63</td>\n",
       "      <td>0</td>\n",
       "      <td>0</td>\n",
       "      <td>512</td>\n",
       "      <td>614</td>\n",
       "      <td>85</td>\n",
       "      <td>320.991068</td>\n",
       "      <td>3.6</td>\n",
       "      <td>0.0</td>\n",
       "      <td>-1.00</td>\n",
       "      <td>Rice Bowl_Indian</td>\n",
       "    </tr>\n",
       "    <tr>\n",
       "      <th>441465</th>\n",
       "      <td>131</td>\n",
       "      <td>68</td>\n",
       "      <td>1445</td>\n",
       "      <td>767.33</td>\n",
       "      <td>766.33</td>\n",
       "      <td>0</td>\n",
       "      <td>0</td>\n",
       "      <td>54</td>\n",
       "      <td>676</td>\n",
       "      <td>34</td>\n",
       "      <td>320.991068</td>\n",
       "      <td>4.1</td>\n",
       "      <td>0.0</td>\n",
       "      <td>-1.00</td>\n",
       "      <td>Seafood_Continental</td>\n",
       "    </tr>\n",
       "    <tr>\n",
       "      <th>40695</th>\n",
       "      <td>131</td>\n",
       "      <td>109</td>\n",
       "      <td>2304</td>\n",
       "      <td>468.51</td>\n",
       "      <td>470.51</td>\n",
       "      <td>0</td>\n",
       "      <td>0</td>\n",
       "      <td>68</td>\n",
       "      <td>599</td>\n",
       "      <td>56</td>\n",
       "      <td>265.492956</td>\n",
       "      <td>3.6</td>\n",
       "      <td>1.0</td>\n",
       "      <td>2.00</td>\n",
       "      <td>Desert_Indian</td>\n",
       "    </tr>\n",
       "    <tr>\n",
       "      <th>49081</th>\n",
       "      <td>131</td>\n",
       "      <td>52</td>\n",
       "      <td>2664</td>\n",
       "      <td>304.64</td>\n",
       "      <td>304.64</td>\n",
       "      <td>0</td>\n",
       "      <td>0</td>\n",
       "      <td>474</td>\n",
       "      <td>685</td>\n",
       "      <td>56</td>\n",
       "      <td>320.991068</td>\n",
       "      <td>5.6</td>\n",
       "      <td>0.0</td>\n",
       "      <td>0.00</td>\n",
       "      <td>Salad_Italian</td>\n",
       "    </tr>\n",
       "  </tbody>\n",
       "</table>\n",
       "<p>410536 rows × 15 columns</p>\n",
       "</div>"
      ],
      "text/plain": [
       "        week  center_id  meal_id  checkout_price  base_price  \\\n",
       "0          1         55     1885          136.83      152.29   \n",
       "284804     1        113     2444          658.63      660.63   \n",
       "285005     1        113     1525          244.50      282.33   \n",
       "285106     1        113     2704          242.50      280.33   \n",
       "43263      1         52     1248          247.35      247.35   \n",
       "...      ...        ...      ...             ...         ...   \n",
       "6150     131         24     1207          334.65      334.65   \n",
       "6624     131         24     1727          466.63      465.63   \n",
       "441465   131         68     1445          767.33      766.33   \n",
       "40695    131        109     2304          468.51      470.51   \n",
       "49081    131         52     2664          304.64      304.64   \n",
       "\n",
       "        emailer_for_promotion  homepage_featured  num_orders  city_code  \\\n",
       "0                           0                  0         177        647   \n",
       "284804                      0                  0          14        680   \n",
       "285005                      0                  0          14        680   \n",
       "285106                      0                  0         121        680   \n",
       "43263                       0                  0          81        685   \n",
       "...                       ...                ...         ...        ...   \n",
       "6150                        0                  0         337        614   \n",
       "6624                        0                  0         512        614   \n",
       "441465                      0                  0          54        676   \n",
       "40695                       0                  0          68        599   \n",
       "49081                       0                  0         474        685   \n",
       "\n",
       "        region_code  center_type  op_area  discount  discount_amt  \\\n",
       "0                56   208.512473      2.0       1.0         15.46   \n",
       "284804           77   208.512473      4.0       1.0          2.00   \n",
       "285005           77   208.512473      4.0       1.0         37.83   \n",
       "285106           77   208.512473      4.0       1.0         37.83   \n",
       "43263            56   320.991068      5.6       0.0          0.00   \n",
       "...             ...          ...      ...       ...           ...   \n",
       "6150             85   320.991068      3.6       0.0          0.00   \n",
       "6624             85   320.991068      3.6       0.0         -1.00   \n",
       "441465           34   320.991068      4.1       0.0         -1.00   \n",
       "40695            56   265.492956      3.6       1.0          2.00   \n",
       "49081            56   320.991068      5.6       0.0          0.00   \n",
       "\n",
       "                         item  \n",
       "0              Beverages_Thai  \n",
       "284804    Seafood_Continental  \n",
       "285005      Other Snacks_Thai  \n",
       "285106      Other Snacks_Thai  \n",
       "43263        Beverages_Indian  \n",
       "...                       ...  \n",
       "6150    Beverages_Continental  \n",
       "6624         Rice Bowl_Indian  \n",
       "441465    Seafood_Continental  \n",
       "40695           Desert_Indian  \n",
       "49081           Salad_Italian  \n",
       "\n",
       "[410536 rows x 15 columns]"
      ]
     },
     "execution_count": 68,
     "metadata": {},
     "output_type": "execute_result"
    }
   ],
   "source": [
    "res_train"
   ]
  },
  {
   "cell_type": "code",
   "execution_count": 69,
   "metadata": {},
   "outputs": [
    {
     "data": {
      "text/plain": [
       "item\n",
       "Beverages_Continental    187.544941\n",
       "Beverages_Indian          78.743283\n",
       "Beverages_Italian        417.052537\n",
       "Beverages_Thai           567.435812\n",
       "Biryani_Indian            30.377895\n",
       "Desert_Indian             64.882145\n",
       "Extras_Thai              297.124682\n",
       "Fish_Continental          81.600654\n",
       "Other Snacks_Thai        163.447175\n",
       "Pasta_Italian             59.342252\n",
       "Pizza_Continental        220.003578\n",
       "Rice Bowl_Indian         627.252867\n",
       "Salad_Italian            394.232813\n",
       "Sandwich_Italian         534.568976\n",
       "Seafood_Continental      102.777650\n",
       "Soup_Thai                 78.721555\n",
       "Starters_Thai            160.916568\n",
       "Name: num_orders, dtype: float64"
      ]
     },
     "execution_count": 69,
     "metadata": {},
     "output_type": "execute_result"
    }
   ],
   "source": [
    "encode=res_train.groupby('item').num_orders.mean()\n",
    "encode"
   ]
  },
  {
   "cell_type": "code",
   "execution_count": 70,
   "metadata": {},
   "outputs": [
    {
     "name": "stderr",
     "output_type": "stream",
     "text": [
      "C:\\Users\\akhil.damri\\anaconda3\\lib\\site-packages\\pandas\\core\\indexing.py:965: SettingWithCopyWarning: \n",
      "A value is trying to be set on a copy of a slice from a DataFrame.\n",
      "Try using .loc[row_indexer,col_indexer] = value instead\n",
      "\n",
      "See the caveats in the documentation: https://pandas.pydata.org/pandas-docs/stable/user_guide/indexing.html#returning-a-view-versus-a-copy\n",
      "  self.obj[item] = s\n"
     ]
    }
   ],
   "source": [
    "res_train.loc[:,'item']=res_train['item'].map(res_train.groupby('item').num_orders.mean())"
   ]
  },
  {
   "cell_type": "code",
   "execution_count": null,
   "metadata": {},
   "outputs": [],
   "source": []
  },
  {
   "cell_type": "markdown",
   "metadata": {},
   "source": [
    "# Mapping encode lookup table with test set"
   ]
  },
  {
   "cell_type": "code",
   "execution_count": 71,
   "metadata": {},
   "outputs": [],
   "source": [
    "res_test.loc[:,'item']=res_test['item'].map(encode)"
   ]
  },
  {
   "cell_type": "code",
   "execution_count": 72,
   "metadata": {},
   "outputs": [],
   "source": [
    "res_test = res_test.apply(pd.to_numeric, errors='coerce')\n",
    "res_train = res_train.apply(pd.to_numeric, errors='coerce')"
   ]
  },
  {
   "cell_type": "code",
   "execution_count": 73,
   "metadata": {},
   "outputs": [
    {
     "data": {
      "text/plain": [
       "Index(['week', 'center_id', 'meal_id', 'checkout_price', 'base_price',\n",
       "       'emailer_for_promotion', 'homepage_featured', 'num_orders', 'city_code',\n",
       "       'region_code', 'center_type', 'op_area', 'discount', 'discount_amt',\n",
       "       'item'],\n",
       "      dtype='object')"
      ]
     },
     "execution_count": 73,
     "metadata": {},
     "output_type": "execute_result"
    }
   ],
   "source": [
    "res_train.columns"
   ]
  },
  {
   "cell_type": "code",
   "execution_count": 74,
   "metadata": {},
   "outputs": [
    {
     "data": {
      "text/plain": [
       "0"
      ]
     },
     "execution_count": 74,
     "metadata": {},
     "output_type": "execute_result"
    }
   ],
   "source": [
    "res.meal_id.isnull().sum()"
   ]
  },
  {
   "cell_type": "markdown",
   "metadata": {},
   "source": [
    "# meal_id and center_id are the columns which were used to merge table ."
   ]
  },
  {
   "cell_type": "markdown",
   "metadata": {},
   "source": [
    "# meal_id and center_id are type of categorical variables of particular meal and center respectively "
   ]
  },
  {
   "cell_type": "code",
   "execution_count": 75,
   "metadata": {},
   "outputs": [
    {
     "name": "stdout",
     "output_type": "stream",
     "text": [
      "Number of unique meals are : 51\n",
      "Number of unique centers are : 77\n"
     ]
    }
   ],
   "source": [
    "print(\"Number of unique meals are :\",res.meal_id.nunique())\n",
    "print(\"Number of unique centers are :\",res.center_id.nunique())"
   ]
  },
  {
   "cell_type": "code",
   "execution_count": null,
   "metadata": {},
   "outputs": [],
   "source": []
  },
  {
   "cell_type": "markdown",
   "metadata": {},
   "source": [
    "# Target Encoding meal_id and center_id"
   ]
  },
  {
   "cell_type": "code",
   "execution_count": 76,
   "metadata": {},
   "outputs": [],
   "source": [
    "tencode=res_train.groupby('meal_id').num_orders.mean()\n"
   ]
  },
  {
   "cell_type": "code",
   "execution_count": 77,
   "metadata": {},
   "outputs": [],
   "source": [
    "res_train.loc[:,'meal_id']=res_train['meal_id'].map(tencode)"
   ]
  },
  {
   "cell_type": "code",
   "execution_count": 78,
   "metadata": {},
   "outputs": [],
   "source": [
    "res_test.loc[:,'meal_id']=res_test['meal_id'].map(tencode)"
   ]
  },
  {
   "cell_type": "markdown",
   "metadata": {},
   "source": [
    "# Target Encoding center_id"
   ]
  },
  {
   "cell_type": "code",
   "execution_count": 79,
   "metadata": {},
   "outputs": [],
   "source": [
    "ncode=res_train.groupby('center_id').num_orders.mean()\n"
   ]
  },
  {
   "cell_type": "code",
   "execution_count": 80,
   "metadata": {},
   "outputs": [],
   "source": [
    "res_train.loc[:,'center_id']=res_train['center_id'].map(ncode)"
   ]
  },
  {
   "cell_type": "code",
   "execution_count": 81,
   "metadata": {},
   "outputs": [],
   "source": [
    "res_test.loc[:,'center_id']=res_test['center_id'].map(ncode)"
   ]
  },
  {
   "cell_type": "code",
   "execution_count": 82,
   "metadata": {},
   "outputs": [
    {
     "data": {
      "text/html": [
       "<div>\n",
       "<style scoped>\n",
       "    .dataframe tbody tr th:only-of-type {\n",
       "        vertical-align: middle;\n",
       "    }\n",
       "\n",
       "    .dataframe tbody tr th {\n",
       "        vertical-align: top;\n",
       "    }\n",
       "\n",
       "    .dataframe thead th {\n",
       "        text-align: right;\n",
       "    }\n",
       "</style>\n",
       "<table border=\"1\" class=\"dataframe\">\n",
       "  <thead>\n",
       "    <tr style=\"text-align: right;\">\n",
       "      <th></th>\n",
       "      <th>week</th>\n",
       "      <th>center_id</th>\n",
       "      <th>meal_id</th>\n",
       "      <th>checkout_price</th>\n",
       "      <th>base_price</th>\n",
       "      <th>emailer_for_promotion</th>\n",
       "      <th>homepage_featured</th>\n",
       "      <th>num_orders</th>\n",
       "      <th>city_code</th>\n",
       "      <th>region_code</th>\n",
       "      <th>center_type</th>\n",
       "      <th>op_area</th>\n",
       "      <th>discount</th>\n",
       "      <th>discount_amt</th>\n",
       "      <th>item</th>\n",
       "    </tr>\n",
       "  </thead>\n",
       "  <tbody>\n",
       "    <tr>\n",
       "      <th>412100</th>\n",
       "      <td>132</td>\n",
       "      <td>192.739258</td>\n",
       "      <td>152.193052</td>\n",
       "      <td>320.13</td>\n",
       "      <td>319.13</td>\n",
       "      <td>0</td>\n",
       "      <td>0</td>\n",
       "      <td>26</td>\n",
       "      <td>593</td>\n",
       "      <td>77</td>\n",
       "      <td>265.492956</td>\n",
       "      <td>2.8</td>\n",
       "      <td>0.0</td>\n",
       "      <td>-1.00</td>\n",
       "      <td>160.916568</td>\n",
       "    </tr>\n",
       "    <tr>\n",
       "      <th>48810</th>\n",
       "      <td>132</td>\n",
       "      <td>446.205153</td>\n",
       "      <td>55.721385</td>\n",
       "      <td>272.57</td>\n",
       "      <td>387.03</td>\n",
       "      <td>0</td>\n",
       "      <td>1</td>\n",
       "      <td>418</td>\n",
       "      <td>685</td>\n",
       "      <td>56</td>\n",
       "      <td>320.991068</td>\n",
       "      <td>5.6</td>\n",
       "      <td>1.0</td>\n",
       "      <td>114.46</td>\n",
       "      <td>64.882145</td>\n",
       "    </tr>\n",
       "    <tr>\n",
       "      <th>252090</th>\n",
       "      <td>132</td>\n",
       "      <td>194.394563</td>\n",
       "      <td>418.330640</td>\n",
       "      <td>276.51</td>\n",
       "      <td>275.51</td>\n",
       "      <td>0</td>\n",
       "      <td>0</td>\n",
       "      <td>271</td>\n",
       "      <td>526</td>\n",
       "      <td>34</td>\n",
       "      <td>265.492956</td>\n",
       "      <td>4.0</td>\n",
       "      <td>0.0</td>\n",
       "      <td>-1.00</td>\n",
       "      <td>394.232813</td>\n",
       "    </tr>\n",
       "    <tr>\n",
       "      <th>159827</th>\n",
       "      <td>132</td>\n",
       "      <td>293.465893</td>\n",
       "      <td>540.477551</td>\n",
       "      <td>238.65</td>\n",
       "      <td>238.65</td>\n",
       "      <td>0</td>\n",
       "      <td>0</td>\n",
       "      <td>716</td>\n",
       "      <td>577</td>\n",
       "      <td>56</td>\n",
       "      <td>265.492956</td>\n",
       "      <td>2.7</td>\n",
       "      <td>0.0</td>\n",
       "      <td>0.00</td>\n",
       "      <td>417.052537</td>\n",
       "    </tr>\n",
       "    <tr>\n",
       "      <th>411865</th>\n",
       "      <td>132</td>\n",
       "      <td>192.739258</td>\n",
       "      <td>164.307614</td>\n",
       "      <td>249.29</td>\n",
       "      <td>320.13</td>\n",
       "      <td>0</td>\n",
       "      <td>0</td>\n",
       "      <td>107</td>\n",
       "      <td>593</td>\n",
       "      <td>77</td>\n",
       "      <td>265.492956</td>\n",
       "      <td>2.8</td>\n",
       "      <td>1.0</td>\n",
       "      <td>70.84</td>\n",
       "      <td>163.447175</td>\n",
       "    </tr>\n",
       "    <tr>\n",
       "      <th>...</th>\n",
       "      <td>...</td>\n",
       "      <td>...</td>\n",
       "      <td>...</td>\n",
       "      <td>...</td>\n",
       "      <td>...</td>\n",
       "      <td>...</td>\n",
       "      <td>...</td>\n",
       "      <td>...</td>\n",
       "      <td>...</td>\n",
       "      <td>...</td>\n",
       "      <td>...</td>\n",
       "      <td>...</td>\n",
       "      <td>...</td>\n",
       "      <td>...</td>\n",
       "      <td>...</td>\n",
       "    </tr>\n",
       "    <tr>\n",
       "      <th>287668</th>\n",
       "      <td>145</td>\n",
       "      <td>260.646079</td>\n",
       "      <td>289.584113</td>\n",
       "      <td>160.05</td>\n",
       "      <td>160.08</td>\n",
       "      <td>1</td>\n",
       "      <td>0</td>\n",
       "      <td>378</td>\n",
       "      <td>620</td>\n",
       "      <td>77</td>\n",
       "      <td>265.492956</td>\n",
       "      <td>3.9</td>\n",
       "      <td>1.0</td>\n",
       "      <td>0.03</td>\n",
       "      <td>417.052537</td>\n",
       "    </tr>\n",
       "    <tr>\n",
       "      <th>350483</th>\n",
       "      <td>145</td>\n",
       "      <td>291.047556</td>\n",
       "      <td>110.765681</td>\n",
       "      <td>727.53</td>\n",
       "      <td>726.53</td>\n",
       "      <td>0</td>\n",
       "      <td>1</td>\n",
       "      <td>40</td>\n",
       "      <td>456</td>\n",
       "      <td>56</td>\n",
       "      <td>265.492956</td>\n",
       "      <td>4.2</td>\n",
       "      <td>0.0</td>\n",
       "      <td>-1.00</td>\n",
       "      <td>102.777650</td>\n",
       "    </tr>\n",
       "    <tr>\n",
       "      <th>262083</th>\n",
       "      <td>145</td>\n",
       "      <td>196.318109</td>\n",
       "      <td>28.260529</td>\n",
       "      <td>440.38</td>\n",
       "      <td>442.38</td>\n",
       "      <td>0</td>\n",
       "      <td>0</td>\n",
       "      <td>55</td>\n",
       "      <td>576</td>\n",
       "      <td>34</td>\n",
       "      <td>265.492956</td>\n",
       "      <td>4.0</td>\n",
       "      <td>1.0</td>\n",
       "      <td>2.00</td>\n",
       "      <td>30.377895</td>\n",
       "    </tr>\n",
       "    <tr>\n",
       "      <th>448468</th>\n",
       "      <td>145</td>\n",
       "      <td>328.555969</td>\n",
       "      <td>62.809436</td>\n",
       "      <td>484.03</td>\n",
       "      <td>485.03</td>\n",
       "      <td>0</td>\n",
       "      <td>0</td>\n",
       "      <td>80</td>\n",
       "      <td>638</td>\n",
       "      <td>56</td>\n",
       "      <td>265.492956</td>\n",
       "      <td>7.0</td>\n",
       "      <td>1.0</td>\n",
       "      <td>1.00</td>\n",
       "      <td>64.882145</td>\n",
       "    </tr>\n",
       "    <tr>\n",
       "      <th>456547</th>\n",
       "      <td>145</td>\n",
       "      <td>209.105523</td>\n",
       "      <td>63.001096</td>\n",
       "      <td>581.03</td>\n",
       "      <td>582.03</td>\n",
       "      <td>0</td>\n",
       "      <td>0</td>\n",
       "      <td>27</td>\n",
       "      <td>473</td>\n",
       "      <td>77</td>\n",
       "      <td>265.492956</td>\n",
       "      <td>4.5</td>\n",
       "      <td>1.0</td>\n",
       "      <td>1.00</td>\n",
       "      <td>81.600654</td>\n",
       "    </tr>\n",
       "  </tbody>\n",
       "</table>\n",
       "<p>46012 rows × 15 columns</p>\n",
       "</div>"
      ],
      "text/plain": [
       "        week   center_id     meal_id  checkout_price  base_price  \\\n",
       "412100   132  192.739258  152.193052          320.13      319.13   \n",
       "48810    132  446.205153   55.721385          272.57      387.03   \n",
       "252090   132  194.394563  418.330640          276.51      275.51   \n",
       "159827   132  293.465893  540.477551          238.65      238.65   \n",
       "411865   132  192.739258  164.307614          249.29      320.13   \n",
       "...      ...         ...         ...             ...         ...   \n",
       "287668   145  260.646079  289.584113          160.05      160.08   \n",
       "350483   145  291.047556  110.765681          727.53      726.53   \n",
       "262083   145  196.318109   28.260529          440.38      442.38   \n",
       "448468   145  328.555969   62.809436          484.03      485.03   \n",
       "456547   145  209.105523   63.001096          581.03      582.03   \n",
       "\n",
       "        emailer_for_promotion  homepage_featured  num_orders  city_code  \\\n",
       "412100                      0                  0          26        593   \n",
       "48810                       0                  1         418        685   \n",
       "252090                      0                  0         271        526   \n",
       "159827                      0                  0         716        577   \n",
       "411865                      0                  0         107        593   \n",
       "...                       ...                ...         ...        ...   \n",
       "287668                      1                  0         378        620   \n",
       "350483                      0                  1          40        456   \n",
       "262083                      0                  0          55        576   \n",
       "448468                      0                  0          80        638   \n",
       "456547                      0                  0          27        473   \n",
       "\n",
       "        region_code  center_type  op_area  discount  discount_amt        item  \n",
       "412100           77   265.492956      2.8       0.0         -1.00  160.916568  \n",
       "48810            56   320.991068      5.6       1.0        114.46   64.882145  \n",
       "252090           34   265.492956      4.0       0.0         -1.00  394.232813  \n",
       "159827           56   265.492956      2.7       0.0          0.00  417.052537  \n",
       "411865           77   265.492956      2.8       1.0         70.84  163.447175  \n",
       "...             ...          ...      ...       ...           ...         ...  \n",
       "287668           77   265.492956      3.9       1.0          0.03  417.052537  \n",
       "350483           56   265.492956      4.2       0.0         -1.00  102.777650  \n",
       "262083           34   265.492956      4.0       1.0          2.00   30.377895  \n",
       "448468           56   265.492956      7.0       1.0          1.00   64.882145  \n",
       "456547           77   265.492956      4.5       1.0          1.00   81.600654  \n",
       "\n",
       "[46012 rows x 15 columns]"
      ]
     },
     "execution_count": 82,
     "metadata": {},
     "output_type": "execute_result"
    }
   ],
   "source": [
    "res_test"
   ]
  },
  {
   "cell_type": "code",
   "execution_count": null,
   "metadata": {},
   "outputs": [],
   "source": []
  },
  {
   "cell_type": "code",
   "execution_count": 83,
   "metadata": {},
   "outputs": [],
   "source": [
    "y_train= res_train.filter(['num_orders'], axis=1)"
   ]
  },
  {
   "cell_type": "code",
   "execution_count": 84,
   "metadata": {},
   "outputs": [],
   "source": [
    "X_train=res_train.drop(['num_orders'],axis=1)"
   ]
  },
  {
   "cell_type": "code",
   "execution_count": 85,
   "metadata": {},
   "outputs": [],
   "source": [
    "y_test= res_test.filter(['num_orders'], axis=1)"
   ]
  },
  {
   "cell_type": "code",
   "execution_count": 86,
   "metadata": {},
   "outputs": [],
   "source": [
    "X_test=res_test.drop(['num_orders'],axis=1)"
   ]
  },
  {
   "cell_type": "code",
   "execution_count": 87,
   "metadata": {},
   "outputs": [],
   "source": [
    "import xgboost as xgb"
   ]
  },
  {
   "cell_type": "markdown",
   "metadata": {},
   "source": [
    "#  GETTING FEATURE SCORE"
   ]
  },
  {
   "cell_type": "code",
   "execution_count": 88,
   "metadata": {},
   "outputs": [],
   "source": [
    "from sklearn.metrics import auc, accuracy_score, mean_squared_error,mean_absolute_error"
   ]
  },
  {
   "cell_type": "code",
   "execution_count": 89,
   "metadata": {},
   "outputs": [
    {
     "name": "stdout",
     "output_type": "stream",
     "text": [
      "[22:01:34] WARNING: src/objective/regression_obj.cu:152: reg:linear is now deprecated in favor of reg:squarederror.\n"
     ]
    },
    {
     "data": {
      "text/plain": [
       "XGBRegressor(base_score=0.5, booster='gbtree', colsample_bylevel=1,\n",
       "             colsample_bynode=1, colsample_bytree=1, gamma=0,\n",
       "             importance_type='gain', learning_rate=0.1, max_delta_step=0,\n",
       "             max_depth=3, min_child_weight=1, missing=None, n_estimators=100,\n",
       "             n_jobs=1, nthread=None, objective='reg:linear', random_state=42,\n",
       "             reg_alpha=0, reg_lambda=1, scale_pos_weight=1, seed=None,\n",
       "             silent=None, subsample=1, verbosity=1)"
      ]
     },
     "execution_count": 89,
     "metadata": {},
     "output_type": "execute_result"
    }
   ],
   "source": [
    "xgb_model = xgb.XGBRegressor(objective=\"reg:linear\", random_state=42)\n",
    "xgb_model.fit(X_train, y_train)"
   ]
  },
  {
   "cell_type": "markdown",
   "metadata": {},
   "source": [
    "# Plotting F-score (feature importance)"
   ]
  },
  {
   "cell_type": "code",
   "execution_count": 90,
   "metadata": {},
   "outputs": [
    {
     "data": {
      "text/plain": [
       "<matplotlib.axes._subplots.AxesSubplot at 0x1190c2e19c8>"
      ]
     },
     "execution_count": 90,
     "metadata": {},
     "output_type": "execute_result"
    },
    {
     "data": {
      "image/png": "[encoded data removed]",
      "text/plain": [
       "<Figure size 432x288 with 1 Axes>"
      ]
     },
     "metadata": {
      "needs_background": "light"
     },
     "output_type": "display_data"
    }
   ],
   "source": [
    "xgb.plot_importance(xgb_model)"
   ]
  },
  {
   "cell_type": "markdown",
   "metadata": {},
   "source": [
    "# discount_amt , base_price ,meal_id, center_id, checkout_price, item are most contributing features"
   ]
  },
  {
   "cell_type": "markdown",
   "metadata": {},
   "source": [
    "# Dropping columns with less f-score"
   ]
  },
  {
   "cell_type": "code",
   "execution_count": 91,
   "metadata": {},
   "outputs": [],
   "source": [
    "res_test.drop(['discount','city_code'],axis=1,inplace=True)\n",
    "res_train.drop(['discount','city_code'],axis=1,inplace=True)"
   ]
  },
  {
   "cell_type": "markdown",
   "metadata": {},
   "source": [
    "# Final Columns taken for training"
   ]
  },
  {
   "cell_type": "code",
   "execution_count": 92,
   "metadata": {},
   "outputs": [
    {
     "data": {
      "text/html": [
       "<div>\n",
       "<style scoped>\n",
       "    .dataframe tbody tr th:only-of-type {\n",
       "        vertical-align: middle;\n",
       "    }\n",
       "\n",
       "    .dataframe tbody tr th {\n",
       "        vertical-align: top;\n",
       "    }\n",
       "\n",
       "    .dataframe thead th {\n",
       "        text-align: right;\n",
       "    }\n",
       "</style>\n",
       "<table border=\"1\" class=\"dataframe\">\n",
       "  <thead>\n",
       "    <tr style=\"text-align: right;\">\n",
       "      <th></th>\n",
       "      <th>week</th>\n",
       "      <th>center_id</th>\n",
       "      <th>meal_id</th>\n",
       "      <th>checkout_price</th>\n",
       "      <th>base_price</th>\n",
       "      <th>emailer_for_promotion</th>\n",
       "      <th>homepage_featured</th>\n",
       "      <th>num_orders</th>\n",
       "      <th>region_code</th>\n",
       "      <th>center_type</th>\n",
       "      <th>op_area</th>\n",
       "      <th>discount_amt</th>\n",
       "      <th>item</th>\n",
       "    </tr>\n",
       "  </thead>\n",
       "  <tbody>\n",
       "    <tr>\n",
       "      <th>0</th>\n",
       "      <td>1</td>\n",
       "      <td>165.758152</td>\n",
       "      <td>756.355467</td>\n",
       "      <td>136.83</td>\n",
       "      <td>152.29</td>\n",
       "      <td>0</td>\n",
       "      <td>0</td>\n",
       "      <td>177</td>\n",
       "      <td>56</td>\n",
       "      <td>208.512473</td>\n",
       "      <td>2.0</td>\n",
       "      <td>15.46</td>\n",
       "      <td>567.435812</td>\n",
       "    </tr>\n",
       "    <tr>\n",
       "      <th>284804</th>\n",
       "      <td>1</td>\n",
       "      <td>248.658084</td>\n",
       "      <td>105.506476</td>\n",
       "      <td>658.63</td>\n",
       "      <td>660.63</td>\n",
       "      <td>0</td>\n",
       "      <td>0</td>\n",
       "      <td>14</td>\n",
       "      <td>77</td>\n",
       "      <td>208.512473</td>\n",
       "      <td>4.0</td>\n",
       "      <td>2.00</td>\n",
       "      <td>102.777650</td>\n",
       "    </tr>\n",
       "    <tr>\n",
       "      <th>285005</th>\n",
       "      <td>1</td>\n",
       "      <td>248.658084</td>\n",
       "      <td>184.997499</td>\n",
       "      <td>244.50</td>\n",
       "      <td>282.33</td>\n",
       "      <td>0</td>\n",
       "      <td>0</td>\n",
       "      <td>14</td>\n",
       "      <td>77</td>\n",
       "      <td>208.512473</td>\n",
       "      <td>4.0</td>\n",
       "      <td>37.83</td>\n",
       "      <td>163.447175</td>\n",
       "    </tr>\n",
       "    <tr>\n",
       "      <th>285106</th>\n",
       "      <td>1</td>\n",
       "      <td>248.658084</td>\n",
       "      <td>164.307614</td>\n",
       "      <td>242.50</td>\n",
       "      <td>280.33</td>\n",
       "      <td>0</td>\n",
       "      <td>0</td>\n",
       "      <td>121</td>\n",
       "      <td>77</td>\n",
       "      <td>208.512473</td>\n",
       "      <td>4.0</td>\n",
       "      <td>37.83</td>\n",
       "      <td>163.447175</td>\n",
       "    </tr>\n",
       "    <tr>\n",
       "      <th>43263</th>\n",
       "      <td>1</td>\n",
       "      <td>446.205153</td>\n",
       "      <td>87.420254</td>\n",
       "      <td>247.35</td>\n",
       "      <td>247.35</td>\n",
       "      <td>0</td>\n",
       "      <td>0</td>\n",
       "      <td>81</td>\n",
       "      <td>56</td>\n",
       "      <td>320.991068</td>\n",
       "      <td>5.6</td>\n",
       "      <td>0.00</td>\n",
       "      <td>78.743283</td>\n",
       "    </tr>\n",
       "  </tbody>\n",
       "</table>\n",
       "</div>"
      ],
      "text/plain": [
       "        week   center_id     meal_id  checkout_price  base_price  \\\n",
       "0          1  165.758152  756.355467          136.83      152.29   \n",
       "284804     1  248.658084  105.506476          658.63      660.63   \n",
       "285005     1  248.658084  184.997499          244.50      282.33   \n",
       "285106     1  248.658084  164.307614          242.50      280.33   \n",
       "43263      1  446.205153   87.420254          247.35      247.35   \n",
       "\n",
       "        emailer_for_promotion  homepage_featured  num_orders  region_code  \\\n",
       "0                           0                  0         177           56   \n",
       "284804                      0                  0          14           77   \n",
       "285005                      0                  0          14           77   \n",
       "285106                      0                  0         121           77   \n",
       "43263                       0                  0          81           56   \n",
       "\n",
       "        center_type  op_area  discount_amt        item  \n",
       "0        208.512473      2.0         15.46  567.435812  \n",
       "284804   208.512473      4.0          2.00  102.777650  \n",
       "285005   208.512473      4.0         37.83  163.447175  \n",
       "285106   208.512473      4.0         37.83  163.447175  \n",
       "43263    320.991068      5.6          0.00   78.743283  "
      ]
     },
     "execution_count": 92,
     "metadata": {},
     "output_type": "execute_result"
    }
   ],
   "source": [
    "res_train.head()"
   ]
  },
  {
   "cell_type": "code",
   "execution_count": 93,
   "metadata": {},
   "outputs": [],
   "source": [
    "y_train= res_train.filter(['num_orders'], axis=1)\n",
    "X_train=res_train.drop(['num_orders'],axis=1)\n",
    "y_test= res_test.filter(['num_orders'], axis=1)\n",
    "X_test=res_test.drop(['num_orders'],axis=1)\n",
    "#y_train=np.log(y_train)"
   ]
  },
  {
   "cell_type": "code",
   "execution_count": null,
   "metadata": {},
   "outputs": [],
   "source": []
  },
  {
   "cell_type": "markdown",
   "metadata": {},
   "source": [
    "# Applying model"
   ]
  },
  {
   "cell_type": "markdown",
   "metadata": {},
   "source": [
    "Feature scaling using standard scaler"
   ]
  },
  {
   "cell_type": "markdown",
   "metadata": {},
   "source": [
    "from sklearn.preprocessing import StandardScaler\n",
    "sc = StandardScaler()\n",
    "X_train = sc.fit_transform(X_train)\n",
    "X_test = sc.transform(X_test)"
   ]
  },
  {
   "cell_type": "markdown",
   "metadata": {},
   "source": [
    "# Training model using XGBoost Regressor"
   ]
  },
  {
   "cell_type": "code",
   "execution_count": 94,
   "metadata": {},
   "outputs": [
    {
     "name": "stdout",
     "output_type": "stream",
     "text": [
      "[22:02:08] WARNING: src/objective/regression_obj.cu:152: reg:linear is now deprecated in favor of reg:squarederror.\n"
     ]
    },
    {
     "data": {
      "text/plain": [
       "XGBRegressor(base_score=0.5, booster='gbtree', colsample_bylevel=1,\n",
       "             colsample_bynode=1, colsample_bytree=1, gamma=0,\n",
       "             importance_type='gain', learning_rate=0.1, max_delta_step=0,\n",
       "             max_depth=3, min_child_weight=1, missing=None, n_estimators=100,\n",
       "             n_jobs=1, nthread=None, objective='reg:linear', random_state=42,\n",
       "             reg_alpha=0, reg_lambda=1, scale_pos_weight=1, seed=None,\n",
       "             silent=None, subsample=1, verbosity=1)"
      ]
     },
     "execution_count": 94,
     "metadata": {},
     "output_type": "execute_result"
    }
   ],
   "source": [
    "xgb_model = xgb.XGBRegressor(objective=\"reg:linear\", random_state=42)\n",
    "xgb_model.fit(X_train, y_train)"
   ]
  },
  {
   "cell_type": "markdown",
   "metadata": {},
   "source": [
    "# RMSE ON TEST SET"
   ]
  },
  {
   "cell_type": "code",
   "execution_count": 95,
   "metadata": {},
   "outputs": [
    {
     "name": "stdout",
     "output_type": "stream",
     "text": [
      "194.85577256511246\n"
     ]
    }
   ],
   "source": [
    "y_pred = xgb_model.predict(X_test)\n",
    "#y_pred=np.exp(y_pred)\n",
    "mse=mean_squared_error(y_test, y_pred)\n",
    "\n",
    "print(np.sqrt(mse))"
   ]
  },
  {
   "cell_type": "markdown",
   "metadata": {},
   "source": [
    "# RMSE ON TRAIN SET"
   ]
  },
  {
   "cell_type": "code",
   "execution_count": 96,
   "metadata": {},
   "outputs": [
    {
     "name": "stdout",
     "output_type": "stream",
     "text": [
      "202.03542255845903\n"
     ]
    }
   ],
   "source": [
    "y_pred1= xgb_model.predict(X_train)\n",
    "#y_pred1=np.exp(y_pred1)\n",
    "#y_train=np.exp(y_train)\n",
    "mse=mean_squared_error(y_train, y_pred1)\n",
    "\n",
    "print(np.sqrt(mse))"
   ]
  },
  {
   "cell_type": "markdown",
   "metadata": {},
   "source": [
    "# MAE on TEST SET"
   ]
  },
  {
   "cell_type": "code",
   "execution_count": 97,
   "metadata": {},
   "outputs": [
    {
     "data": {
      "text/plain": [
       "97.61482995362421"
      ]
     },
     "execution_count": 97,
     "metadata": {},
     "output_type": "execute_result"
    }
   ],
   "source": [
    "from sklearn.metrics import mean_absolute_error\n",
    "mae=mean_absolute_error(y_test,y_pred)\n",
    "mae"
   ]
  },
  {
   "cell_type": "markdown",
   "metadata": {},
   "source": [
    "# MAE ON TRAIN SET"
   ]
  },
  {
   "cell_type": "code",
   "execution_count": 98,
   "metadata": {},
   "outputs": [
    {
     "data": {
      "text/plain": [
       "102.45140305487588"
      ]
     },
     "execution_count": 98,
     "metadata": {},
     "output_type": "execute_result"
    }
   ],
   "source": [
    "mae=mean_absolute_error(y_train,y_pred1)\n",
    "mae"
   ]
  },
  {
   "cell_type": "markdown",
   "metadata": {},
   "source": [
    "# R2 SCORE ON TEST SET\n"
   ]
  },
  {
   "cell_type": "code",
   "execution_count": 99,
   "metadata": {},
   "outputs": [
    {
     "data": {
      "text/plain": [
       "0.6853579461005632"
      ]
     },
     "execution_count": 99,
     "metadata": {},
     "output_type": "execute_result"
    }
   ],
   "source": [
    "r2_score(y_test, y_pred)"
   ]
  },
  {
   "cell_type": "markdown",
   "metadata": {},
   "source": [
    "# R2 SCORE ON TRAIN SET\n"
   ]
  },
  {
   "cell_type": "code",
   "execution_count": 100,
   "metadata": {},
   "outputs": [
    {
     "data": {
      "text/plain": [
       "0.7460475175660572"
      ]
     },
     "execution_count": 100,
     "metadata": {},
     "output_type": "execute_result"
    }
   ],
   "source": [
    "r2_score(y_train, y_pred1)"
   ]
  },
  {
   "cell_type": "code",
   "execution_count": 101,
   "metadata": {},
   "outputs": [
    {
     "data": {
      "text/plain": [
       "<matplotlib.axes._subplots.AxesSubplot at 0x1190b514a08>"
      ]
     },
     "execution_count": 101,
     "metadata": {},
     "output_type": "execute_result"
    },
    {
     "data": {
      "image/png": "[encoded data removed]",
      "text/plain": [
       "<Figure size 432x288 with 1 Axes>"
      ]
     },
     "metadata": {
      "needs_background": "light"
     },
     "output_type": "display_data"
    }
   ],
   "source": [
    "xgb.plot_importance(xgb_model)"
   ]
  },
  {
   "cell_type": "code",
   "execution_count": 102,
   "metadata": {},
   "outputs": [],
   "source": [
    "    \n",
    "from sklearn.linear_model import LinearRegression\n",
    "from sklearn.neighbors import KNeighborsRegressor\n",
    "from sklearn.tree import DecisionTreeRegressor\n",
    "from sklearn import metrics\n"
   ]
  },
  {
   "cell_type": "markdown",
   "metadata": {},
   "source": [
    "# Linear Regression "
   ]
  },
  {
   "cell_type": "code",
   "execution_count": 103,
   "metadata": {},
   "outputs": [
    {
     "data": {
      "text/html": [
       "<div>\n",
       "<style scoped>\n",
       "    .dataframe tbody tr th:only-of-type {\n",
       "        vertical-align: middle;\n",
       "    }\n",
       "\n",
       "    .dataframe tbody tr th {\n",
       "        vertical-align: top;\n",
       "    }\n",
       "\n",
       "    .dataframe thead th {\n",
       "        text-align: right;\n",
       "    }\n",
       "</style>\n",
       "<table border=\"1\" class=\"dataframe\">\n",
       "  <thead>\n",
       "    <tr style=\"text-align: right;\">\n",
       "      <th></th>\n",
       "      <th>week</th>\n",
       "      <th>center_id</th>\n",
       "      <th>meal_id</th>\n",
       "      <th>checkout_price</th>\n",
       "      <th>base_price</th>\n",
       "      <th>emailer_for_promotion</th>\n",
       "      <th>homepage_featured</th>\n",
       "      <th>region_code</th>\n",
       "      <th>center_type</th>\n",
       "      <th>op_area</th>\n",
       "      <th>discount_amt</th>\n",
       "      <th>item</th>\n",
       "    </tr>\n",
       "  </thead>\n",
       "  <tbody>\n",
       "    <tr>\n",
       "      <th>412100</th>\n",
       "      <td>132</td>\n",
       "      <td>192.739258</td>\n",
       "      <td>152.193052</td>\n",
       "      <td>320.13</td>\n",
       "      <td>319.13</td>\n",
       "      <td>0</td>\n",
       "      <td>0</td>\n",
       "      <td>77</td>\n",
       "      <td>265.492956</td>\n",
       "      <td>2.8</td>\n",
       "      <td>-1.00</td>\n",
       "      <td>160.916568</td>\n",
       "    </tr>\n",
       "    <tr>\n",
       "      <th>48810</th>\n",
       "      <td>132</td>\n",
       "      <td>446.205153</td>\n",
       "      <td>55.721385</td>\n",
       "      <td>272.57</td>\n",
       "      <td>387.03</td>\n",
       "      <td>0</td>\n",
       "      <td>1</td>\n",
       "      <td>56</td>\n",
       "      <td>320.991068</td>\n",
       "      <td>5.6</td>\n",
       "      <td>114.46</td>\n",
       "      <td>64.882145</td>\n",
       "    </tr>\n",
       "    <tr>\n",
       "      <th>252090</th>\n",
       "      <td>132</td>\n",
       "      <td>194.394563</td>\n",
       "      <td>418.330640</td>\n",
       "      <td>276.51</td>\n",
       "      <td>275.51</td>\n",
       "      <td>0</td>\n",
       "      <td>0</td>\n",
       "      <td>34</td>\n",
       "      <td>265.492956</td>\n",
       "      <td>4.0</td>\n",
       "      <td>-1.00</td>\n",
       "      <td>394.232813</td>\n",
       "    </tr>\n",
       "    <tr>\n",
       "      <th>159827</th>\n",
       "      <td>132</td>\n",
       "      <td>293.465893</td>\n",
       "      <td>540.477551</td>\n",
       "      <td>238.65</td>\n",
       "      <td>238.65</td>\n",
       "      <td>0</td>\n",
       "      <td>0</td>\n",
       "      <td>56</td>\n",
       "      <td>265.492956</td>\n",
       "      <td>2.7</td>\n",
       "      <td>0.00</td>\n",
       "      <td>417.052537</td>\n",
       "    </tr>\n",
       "    <tr>\n",
       "      <th>411865</th>\n",
       "      <td>132</td>\n",
       "      <td>192.739258</td>\n",
       "      <td>164.307614</td>\n",
       "      <td>249.29</td>\n",
       "      <td>320.13</td>\n",
       "      <td>0</td>\n",
       "      <td>0</td>\n",
       "      <td>77</td>\n",
       "      <td>265.492956</td>\n",
       "      <td>2.8</td>\n",
       "      <td>70.84</td>\n",
       "      <td>163.447175</td>\n",
       "    </tr>\n",
       "    <tr>\n",
       "      <th>...</th>\n",
       "      <td>...</td>\n",
       "      <td>...</td>\n",
       "      <td>...</td>\n",
       "      <td>...</td>\n",
       "      <td>...</td>\n",
       "      <td>...</td>\n",
       "      <td>...</td>\n",
       "      <td>...</td>\n",
       "      <td>...</td>\n",
       "      <td>...</td>\n",
       "      <td>...</td>\n",
       "      <td>...</td>\n",
       "    </tr>\n",
       "    <tr>\n",
       "      <th>287668</th>\n",
       "      <td>145</td>\n",
       "      <td>260.646079</td>\n",
       "      <td>289.584113</td>\n",
       "      <td>160.05</td>\n",
       "      <td>160.08</td>\n",
       "      <td>1</td>\n",
       "      <td>0</td>\n",
       "      <td>77</td>\n",
       "      <td>265.492956</td>\n",
       "      <td>3.9</td>\n",
       "      <td>0.03</td>\n",
       "      <td>417.052537</td>\n",
       "    </tr>\n",
       "    <tr>\n",
       "      <th>350483</th>\n",
       "      <td>145</td>\n",
       "      <td>291.047556</td>\n",
       "      <td>110.765681</td>\n",
       "      <td>727.53</td>\n",
       "      <td>726.53</td>\n",
       "      <td>0</td>\n",
       "      <td>1</td>\n",
       "      <td>56</td>\n",
       "      <td>265.492956</td>\n",
       "      <td>4.2</td>\n",
       "      <td>-1.00</td>\n",
       "      <td>102.777650</td>\n",
       "    </tr>\n",
       "    <tr>\n",
       "      <th>262083</th>\n",
       "      <td>145</td>\n",
       "      <td>196.318109</td>\n",
       "      <td>28.260529</td>\n",
       "      <td>440.38</td>\n",
       "      <td>442.38</td>\n",
       "      <td>0</td>\n",
       "      <td>0</td>\n",
       "      <td>34</td>\n",
       "      <td>265.492956</td>\n",
       "      <td>4.0</td>\n",
       "      <td>2.00</td>\n",
       "      <td>30.377895</td>\n",
       "    </tr>\n",
       "    <tr>\n",
       "      <th>448468</th>\n",
       "      <td>145</td>\n",
       "      <td>328.555969</td>\n",
       "      <td>62.809436</td>\n",
       "      <td>484.03</td>\n",
       "      <td>485.03</td>\n",
       "      <td>0</td>\n",
       "      <td>0</td>\n",
       "      <td>56</td>\n",
       "      <td>265.492956</td>\n",
       "      <td>7.0</td>\n",
       "      <td>1.00</td>\n",
       "      <td>64.882145</td>\n",
       "    </tr>\n",
       "    <tr>\n",
       "      <th>456547</th>\n",
       "      <td>145</td>\n",
       "      <td>209.105523</td>\n",
       "      <td>63.001096</td>\n",
       "      <td>581.03</td>\n",
       "      <td>582.03</td>\n",
       "      <td>0</td>\n",
       "      <td>0</td>\n",
       "      <td>77</td>\n",
       "      <td>265.492956</td>\n",
       "      <td>4.5</td>\n",
       "      <td>1.00</td>\n",
       "      <td>81.600654</td>\n",
       "    </tr>\n",
       "  </tbody>\n",
       "</table>\n",
       "<p>46012 rows × 12 columns</p>\n",
       "</div>"
      ],
      "text/plain": [
       "        week   center_id     meal_id  checkout_price  base_price  \\\n",
       "412100   132  192.739258  152.193052          320.13      319.13   \n",
       "48810    132  446.205153   55.721385          272.57      387.03   \n",
       "252090   132  194.394563  418.330640          276.51      275.51   \n",
       "159827   132  293.465893  540.477551          238.65      238.65   \n",
       "411865   132  192.739258  164.307614          249.29      320.13   \n",
       "...      ...         ...         ...             ...         ...   \n",
       "287668   145  260.646079  289.584113          160.05      160.08   \n",
       "350483   145  291.047556  110.765681          727.53      726.53   \n",
       "262083   145  196.318109   28.260529          440.38      442.38   \n",
       "448468   145  328.555969   62.809436          484.03      485.03   \n",
       "456547   145  209.105523   63.001096          581.03      582.03   \n",
       "\n",
       "        emailer_for_promotion  homepage_featured  region_code  center_type  \\\n",
       "412100                      0                  0           77   265.492956   \n",
       "48810                       0                  1           56   320.991068   \n",
       "252090                      0                  0           34   265.492956   \n",
       "159827                      0                  0           56   265.492956   \n",
       "411865                      0                  0           77   265.492956   \n",
       "...                       ...                ...          ...          ...   \n",
       "287668                      1                  0           77   265.492956   \n",
       "350483                      0                  1           56   265.492956   \n",
       "262083                      0                  0           34   265.492956   \n",
       "448468                      0                  0           56   265.492956   \n",
       "456547                      0                  0           77   265.492956   \n",
       "\n",
       "        op_area  discount_amt        item  \n",
       "412100      2.8         -1.00  160.916568  \n",
       "48810       5.6        114.46   64.882145  \n",
       "252090      4.0         -1.00  394.232813  \n",
       "159827      2.7          0.00  417.052537  \n",
       "411865      2.8         70.84  163.447175  \n",
       "...         ...           ...         ...  \n",
       "287668      3.9          0.03  417.052537  \n",
       "350483      4.2         -1.00  102.777650  \n",
       "262083      4.0          2.00   30.377895  \n",
       "448468      7.0          1.00   64.882145  \n",
       "456547      4.5          1.00   81.600654  \n",
       "\n",
       "[46012 rows x 12 columns]"
      ]
     },
     "execution_count": 103,
     "metadata": {},
     "output_type": "execute_result"
    }
   ],
   "source": [
    "X_test"
   ]
  },
  {
   "cell_type": "code",
   "execution_count": 104,
   "metadata": {},
   "outputs": [
    {
     "name": "stdout",
     "output_type": "stream",
     "text": [
      "Root Mean Squared Error for LinearRegression: 255.40993671339578\n"
     ]
    }
   ],
   "source": [
    "lr = LinearRegression()  \n",
    "lr.fit(X_train, y_train)\n",
    "y_pred = lr.predict(X_test)\n",
    "print('Root Mean Squared Error for LinearRegression:', np.sqrt(metrics.mean_squared_error(y_test, y_pred)))"
   ]
  },
  {
   "cell_type": "code",
   "execution_count": null,
   "metadata": {},
   "outputs": [],
   "source": []
  },
  {
   "cell_type": "code",
   "execution_count": 105,
   "metadata": {},
   "outputs": [
    {
     "data": {
      "text/plain": [
       "array([[  14.03719394],\n",
       "       [ 484.67071764],\n",
       "       [ 286.32806463],\n",
       "       ...,\n",
       "       [-117.50102976],\n",
       "       [  62.92995034],\n",
       "       [ -90.93546756]])"
      ]
     },
     "execution_count": 105,
     "metadata": {},
     "output_type": "execute_result"
    }
   ],
   "source": [
    "y_pred"
   ]
  },
  {
   "cell_type": "markdown",
   "metadata": {},
   "source": [
    "# R2 score Linear Regression"
   ]
  },
  {
   "cell_type": "code",
   "execution_count": 106,
   "metadata": {},
   "outputs": [
    {
     "data": {
      "text/plain": [
       "0.45941275444113894"
      ]
     },
     "execution_count": 106,
     "metadata": {},
     "output_type": "execute_result"
    }
   ],
   "source": [
    "r2_score(y_test, y_pred)"
   ]
  },
  {
   "cell_type": "code",
   "execution_count": 107,
   "metadata": {},
   "outputs": [
    {
     "name": "stdout",
     "output_type": "stream",
     "text": [
      "8639\n"
     ]
    }
   ],
   "source": [
    "flag=0\n",
    "for i in y_pred:\n",
    "    if i<0:\n",
    "        flag=flag+1\n",
    "print(flag)"
   ]
  },
  {
   "cell_type": "markdown",
   "metadata": {},
   "source": [
    "# KNN "
   ]
  },
  {
   "cell_type": "code",
   "execution_count": 108,
   "metadata": {},
   "outputs": [
    {
     "name": "stdout",
     "output_type": "stream",
     "text": [
      "Root Mean Squared Error for knn: 207.62892070980334\n"
     ]
    }
   ],
   "source": [
    "knn = KNeighborsRegressor()  \n",
    "knn.fit(X_train, y_train)\n",
    "y_pred = knn.predict(X_test)\n",
    "\n",
    "print('Root Mean Squared Error for knn:', np.sqrt(metrics.mean_squared_error(y_test, y_pred)))"
   ]
  },
  {
   "cell_type": "code",
   "execution_count": 109,
   "metadata": {},
   "outputs": [
    {
     "name": "stdout",
     "output_type": "stream",
     "text": [
      "0\n"
     ]
    }
   ],
   "source": [
    "flag=0\n",
    "for i in y_pred:\n",
    "    if i<0:\n",
    "        flag=flag+1\n",
    "print(flag)"
   ]
  },
  {
   "cell_type": "markdown",
   "metadata": {},
   "source": [
    "# KNN R2 Score"
   ]
  },
  {
   "cell_type": "code",
   "execution_count": 110,
   "metadata": {},
   "outputs": [
    {
     "data": {
      "text/plain": [
       "0.6427552059035682"
      ]
     },
     "execution_count": 110,
     "metadata": {},
     "output_type": "execute_result"
    }
   ],
   "source": [
    "r2_score(y_test, y_pred)"
   ]
  },
  {
   "cell_type": "markdown",
   "metadata": {},
   "source": [
    "# Decision Tree Regressor"
   ]
  },
  {
   "cell_type": "code",
   "execution_count": 111,
   "metadata": {},
   "outputs": [
    {
     "name": "stdout",
     "output_type": "stream",
     "text": [
      "Root Mean Squared Error for DecisionTree: 212.9958086149232\n"
     ]
    }
   ],
   "source": [
    "dt = DecisionTreeRegressor()  \n",
    "dt.fit(X_train, y_train)\n",
    "y_pred = dt.predict(X_test)\n",
    "\n",
    "\n",
    "print('Root Mean Squared Error for DecisionTree:', np.sqrt(metrics.mean_squared_error(y_test, y_pred)))"
   ]
  },
  {
   "cell_type": "code",
   "execution_count": 112,
   "metadata": {},
   "outputs": [
    {
     "name": "stdout",
     "output_type": "stream",
     "text": [
      "0\n"
     ]
    }
   ],
   "source": [
    "flag=0\n",
    "for i in y_pred:\n",
    "    if i<0:\n",
    "        flag=flag+1\n",
    "print(flag)"
   ]
  },
  {
   "cell_type": "markdown",
   "metadata": {},
   "source": [
    "# Decision Tree R2 score"
   ]
  },
  {
   "cell_type": "code",
   "execution_count": 113,
   "metadata": {},
   "outputs": [
    {
     "data": {
      "text/plain": [
       "0.624048059607405"
      ]
     },
     "execution_count": 113,
     "metadata": {},
     "output_type": "execute_result"
    }
   ],
   "source": [
    "r2_score(y_test, y_pred)"
   ]
  },
  {
   "cell_type": "code",
   "execution_count": 114,
   "metadata": {},
   "outputs": [
    {
     "name": "stdout",
     "output_type": "stream",
     "text": [
      "Root Mean Squared Error for DT: 212.9958086149232\n"
     ]
    }
   ],
   "source": [
    "print('Root Mean Squared Error for DT:', np.sqrt(metrics.mean_squared_error(y_test, y_pred)))"
   ]
  },
  {
   "cell_type": "markdown",
   "metadata": {},
   "source": [
    "Number of negative value"
   ]
  },
  {
   "cell_type": "code",
   "execution_count": 115,
   "metadata": {},
   "outputs": [
    {
     "name": "stdout",
     "output_type": "stream",
     "text": [
      "0\n"
     ]
    }
   ],
   "source": [
    "flag=0\n",
    "for i in y_pred:\n",
    "    if i<0:\n",
    "        flag=flag+1\n",
    "print(flag)"
   ]
  },
  {
   "cell_type": "markdown",
   "metadata": {},
   "source": [
    "RMSLE"
   ]
  },
  {
   "cell_type": "code",
   "execution_count": 116,
   "metadata": {},
   "outputs": [
    {
     "data": {
      "text/plain": [
       "0.7125880563140256"
      ]
     },
     "execution_count": 116,
     "metadata": {},
     "output_type": "execute_result"
    }
   ],
   "source": [
    "from sklearn.metrics import mean_squared_log_error\n",
    "np.sqrt(metrics.mean_squared_log_error(y_test, y_pred))"
   ]
  },
  {
   "cell_type": "markdown",
   "metadata": {},
   "source": [
    "# LGBMR"
   ]
  },
  {
   "cell_type": "code",
   "execution_count": 117,
   "metadata": {},
   "outputs": [],
   "source": [
    "import lightgbm as lgb\n"
   ]
  },
  {
   "cell_type": "code",
   "execution_count": 118,
   "metadata": {},
   "outputs": [],
   "source": [
    "gbm = lgb.LGBMRegressor()"
   ]
  },
  {
   "cell_type": "code",
   "execution_count": 119,
   "metadata": {},
   "outputs": [
    {
     "name": "stdout",
     "output_type": "stream",
     "text": [
      "[1]\tvalid_0's l1: 195.592\tvalid_0's l2: 106982\n",
      "Training until validation scores don't improve for 1000 rounds\n",
      "[2]\tvalid_0's l1: 182.781\tvalid_0's l2: 95210.6\n",
      "[3]\tvalid_0's l1: 171.77\tvalid_0's l2: 85868.7\n",
      "[4]\tvalid_0's l1: 162.391\tvalid_0's l2: 77991.5\n",
      "[5]\tvalid_0's l1: 153.958\tvalid_0's l2: 71346.6\n",
      "[6]\tvalid_0's l1: 147.028\tvalid_0's l2: 66297.2\n",
      "[7]\tvalid_0's l1: 141.026\tvalid_0's l2: 61928.8\n",
      "[8]\tvalid_0's l1: 135.237\tvalid_0's l2: 57804.4\n",
      "[9]\tvalid_0's l1: 130.796\tvalid_0's l2: 54787.3\n",
      "[10]\tvalid_0's l1: 126.681\tvalid_0's l2: 52299.7\n",
      "[11]\tvalid_0's l1: 122.628\tvalid_0's l2: 49205.1\n",
      "[12]\tvalid_0's l1: 119.353\tvalid_0's l2: 47545.8\n",
      "[13]\tvalid_0's l1: 116.469\tvalid_0's l2: 45435.4\n",
      "[14]\tvalid_0's l1: 113.975\tvalid_0's l2: 44127.7\n",
      "[15]\tvalid_0's l1: 111.494\tvalid_0's l2: 42475.8\n",
      "[16]\tvalid_0's l1: 109.662\tvalid_0's l2: 41407.8\n",
      "[17]\tvalid_0's l1: 108.046\tvalid_0's l2: 40583.8\n",
      "[18]\tvalid_0's l1: 106.441\tvalid_0's l2: 39552\n",
      "[19]\tvalid_0's l1: 105.242\tvalid_0's l2: 38889.7\n",
      "[20]\tvalid_0's l1: 104.22\tvalid_0's l2: 38340.5\n",
      "[21]\tvalid_0's l1: 103.361\tvalid_0's l2: 37881.3\n",
      "[22]\tvalid_0's l1: 102.385\tvalid_0's l2: 37414.9\n",
      "[23]\tvalid_0's l1: 101.582\tvalid_0's l2: 37123.1\n",
      "[24]\tvalid_0's l1: 101.343\tvalid_0's l2: 36973.4\n",
      "[25]\tvalid_0's l1: 100.731\tvalid_0's l2: 36801.7\n",
      "[26]\tvalid_0's l1: 100.005\tvalid_0's l2: 36200.1\n",
      "[27]\tvalid_0's l1: 99.4611\tvalid_0's l2: 35756.3\n",
      "[28]\tvalid_0's l1: 98.988\tvalid_0's l2: 35595.8\n",
      "[29]\tvalid_0's l1: 98.5545\tvalid_0's l2: 35467.5\n",
      "[30]\tvalid_0's l1: 98.0596\tvalid_0's l2: 35178\n",
      "[31]\tvalid_0's l1: 97.8045\tvalid_0's l2: 35054.2\n",
      "[32]\tvalid_0's l1: 97.2364\tvalid_0's l2: 34718.3\n",
      "[33]\tvalid_0's l1: 96.9766\tvalid_0's l2: 34590.1\n",
      "[34]\tvalid_0's l1: 96.819\tvalid_0's l2: 34625.7\n",
      "[35]\tvalid_0's l1: 96.5264\tvalid_0's l2: 34437.4\n",
      "[36]\tvalid_0's l1: 96.0694\tvalid_0's l2: 34312\n",
      "[37]\tvalid_0's l1: 95.7181\tvalid_0's l2: 34176.8\n",
      "[38]\tvalid_0's l1: 95.5731\tvalid_0's l2: 34150.7\n",
      "[39]\tvalid_0's l1: 95.3728\tvalid_0's l2: 34073.5\n",
      "[40]\tvalid_0's l1: 94.9217\tvalid_0's l2: 33920.5\n",
      "[41]\tvalid_0's l1: 94.7039\tvalid_0's l2: 33874.6\n",
      "[42]\tvalid_0's l1: 94.2662\tvalid_0's l2: 33771.4\n",
      "[43]\tvalid_0's l1: 93.985\tvalid_0's l2: 33657.1\n",
      "[44]\tvalid_0's l1: 93.8496\tvalid_0's l2: 33612.2\n",
      "[45]\tvalid_0's l1: 93.6565\tvalid_0's l2: 33502.6\n",
      "[46]\tvalid_0's l1: 93.4913\tvalid_0's l2: 33485.4\n",
      "[47]\tvalid_0's l1: 93.2159\tvalid_0's l2: 33351.4\n",
      "[48]\tvalid_0's l1: 93.0629\tvalid_0's l2: 33299.3\n",
      "[49]\tvalid_0's l1: 92.9034\tvalid_0's l2: 33242.8\n",
      "[50]\tvalid_0's l1: 92.7789\tvalid_0's l2: 33230.5\n",
      "[51]\tvalid_0's l1: 92.5997\tvalid_0's l2: 33158.5\n",
      "[52]\tvalid_0's l1: 92.4329\tvalid_0's l2: 33098.5\n",
      "[53]\tvalid_0's l1: 92.3786\tvalid_0's l2: 33082.1\n",
      "[54]\tvalid_0's l1: 92.2585\tvalid_0's l2: 33083.8\n",
      "[55]\tvalid_0's l1: 92.1893\tvalid_0's l2: 33039.3\n",
      "[56]\tvalid_0's l1: 91.9686\tvalid_0's l2: 32944.2\n",
      "[57]\tvalid_0's l1: 91.9087\tvalid_0's l2: 32961.1\n",
      "[58]\tvalid_0's l1: 91.7715\tvalid_0's l2: 32870.4\n",
      "[59]\tvalid_0's l1: 91.6975\tvalid_0's l2: 32844.8\n",
      "[60]\tvalid_0's l1: 91.6316\tvalid_0's l2: 32816\n",
      "[61]\tvalid_0's l1: 91.5974\tvalid_0's l2: 32813.3\n",
      "[62]\tvalid_0's l1: 91.3444\tvalid_0's l2: 32725.6\n",
      "[63]\tvalid_0's l1: 91.0569\tvalid_0's l2: 32576.5\n",
      "[64]\tvalid_0's l1: 91.0773\tvalid_0's l2: 32569.9\n",
      "[65]\tvalid_0's l1: 90.9676\tvalid_0's l2: 32552.4\n",
      "[66]\tvalid_0's l1: 90.864\tvalid_0's l2: 32507.2\n",
      "[67]\tvalid_0's l1: 90.7398\tvalid_0's l2: 32465.6\n",
      "[68]\tvalid_0's l1: 90.7046\tvalid_0's l2: 32464\n",
      "[69]\tvalid_0's l1: 90.553\tvalid_0's l2: 32384.6\n",
      "[70]\tvalid_0's l1: 90.5657\tvalid_0's l2: 32383\n",
      "[71]\tvalid_0's l1: 90.494\tvalid_0's l2: 32379\n",
      "[72]\tvalid_0's l1: 90.4597\tvalid_0's l2: 32384.8\n",
      "[73]\tvalid_0's l1: 90.4224\tvalid_0's l2: 32301.6\n",
      "[74]\tvalid_0's l1: 90.418\tvalid_0's l2: 32300.4\n",
      "[75]\tvalid_0's l1: 90.3446\tvalid_0's l2: 32275.8\n",
      "[76]\tvalid_0's l1: 90.286\tvalid_0's l2: 32253\n",
      "[77]\tvalid_0's l1: 90.2418\tvalid_0's l2: 32241.4\n",
      "[78]\tvalid_0's l1: 90.2043\tvalid_0's l2: 32236.1\n",
      "[79]\tvalid_0's l1: 90.2119\tvalid_0's l2: 32241.6\n",
      "[80]\tvalid_0's l1: 90.2354\tvalid_0's l2: 32273\n",
      "[81]\tvalid_0's l1: 90.1951\tvalid_0's l2: 32296.2\n",
      "[82]\tvalid_0's l1: 90.1615\tvalid_0's l2: 32281.5\n",
      "[83]\tvalid_0's l1: 90.0803\tvalid_0's l2: 32260.9\n",
      "[84]\tvalid_0's l1: 90.0852\tvalid_0's l2: 32264.9\n",
      "[85]\tvalid_0's l1: 89.9866\tvalid_0's l2: 32233.6\n",
      "[86]\tvalid_0's l1: 89.9813\tvalid_0's l2: 32233.8\n",
      "[87]\tvalid_0's l1: 90.0178\tvalid_0's l2: 32284.6\n",
      "[88]\tvalid_0's l1: 89.9253\tvalid_0's l2: 32239.4\n",
      "[89]\tvalid_0's l1: 89.8987\tvalid_0's l2: 32233.5\n",
      "[90]\tvalid_0's l1: 89.7694\tvalid_0's l2: 32165.3\n",
      "[91]\tvalid_0's l1: 89.7273\tvalid_0's l2: 32153.6\n",
      "[92]\tvalid_0's l1: 89.6727\tvalid_0's l2: 32112.4\n",
      "[93]\tvalid_0's l1: 89.6311\tvalid_0's l2: 32023.5\n",
      "[94]\tvalid_0's l1: 89.5794\tvalid_0's l2: 32038.2\n",
      "[95]\tvalid_0's l1: 89.5847\tvalid_0's l2: 32038.1\n",
      "[96]\tvalid_0's l1: 89.5084\tvalid_0's l2: 31919.1\n",
      "[97]\tvalid_0's l1: 89.4901\tvalid_0's l2: 31921.1\n",
      "[98]\tvalid_0's l1: 89.4003\tvalid_0's l2: 31875\n",
      "[99]\tvalid_0's l1: 89.3848\tvalid_0's l2: 31886.7\n",
      "[100]\tvalid_0's l1: 89.3677\tvalid_0's l2: 31925.2\n",
      "Did not meet early stopping. Best iteration is:\n",
      "[100]\tvalid_0's l1: 89.3677\tvalid_0's l2: 31925.2\n"
     ]
    },
    {
     "data": {
      "text/plain": [
       "LGBMRegressor(boosting_type='gbdt', class_weight=None, colsample_bytree=1.0,\n",
       "              importance_type='split', learning_rate=0.1, max_depth=-1,\n",
       "              min_child_samples=20, min_child_weight=0.001, min_split_gain=0.0,\n",
       "              n_estimators=100, n_jobs=-1, num_leaves=31, objective=None,\n",
       "              random_state=None, reg_alpha=0.0, reg_lambda=0.0, silent=True,\n",
       "              subsample=1.0, subsample_for_bin=200000, subsample_freq=0)"
      ]
     },
     "execution_count": 119,
     "metadata": {},
     "output_type": "execute_result"
    }
   ],
   "source": [
    "gbm.fit(X_train, y_train,\n",
    "        eval_set=[(X_test, y_test)],\n",
    "        eval_metric='l1',\n",
    "        early_stopping_rounds=1000)"
   ]
  },
  {
   "cell_type": "code",
   "execution_count": 120,
   "metadata": {},
   "outputs": [],
   "source": [
    "y_pred=gbm.predict(X_test)"
   ]
  },
  {
   "cell_type": "markdown",
   "metadata": {},
   "source": [
    "RMSE"
   ]
  },
  {
   "cell_type": "code",
   "execution_count": 121,
   "metadata": {},
   "outputs": [
    {
     "data": {
      "text/plain": [
       "178.676218604032"
      ]
     },
     "execution_count": 121,
     "metadata": {},
     "output_type": "execute_result"
    }
   ],
   "source": [
    "np.sqrt(metrics.mean_squared_error(y_test, y_pred))"
   ]
  },
  {
   "cell_type": "markdown",
   "metadata": {},
   "source": [
    "R2 SCORE"
   ]
  },
  {
   "cell_type": "code",
   "execution_count": 122,
   "metadata": {},
   "outputs": [
    {
     "data": {
      "text/plain": [
       "0.7354402804974258"
      ]
     },
     "execution_count": 122,
     "metadata": {},
     "output_type": "execute_result"
    }
   ],
   "source": [
    "r2_score(y_test, y_pred)"
   ]
  },
  {
   "cell_type": "markdown",
   "metadata": {},
   "source": [
    "Number of negative value"
   ]
  },
  {
   "cell_type": "code",
   "execution_count": 123,
   "metadata": {},
   "outputs": [
    {
     "name": "stdout",
     "output_type": "stream",
     "text": [
      "0\n"
     ]
    }
   ],
   "source": [
    "flag=0\n",
    "index=0\n",
    "for i in y_pred:\n",
    "    if i<0:\n",
    "        print(index)\n",
    "        flag=flag+1\n",
    "    index=index+1\n",
    "print(flag)"
   ]
  },
  {
   "cell_type": "code",
   "execution_count": 124,
   "metadata": {},
   "outputs": [
    {
     "data": {
      "text/plain": [
       "0.6394916952066211"
      ]
     },
     "execution_count": 124,
     "metadata": {},
     "output_type": "execute_result"
    }
   ],
   "source": [
    "np.sqrt(mean_squared_log_error( y_test, y_pred ))"
   ]
  },
  {
   "cell_type": "code",
   "execution_count": 125,
   "metadata": {},
   "outputs": [
    {
     "data": {
      "text/plain": [
       "0.6394916952066211"
      ]
     },
     "execution_count": 125,
     "metadata": {},
     "output_type": "execute_result"
    }
   ],
   "source": [
    "from sklearn.metrics import mean_squared_log_error\n",
    "np.sqrt(metrics.mean_squared_log_error(y_test, y_pred))"
   ]
  },
  {
   "cell_type": "markdown",
   "metadata": {},
   "source": [
    "MAE"
   ]
  },
  {
   "cell_type": "code",
   "execution_count": 126,
   "metadata": {},
   "outputs": [
    {
     "data": {
      "text/plain": [
       "89.36774548572878"
      ]
     },
     "execution_count": 126,
     "metadata": {},
     "output_type": "execute_result"
    }
   ],
   "source": [
    "mae=mean_absolute_error(y_test,y_pred)\n",
    "mae"
   ]
  },
  {
   "cell_type": "markdown",
   "metadata": {},
   "source": [
    "# VOTING REGRESSOR"
   ]
  },
  {
   "cell_type": "code",
   "execution_count": 127,
   "metadata": {},
   "outputs": [
    {
     "name": "stderr",
     "output_type": "stream",
     "text": [
      "C:\\Users\\akhil.damri\\anaconda3\\lib\\site-packages\\sklearn\\ensemble\\_voting.py:406: DataConversionWarning: A column-vector y was passed when a 1d array was expected. Please change the shape of y to (n_samples, ), for example using ravel().\n",
      "  y = column_or_1d(y, warn=True)\n"
     ]
    },
    {
     "name": "stdout",
     "output_type": "stream",
     "text": [
      "[22:03:12] WARNING: src/objective/regression_obj.cu:152: reg:linear is now deprecated in favor of reg:squarederror.\n",
      "[ 94.38870653 200.79760785 215.25313691 ...  26.60405556  52.23852663\n",
      "  42.57730452]\n"
     ]
    },
    {
     "data": {
      "text/plain": [
       "0.7189952175179168"
      ]
     },
     "execution_count": 127,
     "metadata": {},
     "output_type": "execute_result"
    }
   ],
   "source": [
    "from sklearn.ensemble import VotingRegressor\n",
    "r1 = xgb.XGBRegressor(objective=\"reg:linear\", random_state=42)\n",
    "r2 = lgb.LGBMRegressor()\n",
    "er = VotingRegressor([('xgb_model', r1), ('dt', r2)])\n",
    "print(er.fit(X_train, y_train).predict(X_test))\n",
    "y_pred=er.predict(X_test)\n",
    "r2_score(y_test, y_pred)"
   ]
  },
  {
   "cell_type": "code",
   "execution_count": 128,
   "metadata": {},
   "outputs": [
    {
     "data": {
      "text/plain": [
       "0.7189952175179168"
      ]
     },
     "execution_count": 128,
     "metadata": {},
     "output_type": "execute_result"
    }
   ],
   "source": [
    "r2_score(y_test, y_pred)"
   ]
  },
  {
   "cell_type": "code",
   "execution_count": 129,
   "metadata": {},
   "outputs": [
    {
     "data": {
      "text/plain": [
       "184.14577022468293"
      ]
     },
     "execution_count": 129,
     "metadata": {},
     "output_type": "execute_result"
    }
   ],
   "source": [
    "np.sqrt(metrics.mean_squared_error(y_test, y_pred))"
   ]
  },
  {
   "cell_type": "markdown",
   "metadata": {},
   "source": [
    "# HERE WE CAN SEE THAT LGBM IS PERFORMING WAY BETTER "
   ]
  },
  {
   "cell_type": "markdown",
   "metadata": {},
   "source": [
    "# Analyzing results"
   ]
  },
  {
   "cell_type": "code",
   "execution_count": null,
   "metadata": {},
   "outputs": [],
   "source": []
  },
  {
   "cell_type": "markdown",
   "metadata": {},
   "source": [
    "# Scaling features"
   ]
  },
  {
   "cell_type": "code",
   "execution_count": 130,
   "metadata": {},
   "outputs": [],
   "source": [
    "y_train= res_train.filter(['num_orders'], axis=1)\n",
    "X_train=res_train.drop(['num_orders'],axis=1)\n",
    "y_test= res_test.filter(['num_orders'], axis=1)\n",
    "X_test=res_test.drop(['num_orders'],axis=1)\n",
    "#y_train=np.log(y_train)"
   ]
  },
  {
   "cell_type": "code",
   "execution_count": 131,
   "metadata": {},
   "outputs": [],
   "source": [
    "from sklearn.preprocessing import StandardScaler\n",
    "sc = StandardScaler()\n",
    "X_train = sc.fit_transform(X_train)\n",
    "X_test = sc.fit_transform(X_test)\n"
   ]
  },
  {
   "cell_type": "markdown",
   "metadata": {},
   "source": [
    "# Applying LDA"
   ]
  },
  {
   "cell_type": "code",
   "execution_count": 132,
   "metadata": {},
   "outputs": [
    {
     "name": "stderr",
     "output_type": "stream",
     "text": [
      "C:\\Users\\akhil.damri\\anaconda3\\lib\\site-packages\\sklearn\\utils\\validation.py:760: DataConversionWarning: A column-vector y was passed when a 1d array was expected. Please change the shape of y to (n_samples, ), for example using ravel().\n",
      "  y = column_or_1d(y, warn=True)\n"
     ]
    }
   ],
   "source": [
    "from sklearn.discriminant_analysis import LinearDiscriminantAnalysis as LDA\n",
    "lda = LDA(n_components = 1)\n",
    "X_train = lda.fit_transform(X_train, y_train)\n",
    "X_test = lda.transform(X_test)"
   ]
  },
  {
   "cell_type": "code",
   "execution_count": 133,
   "metadata": {},
   "outputs": [
    {
     "name": "stderr",
     "output_type": "stream",
     "text": [
      "C:\\Users\\akhil.damri\\anaconda3\\lib\\site-packages\\sklearn\\utils\\validation.py:760: DataConversionWarning: A column-vector y was passed when a 1d array was expected. Please change the shape of y to (n_samples, ), for example using ravel().\n",
      "  y = column_or_1d(y, warn=True)\n",
      "C:\\Users\\akhil.damri\\anaconda3\\lib\\site-packages\\lightgbm\\basic.py:253: UserWarning: Usage of np.ndarray subset (sliced data) is not recommended due to it will double the peak memory cost in LightGBM.\n",
      "  warnings.warn(\"Usage of np.ndarray subset (sliced data) is not recommended \"\n"
     ]
    },
    {
     "name": "stdout",
     "output_type": "stream",
     "text": [
      "[1]\tvalid_0's l1: 194.711\tvalid_0's l2: 105948\n",
      "Training until validation scores don't improve for 1000 rounds\n",
      "[2]\tvalid_0's l1: 181.456\tvalid_0's l2: 93583\n",
      "[3]\tvalid_0's l1: 170.126\tvalid_0's l2: 83650.8\n",
      "[4]\tvalid_0's l1: 160.513\tvalid_0's l2: 75681.8\n",
      "[5]\tvalid_0's l1: 152.406\tvalid_0's l2: 69297.3\n",
      "[6]\tvalid_0's l1: 145.538\tvalid_0's l2: 64191.7\n",
      "[7]\tvalid_0's l1: 139.768\tvalid_0's l2: 60109.4\n",
      "[8]\tvalid_0's l1: 134.944\tvalid_0's l2: 56850.6\n",
      "[9]\tvalid_0's l1: 130.949\tvalid_0's l2: 54259.7\n",
      "[10]\tvalid_0's l1: 127.634\tvalid_0's l2: 52198.9\n",
      "[11]\tvalid_0's l1: 124.861\tvalid_0's l2: 50564.1\n",
      "[12]\tvalid_0's l1: 122.552\tvalid_0's l2: 49273\n",
      "[13]\tvalid_0's l1: 120.634\tvalid_0's l2: 48257.6\n",
      "[14]\tvalid_0's l1: 119.053\tvalid_0's l2: 47462.6\n",
      "[15]\tvalid_0's l1: 117.726\tvalid_0's l2: 46839.6\n",
      "[16]\tvalid_0's l1: 116.629\tvalid_0's l2: 46358.3\n",
      "[17]\tvalid_0's l1: 115.708\tvalid_0's l2: 45986.2\n",
      "[18]\tvalid_0's l1: 114.959\tvalid_0's l2: 45702.4\n",
      "[19]\tvalid_0's l1: 114.349\tvalid_0's l2: 45492\n",
      "[20]\tvalid_0's l1: 113.834\tvalid_0's l2: 45334.8\n",
      "[21]\tvalid_0's l1: 113.417\tvalid_0's l2: 45222.6\n",
      "[22]\tvalid_0's l1: 113.077\tvalid_0's l2: 45139.5\n",
      "[23]\tvalid_0's l1: 112.809\tvalid_0's l2: 45086.7\n",
      "[24]\tvalid_0's l1: 112.587\tvalid_0's l2: 45052.4\n",
      "[25]\tvalid_0's l1: 112.401\tvalid_0's l2: 45032\n",
      "[26]\tvalid_0's l1: 112.25\tvalid_0's l2: 45024.2\n",
      "[27]\tvalid_0's l1: 112.123\tvalid_0's l2: 45023.1\n",
      "[28]\tvalid_0's l1: 112.025\tvalid_0's l2: 45030.9\n",
      "[29]\tvalid_0's l1: 111.945\tvalid_0's l2: 45041.5\n",
      "[30]\tvalid_0's l1: 111.882\tvalid_0's l2: 45055\n",
      "[31]\tvalid_0's l1: 111.83\tvalid_0's l2: 45070.8\n",
      "[32]\tvalid_0's l1: 111.789\tvalid_0's l2: 45087.2\n",
      "[33]\tvalid_0's l1: 111.758\tvalid_0's l2: 45104.3\n",
      "[34]\tvalid_0's l1: 111.734\tvalid_0's l2: 45121.5\n",
      "[35]\tvalid_0's l1: 111.717\tvalid_0's l2: 45140.2\n",
      "[36]\tvalid_0's l1: 111.705\tvalid_0's l2: 45157.8\n",
      "[37]\tvalid_0's l1: 111.697\tvalid_0's l2: 45174.5\n",
      "[38]\tvalid_0's l1: 111.69\tvalid_0's l2: 45190.5\n",
      "[39]\tvalid_0's l1: 111.684\tvalid_0's l2: 45205.5\n",
      "[40]\tvalid_0's l1: 111.682\tvalid_0's l2: 45221.3\n",
      "[41]\tvalid_0's l1: 111.68\tvalid_0's l2: 45235.6\n",
      "[42]\tvalid_0's l1: 111.679\tvalid_0's l2: 45248.3\n",
      "[43]\tvalid_0's l1: 111.676\tvalid_0's l2: 45259\n",
      "[44]\tvalid_0's l1: 111.674\tvalid_0's l2: 45268.7\n",
      "[45]\tvalid_0's l1: 111.675\tvalid_0's l2: 45279.1\n",
      "[46]\tvalid_0's l1: 111.677\tvalid_0's l2: 45288.5\n",
      "[47]\tvalid_0's l1: 111.677\tvalid_0's l2: 45297.1\n",
      "[48]\tvalid_0's l1: 111.679\tvalid_0's l2: 45304.8\n",
      "[49]\tvalid_0's l1: 111.681\tvalid_0's l2: 45312.2\n",
      "[50]\tvalid_0's l1: 111.684\tvalid_0's l2: 45318.9\n",
      "[51]\tvalid_0's l1: 111.685\tvalid_0's l2: 45324.6\n",
      "[52]\tvalid_0's l1: 111.686\tvalid_0's l2: 45329.9\n",
      "[53]\tvalid_0's l1: 111.687\tvalid_0's l2: 45334.8\n",
      "[54]\tvalid_0's l1: 111.688\tvalid_0's l2: 45339.3\n",
      "[55]\tvalid_0's l1: 111.691\tvalid_0's l2: 45344.1\n",
      "[56]\tvalid_0's l1: 111.695\tvalid_0's l2: 45349.3\n",
      "[57]\tvalid_0's l1: 111.697\tvalid_0's l2: 45353.3\n",
      "[58]\tvalid_0's l1: 111.699\tvalid_0's l2: 45356.5\n",
      "[59]\tvalid_0's l1: 111.7\tvalid_0's l2: 45359.4\n",
      "[60]\tvalid_0's l1: 111.701\tvalid_0's l2: 45361.6\n",
      "[61]\tvalid_0's l1: 111.702\tvalid_0's l2: 45364.7\n",
      "[62]\tvalid_0's l1: 111.704\tvalid_0's l2: 45367.1\n",
      "[63]\tvalid_0's l1: 111.705\tvalid_0's l2: 45369.5\n",
      "[64]\tvalid_0's l1: 111.707\tvalid_0's l2: 45371.3\n",
      "[65]\tvalid_0's l1: 111.708\tvalid_0's l2: 45373.2\n",
      "[66]\tvalid_0's l1: 111.708\tvalid_0's l2: 45374.4\n",
      "[67]\tvalid_0's l1: 111.71\tvalid_0's l2: 45376.6\n",
      "[68]\tvalid_0's l1: 111.712\tvalid_0's l2: 45378.4\n",
      "[69]\tvalid_0's l1: 111.712\tvalid_0's l2: 45379.7\n",
      "[70]\tvalid_0's l1: 111.714\tvalid_0's l2: 45380.9\n",
      "[71]\tvalid_0's l1: 111.716\tvalid_0's l2: 45382.5\n",
      "[72]\tvalid_0's l1: 111.718\tvalid_0's l2: 45383.9\n",
      "[73]\tvalid_0's l1: 111.719\tvalid_0's l2: 45385.5\n",
      "[74]\tvalid_0's l1: 111.72\tvalid_0's l2: 45386.2\n",
      "[75]\tvalid_0's l1: 111.722\tvalid_0's l2: 45387.2\n",
      "[76]\tvalid_0's l1: 111.723\tvalid_0's l2: 45388.6\n",
      "[77]\tvalid_0's l1: 111.725\tvalid_0's l2: 45389.7\n",
      "[78]\tvalid_0's l1: 111.727\tvalid_0's l2: 45390.6\n",
      "[79]\tvalid_0's l1: 111.728\tvalid_0's l2: 45391.5\n",
      "[80]\tvalid_0's l1: 111.728\tvalid_0's l2: 45391.6\n",
      "[81]\tvalid_0's l1: 111.73\tvalid_0's l2: 45392.9\n",
      "[82]\tvalid_0's l1: 111.732\tvalid_0's l2: 45393.9\n",
      "[83]\tvalid_0's l1: 111.733\tvalid_0's l2: 45394.1\n",
      "[84]\tvalid_0's l1: 111.734\tvalid_0's l2: 45394.3\n",
      "[85]\tvalid_0's l1: 111.735\tvalid_0's l2: 45395.3\n",
      "[86]\tvalid_0's l1: 111.736\tvalid_0's l2: 45396.3\n",
      "[87]\tvalid_0's l1: 111.738\tvalid_0's l2: 45396.6\n",
      "[88]\tvalid_0's l1: 111.738\tvalid_0's l2: 45397\n",
      "[89]\tvalid_0's l1: 111.74\tvalid_0's l2: 45397.6\n",
      "[90]\tvalid_0's l1: 111.741\tvalid_0's l2: 45398.7\n",
      "[91]\tvalid_0's l1: 111.742\tvalid_0's l2: 45398.8\n",
      "[92]\tvalid_0's l1: 111.743\tvalid_0's l2: 45399.5\n",
      "[93]\tvalid_0's l1: 111.744\tvalid_0's l2: 45400.1\n",
      "[94]\tvalid_0's l1: 111.745\tvalid_0's l2: 45400.2\n",
      "[95]\tvalid_0's l1: 111.746\tvalid_0's l2: 45400.8\n",
      "[96]\tvalid_0's l1: 111.747\tvalid_0's l2: 45401.6\n",
      "[97]\tvalid_0's l1: 111.747\tvalid_0's l2: 45401.8\n",
      "[98]\tvalid_0's l1: 111.748\tvalid_0's l2: 45401.9\n",
      "[99]\tvalid_0's l1: 111.748\tvalid_0's l2: 45402\n",
      "[100]\tvalid_0's l1: 111.75\tvalid_0's l2: 45402.7\n",
      "Did not meet early stopping. Best iteration is:\n",
      "[44]\tvalid_0's l1: 111.674\tvalid_0's l2: 45268.7\n"
     ]
    },
    {
     "data": {
      "text/plain": [
       "LGBMRegressor(boosting_type='gbdt', class_weight=None, colsample_bytree=1.0,\n",
       "              importance_type='split', learning_rate=0.1, max_depth=-1,\n",
       "              min_child_samples=20, min_child_weight=0.001, min_split_gain=0.0,\n",
       "              n_estimators=100, n_jobs=-1, num_leaves=31, objective=None,\n",
       "              random_state=None, reg_alpha=0.0, reg_lambda=0.0, silent=True,\n",
       "              subsample=1.0, subsample_for_bin=200000, subsample_freq=0)"
      ]
     },
     "execution_count": 133,
     "metadata": {},
     "output_type": "execute_result"
    }
   ],
   "source": [
    "gbm.fit(X_train, y_train,\n",
    "        eval_set=[(X_test, y_test)],\n",
    "        eval_metric='l1',\n",
    "        early_stopping_rounds=1000)"
   ]
  },
  {
   "cell_type": "code",
   "execution_count": 134,
   "metadata": {},
   "outputs": [
    {
     "data": {
      "text/plain": [
       "184.14577022468293"
      ]
     },
     "execution_count": 134,
     "metadata": {},
     "output_type": "execute_result"
    }
   ],
   "source": [
    "np.sqrt(metrics.mean_squared_error(y_test, y_pred))"
   ]
  },
  {
   "cell_type": "markdown",
   "metadata": {},
   "source": [
    "# Visualising the Training set results"
   ]
  },
  {
   "cell_type": "code",
   "execution_count": 135,
   "metadata": {},
   "outputs": [
    {
     "name": "stderr",
     "output_type": "stream",
     "text": [
      "C:\\Users\\akhil.damri\\anaconda3\\lib\\site-packages\\lightgbm\\basic.py:253: UserWarning: Usage of np.ndarray subset (sliced data) is not recommended due to it will double the peak memory cost in LightGBM.\n",
      "  warnings.warn(\"Usage of np.ndarray subset (sliced data) is not recommended \"\n"
     ]
    },
    {
     "data": {
      "image/png": "[encoded data removed]",
      "text/plain": [
       "<Figure size 432x288 with 1 Axes>"
      ]
     },
     "metadata": {
      "needs_background": "light"
     },
     "output_type": "display_data"
    }
   ],
   "source": [
    "plt.scatter(X_train, y_train, color = 'red')\n",
    "plt.plot(X_train, gbm.predict(X_train), color = 'blue')\n",
    "\n",
    "plt.ylabel('Number of orders')\n",
    "plt.show()"
   ]
  },
  {
   "cell_type": "markdown",
   "metadata": {},
   "source": [
    "# Visualising the Test set results"
   ]
  },
  {
   "cell_type": "code",
   "execution_count": 136,
   "metadata": {},
   "outputs": [
    {
     "name": "stderr",
     "output_type": "stream",
     "text": [
      "C:\\Users\\akhil.damri\\anaconda3\\lib\\site-packages\\lightgbm\\basic.py:253: UserWarning: Usage of np.ndarray subset (sliced data) is not recommended due to it will double the peak memory cost in LightGBM.\n",
      "  warnings.warn(\"Usage of np.ndarray subset (sliced data) is not recommended \"\n"
     ]
    },
    {
     "data": {
      "image/png": "[encoded data removed]",
      "text/plain": [
       "<Figure size 432x288 with 1 Axes>"
      ]
     },
     "metadata": {
      "needs_background": "light"
     },
     "output_type": "display_data"
    }
   ],
   "source": [
    "plt.scatter(X_test, y_test, color = 'red')\n",
    "plt.plot(X_train, gbm.predict(X_train), color = 'blue')\n",
    "\n",
    "plt.ylabel('Number of orders')\n",
    "plt.show()"
   ]
  },
  {
   "cell_type": "markdown",
   "metadata": {},
   "source": [
    "# Here best is to apply KERNEL PCA with gaussian ..but due to computation not possible"
   ]
  },
  {
   "cell_type": "code",
   "execution_count": null,
   "metadata": {},
   "outputs": [],
   "source": []
  },
  {
   "cell_type": "code",
   "execution_count": 176,
   "metadata": {},
   "outputs": [],
   "source": [
    "y_train= res_train.filter(['num_orders'], axis=1)\n",
    "X_train=res_train.drop(['num_orders'],axis=1)\n",
    "y_test= res_test.filter(['num_orders'], axis=1)\n",
    "X_test=res_test.drop(['num_orders'],axis=1)\n",
    "#y_train=np.log(y_train)"
   ]
  },
  {
   "cell_type": "code",
   "execution_count": 177,
   "metadata": {},
   "outputs": [
    {
     "name": "stdout",
     "output_type": "stream",
     "text": [
      "[1]\tvalid_0's l1: 195.592\tvalid_0's l2: 106982\n",
      "[2]\tvalid_0's l1: 182.781\tvalid_0's l2: 95210.6\n",
      "[3]\tvalid_0's l1: 171.77\tvalid_0's l2: 85868.7\n",
      "[4]\tvalid_0's l1: 162.391\tvalid_0's l2: 77991.5\n",
      "[5]\tvalid_0's l1: 153.958\tvalid_0's l2: 71346.6\n",
      "[6]\tvalid_0's l1: 147.028\tvalid_0's l2: 66297.2\n",
      "[7]\tvalid_0's l1: 141.026\tvalid_0's l2: 61928.8\n",
      "[8]\tvalid_0's l1: 135.237\tvalid_0's l2: 57804.4\n",
      "[9]\tvalid_0's l1: 130.796\tvalid_0's l2: 54787.3\n",
      "[10]\tvalid_0's l1: 126.681\tvalid_0's l2: 52299.7\n",
      "[11]\tvalid_0's l1: 122.628\tvalid_0's l2: 49205.1\n",
      "[12]\tvalid_0's l1: 119.353\tvalid_0's l2: 47545.8\n",
      "[13]\tvalid_0's l1: 116.469\tvalid_0's l2: 45435.4\n",
      "[14]\tvalid_0's l1: 113.975\tvalid_0's l2: 44127.7\n",
      "[15]\tvalid_0's l1: 111.494\tvalid_0's l2: 42475.8\n",
      "[16]\tvalid_0's l1: 109.662\tvalid_0's l2: 41407.8\n",
      "[17]\tvalid_0's l1: 108.046\tvalid_0's l2: 40583.8\n",
      "[18]\tvalid_0's l1: 106.441\tvalid_0's l2: 39552\n",
      "[19]\tvalid_0's l1: 105.242\tvalid_0's l2: 38889.7\n",
      "[20]\tvalid_0's l1: 104.22\tvalid_0's l2: 38340.5\n",
      "[21]\tvalid_0's l1: 103.361\tvalid_0's l2: 37881.3\n",
      "[22]\tvalid_0's l1: 102.385\tvalid_0's l2: 37414.9\n",
      "[23]\tvalid_0's l1: 101.582\tvalid_0's l2: 37123.1\n",
      "[24]\tvalid_0's l1: 101.343\tvalid_0's l2: 36973.4\n",
      "[25]\tvalid_0's l1: 100.731\tvalid_0's l2: 36801.7\n",
      "[26]\tvalid_0's l1: 100.005\tvalid_0's l2: 36200.1\n",
      "[27]\tvalid_0's l1: 99.4611\tvalid_0's l2: 35756.3\n",
      "[28]\tvalid_0's l1: 98.988\tvalid_0's l2: 35595.8\n",
      "[29]\tvalid_0's l1: 98.5545\tvalid_0's l2: 35467.5\n",
      "[30]\tvalid_0's l1: 98.0596\tvalid_0's l2: 35178\n",
      "[31]\tvalid_0's l1: 97.8045\tvalid_0's l2: 35054.2\n",
      "[32]\tvalid_0's l1: 97.2364\tvalid_0's l2: 34718.3\n",
      "[33]\tvalid_0's l1: 96.9766\tvalid_0's l2: 34590.1\n",
      "[34]\tvalid_0's l1: 96.819\tvalid_0's l2: 34625.7\n",
      "[35]\tvalid_0's l1: 96.5264\tvalid_0's l2: 34437.4\n",
      "[36]\tvalid_0's l1: 96.0694\tvalid_0's l2: 34312\n",
      "[37]\tvalid_0's l1: 95.7181\tvalid_0's l2: 34176.8\n",
      "[38]\tvalid_0's l1: 95.5731\tvalid_0's l2: 34150.7\n",
      "[39]\tvalid_0's l1: 95.3728\tvalid_0's l2: 34073.5\n",
      "[40]\tvalid_0's l1: 94.9217\tvalid_0's l2: 33920.5\n",
      "[41]\tvalid_0's l1: 94.7039\tvalid_0's l2: 33874.6\n",
      "[42]\tvalid_0's l1: 94.2662\tvalid_0's l2: 33771.4\n",
      "[43]\tvalid_0's l1: 93.985\tvalid_0's l2: 33657.1\n",
      "[44]\tvalid_0's l1: 93.8496\tvalid_0's l2: 33612.2\n",
      "[45]\tvalid_0's l1: 93.6565\tvalid_0's l2: 33502.6\n",
      "[46]\tvalid_0's l1: 93.4913\tvalid_0's l2: 33485.4\n",
      "[47]\tvalid_0's l1: 93.2159\tvalid_0's l2: 33351.4\n",
      "[48]\tvalid_0's l1: 93.0629\tvalid_0's l2: 33299.3\n",
      "[49]\tvalid_0's l1: 92.9034\tvalid_0's l2: 33242.8\n",
      "[50]\tvalid_0's l1: 92.7789\tvalid_0's l2: 33230.5\n",
      "[51]\tvalid_0's l1: 92.5997\tvalid_0's l2: 33158.5\n",
      "[52]\tvalid_0's l1: 92.4329\tvalid_0's l2: 33098.5\n",
      "[53]\tvalid_0's l1: 92.3786\tvalid_0's l2: 33082.1\n",
      "[54]\tvalid_0's l1: 92.2585\tvalid_0's l2: 33083.8\n",
      "[55]\tvalid_0's l1: 92.1893\tvalid_0's l2: 33039.3\n",
      "[56]\tvalid_0's l1: 91.9686\tvalid_0's l2: 32944.2\n",
      "[57]\tvalid_0's l1: 91.9087\tvalid_0's l2: 32961.1\n",
      "[58]\tvalid_0's l1: 91.7715\tvalid_0's l2: 32870.4\n",
      "[59]\tvalid_0's l1: 91.6975\tvalid_0's l2: 32844.8\n",
      "[60]\tvalid_0's l1: 91.6316\tvalid_0's l2: 32816\n",
      "[61]\tvalid_0's l1: 91.5974\tvalid_0's l2: 32813.3\n",
      "[62]\tvalid_0's l1: 91.3444\tvalid_0's l2: 32725.6\n",
      "[63]\tvalid_0's l1: 91.0569\tvalid_0's l2: 32576.5\n",
      "[64]\tvalid_0's l1: 91.0773\tvalid_0's l2: 32569.9\n",
      "[65]\tvalid_0's l1: 90.9676\tvalid_0's l2: 32552.4\n",
      "[66]\tvalid_0's l1: 90.864\tvalid_0's l2: 32507.2\n",
      "[67]\tvalid_0's l1: 90.7398\tvalid_0's l2: 32465.6\n",
      "[68]\tvalid_0's l1: 90.7046\tvalid_0's l2: 32464\n",
      "[69]\tvalid_0's l1: 90.553\tvalid_0's l2: 32384.6\n",
      "[70]\tvalid_0's l1: 90.5657\tvalid_0's l2: 32383\n",
      "[71]\tvalid_0's l1: 90.494\tvalid_0's l2: 32379\n",
      "[72]\tvalid_0's l1: 90.4597\tvalid_0's l2: 32384.8\n",
      "[73]\tvalid_0's l1: 90.4224\tvalid_0's l2: 32301.6\n",
      "[74]\tvalid_0's l1: 90.418\tvalid_0's l2: 32300.4\n",
      "[75]\tvalid_0's l1: 90.3446\tvalid_0's l2: 32275.8\n",
      "[76]\tvalid_0's l1: 90.286\tvalid_0's l2: 32253\n",
      "[77]\tvalid_0's l1: 90.2418\tvalid_0's l2: 32241.4\n",
      "[78]\tvalid_0's l1: 90.2043\tvalid_0's l2: 32236.1\n",
      "[79]\tvalid_0's l1: 90.2119\tvalid_0's l2: 32241.6\n",
      "[80]\tvalid_0's l1: 90.2354\tvalid_0's l2: 32273\n",
      "[81]\tvalid_0's l1: 90.1951\tvalid_0's l2: 32296.2\n",
      "[82]\tvalid_0's l1: 90.1615\tvalid_0's l2: 32281.5\n",
      "[83]\tvalid_0's l1: 90.0803\tvalid_0's l2: 32260.9\n",
      "[84]\tvalid_0's l1: 90.0852\tvalid_0's l2: 32264.9\n",
      "[85]\tvalid_0's l1: 89.9866\tvalid_0's l2: 32233.6\n",
      "[86]\tvalid_0's l1: 89.9813\tvalid_0's l2: 32233.8\n",
      "[87]\tvalid_0's l1: 90.0178\tvalid_0's l2: 32284.6\n",
      "[88]\tvalid_0's l1: 89.9253\tvalid_0's l2: 32239.4\n",
      "[89]\tvalid_0's l1: 89.8987\tvalid_0's l2: 32233.5\n",
      "[90]\tvalid_0's l1: 89.7694\tvalid_0's l2: 32165.3\n",
      "[91]\tvalid_0's l1: 89.7273\tvalid_0's l2: 32153.6\n",
      "[92]\tvalid_0's l1: 89.6727\tvalid_0's l2: 32112.4\n",
      "[93]\tvalid_0's l1: 89.6311\tvalid_0's l2: 32023.5\n",
      "[94]\tvalid_0's l1: 89.5794\tvalid_0's l2: 32038.2\n",
      "[95]\tvalid_0's l1: 89.5847\tvalid_0's l2: 32038.1\n",
      "[96]\tvalid_0's l1: 89.5084\tvalid_0's l2: 31919.1\n",
      "[97]\tvalid_0's l1: 89.4901\tvalid_0's l2: 31921.1\n",
      "[98]\tvalid_0's l1: 89.4003\tvalid_0's l2: 31875\n",
      "[99]\tvalid_0's l1: 89.3848\tvalid_0's l2: 31886.7\n",
      "[100]\tvalid_0's l1: 89.3677\tvalid_0's l2: 31925.2\n"
     ]
    },
    {
     "data": {
      "text/plain": [
       "LGBMRegressor(boosting_type='gbdt', class_weight=None, colsample_bytree=1.0,\n",
       "              importance_type='split', learning_rate=0.1, max_depth=-1,\n",
       "              min_child_samples=20, min_child_weight=0.001, min_split_gain=0.0,\n",
       "              n_estimators=100, n_jobs=-1, num_leaves=31, objective=None,\n",
       "              random_state=None, reg_alpha=0.0, reg_lambda=0.0, silent=True,\n",
       "              subsample=1.0, subsample_for_bin=200000, subsample_freq=0)"
      ]
     },
     "execution_count": 177,
     "metadata": {},
     "output_type": "execute_result"
    }
   ],
   "source": [
    "gbm.fit(X_train, y_train,\n",
    "        eval_set=[(X_test, y_test)],\n",
    "        eval_metric='l1')"
   ]
  },
  {
   "cell_type": "markdown",
   "metadata": {},
   "source": [
    "# Predicting of global test set"
   ]
  },
  {
   "cell_type": "code",
   "execution_count": null,
   "metadata": {},
   "outputs": [],
   "source": []
  },
  {
   "cell_type": "code",
   "execution_count": 178,
   "metadata": {},
   "outputs": [],
   "source": [
    "gtest=pd.read_csv(\"test_QoiMO9B.csv\")"
   ]
  },
  {
   "cell_type": "markdown",
   "metadata": {},
   "source": [
    "# Shaping the test set by maping and engineering the features same as training set"
   ]
  },
  {
   "cell_type": "code",
   "execution_count": 179,
   "metadata": {},
   "outputs": [],
   "source": [
    "test_set=pd.merge(gtest,df3,on=['meal_id'])\n",
    "test_set=pd.merge(test_set,df2,on=['center_id'])\n",
    "res.sort_values('week',inplace=True)"
   ]
  },
  {
   "cell_type": "code",
   "execution_count": 180,
   "metadata": {},
   "outputs": [
    {
     "data": {
      "text/plain": [
       "Index(['week', 'center_id', 'meal_id', 'checkout_price', 'base_price',\n",
       "       'emailer_for_promotion', 'homepage_featured', 'num_orders',\n",
       "       'region_code', 'center_type', 'op_area', 'discount_amt', 'item'],\n",
       "      dtype='object')"
      ]
     },
     "execution_count": 180,
     "metadata": {},
     "output_type": "execute_result"
    }
   ],
   "source": [
    "res_test.columns"
   ]
  },
  {
   "cell_type": "code",
   "execution_count": 181,
   "metadata": {},
   "outputs": [
    {
     "data": {
      "text/plain": [
       "Index(['id', 'week', 'center_id', 'meal_id', 'checkout_price', 'base_price',\n",
       "       'emailer_for_promotion', 'homepage_featured', 'category', 'cuisine',\n",
       "       'city_code', 'region_code', 'center_type', 'op_area'],\n",
       "      dtype='object')"
      ]
     },
     "execution_count": 181,
     "metadata": {},
     "output_type": "execute_result"
    }
   ],
   "source": [
    "test_set.columns"
   ]
  },
  {
   "cell_type": "code",
   "execution_count": 182,
   "metadata": {},
   "outputs": [],
   "source": [
    "test_set.drop(['city_code','id'],axis=1,inplace=True)"
   ]
  },
  {
   "cell_type": "markdown",
   "metadata": {},
   "source": [
    "Making the item column is test set"
   ]
  },
  {
   "cell_type": "code",
   "execution_count": 183,
   "metadata": {},
   "outputs": [],
   "source": [
    "test_set[\"item\"] = test_set[\"category\"] +\"_\"+ test_set[\"cuisine\"]"
   ]
  },
  {
   "cell_type": "code",
   "execution_count": 184,
   "metadata": {},
   "outputs": [],
   "source": [
    "del test_set['category']\n",
    "del test_set['cuisine']"
   ]
  },
  {
   "cell_type": "code",
   "execution_count": 185,
   "metadata": {},
   "outputs": [
    {
     "data": {
      "text/html": [
       "<div>\n",
       "<style scoped>\n",
       "    .dataframe tbody tr th:only-of-type {\n",
       "        vertical-align: middle;\n",
       "    }\n",
       "\n",
       "    .dataframe tbody tr th {\n",
       "        vertical-align: top;\n",
       "    }\n",
       "\n",
       "    .dataframe thead th {\n",
       "        text-align: right;\n",
       "    }\n",
       "</style>\n",
       "<table border=\"1\" class=\"dataframe\">\n",
       "  <thead>\n",
       "    <tr style=\"text-align: right;\">\n",
       "      <th></th>\n",
       "      <th>week</th>\n",
       "      <th>center_id</th>\n",
       "      <th>meal_id</th>\n",
       "      <th>checkout_price</th>\n",
       "      <th>base_price</th>\n",
       "      <th>emailer_for_promotion</th>\n",
       "      <th>homepage_featured</th>\n",
       "      <th>region_code</th>\n",
       "      <th>center_type</th>\n",
       "      <th>op_area</th>\n",
       "      <th>item</th>\n",
       "    </tr>\n",
       "  </thead>\n",
       "  <tbody>\n",
       "    <tr>\n",
       "      <th>0</th>\n",
       "      <td>146</td>\n",
       "      <td>55</td>\n",
       "      <td>1885</td>\n",
       "      <td>158.11</td>\n",
       "      <td>159.11</td>\n",
       "      <td>0</td>\n",
       "      <td>0</td>\n",
       "      <td>56</td>\n",
       "      <td>TYPE_C</td>\n",
       "      <td>2.0</td>\n",
       "      <td>Beverages_Thai</td>\n",
       "    </tr>\n",
       "    <tr>\n",
       "      <th>1</th>\n",
       "      <td>147</td>\n",
       "      <td>55</td>\n",
       "      <td>1885</td>\n",
       "      <td>159.11</td>\n",
       "      <td>159.11</td>\n",
       "      <td>0</td>\n",
       "      <td>0</td>\n",
       "      <td>56</td>\n",
       "      <td>TYPE_C</td>\n",
       "      <td>2.0</td>\n",
       "      <td>Beverages_Thai</td>\n",
       "    </tr>\n",
       "    <tr>\n",
       "      <th>2</th>\n",
       "      <td>149</td>\n",
       "      <td>55</td>\n",
       "      <td>1885</td>\n",
       "      <td>157.14</td>\n",
       "      <td>158.14</td>\n",
       "      <td>0</td>\n",
       "      <td>0</td>\n",
       "      <td>56</td>\n",
       "      <td>TYPE_C</td>\n",
       "      <td>2.0</td>\n",
       "      <td>Beverages_Thai</td>\n",
       "    </tr>\n",
       "    <tr>\n",
       "      <th>3</th>\n",
       "      <td>150</td>\n",
       "      <td>55</td>\n",
       "      <td>1885</td>\n",
       "      <td>159.14</td>\n",
       "      <td>157.14</td>\n",
       "      <td>0</td>\n",
       "      <td>0</td>\n",
       "      <td>56</td>\n",
       "      <td>TYPE_C</td>\n",
       "      <td>2.0</td>\n",
       "      <td>Beverages_Thai</td>\n",
       "    </tr>\n",
       "    <tr>\n",
       "      <th>4</th>\n",
       "      <td>151</td>\n",
       "      <td>55</td>\n",
       "      <td>1885</td>\n",
       "      <td>160.11</td>\n",
       "      <td>159.11</td>\n",
       "      <td>0</td>\n",
       "      <td>0</td>\n",
       "      <td>56</td>\n",
       "      <td>TYPE_C</td>\n",
       "      <td>2.0</td>\n",
       "      <td>Beverages_Thai</td>\n",
       "    </tr>\n",
       "    <tr>\n",
       "      <th>...</th>\n",
       "      <td>...</td>\n",
       "      <td>...</td>\n",
       "      <td>...</td>\n",
       "      <td>...</td>\n",
       "      <td>...</td>\n",
       "      <td>...</td>\n",
       "      <td>...</td>\n",
       "      <td>...</td>\n",
       "      <td>...</td>\n",
       "      <td>...</td>\n",
       "      <td>...</td>\n",
       "    </tr>\n",
       "    <tr>\n",
       "      <th>32568</th>\n",
       "      <td>146</td>\n",
       "      <td>61</td>\n",
       "      <td>2104</td>\n",
       "      <td>583.03</td>\n",
       "      <td>581.03</td>\n",
       "      <td>0</td>\n",
       "      <td>0</td>\n",
       "      <td>77</td>\n",
       "      <td>TYPE_A</td>\n",
       "      <td>4.5</td>\n",
       "      <td>Fish_Continental</td>\n",
       "    </tr>\n",
       "    <tr>\n",
       "      <th>32569</th>\n",
       "      <td>147</td>\n",
       "      <td>61</td>\n",
       "      <td>2104</td>\n",
       "      <td>582.03</td>\n",
       "      <td>582.03</td>\n",
       "      <td>0</td>\n",
       "      <td>1</td>\n",
       "      <td>77</td>\n",
       "      <td>TYPE_A</td>\n",
       "      <td>4.5</td>\n",
       "      <td>Fish_Continental</td>\n",
       "    </tr>\n",
       "    <tr>\n",
       "      <th>32570</th>\n",
       "      <td>149</td>\n",
       "      <td>61</td>\n",
       "      <td>2104</td>\n",
       "      <td>629.53</td>\n",
       "      <td>629.53</td>\n",
       "      <td>0</td>\n",
       "      <td>0</td>\n",
       "      <td>77</td>\n",
       "      <td>TYPE_A</td>\n",
       "      <td>4.5</td>\n",
       "      <td>Fish_Continental</td>\n",
       "    </tr>\n",
       "    <tr>\n",
       "      <th>32571</th>\n",
       "      <td>150</td>\n",
       "      <td>61</td>\n",
       "      <td>2104</td>\n",
       "      <td>629.53</td>\n",
       "      <td>629.53</td>\n",
       "      <td>0</td>\n",
       "      <td>0</td>\n",
       "      <td>77</td>\n",
       "      <td>TYPE_A</td>\n",
       "      <td>4.5</td>\n",
       "      <td>Fish_Continental</td>\n",
       "    </tr>\n",
       "    <tr>\n",
       "      <th>32572</th>\n",
       "      <td>152</td>\n",
       "      <td>61</td>\n",
       "      <td>2104</td>\n",
       "      <td>630.53</td>\n",
       "      <td>631.53</td>\n",
       "      <td>0</td>\n",
       "      <td>0</td>\n",
       "      <td>77</td>\n",
       "      <td>TYPE_A</td>\n",
       "      <td>4.5</td>\n",
       "      <td>Fish_Continental</td>\n",
       "    </tr>\n",
       "  </tbody>\n",
       "</table>\n",
       "<p>32573 rows × 11 columns</p>\n",
       "</div>"
      ],
      "text/plain": [
       "       week  center_id  meal_id  checkout_price  base_price  \\\n",
       "0       146         55     1885          158.11      159.11   \n",
       "1       147         55     1885          159.11      159.11   \n",
       "2       149         55     1885          157.14      158.14   \n",
       "3       150         55     1885          159.14      157.14   \n",
       "4       151         55     1885          160.11      159.11   \n",
       "...     ...        ...      ...             ...         ...   \n",
       "32568   146         61     2104          583.03      581.03   \n",
       "32569   147         61     2104          582.03      582.03   \n",
       "32570   149         61     2104          629.53      629.53   \n",
       "32571   150         61     2104          629.53      629.53   \n",
       "32572   152         61     2104          630.53      631.53   \n",
       "\n",
       "       emailer_for_promotion  homepage_featured  region_code center_type  \\\n",
       "0                          0                  0           56      TYPE_C   \n",
       "1                          0                  0           56      TYPE_C   \n",
       "2                          0                  0           56      TYPE_C   \n",
       "3                          0                  0           56      TYPE_C   \n",
       "4                          0                  0           56      TYPE_C   \n",
       "...                      ...                ...          ...         ...   \n",
       "32568                      0                  0           77      TYPE_A   \n",
       "32569                      0                  1           77      TYPE_A   \n",
       "32570                      0                  0           77      TYPE_A   \n",
       "32571                      0                  0           77      TYPE_A   \n",
       "32572                      0                  0           77      TYPE_A   \n",
       "\n",
       "       op_area              item  \n",
       "0          2.0    Beverages_Thai  \n",
       "1          2.0    Beverages_Thai  \n",
       "2          2.0    Beverages_Thai  \n",
       "3          2.0    Beverages_Thai  \n",
       "4          2.0    Beverages_Thai  \n",
       "...        ...               ...  \n",
       "32568      4.5  Fish_Continental  \n",
       "32569      4.5  Fish_Continental  \n",
       "32570      4.5  Fish_Continental  \n",
       "32571      4.5  Fish_Continental  \n",
       "32572      4.5  Fish_Continental  \n",
       "\n",
       "[32573 rows x 11 columns]"
      ]
     },
     "execution_count": 185,
     "metadata": {},
     "output_type": "execute_result"
    }
   ],
   "source": [
    "test_set"
   ]
  },
  {
   "cell_type": "code",
   "execution_count": 186,
   "metadata": {},
   "outputs": [
    {
     "data": {
      "text/plain": [
       "item\n",
       "Beverages_Continental    187.544941\n",
       "Beverages_Indian          78.743283\n",
       "Beverages_Italian        417.052537\n",
       "Beverages_Thai           567.435812\n",
       "Biryani_Indian            30.377895\n",
       "Desert_Indian             64.882145\n",
       "Extras_Thai              297.124682\n",
       "Fish_Continental          81.600654\n",
       "Other Snacks_Thai        163.447175\n",
       "Pasta_Italian             59.342252\n",
       "Pizza_Continental        220.003578\n",
       "Rice Bowl_Indian         627.252867\n",
       "Salad_Italian            394.232813\n",
       "Sandwich_Italian         534.568976\n",
       "Seafood_Continental      102.777650\n",
       "Soup_Thai                 78.721555\n",
       "Starters_Thai            160.916568\n",
       "Name: num_orders, dtype: float64"
      ]
     },
     "execution_count": 186,
     "metadata": {},
     "output_type": "execute_result"
    }
   ],
   "source": [
    "encode"
   ]
  },
  {
   "cell_type": "markdown",
   "metadata": {},
   "source": [
    "mapping the item column with training set LOOKUP TABLE "
   ]
  },
  {
   "cell_type": "code",
   "execution_count": 187,
   "metadata": {},
   "outputs": [],
   "source": [
    "test_set.loc[:,'item']=test_set['item'].map(encode)"
   ]
  },
  {
   "cell_type": "markdown",
   "metadata": {},
   "source": [
    "mapping the meail_id and center_id column with training set LOOKUP TABLE "
   ]
  },
  {
   "cell_type": "code",
   "execution_count": 188,
   "metadata": {},
   "outputs": [],
   "source": [
    "test_set.loc[:,'meal_id']=test_set['meal_id'].map(tencode)\n",
    "test_set.loc[:,'center_id']=test_set['center_id'].map(ncode)"
   ]
  },
  {
   "cell_type": "markdown",
   "metadata": {},
   "source": [
    "mapping the Center Type column with training set LOOKUP TABLE "
   ]
  },
  {
   "cell_type": "code",
   "execution_count": 189,
   "metadata": {},
   "outputs": [],
   "source": [
    "test_set.loc[:,'center_type']=test_set['center_type'].map(lookup)"
   ]
  },
  {
   "cell_type": "markdown",
   "metadata": {},
   "source": [
    "Making the discount amt column"
   ]
  },
  {
   "cell_type": "code",
   "execution_count": 190,
   "metadata": {},
   "outputs": [],
   "source": [
    "test_set['discount_amt'] = (test_set['base_price'] - test_set['checkout_price'])\n"
   ]
  },
  {
   "cell_type": "code",
   "execution_count": 191,
   "metadata": {},
   "outputs": [
    {
     "data": {
      "text/plain": [
       "count    32573.000000\n",
       "mean        14.639175\n",
       "std         39.374791\n",
       "min        -76.570000\n",
       "25%         -1.000000\n",
       "50%          0.000000\n",
       "75%          2.000000\n",
       "max        820.590000\n",
       "Name: discount_amt, dtype: float64"
      ]
     },
     "execution_count": 191,
     "metadata": {},
     "output_type": "execute_result"
    }
   ],
   "source": [
    "test_set.discount_amt.describe()"
   ]
  },
  {
   "cell_type": "code",
   "execution_count": 192,
   "metadata": {},
   "outputs": [
    {
     "data": {
      "text/plain": [
       "(410536, 12)"
      ]
     },
     "execution_count": 192,
     "metadata": {},
     "output_type": "execute_result"
    }
   ],
   "source": [
    "X_train.shape"
   ]
  },
  {
   "cell_type": "code",
   "execution_count": 193,
   "metadata": {},
   "outputs": [
    {
     "data": {
      "text/plain": [
       "(32573, 12)"
      ]
     },
     "execution_count": 193,
     "metadata": {},
     "output_type": "execute_result"
    }
   ],
   "source": [
    "test_set.shape"
   ]
  },
  {
   "cell_type": "code",
   "execution_count": 194,
   "metadata": {},
   "outputs": [
    {
     "data": {
      "text/html": [
       "<div>\n",
       "<style scoped>\n",
       "    .dataframe tbody tr th:only-of-type {\n",
       "        vertical-align: middle;\n",
       "    }\n",
       "\n",
       "    .dataframe tbody tr th {\n",
       "        vertical-align: top;\n",
       "    }\n",
       "\n",
       "    .dataframe thead th {\n",
       "        text-align: right;\n",
       "    }\n",
       "</style>\n",
       "<table border=\"1\" class=\"dataframe\">\n",
       "  <thead>\n",
       "    <tr style=\"text-align: right;\">\n",
       "      <th></th>\n",
       "      <th>week</th>\n",
       "      <th>center_id</th>\n",
       "      <th>meal_id</th>\n",
       "      <th>checkout_price</th>\n",
       "      <th>base_price</th>\n",
       "      <th>emailer_for_promotion</th>\n",
       "      <th>homepage_featured</th>\n",
       "      <th>region_code</th>\n",
       "      <th>center_type</th>\n",
       "      <th>op_area</th>\n",
       "      <th>item</th>\n",
       "      <th>discount_amt</th>\n",
       "    </tr>\n",
       "  </thead>\n",
       "  <tbody>\n",
       "    <tr>\n",
       "      <th>0</th>\n",
       "      <td>146</td>\n",
       "      <td>165.758152</td>\n",
       "      <td>756.355467</td>\n",
       "      <td>158.11</td>\n",
       "      <td>159.11</td>\n",
       "      <td>0</td>\n",
       "      <td>0</td>\n",
       "      <td>56</td>\n",
       "      <td>208.512473</td>\n",
       "      <td>2.0</td>\n",
       "      <td>567.435812</td>\n",
       "      <td>1.0</td>\n",
       "    </tr>\n",
       "    <tr>\n",
       "      <th>1</th>\n",
       "      <td>147</td>\n",
       "      <td>165.758152</td>\n",
       "      <td>756.355467</td>\n",
       "      <td>159.11</td>\n",
       "      <td>159.11</td>\n",
       "      <td>0</td>\n",
       "      <td>0</td>\n",
       "      <td>56</td>\n",
       "      <td>208.512473</td>\n",
       "      <td>2.0</td>\n",
       "      <td>567.435812</td>\n",
       "      <td>0.0</td>\n",
       "    </tr>\n",
       "    <tr>\n",
       "      <th>2</th>\n",
       "      <td>149</td>\n",
       "      <td>165.758152</td>\n",
       "      <td>756.355467</td>\n",
       "      <td>157.14</td>\n",
       "      <td>158.14</td>\n",
       "      <td>0</td>\n",
       "      <td>0</td>\n",
       "      <td>56</td>\n",
       "      <td>208.512473</td>\n",
       "      <td>2.0</td>\n",
       "      <td>567.435812</td>\n",
       "      <td>1.0</td>\n",
       "    </tr>\n",
       "    <tr>\n",
       "      <th>3</th>\n",
       "      <td>150</td>\n",
       "      <td>165.758152</td>\n",
       "      <td>756.355467</td>\n",
       "      <td>159.14</td>\n",
       "      <td>157.14</td>\n",
       "      <td>0</td>\n",
       "      <td>0</td>\n",
       "      <td>56</td>\n",
       "      <td>208.512473</td>\n",
       "      <td>2.0</td>\n",
       "      <td>567.435812</td>\n",
       "      <td>-2.0</td>\n",
       "    </tr>\n",
       "    <tr>\n",
       "      <th>4</th>\n",
       "      <td>151</td>\n",
       "      <td>165.758152</td>\n",
       "      <td>756.355467</td>\n",
       "      <td>160.11</td>\n",
       "      <td>159.11</td>\n",
       "      <td>0</td>\n",
       "      <td>0</td>\n",
       "      <td>56</td>\n",
       "      <td>208.512473</td>\n",
       "      <td>2.0</td>\n",
       "      <td>567.435812</td>\n",
       "      <td>-1.0</td>\n",
       "    </tr>\n",
       "    <tr>\n",
       "      <th>...</th>\n",
       "      <td>...</td>\n",
       "      <td>...</td>\n",
       "      <td>...</td>\n",
       "      <td>...</td>\n",
       "      <td>...</td>\n",
       "      <td>...</td>\n",
       "      <td>...</td>\n",
       "      <td>...</td>\n",
       "      <td>...</td>\n",
       "      <td>...</td>\n",
       "      <td>...</td>\n",
       "      <td>...</td>\n",
       "    </tr>\n",
       "    <tr>\n",
       "      <th>32568</th>\n",
       "      <td>146</td>\n",
       "      <td>209.105523</td>\n",
       "      <td>63.001096</td>\n",
       "      <td>583.03</td>\n",
       "      <td>581.03</td>\n",
       "      <td>0</td>\n",
       "      <td>0</td>\n",
       "      <td>77</td>\n",
       "      <td>265.492956</td>\n",
       "      <td>4.5</td>\n",
       "      <td>81.600654</td>\n",
       "      <td>-2.0</td>\n",
       "    </tr>\n",
       "    <tr>\n",
       "      <th>32569</th>\n",
       "      <td>147</td>\n",
       "      <td>209.105523</td>\n",
       "      <td>63.001096</td>\n",
       "      <td>582.03</td>\n",
       "      <td>582.03</td>\n",
       "      <td>0</td>\n",
       "      <td>1</td>\n",
       "      <td>77</td>\n",
       "      <td>265.492956</td>\n",
       "      <td>4.5</td>\n",
       "      <td>81.600654</td>\n",
       "      <td>0.0</td>\n",
       "    </tr>\n",
       "    <tr>\n",
       "      <th>32570</th>\n",
       "      <td>149</td>\n",
       "      <td>209.105523</td>\n",
       "      <td>63.001096</td>\n",
       "      <td>629.53</td>\n",
       "      <td>629.53</td>\n",
       "      <td>0</td>\n",
       "      <td>0</td>\n",
       "      <td>77</td>\n",
       "      <td>265.492956</td>\n",
       "      <td>4.5</td>\n",
       "      <td>81.600654</td>\n",
       "      <td>0.0</td>\n",
       "    </tr>\n",
       "    <tr>\n",
       "      <th>32571</th>\n",
       "      <td>150</td>\n",
       "      <td>209.105523</td>\n",
       "      <td>63.001096</td>\n",
       "      <td>629.53</td>\n",
       "      <td>629.53</td>\n",
       "      <td>0</td>\n",
       "      <td>0</td>\n",
       "      <td>77</td>\n",
       "      <td>265.492956</td>\n",
       "      <td>4.5</td>\n",
       "      <td>81.600654</td>\n",
       "      <td>0.0</td>\n",
       "    </tr>\n",
       "    <tr>\n",
       "      <th>32572</th>\n",
       "      <td>152</td>\n",
       "      <td>209.105523</td>\n",
       "      <td>63.001096</td>\n",
       "      <td>630.53</td>\n",
       "      <td>631.53</td>\n",
       "      <td>0</td>\n",
       "      <td>0</td>\n",
       "      <td>77</td>\n",
       "      <td>265.492956</td>\n",
       "      <td>4.5</td>\n",
       "      <td>81.600654</td>\n",
       "      <td>1.0</td>\n",
       "    </tr>\n",
       "  </tbody>\n",
       "</table>\n",
       "<p>32573 rows × 12 columns</p>\n",
       "</div>"
      ],
      "text/plain": [
       "       week   center_id     meal_id  checkout_price  base_price  \\\n",
       "0       146  165.758152  756.355467          158.11      159.11   \n",
       "1       147  165.758152  756.355467          159.11      159.11   \n",
       "2       149  165.758152  756.355467          157.14      158.14   \n",
       "3       150  165.758152  756.355467          159.14      157.14   \n",
       "4       151  165.758152  756.355467          160.11      159.11   \n",
       "...     ...         ...         ...             ...         ...   \n",
       "32568   146  209.105523   63.001096          583.03      581.03   \n",
       "32569   147  209.105523   63.001096          582.03      582.03   \n",
       "32570   149  209.105523   63.001096          629.53      629.53   \n",
       "32571   150  209.105523   63.001096          629.53      629.53   \n",
       "32572   152  209.105523   63.001096          630.53      631.53   \n",
       "\n",
       "       emailer_for_promotion  homepage_featured  region_code  center_type  \\\n",
       "0                          0                  0           56   208.512473   \n",
       "1                          0                  0           56   208.512473   \n",
       "2                          0                  0           56   208.512473   \n",
       "3                          0                  0           56   208.512473   \n",
       "4                          0                  0           56   208.512473   \n",
       "...                      ...                ...          ...          ...   \n",
       "32568                      0                  0           77   265.492956   \n",
       "32569                      0                  1           77   265.492956   \n",
       "32570                      0                  0           77   265.492956   \n",
       "32571                      0                  0           77   265.492956   \n",
       "32572                      0                  0           77   265.492956   \n",
       "\n",
       "       op_area        item  discount_amt  \n",
       "0          2.0  567.435812           1.0  \n",
       "1          2.0  567.435812           0.0  \n",
       "2          2.0  567.435812           1.0  \n",
       "3          2.0  567.435812          -2.0  \n",
       "4          2.0  567.435812          -1.0  \n",
       "...        ...         ...           ...  \n",
       "32568      4.5   81.600654          -2.0  \n",
       "32569      4.5   81.600654           0.0  \n",
       "32570      4.5   81.600654           0.0  \n",
       "32571      4.5   81.600654           0.0  \n",
       "32572      4.5   81.600654           1.0  \n",
       "\n",
       "[32573 rows x 12 columns]"
      ]
     },
     "execution_count": 194,
     "metadata": {},
     "output_type": "execute_result"
    }
   ],
   "source": [
    "test_set"
   ]
  },
  {
   "cell_type": "code",
   "execution_count": null,
   "metadata": {},
   "outputs": [],
   "source": []
  },
  {
   "cell_type": "markdown",
   "metadata": {},
   "source": [
    "predicting the values on test set"
   ]
  },
  {
   "cell_type": "code",
   "execution_count": null,
   "metadata": {},
   "outputs": [],
   "source": []
  },
  {
   "cell_type": "code",
   "execution_count": 195,
   "metadata": {},
   "outputs": [
    {
     "data": {
      "text/plain": [
       "Index(['week', 'center_id', 'meal_id', 'checkout_price', 'base_price',\n",
       "       'emailer_for_promotion', 'homepage_featured', 'region_code',\n",
       "       'center_type', 'op_area', 'item', 'discount_amt'],\n",
       "      dtype='object')"
      ]
     },
     "execution_count": 195,
     "metadata": {},
     "output_type": "execute_result"
    }
   ],
   "source": [
    "(test_set.columns)"
   ]
  },
  {
   "cell_type": "code",
   "execution_count": 196,
   "metadata": {},
   "outputs": [
    {
     "data": {
      "text/plain": [
       "Index(['week', 'center_id', 'meal_id', 'checkout_price', 'base_price',\n",
       "       'emailer_for_promotion', 'homepage_featured', 'region_code',\n",
       "       'center_type', 'op_area', 'discount_amt', 'item'],\n",
       "      dtype='object')"
      ]
     },
     "execution_count": 196,
     "metadata": {},
     "output_type": "execute_result"
    }
   ],
   "source": [
    "X_train.columns"
   ]
  },
  {
   "cell_type": "code",
   "execution_count": 197,
   "metadata": {},
   "outputs": [
    {
     "data": {
      "text/plain": [
       "Index(['week', 'center_id', 'meal_id', 'checkout_price', 'base_price',\n",
       "       'emailer_for_promotion', 'homepage_featured', 'num_orders', 'city_code',\n",
       "       'region_code', 'center_type', 'op_area', 'discount', 'discount_amt',\n",
       "       'item'],\n",
       "      dtype='object')"
      ]
     },
     "execution_count": 197,
     "metadata": {},
     "output_type": "execute_result"
    }
   ],
   "source": [
    "res.columns"
   ]
  },
  {
   "cell_type": "code",
   "execution_count": 198,
   "metadata": {},
   "outputs": [
    {
     "data": {
      "text/plain": [
       "Index(['week', 'center_id', 'meal_id', 'checkout_price', 'base_price',\n",
       "       'emailer_for_promotion', 'homepage_featured', 'region_code',\n",
       "       'center_type', 'op_area', 'discount_amt', 'item'],\n",
       "      dtype='object')"
      ]
     },
     "execution_count": 198,
     "metadata": {},
     "output_type": "execute_result"
    }
   ],
   "source": [
    "X_train.columns"
   ]
  },
  {
   "cell_type": "markdown",
   "metadata": {},
   "source": [
    "# Training on whole set"
   ]
  },
  {
   "cell_type": "code",
   "execution_count": 160,
   "metadata": {},
   "outputs": [],
   "source": [
    "ds=res"
   ]
  },
  {
   "cell_type": "code",
   "execution_count": 161,
   "metadata": {},
   "outputs": [],
   "source": [
    "\n",
    "ds.loc[:,'center_type']=ds['center_type'].map(ds.groupby('center_type').num_orders.mean())\n",
    "ds.loc[:,'item']=ds['item'].map(ds.groupby('item').num_orders.mean())\n",
    "\n",
    "ds.loc[:,'meal_id']=ds['meal_id'].map(ds.groupby('meal_id').num_orders.mean())\n",
    "ds.loc[:,'center_id']=ds['center_id'].map(ds.groupby('center_id').num_orders.mean())"
   ]
  },
  {
   "cell_type": "code",
   "execution_count": null,
   "metadata": {},
   "outputs": [],
   "source": []
  },
  {
   "cell_type": "code",
   "execution_count": 162,
   "metadata": {},
   "outputs": [],
   "source": [
    "y= ds.filter(['num_orders'], axis=1)\n",
    "X=ds.drop(['num_orders'],axis=1)\n"
   ]
  },
  {
   "cell_type": "code",
   "execution_count": 163,
   "metadata": {},
   "outputs": [
    {
     "data": {
      "text/plain": [
       "Index(['week', 'center_id', 'meal_id', 'checkout_price', 'base_price',\n",
       "       'emailer_for_promotion', 'homepage_featured', 'city_code',\n",
       "       'region_code', 'center_type', 'op_area', 'discount', 'discount_amt',\n",
       "       'item'],\n",
       "      dtype='object')"
      ]
     },
     "execution_count": 163,
     "metadata": {},
     "output_type": "execute_result"
    }
   ],
   "source": [
    "X.columns"
   ]
  },
  {
   "cell_type": "code",
   "execution_count": 164,
   "metadata": {},
   "outputs": [],
   "source": [
    "X.drop(['city_code','discount'],axis=1,inplace=True)"
   ]
  },
  {
   "cell_type": "code",
   "execution_count": 165,
   "metadata": {},
   "outputs": [
    {
     "data": {
      "text/plain": [
       "week                       int64\n",
       "center_id                float64\n",
       "meal_id                  float64\n",
       "checkout_price           float64\n",
       "base_price               float64\n",
       "emailer_for_promotion      int64\n",
       "homepage_featured          int64\n",
       "region_code                int64\n",
       "center_type              float64\n",
       "op_area                  float64\n",
       "discount_amt             float64\n",
       "item                     float64\n",
       "dtype: object"
      ]
     },
     "execution_count": 165,
     "metadata": {},
     "output_type": "execute_result"
    }
   ],
   "source": [
    "X.dtypes"
   ]
  },
  {
   "cell_type": "code",
   "execution_count": 166,
   "metadata": {},
   "outputs": [
    {
     "name": "stdout",
     "output_type": "stream",
     "text": [
      "[1]\tvalid_0's l1: 212.476\tvalid_0's l2: 137439\n",
      "[2]\tvalid_0's l1: 198.817\tvalid_0's l2: 121815\n",
      "[3]\tvalid_0's l1: 186.957\tvalid_0's l2: 108851\n",
      "[4]\tvalid_0's l1: 176.353\tvalid_0's l2: 97879.9\n",
      "[5]\tvalid_0's l1: 167.145\tvalid_0's l2: 88852.7\n",
      "[6]\tvalid_0's l1: 159.005\tvalid_0's l2: 81312.3\n",
      "[7]\tvalid_0's l1: 152.125\tvalid_0's l2: 75023.4\n",
      "[8]\tvalid_0's l1: 145.831\tvalid_0's l2: 69646.6\n",
      "[9]\tvalid_0's l1: 140.408\tvalid_0's l2: 65149.2\n",
      "[10]\tvalid_0's l1: 135.626\tvalid_0's l2: 61164\n",
      "[11]\tvalid_0's l1: 131.251\tvalid_0's l2: 57642.5\n",
      "[12]\tvalid_0's l1: 127.407\tvalid_0's l2: 54845.6\n",
      "[13]\tvalid_0's l1: 124.059\tvalid_0's l2: 52381.6\n",
      "[14]\tvalid_0's l1: 120.937\tvalid_0's l2: 50260.9\n",
      "[15]\tvalid_0's l1: 118.297\tvalid_0's l2: 48479.5\n",
      "[16]\tvalid_0's l1: 115.942\tvalid_0's l2: 46929.7\n",
      "[17]\tvalid_0's l1: 113.983\tvalid_0's l2: 45406.5\n",
      "[18]\tvalid_0's l1: 112.161\tvalid_0's l2: 44114.7\n",
      "[19]\tvalid_0's l1: 110.534\tvalid_0's l2: 43006.9\n",
      "[20]\tvalid_0's l1: 109.213\tvalid_0's l2: 42030.7\n",
      "[21]\tvalid_0's l1: 107.853\tvalid_0's l2: 41130.5\n",
      "[22]\tvalid_0's l1: 106.663\tvalid_0's l2: 40319.6\n",
      "[23]\tvalid_0's l1: 105.572\tvalid_0's l2: 39726.2\n",
      "[24]\tvalid_0's l1: 104.79\tvalid_0's l2: 39042\n",
      "[25]\tvalid_0's l1: 103.931\tvalid_0's l2: 38540.7\n",
      "[26]\tvalid_0's l1: 103.164\tvalid_0's l2: 37913.3\n",
      "[27]\tvalid_0's l1: 102.527\tvalid_0's l2: 37398.2\n",
      "[28]\tvalid_0's l1: 101.878\tvalid_0's l2: 37026.1\n",
      "[29]\tvalid_0's l1: 101.394\tvalid_0's l2: 36726.2\n",
      "[30]\tvalid_0's l1: 100.747\tvalid_0's l2: 36366.4\n",
      "[31]\tvalid_0's l1: 100.36\tvalid_0's l2: 35923.4\n",
      "[32]\tvalid_0's l1: 99.7063\tvalid_0's l2: 35486.4\n",
      "[33]\tvalid_0's l1: 99.2637\tvalid_0's l2: 35074.3\n",
      "[34]\tvalid_0's l1: 98.8994\tvalid_0's l2: 34861.3\n",
      "[35]\tvalid_0's l1: 98.5202\tvalid_0's l2: 34554.5\n",
      "[36]\tvalid_0's l1: 97.9359\tvalid_0's l2: 34263.3\n",
      "[37]\tvalid_0's l1: 97.6363\tvalid_0's l2: 34055.3\n",
      "[38]\tvalid_0's l1: 97.3598\tvalid_0's l2: 33838.1\n",
      "[39]\tvalid_0's l1: 97.0498\tvalid_0's l2: 33622.5\n",
      "[40]\tvalid_0's l1: 96.595\tvalid_0's l2: 33391.7\n",
      "[41]\tvalid_0's l1: 96.2887\tvalid_0's l2: 33138.6\n",
      "[42]\tvalid_0's l1: 96.0848\tvalid_0's l2: 32962.4\n",
      "[43]\tvalid_0's l1: 95.7748\tvalid_0's l2: 32788.6\n",
      "[44]\tvalid_0's l1: 95.7345\tvalid_0's l2: 32632.1\n",
      "[45]\tvalid_0's l1: 95.5417\tvalid_0's l2: 32456.5\n",
      "[46]\tvalid_0's l1: 95.2487\tvalid_0's l2: 32317.6\n",
      "[47]\tvalid_0's l1: 94.9414\tvalid_0's l2: 32154.3\n",
      "[48]\tvalid_0's l1: 94.7413\tvalid_0's l2: 32016.9\n",
      "[49]\tvalid_0's l1: 94.4995\tvalid_0's l2: 31886.7\n",
      "[50]\tvalid_0's l1: 94.3193\tvalid_0's l2: 31688.7\n",
      "[51]\tvalid_0's l1: 94.1193\tvalid_0's l2: 31566\n",
      "[52]\tvalid_0's l1: 93.8408\tvalid_0's l2: 31371.8\n",
      "[53]\tvalid_0's l1: 93.728\tvalid_0's l2: 31209.1\n",
      "[54]\tvalid_0's l1: 93.5704\tvalid_0's l2: 31100.1\n",
      "[55]\tvalid_0's l1: 93.4462\tvalid_0's l2: 31004.2\n",
      "[56]\tvalid_0's l1: 93.2909\tvalid_0's l2: 30921.5\n",
      "[57]\tvalid_0's l1: 93.1622\tvalid_0's l2: 30697.7\n",
      "[58]\tvalid_0's l1: 93.022\tvalid_0's l2: 30587.9\n",
      "[59]\tvalid_0's l1: 92.8905\tvalid_0's l2: 30497.5\n",
      "[60]\tvalid_0's l1: 92.7862\tvalid_0's l2: 30397.6\n",
      "[61]\tvalid_0's l1: 92.6362\tvalid_0's l2: 30301\n",
      "[62]\tvalid_0's l1: 92.4371\tvalid_0's l2: 30157.3\n",
      "[63]\tvalid_0's l1: 92.3344\tvalid_0's l2: 30054.2\n",
      "[64]\tvalid_0's l1: 92.2481\tvalid_0's l2: 29992.5\n",
      "[65]\tvalid_0's l1: 92.1101\tvalid_0's l2: 29906.7\n",
      "[66]\tvalid_0's l1: 92.0009\tvalid_0's l2: 29855.3\n",
      "[67]\tvalid_0's l1: 91.8631\tvalid_0's l2: 29778.2\n",
      "[68]\tvalid_0's l1: 91.8131\tvalid_0's l2: 29703.6\n",
      "[69]\tvalid_0's l1: 91.7076\tvalid_0's l2: 29618\n",
      "[70]\tvalid_0's l1: 91.6187\tvalid_0's l2: 29554.4\n",
      "[71]\tvalid_0's l1: 91.5503\tvalid_0's l2: 29514.3\n",
      "[72]\tvalid_0's l1: 91.4331\tvalid_0's l2: 29393.5\n",
      "[73]\tvalid_0's l1: 91.3288\tvalid_0's l2: 29292.5\n",
      "[74]\tvalid_0's l1: 91.2994\tvalid_0's l2: 29258.3\n",
      "[75]\tvalid_0's l1: 91.2303\tvalid_0's l2: 29205.1\n",
      "[76]\tvalid_0's l1: 91.1739\tvalid_0's l2: 29163.4\n",
      "[77]\tvalid_0's l1: 91.1123\tvalid_0's l2: 29119.2\n",
      "[78]\tvalid_0's l1: 91.0097\tvalid_0's l2: 29050.9\n",
      "[79]\tvalid_0's l1: 90.9258\tvalid_0's l2: 28985.6\n",
      "[80]\tvalid_0's l1: 90.8628\tvalid_0's l2: 28900.8\n",
      "[81]\tvalid_0's l1: 90.8288\tvalid_0's l2: 28871.8\n",
      "[82]\tvalid_0's l1: 90.7878\tvalid_0's l2: 28834.5\n",
      "[83]\tvalid_0's l1: 90.7012\tvalid_0's l2: 28797.9\n",
      "[84]\tvalid_0's l1: 90.6368\tvalid_0's l2: 28716.9\n",
      "[85]\tvalid_0's l1: 90.5614\tvalid_0's l2: 28649.8\n",
      "[86]\tvalid_0's l1: 90.4704\tvalid_0's l2: 28567.6\n",
      "[87]\tvalid_0's l1: 90.4264\tvalid_0's l2: 28482.9\n",
      "[88]\tvalid_0's l1: 90.3072\tvalid_0's l2: 28429.9\n",
      "[89]\tvalid_0's l1: 90.2603\tvalid_0's l2: 28392.4\n",
      "[90]\tvalid_0's l1: 90.1066\tvalid_0's l2: 28317\n",
      "[91]\tvalid_0's l1: 90.0579\tvalid_0's l2: 28276.1\n",
      "[92]\tvalid_0's l1: 89.9658\tvalid_0's l2: 28188.8\n",
      "[93]\tvalid_0's l1: 89.897\tvalid_0's l2: 28099.2\n",
      "[94]\tvalid_0's l1: 89.8196\tvalid_0's l2: 28017.4\n",
      "[95]\tvalid_0's l1: 89.7903\tvalid_0's l2: 27992\n",
      "[96]\tvalid_0's l1: 89.7237\tvalid_0's l2: 27894.5\n",
      "[97]\tvalid_0's l1: 89.6941\tvalid_0's l2: 27875.7\n",
      "[98]\tvalid_0's l1: 89.6093\tvalid_0's l2: 27823.1\n",
      "[99]\tvalid_0's l1: 89.5666\tvalid_0's l2: 27791.2\n",
      "[100]\tvalid_0's l1: 89.5264\tvalid_0's l2: 27735.1\n"
     ]
    },
    {
     "data": {
      "text/plain": [
       "LGBMRegressor(boosting_type='gbdt', class_weight=None, colsample_bytree=1.0,\n",
       "              importance_type='split', learning_rate=0.1, max_depth=-1,\n",
       "              min_child_samples=20, min_child_weight=0.001, min_split_gain=0.0,\n",
       "              n_estimators=100, n_jobs=-1, num_leaves=31, objective=None,\n",
       "              random_state=None, reg_alpha=0.0, reg_lambda=0.0, silent=True,\n",
       "              subsample=1.0, subsample_for_bin=200000, subsample_freq=0)"
      ]
     },
     "execution_count": 166,
     "metadata": {},
     "output_type": "execute_result"
    }
   ],
   "source": [
    "gbm.fit(X_train, y_train,\n",
    "        eval_set=[(X, y)],\n",
    "        eval_metric='l1')"
   ]
  },
  {
   "cell_type": "code",
   "execution_count": 199,
   "metadata": {},
   "outputs": [],
   "source": [
    "pred=gbm.predict(test_set)"
   ]
  },
  {
   "cell_type": "code",
   "execution_count": 200,
   "metadata": {},
   "outputs": [
    {
     "name": "stdout",
     "output_type": "stream",
     "text": [
      "1\n"
     ]
    }
   ],
   "source": [
    "flag=0\n",
    "for i in pred:\n",
    "    if i<0:\n",
    "        flag=flag+1\n",
    "print(flag)"
   ]
  },
  {
   "cell_type": "code",
   "execution_count": 201,
   "metadata": {},
   "outputs": [],
   "source": [
    "pred=pd.DataFrame(pred)"
   ]
  },
  {
   "cell_type": "code",
   "execution_count": 202,
   "metadata": {},
   "outputs": [],
   "source": [
    "main= gtest.filter(['id'], axis=1)"
   ]
  },
  {
   "cell_type": "code",
   "execution_count": 203,
   "metadata": {},
   "outputs": [],
   "source": [
    "big=pd.concat([main, pred], axis=1)"
   ]
  },
  {
   "cell_type": "code",
   "execution_count": 205,
   "metadata": {},
   "outputs": [],
   "source": [
    "big.to_csv(\"sol1.csv\")"
   ]
  },
  {
   "cell_type": "code",
   "execution_count": null,
   "metadata": {},
   "outputs": [],
   "source": []
  },
  {
   "cell_type": "code",
   "execution_count": 173,
   "metadata": {},
   "outputs": [
    {
     "name": "stdout",
     "output_type": "stream",
     "text": [
      "0\n"
     ]
    }
   ],
   "source": [
    "flag=0\n",
    "for i in pred:\n",
    "    if i<0:\n",
    "        flag=flag+1\n",
    "print(flag)"
   ]
  },
  {
   "cell_type": "code",
   "execution_count": null,
   "metadata": {},
   "outputs": [],
   "source": []
  }
 ],
 "metadata": {
  "kernelspec": {
   "display_name": "Python 3",
   "language": "python",
   "name": "python3"
  },
  "language_info": {
   "codemirror_mode": {
    "name": "ipython",
    "version": 3
   },
   "file_extension": ".py",
   "mimetype": "text/x-python",
   "name": "python",
   "nbconvert_exporter": "python",
   "pygments_lexer": "ipython3",
   "version": "3.7.6"
  }
 },
 "nbformat": 4,
 "nbformat_minor": 4
}
