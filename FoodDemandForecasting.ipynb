{
 "cells": [
  {
   "cell_type": "code",
   "execution_count": 1,
   "metadata": {},
   "outputs": [],
   "source": [
    "import pandas as pd\n",
    "import numpy as np\n",
    "#For plotting\n",
    "from matplotlib import pyplot as plt\n",
    "import seaborn as sns\n",
    "%matplotlib inline\n",
    "from sklearn.metrics import r2_score\n"
   ]
  },
  {
   "cell_type": "code",
   "execution_count": 2,
   "metadata": {},
   "outputs": [],
   "source": [
    "df1=pd.read_csv(\"train.csv\")\n",
    "df2=pd.read_csv(\"fulfilment_center_info.csv\")\n",
    "df3=pd.read_csv(\"meal_info.csv\")"
   ]
  },
  {
   "cell_type": "code",
   "execution_count": 3,
   "metadata": {},
   "outputs": [
    {
     "data": {
      "text/html": [
       "<div>\n",
       "<style scoped>\n",
       "    .dataframe tbody tr th:only-of-type {\n",
       "        vertical-align: middle;\n",
       "    }\n",
       "\n",
       "    .dataframe tbody tr th {\n",
       "        vertical-align: top;\n",
       "    }\n",
       "\n",
       "    .dataframe thead th {\n",
       "        text-align: right;\n",
       "    }\n",
       "</style>\n",
       "<table border=\"1\" class=\"dataframe\">\n",
       "  <thead>\n",
       "    <tr style=\"text-align: right;\">\n",
       "      <th></th>\n",
       "      <th>id</th>\n",
       "      <th>week</th>\n",
       "      <th>center_id</th>\n",
       "      <th>meal_id</th>\n",
       "      <th>checkout_price</th>\n",
       "      <th>base_price</th>\n",
       "      <th>emailer_for_promotion</th>\n",
       "      <th>homepage_featured</th>\n",
       "      <th>num_orders</th>\n",
       "    </tr>\n",
       "  </thead>\n",
       "  <tbody>\n",
       "    <tr>\n",
       "      <th>0</th>\n",
       "      <td>1379560</td>\n",
       "      <td>1</td>\n",
       "      <td>55</td>\n",
       "      <td>1885</td>\n",
       "      <td>136.83</td>\n",
       "      <td>152.29</td>\n",
       "      <td>0</td>\n",
       "      <td>0</td>\n",
       "      <td>177</td>\n",
       "    </tr>\n",
       "    <tr>\n",
       "      <th>1</th>\n",
       "      <td>1466964</td>\n",
       "      <td>1</td>\n",
       "      <td>55</td>\n",
       "      <td>1993</td>\n",
       "      <td>136.83</td>\n",
       "      <td>135.83</td>\n",
       "      <td>0</td>\n",
       "      <td>0</td>\n",
       "      <td>270</td>\n",
       "    </tr>\n",
       "    <tr>\n",
       "      <th>2</th>\n",
       "      <td>1346989</td>\n",
       "      <td>1</td>\n",
       "      <td>55</td>\n",
       "      <td>2539</td>\n",
       "      <td>134.86</td>\n",
       "      <td>135.86</td>\n",
       "      <td>0</td>\n",
       "      <td>0</td>\n",
       "      <td>189</td>\n",
       "    </tr>\n",
       "    <tr>\n",
       "      <th>3</th>\n",
       "      <td>1338232</td>\n",
       "      <td>1</td>\n",
       "      <td>55</td>\n",
       "      <td>2139</td>\n",
       "      <td>339.50</td>\n",
       "      <td>437.53</td>\n",
       "      <td>0</td>\n",
       "      <td>0</td>\n",
       "      <td>54</td>\n",
       "    </tr>\n",
       "    <tr>\n",
       "      <th>4</th>\n",
       "      <td>1448490</td>\n",
       "      <td>1</td>\n",
       "      <td>55</td>\n",
       "      <td>2631</td>\n",
       "      <td>243.50</td>\n",
       "      <td>242.50</td>\n",
       "      <td>0</td>\n",
       "      <td>0</td>\n",
       "      <td>40</td>\n",
       "    </tr>\n",
       "  </tbody>\n",
       "</table>\n",
       "</div>"
      ],
      "text/plain": [
       "        id  week  center_id  meal_id  checkout_price  base_price  \\\n",
       "0  1379560     1         55     1885          136.83      152.29   \n",
       "1  1466964     1         55     1993          136.83      135.83   \n",
       "2  1346989     1         55     2539          134.86      135.86   \n",
       "3  1338232     1         55     2139          339.50      437.53   \n",
       "4  1448490     1         55     2631          243.50      242.50   \n",
       "\n",
       "   emailer_for_promotion  homepage_featured  num_orders  \n",
       "0                      0                  0         177  \n",
       "1                      0                  0         270  \n",
       "2                      0                  0         189  \n",
       "3                      0                  0          54  \n",
       "4                      0                  0          40  "
      ]
     },
     "execution_count": 3,
     "metadata": {},
     "output_type": "execute_result"
    }
   ],
   "source": [
    "df1.head()"
   ]
  },
  {
   "cell_type": "code",
   "execution_count": 4,
   "metadata": {},
   "outputs": [
    {
     "data": {
      "text/html": [
       "<div>\n",
       "<style scoped>\n",
       "    .dataframe tbody tr th:only-of-type {\n",
       "        vertical-align: middle;\n",
       "    }\n",
       "\n",
       "    .dataframe tbody tr th {\n",
       "        vertical-align: top;\n",
       "    }\n",
       "\n",
       "    .dataframe thead th {\n",
       "        text-align: right;\n",
       "    }\n",
       "</style>\n",
       "<table border=\"1\" class=\"dataframe\">\n",
       "  <thead>\n",
       "    <tr style=\"text-align: right;\">\n",
       "      <th></th>\n",
       "      <th>center_id</th>\n",
       "      <th>city_code</th>\n",
       "      <th>region_code</th>\n",
       "      <th>center_type</th>\n",
       "      <th>op_area</th>\n",
       "    </tr>\n",
       "  </thead>\n",
       "  <tbody>\n",
       "    <tr>\n",
       "      <th>0</th>\n",
       "      <td>11</td>\n",
       "      <td>679</td>\n",
       "      <td>56</td>\n",
       "      <td>TYPE_A</td>\n",
       "      <td>3.7</td>\n",
       "    </tr>\n",
       "    <tr>\n",
       "      <th>1</th>\n",
       "      <td>13</td>\n",
       "      <td>590</td>\n",
       "      <td>56</td>\n",
       "      <td>TYPE_B</td>\n",
       "      <td>6.7</td>\n",
       "    </tr>\n",
       "    <tr>\n",
       "      <th>2</th>\n",
       "      <td>124</td>\n",
       "      <td>590</td>\n",
       "      <td>56</td>\n",
       "      <td>TYPE_C</td>\n",
       "      <td>4.0</td>\n",
       "    </tr>\n",
       "    <tr>\n",
       "      <th>3</th>\n",
       "      <td>66</td>\n",
       "      <td>648</td>\n",
       "      <td>34</td>\n",
       "      <td>TYPE_A</td>\n",
       "      <td>4.1</td>\n",
       "    </tr>\n",
       "    <tr>\n",
       "      <th>4</th>\n",
       "      <td>94</td>\n",
       "      <td>632</td>\n",
       "      <td>34</td>\n",
       "      <td>TYPE_C</td>\n",
       "      <td>3.6</td>\n",
       "    </tr>\n",
       "  </tbody>\n",
       "</table>\n",
       "</div>"
      ],
      "text/plain": [
       "   center_id  city_code  region_code center_type  op_area\n",
       "0         11        679           56      TYPE_A      3.7\n",
       "1         13        590           56      TYPE_B      6.7\n",
       "2        124        590           56      TYPE_C      4.0\n",
       "3         66        648           34      TYPE_A      4.1\n",
       "4         94        632           34      TYPE_C      3.6"
      ]
     },
     "execution_count": 4,
     "metadata": {},
     "output_type": "execute_result"
    }
   ],
   "source": [
    "df2.head()"
   ]
  },
  {
   "cell_type": "code",
   "execution_count": 5,
   "metadata": {},
   "outputs": [
    {
     "data": {
      "text/html": [
       "<div>\n",
       "<style scoped>\n",
       "    .dataframe tbody tr th:only-of-type {\n",
       "        vertical-align: middle;\n",
       "    }\n",
       "\n",
       "    .dataframe tbody tr th {\n",
       "        vertical-align: top;\n",
       "    }\n",
       "\n",
       "    .dataframe thead th {\n",
       "        text-align: right;\n",
       "    }\n",
       "</style>\n",
       "<table border=\"1\" class=\"dataframe\">\n",
       "  <thead>\n",
       "    <tr style=\"text-align: right;\">\n",
       "      <th></th>\n",
       "      <th>meal_id</th>\n",
       "      <th>category</th>\n",
       "      <th>cuisine</th>\n",
       "    </tr>\n",
       "  </thead>\n",
       "  <tbody>\n",
       "    <tr>\n",
       "      <th>0</th>\n",
       "      <td>1885</td>\n",
       "      <td>Beverages</td>\n",
       "      <td>Thai</td>\n",
       "    </tr>\n",
       "    <tr>\n",
       "      <th>1</th>\n",
       "      <td>1993</td>\n",
       "      <td>Beverages</td>\n",
       "      <td>Thai</td>\n",
       "    </tr>\n",
       "    <tr>\n",
       "      <th>2</th>\n",
       "      <td>2539</td>\n",
       "      <td>Beverages</td>\n",
       "      <td>Thai</td>\n",
       "    </tr>\n",
       "    <tr>\n",
       "      <th>3</th>\n",
       "      <td>1248</td>\n",
       "      <td>Beverages</td>\n",
       "      <td>Indian</td>\n",
       "    </tr>\n",
       "    <tr>\n",
       "      <th>4</th>\n",
       "      <td>2631</td>\n",
       "      <td>Beverages</td>\n",
       "      <td>Indian</td>\n",
       "    </tr>\n",
       "  </tbody>\n",
       "</table>\n",
       "</div>"
      ],
      "text/plain": [
       "   meal_id   category cuisine\n",
       "0     1885  Beverages    Thai\n",
       "1     1993  Beverages    Thai\n",
       "2     2539  Beverages    Thai\n",
       "3     1248  Beverages  Indian\n",
       "4     2631  Beverages  Indian"
      ]
     },
     "execution_count": 5,
     "metadata": {},
     "output_type": "execute_result"
    }
   ],
   "source": [
    "df3.head()"
   ]
  },
  {
   "cell_type": "markdown",
   "metadata": {},
   "source": [
    "# Merging the lookups table to main data With primary key as meal_id and center_id respectively"
   ]
  },
  {
   "cell_type": "code",
   "execution_count": 6,
   "metadata": {},
   "outputs": [],
   "source": [
    "res=pd.merge(df1,df3,on=['meal_id'])"
   ]
  },
  {
   "cell_type": "code",
   "execution_count": 7,
   "metadata": {},
   "outputs": [],
   "source": [
    "res=pd.merge(res,df2,on=['center_id'])"
   ]
  },
  {
   "cell_type": "code",
   "execution_count": 8,
   "metadata": {},
   "outputs": [],
   "source": [
    "res.sort_values('week',inplace=True)"
   ]
  },
  {
   "cell_type": "code",
   "execution_count": 9,
   "metadata": {},
   "outputs": [
    {
     "data": {
      "text/html": [
       "<div>\n",
       "<style scoped>\n",
       "    .dataframe tbody tr th:only-of-type {\n",
       "        vertical-align: middle;\n",
       "    }\n",
       "\n",
       "    .dataframe tbody tr th {\n",
       "        vertical-align: top;\n",
       "    }\n",
       "\n",
       "    .dataframe thead th {\n",
       "        text-align: right;\n",
       "    }\n",
       "</style>\n",
       "<table border=\"1\" class=\"dataframe\">\n",
       "  <thead>\n",
       "    <tr style=\"text-align: right;\">\n",
       "      <th></th>\n",
       "      <th>id</th>\n",
       "      <th>week</th>\n",
       "      <th>center_id</th>\n",
       "      <th>meal_id</th>\n",
       "      <th>checkout_price</th>\n",
       "      <th>base_price</th>\n",
       "      <th>emailer_for_promotion</th>\n",
       "      <th>homepage_featured</th>\n",
       "      <th>num_orders</th>\n",
       "      <th>category</th>\n",
       "      <th>cuisine</th>\n",
       "      <th>city_code</th>\n",
       "      <th>region_code</th>\n",
       "      <th>center_type</th>\n",
       "      <th>op_area</th>\n",
       "    </tr>\n",
       "  </thead>\n",
       "  <tbody>\n",
       "    <tr>\n",
       "      <th>0</th>\n",
       "      <td>1379560</td>\n",
       "      <td>1</td>\n",
       "      <td>55</td>\n",
       "      <td>1885</td>\n",
       "      <td>136.83</td>\n",
       "      <td>152.29</td>\n",
       "      <td>0</td>\n",
       "      <td>0</td>\n",
       "      <td>177</td>\n",
       "      <td>Beverages</td>\n",
       "      <td>Thai</td>\n",
       "      <td>647</td>\n",
       "      <td>56</td>\n",
       "      <td>TYPE_C</td>\n",
       "      <td>2.0</td>\n",
       "    </tr>\n",
       "    <tr>\n",
       "      <th>284804</th>\n",
       "      <td>1409622</td>\n",
       "      <td>1</td>\n",
       "      <td>113</td>\n",
       "      <td>2444</td>\n",
       "      <td>658.63</td>\n",
       "      <td>660.63</td>\n",
       "      <td>0</td>\n",
       "      <td>0</td>\n",
       "      <td>14</td>\n",
       "      <td>Seafood</td>\n",
       "      <td>Continental</td>\n",
       "      <td>680</td>\n",
       "      <td>77</td>\n",
       "      <td>TYPE_C</td>\n",
       "      <td>4.0</td>\n",
       "    </tr>\n",
       "    <tr>\n",
       "      <th>285005</th>\n",
       "      <td>1203879</td>\n",
       "      <td>1</td>\n",
       "      <td>113</td>\n",
       "      <td>1525</td>\n",
       "      <td>244.50</td>\n",
       "      <td>282.33</td>\n",
       "      <td>0</td>\n",
       "      <td>0</td>\n",
       "      <td>14</td>\n",
       "      <td>Other Snacks</td>\n",
       "      <td>Thai</td>\n",
       "      <td>680</td>\n",
       "      <td>77</td>\n",
       "      <td>TYPE_C</td>\n",
       "      <td>4.0</td>\n",
       "    </tr>\n",
       "    <tr>\n",
       "      <th>285106</th>\n",
       "      <td>1235654</td>\n",
       "      <td>1</td>\n",
       "      <td>113</td>\n",
       "      <td>2704</td>\n",
       "      <td>242.50</td>\n",
       "      <td>280.33</td>\n",
       "      <td>0</td>\n",
       "      <td>0</td>\n",
       "      <td>121</td>\n",
       "      <td>Other Snacks</td>\n",
       "      <td>Thai</td>\n",
       "      <td>680</td>\n",
       "      <td>77</td>\n",
       "      <td>TYPE_C</td>\n",
       "      <td>4.0</td>\n",
       "    </tr>\n",
       "    <tr>\n",
       "      <th>43263</th>\n",
       "      <td>1393327</td>\n",
       "      <td>1</td>\n",
       "      <td>52</td>\n",
       "      <td>1248</td>\n",
       "      <td>247.35</td>\n",
       "      <td>247.35</td>\n",
       "      <td>0</td>\n",
       "      <td>0</td>\n",
       "      <td>81</td>\n",
       "      <td>Beverages</td>\n",
       "      <td>Indian</td>\n",
       "      <td>685</td>\n",
       "      <td>56</td>\n",
       "      <td>TYPE_B</td>\n",
       "      <td>5.6</td>\n",
       "    </tr>\n",
       "    <tr>\n",
       "      <th>...</th>\n",
       "      <td>...</td>\n",
       "      <td>...</td>\n",
       "      <td>...</td>\n",
       "      <td>...</td>\n",
       "      <td>...</td>\n",
       "      <td>...</td>\n",
       "      <td>...</td>\n",
       "      <td>...</td>\n",
       "      <td>...</td>\n",
       "      <td>...</td>\n",
       "      <td>...</td>\n",
       "      <td>...</td>\n",
       "      <td>...</td>\n",
       "      <td>...</td>\n",
       "      <td>...</td>\n",
       "    </tr>\n",
       "    <tr>\n",
       "      <th>287668</th>\n",
       "      <td>1184135</td>\n",
       "      <td>145</td>\n",
       "      <td>145</td>\n",
       "      <td>1778</td>\n",
       "      <td>160.05</td>\n",
       "      <td>160.08</td>\n",
       "      <td>1</td>\n",
       "      <td>0</td>\n",
       "      <td>378</td>\n",
       "      <td>Beverages</td>\n",
       "      <td>Italian</td>\n",
       "      <td>620</td>\n",
       "      <td>77</td>\n",
       "      <td>TYPE_A</td>\n",
       "      <td>3.9</td>\n",
       "    </tr>\n",
       "    <tr>\n",
       "      <th>350483</th>\n",
       "      <td>1007940</td>\n",
       "      <td>145</td>\n",
       "      <td>59</td>\n",
       "      <td>1445</td>\n",
       "      <td>727.53</td>\n",
       "      <td>726.53</td>\n",
       "      <td>0</td>\n",
       "      <td>1</td>\n",
       "      <td>40</td>\n",
       "      <td>Seafood</td>\n",
       "      <td>Continental</td>\n",
       "      <td>456</td>\n",
       "      <td>56</td>\n",
       "      <td>TYPE_A</td>\n",
       "      <td>4.2</td>\n",
       "    </tr>\n",
       "    <tr>\n",
       "      <th>262083</th>\n",
       "      <td>1154446</td>\n",
       "      <td>145</td>\n",
       "      <td>73</td>\n",
       "      <td>1770</td>\n",
       "      <td>440.38</td>\n",
       "      <td>442.38</td>\n",
       "      <td>0</td>\n",
       "      <td>0</td>\n",
       "      <td>55</td>\n",
       "      <td>Biryani</td>\n",
       "      <td>Indian</td>\n",
       "      <td>576</td>\n",
       "      <td>34</td>\n",
       "      <td>TYPE_A</td>\n",
       "      <td>4.0</td>\n",
       "    </tr>\n",
       "    <tr>\n",
       "      <th>448468</th>\n",
       "      <td>1450789</td>\n",
       "      <td>145</td>\n",
       "      <td>51</td>\n",
       "      <td>2304</td>\n",
       "      <td>484.03</td>\n",
       "      <td>485.03</td>\n",
       "      <td>0</td>\n",
       "      <td>0</td>\n",
       "      <td>80</td>\n",
       "      <td>Desert</td>\n",
       "      <td>Indian</td>\n",
       "      <td>638</td>\n",
       "      <td>56</td>\n",
       "      <td>TYPE_A</td>\n",
       "      <td>7.0</td>\n",
       "    </tr>\n",
       "    <tr>\n",
       "      <th>456547</th>\n",
       "      <td>1443704</td>\n",
       "      <td>145</td>\n",
       "      <td>61</td>\n",
       "      <td>2104</td>\n",
       "      <td>581.03</td>\n",
       "      <td>582.03</td>\n",
       "      <td>0</td>\n",
       "      <td>0</td>\n",
       "      <td>27</td>\n",
       "      <td>Fish</td>\n",
       "      <td>Continental</td>\n",
       "      <td>473</td>\n",
       "      <td>77</td>\n",
       "      <td>TYPE_A</td>\n",
       "      <td>4.5</td>\n",
       "    </tr>\n",
       "  </tbody>\n",
       "</table>\n",
       "<p>456548 rows × 15 columns</p>\n",
       "</div>"
      ],
      "text/plain": [
       "             id  week  center_id  meal_id  checkout_price  base_price  \\\n",
       "0       1379560     1         55     1885          136.83      152.29   \n",
       "284804  1409622     1        113     2444          658.63      660.63   \n",
       "285005  1203879     1        113     1525          244.50      282.33   \n",
       "285106  1235654     1        113     2704          242.50      280.33   \n",
       "43263   1393327     1         52     1248          247.35      247.35   \n",
       "...         ...   ...        ...      ...             ...         ...   \n",
       "287668  1184135   145        145     1778          160.05      160.08   \n",
       "350483  1007940   145         59     1445          727.53      726.53   \n",
       "262083  1154446   145         73     1770          440.38      442.38   \n",
       "448468  1450789   145         51     2304          484.03      485.03   \n",
       "456547  1443704   145         61     2104          581.03      582.03   \n",
       "\n",
       "        emailer_for_promotion  homepage_featured  num_orders      category  \\\n",
       "0                           0                  0         177     Beverages   \n",
       "284804                      0                  0          14       Seafood   \n",
       "285005                      0                  0          14  Other Snacks   \n",
       "285106                      0                  0         121  Other Snacks   \n",
       "43263                       0                  0          81     Beverages   \n",
       "...                       ...                ...         ...           ...   \n",
       "287668                      1                  0         378     Beverages   \n",
       "350483                      0                  1          40       Seafood   \n",
       "262083                      0                  0          55       Biryani   \n",
       "448468                      0                  0          80        Desert   \n",
       "456547                      0                  0          27          Fish   \n",
       "\n",
       "            cuisine  city_code  region_code center_type  op_area  \n",
       "0              Thai        647           56      TYPE_C      2.0  \n",
       "284804  Continental        680           77      TYPE_C      4.0  \n",
       "285005         Thai        680           77      TYPE_C      4.0  \n",
       "285106         Thai        680           77      TYPE_C      4.0  \n",
       "43263        Indian        685           56      TYPE_B      5.6  \n",
       "...             ...        ...          ...         ...      ...  \n",
       "287668      Italian        620           77      TYPE_A      3.9  \n",
       "350483  Continental        456           56      TYPE_A      4.2  \n",
       "262083       Indian        576           34      TYPE_A      4.0  \n",
       "448468       Indian        638           56      TYPE_A      7.0  \n",
       "456547  Continental        473           77      TYPE_A      4.5  \n",
       "\n",
       "[456548 rows x 15 columns]"
      ]
     },
     "execution_count": 9,
     "metadata": {},
     "output_type": "execute_result"
    }
   ],
   "source": [
    "res"
   ]
  },
  {
   "cell_type": "code",
   "execution_count": 10,
   "metadata": {},
   "outputs": [
    {
     "data": {
      "text/plain": [
       "id                       0\n",
       "week                     0\n",
       "center_id                0\n",
       "meal_id                  0\n",
       "checkout_price           0\n",
       "base_price               0\n",
       "emailer_for_promotion    0\n",
       "homepage_featured        0\n",
       "num_orders               0\n",
       "category                 0\n",
       "cuisine                  0\n",
       "city_code                0\n",
       "region_code              0\n",
       "center_type              0\n",
       "op_area                  0\n",
       "dtype: int64"
      ]
     },
     "execution_count": 10,
     "metadata": {},
     "output_type": "execute_result"
    }
   ],
   "source": [
    "res.isna().sum()"
   ]
  },
  {
   "cell_type": "code",
   "execution_count": 11,
   "metadata": {},
   "outputs": [
    {
     "data": {
      "text/plain": [
       "id                         int64\n",
       "week                       int64\n",
       "center_id                  int64\n",
       "meal_id                    int64\n",
       "checkout_price           float64\n",
       "base_price               float64\n",
       "emailer_for_promotion      int64\n",
       "homepage_featured          int64\n",
       "num_orders                 int64\n",
       "category                  object\n",
       "cuisine                   object\n",
       "city_code                  int64\n",
       "region_code                int64\n",
       "center_type               object\n",
       "op_area                  float64\n",
       "dtype: object"
      ]
     },
     "execution_count": 11,
     "metadata": {},
     "output_type": "execute_result"
    }
   ],
   "source": [
    "res.dtypes\n"
   ]
  },
  {
   "cell_type": "code",
   "execution_count": null,
   "metadata": {},
   "outputs": [],
   "source": []
  },
  {
   "cell_type": "code",
   "execution_count": 12,
   "metadata": {},
   "outputs": [
    {
     "name": "stdout",
     "output_type": "stream",
     "text": [
      "This dataset has 456548 rows, and 15 columns\n"
     ]
    }
   ],
   "source": [
    "print('This dataset has ' + str(res.shape[0]) + ' rows, and ' + str(res.shape[1]) + ' columns')"
   ]
  },
  {
   "cell_type": "markdown",
   "metadata": {},
   "source": [
    "Numeric features description"
   ]
  },
  {
   "cell_type": "code",
   "execution_count": 13,
   "metadata": {},
   "outputs": [
    {
     "data": {
      "text/html": [
       "<div>\n",
       "<style scoped>\n",
       "    .dataframe tbody tr th:only-of-type {\n",
       "        vertical-align: middle;\n",
       "    }\n",
       "\n",
       "    .dataframe tbody tr th {\n",
       "        vertical-align: top;\n",
       "    }\n",
       "\n",
       "    .dataframe thead th {\n",
       "        text-align: right;\n",
       "    }\n",
       "</style>\n",
       "<table border=\"1\" class=\"dataframe\">\n",
       "  <thead>\n",
       "    <tr style=\"text-align: right;\">\n",
       "      <th></th>\n",
       "      <th>id</th>\n",
       "      <th>week</th>\n",
       "      <th>center_id</th>\n",
       "      <th>meal_id</th>\n",
       "      <th>checkout_price</th>\n",
       "      <th>base_price</th>\n",
       "      <th>emailer_for_promotion</th>\n",
       "      <th>homepage_featured</th>\n",
       "      <th>num_orders</th>\n",
       "      <th>city_code</th>\n",
       "      <th>region_code</th>\n",
       "      <th>op_area</th>\n",
       "    </tr>\n",
       "  </thead>\n",
       "  <tbody>\n",
       "    <tr>\n",
       "      <th>count</th>\n",
       "      <td>4.565480e+05</td>\n",
       "      <td>456548.000000</td>\n",
       "      <td>456548.000000</td>\n",
       "      <td>456548.000000</td>\n",
       "      <td>456548.000000</td>\n",
       "      <td>456548.000000</td>\n",
       "      <td>456548.000000</td>\n",
       "      <td>456548.00000</td>\n",
       "      <td>456548.000000</td>\n",
       "      <td>456548.000000</td>\n",
       "      <td>456548.000000</td>\n",
       "      <td>456548.000000</td>\n",
       "    </tr>\n",
       "    <tr>\n",
       "      <th>mean</th>\n",
       "      <td>1.250096e+06</td>\n",
       "      <td>74.768771</td>\n",
       "      <td>82.105796</td>\n",
       "      <td>2024.337458</td>\n",
       "      <td>332.238933</td>\n",
       "      <td>354.156627</td>\n",
       "      <td>0.081152</td>\n",
       "      <td>0.10920</td>\n",
       "      <td>261.872760</td>\n",
       "      <td>601.553399</td>\n",
       "      <td>56.614566</td>\n",
       "      <td>4.083590</td>\n",
       "    </tr>\n",
       "    <tr>\n",
       "      <th>std</th>\n",
       "      <td>1.443548e+05</td>\n",
       "      <td>41.524956</td>\n",
       "      <td>45.975046</td>\n",
       "      <td>547.420920</td>\n",
       "      <td>152.939723</td>\n",
       "      <td>160.715914</td>\n",
       "      <td>0.273069</td>\n",
       "      <td>0.31189</td>\n",
       "      <td>395.922798</td>\n",
       "      <td>66.195914</td>\n",
       "      <td>17.641306</td>\n",
       "      <td>1.091686</td>\n",
       "    </tr>\n",
       "    <tr>\n",
       "      <th>min</th>\n",
       "      <td>1.000000e+06</td>\n",
       "      <td>1.000000</td>\n",
       "      <td>10.000000</td>\n",
       "      <td>1062.000000</td>\n",
       "      <td>2.970000</td>\n",
       "      <td>55.350000</td>\n",
       "      <td>0.000000</td>\n",
       "      <td>0.00000</td>\n",
       "      <td>13.000000</td>\n",
       "      <td>456.000000</td>\n",
       "      <td>23.000000</td>\n",
       "      <td>0.900000</td>\n",
       "    </tr>\n",
       "    <tr>\n",
       "      <th>25%</th>\n",
       "      <td>1.124999e+06</td>\n",
       "      <td>39.000000</td>\n",
       "      <td>43.000000</td>\n",
       "      <td>1558.000000</td>\n",
       "      <td>228.950000</td>\n",
       "      <td>243.500000</td>\n",
       "      <td>0.000000</td>\n",
       "      <td>0.00000</td>\n",
       "      <td>54.000000</td>\n",
       "      <td>553.000000</td>\n",
       "      <td>34.000000</td>\n",
       "      <td>3.600000</td>\n",
       "    </tr>\n",
       "    <tr>\n",
       "      <th>50%</th>\n",
       "      <td>1.250184e+06</td>\n",
       "      <td>76.000000</td>\n",
       "      <td>76.000000</td>\n",
       "      <td>1993.000000</td>\n",
       "      <td>296.820000</td>\n",
       "      <td>310.460000</td>\n",
       "      <td>0.000000</td>\n",
       "      <td>0.00000</td>\n",
       "      <td>136.000000</td>\n",
       "      <td>596.000000</td>\n",
       "      <td>56.000000</td>\n",
       "      <td>4.000000</td>\n",
       "    </tr>\n",
       "    <tr>\n",
       "      <th>75%</th>\n",
       "      <td>1.375140e+06</td>\n",
       "      <td>111.000000</td>\n",
       "      <td>110.000000</td>\n",
       "      <td>2539.000000</td>\n",
       "      <td>445.230000</td>\n",
       "      <td>458.870000</td>\n",
       "      <td>0.000000</td>\n",
       "      <td>0.00000</td>\n",
       "      <td>324.000000</td>\n",
       "      <td>651.000000</td>\n",
       "      <td>77.000000</td>\n",
       "      <td>4.500000</td>\n",
       "    </tr>\n",
       "    <tr>\n",
       "      <th>max</th>\n",
       "      <td>1.499999e+06</td>\n",
       "      <td>145.000000</td>\n",
       "      <td>186.000000</td>\n",
       "      <td>2956.000000</td>\n",
       "      <td>866.270000</td>\n",
       "      <td>866.270000</td>\n",
       "      <td>1.000000</td>\n",
       "      <td>1.00000</td>\n",
       "      <td>24299.000000</td>\n",
       "      <td>713.000000</td>\n",
       "      <td>93.000000</td>\n",
       "      <td>7.000000</td>\n",
       "    </tr>\n",
       "  </tbody>\n",
       "</table>\n",
       "</div>"
      ],
      "text/plain": [
       "                 id           week      center_id        meal_id  \\\n",
       "count  4.565480e+05  456548.000000  456548.000000  456548.000000   \n",
       "mean   1.250096e+06      74.768771      82.105796    2024.337458   \n",
       "std    1.443548e+05      41.524956      45.975046     547.420920   \n",
       "min    1.000000e+06       1.000000      10.000000    1062.000000   \n",
       "25%    1.124999e+06      39.000000      43.000000    1558.000000   \n",
       "50%    1.250184e+06      76.000000      76.000000    1993.000000   \n",
       "75%    1.375140e+06     111.000000     110.000000    2539.000000   \n",
       "max    1.499999e+06     145.000000     186.000000    2956.000000   \n",
       "\n",
       "       checkout_price     base_price  emailer_for_promotion  \\\n",
       "count   456548.000000  456548.000000          456548.000000   \n",
       "mean       332.238933     354.156627               0.081152   \n",
       "std        152.939723     160.715914               0.273069   \n",
       "min          2.970000      55.350000               0.000000   \n",
       "25%        228.950000     243.500000               0.000000   \n",
       "50%        296.820000     310.460000               0.000000   \n",
       "75%        445.230000     458.870000               0.000000   \n",
       "max        866.270000     866.270000               1.000000   \n",
       "\n",
       "       homepage_featured     num_orders      city_code    region_code  \\\n",
       "count       456548.00000  456548.000000  456548.000000  456548.000000   \n",
       "mean             0.10920     261.872760     601.553399      56.614566   \n",
       "std              0.31189     395.922798      66.195914      17.641306   \n",
       "min              0.00000      13.000000     456.000000      23.000000   \n",
       "25%              0.00000      54.000000     553.000000      34.000000   \n",
       "50%              0.00000     136.000000     596.000000      56.000000   \n",
       "75%              0.00000     324.000000     651.000000      77.000000   \n",
       "max              1.00000   24299.000000     713.000000      93.000000   \n",
       "\n",
       "             op_area  \n",
       "count  456548.000000  \n",
       "mean        4.083590  \n",
       "std         1.091686  \n",
       "min         0.900000  \n",
       "25%         3.600000  \n",
       "50%         4.000000  \n",
       "75%         4.500000  \n",
       "max         7.000000  "
      ]
     },
     "execution_count": 13,
     "metadata": {},
     "output_type": "execute_result"
    }
   ],
   "source": [
    "res.describe()"
   ]
  },
  {
   "cell_type": "markdown",
   "metadata": {},
   "source": [
    "Univariate Analysis"
   ]
  },
  {
   "cell_type": "code",
   "execution_count": 14,
   "metadata": {},
   "outputs": [
    {
     "data": {
      "image/png": "[encoded data removed]",
      "text/plain": [
       "<Figure size 432x288 with 1 Axes>"
      ]
     },
     "metadata": {
      "needs_background": "light"
     },
     "output_type": "display_data"
    }
   ],
   "source": [
    "sns.distplot(res.base_price.dropna(), kde=False, bins = 15);"
   ]
  },
  {
   "cell_type": "markdown",
   "metadata": {},
   "source": [
    "1.The plot looks like positive sekwed with mean of 354 rs"
   ]
  },
  {
   "cell_type": "markdown",
   "metadata": {},
   "source": [
    "2.People tend to order item which has base price aroud 250-350 rs"
   ]
  },
  {
   "cell_type": "markdown",
   "metadata": {},
   "source": [
    "checkout_price"
   ]
  },
  {
   "cell_type": "code",
   "execution_count": 15,
   "metadata": {},
   "outputs": [
    {
     "data": {
      "image/png": "[encoded data removed]",
      "text/plain": [
       "<Figure size 432x288 with 1 Axes>"
      ]
     },
     "metadata": {
      "needs_background": "light"
     },
     "output_type": "display_data"
    }
   ],
   "source": [
    "sns.distplot(res.checkout_price.dropna(), kde=False, bins = 15);"
   ]
  },
  {
   "cell_type": "markdown",
   "metadata": {},
   "source": [
    "1. The graph is positive sekwed with mean of 332"
   ]
  },
  {
   "cell_type": "markdown",
   "metadata": {},
   "source": [
    "2.Item with checkout price between 250-350 are ordered in high numbers ."
   ]
  },
  {
   "cell_type": "code",
   "execution_count": null,
   "metadata": {},
   "outputs": [],
   "source": []
  },
  {
   "cell_type": "markdown",
   "metadata": {},
   "source": [
    "# Here we can see that basic price and checkout price have a diffrence . Checkout price is relatively less in than base price"
   ]
  },
  {
   "cell_type": "markdown",
   "metadata": {},
   "source": [
    "So we can make a feature which \"Discount\" which tells the discount offered on particular order"
   ]
  },
  {
   "cell_type": "markdown",
   "metadata": {},
   "source": [
    "# Total amount of discount offered = (base price - checkout price)* number of orders"
   ]
  },
  {
   "cell_type": "code",
   "execution_count": 16,
   "metadata": {},
   "outputs": [],
   "source": [
    "res['discount'] = (res['base_price'] - res['checkout_price'])*res['num_orders']"
   ]
  },
  {
   "cell_type": "code",
   "execution_count": 17,
   "metadata": {},
   "outputs": [
    {
     "data": {
      "text/plain": [
       "count    4.565480e+05\n",
       "mean     8.676374e+03\n",
       "std      4.030264e+04\n",
       "min     -1.228912e+05\n",
       "25%     -1.300000e+01\n",
       "50%      1.300000e+01\n",
       "75%      1.296000e+03\n",
       "max      3.701953e+06\n",
       "Name: discount, dtype: float64"
      ]
     },
     "execution_count": 17,
     "metadata": {},
     "output_type": "execute_result"
    }
   ],
   "source": [
    "res.discount.describe()"
   ]
  },
  {
   "cell_type": "markdown",
   "metadata": {},
   "source": [
    "From Below code we can notice that discount is applied on more than half of orders"
   ]
  },
  {
   "cell_type": "code",
   "execution_count": 18,
   "metadata": {},
   "outputs": [
    {
     "name": "stdout",
     "output_type": "stream",
     "text": [
      "229687\n"
     ]
    }
   ],
   "source": [
    "a=res.discount\n",
    "flag=0\n",
    "for i in a:\n",
    "    if i>0:\n",
    "        flag=flag+1\n",
    "print(flag)"
   ]
  },
  {
   "cell_type": "code",
   "execution_count": 19,
   "metadata": {},
   "outputs": [
    {
     "data": {
      "text/plain": [
       "456548"
      ]
     },
     "execution_count": 19,
     "metadata": {},
     "output_type": "execute_result"
    }
   ],
   "source": [
    "len(res)"
   ]
  },
  {
   "cell_type": "code",
   "execution_count": 20,
   "metadata": {},
   "outputs": [
    {
     "data": {
      "image/png": "[encoded data removed]",
      "text/plain": [
       "<Figure size 432x288 with 1 Axes>"
      ]
     },
     "metadata": {
      "needs_background": "light"
     },
     "output_type": "display_data"
    }
   ],
   "source": [
    "sns.distplot(res.discount.dropna(), kde=False, bins = 400);"
   ]
  },
  {
   "cell_type": "markdown",
   "metadata": {},
   "source": [
    "It is highly posivtive sekwed"
   ]
  },
  {
   "cell_type": "markdown",
   "metadata": {},
   "source": [
    "Making discount a \"binary\" column as this making it will give us the effect of discount on orders"
   ]
  },
  {
   "cell_type": "code",
   "execution_count": 21,
   "metadata": {},
   "outputs": [],
   "source": [
    "res['discount_amt']=res['discount']\n",
    "res.loc[res['discount'] <0, 'discount'] = 0\n",
    "res.loc[res['discount'] > 0, 'discount'] = 1"
   ]
  },
  {
   "cell_type": "code",
   "execution_count": 22,
   "metadata": {},
   "outputs": [
    {
     "data": {
      "text/plain": [
       "1.0    229687\n",
       "0.0    226861\n",
       "Name: discount, dtype: int64"
      ]
     },
     "execution_count": 22,
     "metadata": {},
     "output_type": "execute_result"
    }
   ],
   "source": [
    "res.discount.value_counts()"
   ]
  },
  {
   "cell_type": "code",
   "execution_count": 23,
   "metadata": {},
   "outputs": [
    {
     "data": {
      "text/plain": [
       "Index(['id', 'week', 'center_id', 'meal_id', 'checkout_price', 'base_price',\n",
       "       'emailer_for_promotion', 'homepage_featured', 'num_orders', 'category',\n",
       "       'cuisine', 'city_code', 'region_code', 'center_type', 'op_area',\n",
       "       'discount', 'discount_amt'],\n",
       "      dtype='object')"
      ]
     },
     "execution_count": 23,
     "metadata": {},
     "output_type": "execute_result"
    }
   ],
   "source": [
    "res.columns"
   ]
  },
  {
   "cell_type": "markdown",
   "metadata": {},
   "source": [
    "Total 77 centers located "
   ]
  },
  {
   "cell_type": "code",
   "execution_count": 24,
   "metadata": {},
   "outputs": [
    {
     "data": {
      "text/plain": [
       "77"
      ]
     },
     "execution_count": 24,
     "metadata": {},
     "output_type": "execute_result"
    }
   ],
   "source": [
    "res.center_id.nunique()"
   ]
  },
  {
   "cell_type": "code",
   "execution_count": 25,
   "metadata": {},
   "outputs": [
    {
     "data": {
      "text/plain": [
       "13     7046\n",
       "10     7015\n",
       "52     6993\n",
       "43     6970\n",
       "67     6915\n",
       "       ... \n",
       "139    4627\n",
       "57     4501\n",
       "162    4366\n",
       "41     4083\n",
       "91     3432\n",
       "Name: center_id, Length: 77, dtype: int64"
      ]
     },
     "execution_count": 25,
     "metadata": {},
     "output_type": "execute_result"
    }
   ],
   "source": [
    "res.center_id.value_counts()"
   ]
  },
  {
   "cell_type": "markdown",
   "metadata": {},
   "source": [
    "# Center Type"
   ]
  },
  {
   "cell_type": "markdown",
   "metadata": {},
   "source": [
    "There are three type of center of type  A,B,C."
   ]
  },
  {
   "cell_type": "markdown",
   "metadata": {},
   "source": [
    "\n",
    "# Number of restaurant of each type"
   ]
  },
  {
   "cell_type": "code",
   "execution_count": 26,
   "metadata": {},
   "outputs": [
    {
     "data": {
      "image/png": "[encoded data removed]",
      "text/plain": [
       "<Figure size 432x288 with 1 Axes>"
      ]
     },
     "metadata": {
      "needs_background": "light"
     },
     "output_type": "display_data"
    }
   ],
   "source": [
    "b = sns.countplot(data =res, x = 'center_type', order = res.center_type.value_counts().index)\n",
    "b.set_xticklabels(b.get_xticklabels(),rotation = 90)\n",
    "plt.title('Count of number of restaurant of each type')\n",
    "plt.show()"
   ]
  },
  {
   "cell_type": "markdown",
   "metadata": {},
   "source": [
    "Type A restaurants are highest in number"
   ]
  },
  {
   "cell_type": "markdown",
   "metadata": {},
   "source": [
    "# Operation area under each restraunt type"
   ]
  },
  {
   "cell_type": "code",
   "execution_count": 27,
   "metadata": {},
   "outputs": [
    {
     "data": {
      "text/html": [
       "<div>\n",
       "<style scoped>\n",
       "    .dataframe tbody tr th:only-of-type {\n",
       "        vertical-align: middle;\n",
       "    }\n",
       "\n",
       "    .dataframe tbody tr th {\n",
       "        vertical-align: top;\n",
       "    }\n",
       "\n",
       "    .dataframe thead th {\n",
       "        text-align: right;\n",
       "    }\n",
       "</style>\n",
       "<table border=\"1\" class=\"dataframe\">\n",
       "  <thead>\n",
       "    <tr style=\"text-align: right;\">\n",
       "      <th></th>\n",
       "      <th>center_type</th>\n",
       "      <th>op_area</th>\n",
       "    </tr>\n",
       "  </thead>\n",
       "  <tbody>\n",
       "    <tr>\n",
       "      <th>0</th>\n",
       "      <td>TYPE_A</td>\n",
       "      <td>1.082014e+06</td>\n",
       "    </tr>\n",
       "    <tr>\n",
       "      <th>1</th>\n",
       "      <td>TYPE_B</td>\n",
       "      <td>4.565292e+05</td>\n",
       "    </tr>\n",
       "    <tr>\n",
       "      <th>2</th>\n",
       "      <td>TYPE_C</td>\n",
       "      <td>3.258120e+05</td>\n",
       "    </tr>\n",
       "  </tbody>\n",
       "</table>\n",
       "</div>"
      ],
      "text/plain": [
       "  center_type       op_area\n",
       "0      TYPE_A  1.082014e+06\n",
       "1      TYPE_B  4.565292e+05\n",
       "2      TYPE_C  3.258120e+05"
      ]
     },
     "execution_count": 27,
     "metadata": {},
     "output_type": "execute_result"
    }
   ],
   "source": [
    "pivot = res.pivot_table(index=['center_type'], values=['op_area'], aggfunc='sum').reset_index()\n",
    "pivot"
   ]
  },
  {
   "cell_type": "code",
   "execution_count": 28,
   "metadata": {},
   "outputs": [
    {
     "data": {
      "image/png": "[encoded data removed]",
      "text/plain": [
       "<Figure size 432x288 with 1 Axes>"
      ]
     },
     "metadata": {
      "needs_background": "light"
     },
     "output_type": "display_data"
    }
   ],
   "source": [
    "b = sns.barplot(data =pivot, x = 'center_type', y='op_area')\n",
    "b.set_xticklabels(b.get_xticklabels(),rotation = 90)\n",
    "plt.title('Total Operation area under each restaurant type')\n",
    "plt.show()"
   ]
  },
  {
   "cell_type": "code",
   "execution_count": 29,
   "metadata": {},
   "outputs": [
    {
     "data": {
      "text/html": [
       "<div>\n",
       "<style scoped>\n",
       "    .dataframe tbody tr th:only-of-type {\n",
       "        vertical-align: middle;\n",
       "    }\n",
       "\n",
       "    .dataframe tbody tr th {\n",
       "        vertical-align: top;\n",
       "    }\n",
       "\n",
       "    .dataframe thead th {\n",
       "        text-align: right;\n",
       "    }\n",
       "</style>\n",
       "<table border=\"1\" class=\"dataframe\">\n",
       "  <thead>\n",
       "    <tr style=\"text-align: right;\">\n",
       "      <th></th>\n",
       "      <th>id</th>\n",
       "      <th>week</th>\n",
       "      <th>center_id</th>\n",
       "      <th>meal_id</th>\n",
       "      <th>checkout_price</th>\n",
       "      <th>base_price</th>\n",
       "      <th>emailer_for_promotion</th>\n",
       "      <th>homepage_featured</th>\n",
       "      <th>num_orders</th>\n",
       "      <th>category</th>\n",
       "      <th>cuisine</th>\n",
       "      <th>city_code</th>\n",
       "      <th>region_code</th>\n",
       "      <th>center_type</th>\n",
       "      <th>op_area</th>\n",
       "      <th>discount</th>\n",
       "      <th>discount_amt</th>\n",
       "    </tr>\n",
       "  </thead>\n",
       "  <tbody>\n",
       "    <tr>\n",
       "      <th>0</th>\n",
       "      <td>1379560</td>\n",
       "      <td>1</td>\n",
       "      <td>55</td>\n",
       "      <td>1885</td>\n",
       "      <td>136.83</td>\n",
       "      <td>152.29</td>\n",
       "      <td>0</td>\n",
       "      <td>0</td>\n",
       "      <td>177</td>\n",
       "      <td>Beverages</td>\n",
       "      <td>Thai</td>\n",
       "      <td>647</td>\n",
       "      <td>56</td>\n",
       "      <td>TYPE_C</td>\n",
       "      <td>2.0</td>\n",
       "      <td>1.0</td>\n",
       "      <td>2736.42</td>\n",
       "    </tr>\n",
       "    <tr>\n",
       "      <th>284804</th>\n",
       "      <td>1409622</td>\n",
       "      <td>1</td>\n",
       "      <td>113</td>\n",
       "      <td>2444</td>\n",
       "      <td>658.63</td>\n",
       "      <td>660.63</td>\n",
       "      <td>0</td>\n",
       "      <td>0</td>\n",
       "      <td>14</td>\n",
       "      <td>Seafood</td>\n",
       "      <td>Continental</td>\n",
       "      <td>680</td>\n",
       "      <td>77</td>\n",
       "      <td>TYPE_C</td>\n",
       "      <td>4.0</td>\n",
       "      <td>1.0</td>\n",
       "      <td>28.00</td>\n",
       "    </tr>\n",
       "    <tr>\n",
       "      <th>285005</th>\n",
       "      <td>1203879</td>\n",
       "      <td>1</td>\n",
       "      <td>113</td>\n",
       "      <td>1525</td>\n",
       "      <td>244.50</td>\n",
       "      <td>282.33</td>\n",
       "      <td>0</td>\n",
       "      <td>0</td>\n",
       "      <td>14</td>\n",
       "      <td>Other Snacks</td>\n",
       "      <td>Thai</td>\n",
       "      <td>680</td>\n",
       "      <td>77</td>\n",
       "      <td>TYPE_C</td>\n",
       "      <td>4.0</td>\n",
       "      <td>1.0</td>\n",
       "      <td>529.62</td>\n",
       "    </tr>\n",
       "    <tr>\n",
       "      <th>285106</th>\n",
       "      <td>1235654</td>\n",
       "      <td>1</td>\n",
       "      <td>113</td>\n",
       "      <td>2704</td>\n",
       "      <td>242.50</td>\n",
       "      <td>280.33</td>\n",
       "      <td>0</td>\n",
       "      <td>0</td>\n",
       "      <td>121</td>\n",
       "      <td>Other Snacks</td>\n",
       "      <td>Thai</td>\n",
       "      <td>680</td>\n",
       "      <td>77</td>\n",
       "      <td>TYPE_C</td>\n",
       "      <td>4.0</td>\n",
       "      <td>1.0</td>\n",
       "      <td>4577.43</td>\n",
       "    </tr>\n",
       "    <tr>\n",
       "      <th>43263</th>\n",
       "      <td>1393327</td>\n",
       "      <td>1</td>\n",
       "      <td>52</td>\n",
       "      <td>1248</td>\n",
       "      <td>247.35</td>\n",
       "      <td>247.35</td>\n",
       "      <td>0</td>\n",
       "      <td>0</td>\n",
       "      <td>81</td>\n",
       "      <td>Beverages</td>\n",
       "      <td>Indian</td>\n",
       "      <td>685</td>\n",
       "      <td>56</td>\n",
       "      <td>TYPE_B</td>\n",
       "      <td>5.6</td>\n",
       "      <td>0.0</td>\n",
       "      <td>0.00</td>\n",
       "    </tr>\n",
       "  </tbody>\n",
       "</table>\n",
       "</div>"
      ],
      "text/plain": [
       "             id  week  center_id  meal_id  checkout_price  base_price  \\\n",
       "0       1379560     1         55     1885          136.83      152.29   \n",
       "284804  1409622     1        113     2444          658.63      660.63   \n",
       "285005  1203879     1        113     1525          244.50      282.33   \n",
       "285106  1235654     1        113     2704          242.50      280.33   \n",
       "43263   1393327     1         52     1248          247.35      247.35   \n",
       "\n",
       "        emailer_for_promotion  homepage_featured  num_orders      category  \\\n",
       "0                           0                  0         177     Beverages   \n",
       "284804                      0                  0          14       Seafood   \n",
       "285005                      0                  0          14  Other Snacks   \n",
       "285106                      0                  0         121  Other Snacks   \n",
       "43263                       0                  0          81     Beverages   \n",
       "\n",
       "            cuisine  city_code  region_code center_type  op_area  discount  \\\n",
       "0              Thai        647           56      TYPE_C      2.0       1.0   \n",
       "284804  Continental        680           77      TYPE_C      4.0       1.0   \n",
       "285005         Thai        680           77      TYPE_C      4.0       1.0   \n",
       "285106         Thai        680           77      TYPE_C      4.0       1.0   \n",
       "43263        Indian        685           56      TYPE_B      5.6       0.0   \n",
       "\n",
       "        discount_amt  \n",
       "0            2736.42  \n",
       "284804         28.00  \n",
       "285005        529.62  \n",
       "285106       4577.43  \n",
       "43263           0.00  "
      ]
     },
     "execution_count": 29,
     "metadata": {},
     "output_type": "execute_result"
    }
   ],
   "source": [
    "res.head()"
   ]
  },
  {
   "cell_type": "markdown",
   "metadata": {},
   "source": [
    "Type A has highest operational area than B and than c"
   ]
  },
  {
   "cell_type": "markdown",
   "metadata": {},
   "source": [
    "# Checking the most ordered category "
   ]
  },
  {
   "cell_type": "code",
   "execution_count": 30,
   "metadata": {},
   "outputs": [],
   "source": [
    "pivot = res.pivot_table(index=['category'], values=['num_orders'], aggfunc='sum').reset_index()\n",
    "pivot['num_order_percentage'] = pivot['num_orders']/pivot['num_orders'].sum()*100"
   ]
  },
  {
   "cell_type": "code",
   "execution_count": 31,
   "metadata": {},
   "outputs": [
    {
     "data": {
      "image/png": "[encoded data removed]",
      "text/plain": [
       "<Figure size 432x288 with 1 Axes>"
      ]
     },
     "metadata": {
      "needs_background": "light"
     },
     "output_type": "display_data"
    }
   ],
   "source": [
    "b = sns.barplot(data =pivot, x = 'category', y='num_order_percentage')\n",
    "b.set_xticklabels(b.get_xticklabels(),rotation = 90)\n",
    "plt.title('Percent Share of Number oforder category wise')\n",
    "plt.show()"
   ]
  },
  {
   "cell_type": "markdown",
   "metadata": {},
   "source": [
    "Bevrages, RiceBowls, Sandwich, Salad hold a great share"
   ]
  },
  {
   "cell_type": "markdown",
   "metadata": {},
   "source": [
    "#  Checking the most ordered CUISINE "
   ]
  },
  {
   "cell_type": "code",
   "execution_count": null,
   "metadata": {},
   "outputs": [],
   "source": []
  },
  {
   "cell_type": "code",
   "execution_count": 32,
   "metadata": {},
   "outputs": [],
   "source": [
    "pivot = res.pivot_table(index=['cuisine'], values=['num_orders'], aggfunc='sum').reset_index()\n",
    "pivot['num_order_percentage'] = pivot['num_orders']/pivot['num_orders'].sum()*100"
   ]
  },
  {
   "cell_type": "code",
   "execution_count": 33,
   "metadata": {},
   "outputs": [
    {
     "data": {
      "image/png": "[encoded data removed]",
      "text/plain": [
       "<Figure size 432x288 with 1 Axes>"
      ]
     },
     "metadata": {
      "needs_background": "light"
     },
     "output_type": "display_data"
    }
   ],
   "source": [
    "b = sns.barplot(data =pivot, x = 'cuisine', y='num_order_percentage')\n",
    "b.set_xticklabels(b.get_xticklabels(),rotation = 90)\n",
    "plt.title('Percent Share of Number oforder category wise')\n",
    "plt.show()"
   ]
  },
  {
   "cell_type": "markdown",
   "metadata": {},
   "source": [
    "ITALIAN CUISINE ARE MOST ORDERED CUISINE"
   ]
  },
  {
   "cell_type": "markdown",
   "metadata": {},
   "source": [
    "# Share of number of order region wise"
   ]
  },
  {
   "cell_type": "code",
   "execution_count": 34,
   "metadata": {},
   "outputs": [
    {
     "data": {
      "text/html": [
       "<div>\n",
       "<style scoped>\n",
       "    .dataframe tbody tr th:only-of-type {\n",
       "        vertical-align: middle;\n",
       "    }\n",
       "\n",
       "    .dataframe tbody tr th {\n",
       "        vertical-align: top;\n",
       "    }\n",
       "\n",
       "    .dataframe thead th {\n",
       "        text-align: right;\n",
       "    }\n",
       "</style>\n",
       "<table border=\"1\" class=\"dataframe\">\n",
       "  <thead>\n",
       "    <tr style=\"text-align: right;\">\n",
       "      <th></th>\n",
       "      <th>region_code</th>\n",
       "      <th>num_orders</th>\n",
       "      <th>num_order_percentage</th>\n",
       "    </tr>\n",
       "  </thead>\n",
       "  <tbody>\n",
       "    <tr>\n",
       "      <th>0</th>\n",
       "      <td>23</td>\n",
       "      <td>1609906</td>\n",
       "      <td>1.346554</td>\n",
       "    </tr>\n",
       "    <tr>\n",
       "      <th>1</th>\n",
       "      <td>34</td>\n",
       "      <td>24051733</td>\n",
       "      <td>20.117296</td>\n",
       "    </tr>\n",
       "    <tr>\n",
       "      <th>2</th>\n",
       "      <td>35</td>\n",
       "      <td>691044</td>\n",
       "      <td>0.578001</td>\n",
       "    </tr>\n",
       "    <tr>\n",
       "      <th>3</th>\n",
       "      <td>56</td>\n",
       "      <td>60520191</td>\n",
       "      <td>50.620161</td>\n",
       "    </tr>\n",
       "    <tr>\n",
       "      <th>4</th>\n",
       "      <td>71</td>\n",
       "      <td>2103282</td>\n",
       "      <td>1.759222</td>\n",
       "    </tr>\n",
       "    <tr>\n",
       "      <th>5</th>\n",
       "      <td>77</td>\n",
       "      <td>20529653</td>\n",
       "      <td>17.171366</td>\n",
       "    </tr>\n",
       "    <tr>\n",
       "      <th>6</th>\n",
       "      <td>85</td>\n",
       "      <td>8685386</td>\n",
       "      <td>7.264611</td>\n",
       "    </tr>\n",
       "    <tr>\n",
       "      <th>7</th>\n",
       "      <td>93</td>\n",
       "      <td>1366290</td>\n",
       "      <td>1.142789</td>\n",
       "    </tr>\n",
       "  </tbody>\n",
       "</table>\n",
       "</div>"
      ],
      "text/plain": [
       "   region_code  num_orders  num_order_percentage\n",
       "0           23     1609906              1.346554\n",
       "1           34    24051733             20.117296\n",
       "2           35      691044              0.578001\n",
       "3           56    60520191             50.620161\n",
       "4           71     2103282              1.759222\n",
       "5           77    20529653             17.171366\n",
       "6           85     8685386              7.264611\n",
       "7           93     1366290              1.142789"
      ]
     },
     "execution_count": 34,
     "metadata": {},
     "output_type": "execute_result"
    }
   ],
   "source": [
    "pivot=pd.DataFrame(res.groupby('region_code').num_orders.sum()).reset_index()\n",
    "pivot['num_order_percentage'] = pivot['num_orders']/pivot['num_orders'].sum()*100\n",
    "pivot"
   ]
  },
  {
   "cell_type": "code",
   "execution_count": 35,
   "metadata": {},
   "outputs": [
    {
     "data": {
      "image/png": "[encoded data removed]",
      "text/plain": [
       "<Figure size 432x288 with 1 Axes>"
      ]
     },
     "metadata": {
      "needs_background": "light"
     },
     "output_type": "display_data"
    }
   ],
   "source": [
    "b = sns.barplot(data =pivot, x = 'region_code', y='num_order_percentage')\n",
    "b.set_xticklabels(b.get_xticklabels(),rotation = 90)\n",
    "plt.title('Percent Share of Number of order region wise')\n",
    "plt.show()"
   ]
  },
  {
   "cell_type": "markdown",
   "metadata": {},
   "source": [
    "region with region code =56 have around 50% share in total orders"
   ]
  },
  {
   "cell_type": "code",
   "execution_count": 36,
   "metadata": {},
   "outputs": [
    {
     "data": {
      "text/plain": [
       "Index(['id', 'week', 'center_id', 'meal_id', 'checkout_price', 'base_price',\n",
       "       'emailer_for_promotion', 'homepage_featured', 'num_orders', 'category',\n",
       "       'cuisine', 'city_code', 'region_code', 'center_type', 'op_area',\n",
       "       'discount', 'discount_amt'],\n",
       "      dtype='object')"
      ]
     },
     "execution_count": 36,
     "metadata": {},
     "output_type": "execute_result"
    }
   ],
   "source": [
    "res.columns"
   ]
  },
  {
   "cell_type": "markdown",
   "metadata": {},
   "source": [
    "# Category most featured in homepage"
   ]
  },
  {
   "cell_type": "code",
   "execution_count": 37,
   "metadata": {},
   "outputs": [
    {
     "data": {
      "text/html": [
       "<div>\n",
       "<style scoped>\n",
       "    .dataframe tbody tr th:only-of-type {\n",
       "        vertical-align: middle;\n",
       "    }\n",
       "\n",
       "    .dataframe tbody tr th {\n",
       "        vertical-align: top;\n",
       "    }\n",
       "\n",
       "    .dataframe thead th {\n",
       "        text-align: right;\n",
       "    }\n",
       "</style>\n",
       "<table border=\"1\" class=\"dataframe\">\n",
       "  <thead>\n",
       "    <tr style=\"text-align: right;\">\n",
       "      <th></th>\n",
       "      <th>category</th>\n",
       "      <th>homepage_featured</th>\n",
       "      <th>homepage_featured_perc</th>\n",
       "    </tr>\n",
       "  </thead>\n",
       "  <tbody>\n",
       "    <tr>\n",
       "      <th>0</th>\n",
       "      <td>Beverages</td>\n",
       "      <td>14573</td>\n",
       "      <td>29.230769</td>\n",
       "    </tr>\n",
       "    <tr>\n",
       "      <th>1</th>\n",
       "      <td>Biryani</td>\n",
       "      <td>60</td>\n",
       "      <td>0.120349</td>\n",
       "    </tr>\n",
       "    <tr>\n",
       "      <th>2</th>\n",
       "      <td>Desert</td>\n",
       "      <td>3367</td>\n",
       "      <td>6.753585</td>\n",
       "    </tr>\n",
       "    <tr>\n",
       "      <th>3</th>\n",
       "      <td>Extras</td>\n",
       "      <td>262</td>\n",
       "      <td>0.525524</td>\n",
       "    </tr>\n",
       "    <tr>\n",
       "      <th>4</th>\n",
       "      <td>Fish</td>\n",
       "      <td>408</td>\n",
       "      <td>0.818373</td>\n",
       "    </tr>\n",
       "    <tr>\n",
       "      <th>5</th>\n",
       "      <td>Other Snacks</td>\n",
       "      <td>4809</td>\n",
       "      <td>9.645973</td>\n",
       "    </tr>\n",
       "    <tr>\n",
       "      <th>6</th>\n",
       "      <td>Pasta</td>\n",
       "      <td>3805</td>\n",
       "      <td>7.632133</td>\n",
       "    </tr>\n",
       "    <tr>\n",
       "      <th>7</th>\n",
       "      <td>Pizza</td>\n",
       "      <td>7586</td>\n",
       "      <td>15.216127</td>\n",
       "    </tr>\n",
       "    <tr>\n",
       "      <th>8</th>\n",
       "      <td>Rice Bowl</td>\n",
       "      <td>2958</td>\n",
       "      <td>5.933206</td>\n",
       "    </tr>\n",
       "    <tr>\n",
       "      <th>9</th>\n",
       "      <td>Salad</td>\n",
       "      <td>1767</td>\n",
       "      <td>3.544278</td>\n",
       "    </tr>\n",
       "    <tr>\n",
       "      <th>10</th>\n",
       "      <td>Sandwich</td>\n",
       "      <td>3794</td>\n",
       "      <td>7.610069</td>\n",
       "    </tr>\n",
       "    <tr>\n",
       "      <th>11</th>\n",
       "      <td>Seafood</td>\n",
       "      <td>3802</td>\n",
       "      <td>7.626116</td>\n",
       "    </tr>\n",
       "    <tr>\n",
       "      <th>12</th>\n",
       "      <td>Soup</td>\n",
       "      <td>478</td>\n",
       "      <td>0.958780</td>\n",
       "    </tr>\n",
       "    <tr>\n",
       "      <th>13</th>\n",
       "      <td>Starters</td>\n",
       "      <td>2186</td>\n",
       "      <td>4.384716</td>\n",
       "    </tr>\n",
       "  </tbody>\n",
       "</table>\n",
       "</div>"
      ],
      "text/plain": [
       "        category  homepage_featured  homepage_featured_perc\n",
       "0      Beverages              14573               29.230769\n",
       "1        Biryani                 60                0.120349\n",
       "2         Desert               3367                6.753585\n",
       "3         Extras                262                0.525524\n",
       "4           Fish                408                0.818373\n",
       "5   Other Snacks               4809                9.645973\n",
       "6          Pasta               3805                7.632133\n",
       "7          Pizza               7586               15.216127\n",
       "8      Rice Bowl               2958                5.933206\n",
       "9          Salad               1767                3.544278\n",
       "10      Sandwich               3794                7.610069\n",
       "11       Seafood               3802                7.626116\n",
       "12          Soup                478                0.958780\n",
       "13      Starters               2186                4.384716"
      ]
     },
     "execution_count": 37,
     "metadata": {},
     "output_type": "execute_result"
    }
   ],
   "source": [
    "pivot=pd.DataFrame(res.groupby('category').homepage_featured.sum()).reset_index()\n",
    "pivot['homepage_featured_perc'] = pivot['homepage_featured']/pivot['homepage_featured'].sum()*100\n",
    "pivot"
   ]
  },
  {
   "cell_type": "code",
   "execution_count": 38,
   "metadata": {},
   "outputs": [
    {
     "data": {
      "image/png": "[encoded data removed]",
      "text/plain": [
       "<Figure size 432x288 with 1 Axes>"
      ]
     },
     "metadata": {
      "needs_background": "light"
     },
     "output_type": "display_data"
    }
   ],
   "source": [
    "b = sns.barplot(data =pivot, x = 'category', y='homepage_featured_perc')\n",
    "b.set_xticklabels(b.get_xticklabels(),rotation = 90)\n",
    "plt.title('Share of categories which are featured at homepage')\n",
    "plt.show()"
   ]
  },
  {
   "cell_type": "markdown",
   "metadata": {},
   "source": [
    "30% of times beverages featured on homepage|||\n",
    "around 15% of times pizza is featured on homepage"
   ]
  },
  {
   "cell_type": "markdown",
   "metadata": {},
   "source": [
    "# Category most promoted through email"
   ]
  },
  {
   "cell_type": "code",
   "execution_count": 39,
   "metadata": {},
   "outputs": [
    {
     "data": {
      "text/html": [
       "<div>\n",
       "<style scoped>\n",
       "    .dataframe tbody tr th:only-of-type {\n",
       "        vertical-align: middle;\n",
       "    }\n",
       "\n",
       "    .dataframe tbody tr th {\n",
       "        vertical-align: top;\n",
       "    }\n",
       "\n",
       "    .dataframe thead th {\n",
       "        text-align: right;\n",
       "    }\n",
       "</style>\n",
       "<table border=\"1\" class=\"dataframe\">\n",
       "  <thead>\n",
       "    <tr style=\"text-align: right;\">\n",
       "      <th></th>\n",
       "      <th>category</th>\n",
       "      <th>emailer_for_promotion</th>\n",
       "      <th>emailer_for_promotion_perc</th>\n",
       "    </tr>\n",
       "  </thead>\n",
       "  <tbody>\n",
       "    <tr>\n",
       "      <th>0</th>\n",
       "      <td>Beverages</td>\n",
       "      <td>6596</td>\n",
       "      <td>17.802969</td>\n",
       "    </tr>\n",
       "    <tr>\n",
       "      <th>1</th>\n",
       "      <td>Biryani</td>\n",
       "      <td>0</td>\n",
       "      <td>0.000000</td>\n",
       "    </tr>\n",
       "    <tr>\n",
       "      <th>2</th>\n",
       "      <td>Desert</td>\n",
       "      <td>1804</td>\n",
       "      <td>4.869096</td>\n",
       "    </tr>\n",
       "    <tr>\n",
       "      <th>3</th>\n",
       "      <td>Extras</td>\n",
       "      <td>0</td>\n",
       "      <td>0.000000</td>\n",
       "    </tr>\n",
       "    <tr>\n",
       "      <th>4</th>\n",
       "      <td>Fish</td>\n",
       "      <td>141</td>\n",
       "      <td>0.380567</td>\n",
       "    </tr>\n",
       "    <tr>\n",
       "      <th>5</th>\n",
       "      <td>Other Snacks</td>\n",
       "      <td>653</td>\n",
       "      <td>1.762483</td>\n",
       "    </tr>\n",
       "    <tr>\n",
       "      <th>6</th>\n",
       "      <td>Pasta</td>\n",
       "      <td>2669</td>\n",
       "      <td>7.203779</td>\n",
       "    </tr>\n",
       "    <tr>\n",
       "      <th>7</th>\n",
       "      <td>Pizza</td>\n",
       "      <td>9382</td>\n",
       "      <td>25.322537</td>\n",
       "    </tr>\n",
       "    <tr>\n",
       "      <th>8</th>\n",
       "      <td>Rice Bowl</td>\n",
       "      <td>3086</td>\n",
       "      <td>8.329285</td>\n",
       "    </tr>\n",
       "    <tr>\n",
       "      <th>9</th>\n",
       "      <td>Salad</td>\n",
       "      <td>2084</td>\n",
       "      <td>5.624831</td>\n",
       "    </tr>\n",
       "    <tr>\n",
       "      <th>10</th>\n",
       "      <td>Sandwich</td>\n",
       "      <td>4306</td>\n",
       "      <td>11.622132</td>\n",
       "    </tr>\n",
       "    <tr>\n",
       "      <th>11</th>\n",
       "      <td>Seafood</td>\n",
       "      <td>4958</td>\n",
       "      <td>13.381916</td>\n",
       "    </tr>\n",
       "    <tr>\n",
       "      <th>12</th>\n",
       "      <td>Soup</td>\n",
       "      <td>0</td>\n",
       "      <td>0.000000</td>\n",
       "    </tr>\n",
       "    <tr>\n",
       "      <th>13</th>\n",
       "      <td>Starters</td>\n",
       "      <td>1371</td>\n",
       "      <td>3.700405</td>\n",
       "    </tr>\n",
       "  </tbody>\n",
       "</table>\n",
       "</div>"
      ],
      "text/plain": [
       "        category  emailer_for_promotion  emailer_for_promotion_perc\n",
       "0      Beverages                   6596                   17.802969\n",
       "1        Biryani                      0                    0.000000\n",
       "2         Desert                   1804                    4.869096\n",
       "3         Extras                      0                    0.000000\n",
       "4           Fish                    141                    0.380567\n",
       "5   Other Snacks                    653                    1.762483\n",
       "6          Pasta                   2669                    7.203779\n",
       "7          Pizza                   9382                   25.322537\n",
       "8      Rice Bowl                   3086                    8.329285\n",
       "9          Salad                   2084                    5.624831\n",
       "10      Sandwich                   4306                   11.622132\n",
       "11       Seafood                   4958                   13.381916\n",
       "12          Soup                      0                    0.000000\n",
       "13      Starters                   1371                    3.700405"
      ]
     },
     "execution_count": 39,
     "metadata": {},
     "output_type": "execute_result"
    }
   ],
   "source": [
    "pivot=pd.DataFrame(res.groupby('category').emailer_for_promotion.sum()).reset_index()\n",
    "pivot['emailer_for_promotion_perc'] = pivot['emailer_for_promotion']/pivot['emailer_for_promotion'].sum()*100\n",
    "pivot"
   ]
  },
  {
   "cell_type": "code",
   "execution_count": 40,
   "metadata": {},
   "outputs": [
    {
     "data": {
      "image/png": "[encoded data removed]",
      "text/plain": [
       "<Figure size 432x288 with 1 Axes>"
      ]
     },
     "metadata": {
      "needs_background": "light"
     },
     "output_type": "display_data"
    }
   ],
   "source": [
    "b = sns.barplot(data =pivot, x = 'category', y='emailer_for_promotion_perc')\n",
    "b.set_xticklabels(b.get_xticklabels(),rotation = 90)\n",
    "plt.title('Share of categories which are promoted through emails')\n",
    "plt.show()"
   ]
  },
  {
   "cell_type": "markdown",
   "metadata": {},
   "source": [
    "Pizza is most promoted category for email promotion , around 25%  "
   ]
  },
  {
   "cell_type": "markdown",
   "metadata": {},
   "source": [
    "# Percentage times categories are getting discounts"
   ]
  },
  {
   "cell_type": "code",
   "execution_count": 41,
   "metadata": {},
   "outputs": [
    {
     "data": {
      "text/html": [
       "<div>\n",
       "<style scoped>\n",
       "    .dataframe tbody tr th:only-of-type {\n",
       "        vertical-align: middle;\n",
       "    }\n",
       "\n",
       "    .dataframe tbody tr th {\n",
       "        vertical-align: top;\n",
       "    }\n",
       "\n",
       "    .dataframe thead th {\n",
       "        text-align: right;\n",
       "    }\n",
       "</style>\n",
       "<table border=\"1\" class=\"dataframe\">\n",
       "  <thead>\n",
       "    <tr style=\"text-align: right;\">\n",
       "      <th></th>\n",
       "      <th>category</th>\n",
       "      <th>discount</th>\n",
       "      <th>discount_percc</th>\n",
       "    </tr>\n",
       "  </thead>\n",
       "  <tbody>\n",
       "    <tr>\n",
       "      <th>0</th>\n",
       "      <td>Beverages</td>\n",
       "      <td>63149.0</td>\n",
       "      <td>27.493502</td>\n",
       "    </tr>\n",
       "    <tr>\n",
       "      <th>1</th>\n",
       "      <td>Biryani</td>\n",
       "      <td>8818.0</td>\n",
       "      <td>3.839138</td>\n",
       "    </tr>\n",
       "    <tr>\n",
       "      <th>2</th>\n",
       "      <td>Desert</td>\n",
       "      <td>15155.0</td>\n",
       "      <td>6.598110</td>\n",
       "    </tr>\n",
       "    <tr>\n",
       "      <th>3</th>\n",
       "      <td>Extras</td>\n",
       "      <td>9413.0</td>\n",
       "      <td>4.098186</td>\n",
       "    </tr>\n",
       "    <tr>\n",
       "      <th>4</th>\n",
       "      <td>Fish</td>\n",
       "      <td>4145.0</td>\n",
       "      <td>1.804630</td>\n",
       "    </tr>\n",
       "    <tr>\n",
       "      <th>5</th>\n",
       "      <td>Other Snacks</td>\n",
       "      <td>16316.0</td>\n",
       "      <td>7.103580</td>\n",
       "    </tr>\n",
       "    <tr>\n",
       "      <th>6</th>\n",
       "      <td>Pasta</td>\n",
       "      <td>16003.0</td>\n",
       "      <td>6.967308</td>\n",
       "    </tr>\n",
       "    <tr>\n",
       "      <th>7</th>\n",
       "      <td>Pizza</td>\n",
       "      <td>19662.0</td>\n",
       "      <td>8.560345</td>\n",
       "    </tr>\n",
       "    <tr>\n",
       "      <th>8</th>\n",
       "      <td>Rice Bowl</td>\n",
       "      <td>16957.0</td>\n",
       "      <td>7.382656</td>\n",
       "    </tr>\n",
       "    <tr>\n",
       "      <th>9</th>\n",
       "      <td>Salad</td>\n",
       "      <td>12114.0</td>\n",
       "      <td>5.274134</td>\n",
       "    </tr>\n",
       "    <tr>\n",
       "      <th>10</th>\n",
       "      <td>Sandwich</td>\n",
       "      <td>15992.0</td>\n",
       "      <td>6.962519</td>\n",
       "    </tr>\n",
       "    <tr>\n",
       "      <th>11</th>\n",
       "      <td>Seafood</td>\n",
       "      <td>14226.0</td>\n",
       "      <td>6.193646</td>\n",
       "    </tr>\n",
       "    <tr>\n",
       "      <th>12</th>\n",
       "      <td>Soup</td>\n",
       "      <td>5910.0</td>\n",
       "      <td>2.573067</td>\n",
       "    </tr>\n",
       "    <tr>\n",
       "      <th>13</th>\n",
       "      <td>Starters</td>\n",
       "      <td>11827.0</td>\n",
       "      <td>5.149181</td>\n",
       "    </tr>\n",
       "  </tbody>\n",
       "</table>\n",
       "</div>"
      ],
      "text/plain": [
       "        category  discount  discount_percc\n",
       "0      Beverages   63149.0       27.493502\n",
       "1        Biryani    8818.0        3.839138\n",
       "2         Desert   15155.0        6.598110\n",
       "3         Extras    9413.0        4.098186\n",
       "4           Fish    4145.0        1.804630\n",
       "5   Other Snacks   16316.0        7.103580\n",
       "6          Pasta   16003.0        6.967308\n",
       "7          Pizza   19662.0        8.560345\n",
       "8      Rice Bowl   16957.0        7.382656\n",
       "9          Salad   12114.0        5.274134\n",
       "10      Sandwich   15992.0        6.962519\n",
       "11       Seafood   14226.0        6.193646\n",
       "12          Soup    5910.0        2.573067\n",
       "13      Starters   11827.0        5.149181"
      ]
     },
     "execution_count": 41,
     "metadata": {},
     "output_type": "execute_result"
    }
   ],
   "source": [
    "pivot=pd.DataFrame(res.groupby('category').discount.sum()).reset_index()\n",
    "pivot['discount_percc'] = pivot['discount']/pivot['discount'].sum()*100\n",
    "pivot"
   ]
  },
  {
   "cell_type": "code",
   "execution_count": 42,
   "metadata": {},
   "outputs": [
    {
     "data": {
      "image/png": "[encoded data removed]",
      "text/plain": [
       "<Figure size 432x288 with 1 Axes>"
      ]
     },
     "metadata": {
      "needs_background": "light"
     },
     "output_type": "display_data"
    }
   ],
   "source": [
    "b = sns.barplot(data =pivot, x = 'category', y='discount_percc')\n",
    "b.set_xticklabels(b.get_xticklabels(),rotation = 90)\n",
    "plt.title('Percentage times categories getting discounts')\n",
    "plt.show()"
   ]
  },
  {
   "cell_type": "markdown",
   "metadata": {},
   "source": [
    "beverages are getting discount around more than 25% times\n"
   ]
  },
  {
   "cell_type": "markdown",
   "metadata": {},
   "source": [
    "# Categories getting high discounts on base price(By amount)"
   ]
  },
  {
   "cell_type": "code",
   "execution_count": 43,
   "metadata": {},
   "outputs": [
    {
     "data": {
      "text/html": [
       "<div>\n",
       "<style scoped>\n",
       "    .dataframe tbody tr th:only-of-type {\n",
       "        vertical-align: middle;\n",
       "    }\n",
       "\n",
       "    .dataframe tbody tr th {\n",
       "        vertical-align: top;\n",
       "    }\n",
       "\n",
       "    .dataframe thead th {\n",
       "        text-align: right;\n",
       "    }\n",
       "</style>\n",
       "<table border=\"1\" class=\"dataframe\">\n",
       "  <thead>\n",
       "    <tr style=\"text-align: right;\">\n",
       "      <th></th>\n",
       "      <th>category</th>\n",
       "      <th>discount_amt</th>\n",
       "      <th>discount_amt_percc</th>\n",
       "    </tr>\n",
       "  </thead>\n",
       "  <tbody>\n",
       "    <tr>\n",
       "      <th>0</th>\n",
       "      <td>Beverages</td>\n",
       "      <td>5.092354e+08</td>\n",
       "      <td>12.855646</td>\n",
       "    </tr>\n",
       "    <tr>\n",
       "      <th>1</th>\n",
       "      <td>Biryani</td>\n",
       "      <td>7.904522e+06</td>\n",
       "      <td>0.199550</td>\n",
       "    </tr>\n",
       "    <tr>\n",
       "      <th>2</th>\n",
       "      <td>Desert</td>\n",
       "      <td>8.578011e+07</td>\n",
       "      <td>2.165518</td>\n",
       "    </tr>\n",
       "    <tr>\n",
       "      <th>3</th>\n",
       "      <td>Extras</td>\n",
       "      <td>8.463568e+07</td>\n",
       "      <td>2.136627</td>\n",
       "    </tr>\n",
       "    <tr>\n",
       "      <th>4</th>\n",
       "      <td>Fish</td>\n",
       "      <td>3.262405e+07</td>\n",
       "      <td>0.823594</td>\n",
       "    </tr>\n",
       "    <tr>\n",
       "      <th>5</th>\n",
       "      <td>Other Snacks</td>\n",
       "      <td>1.042207e+08</td>\n",
       "      <td>2.631051</td>\n",
       "    </tr>\n",
       "    <tr>\n",
       "      <th>6</th>\n",
       "      <td>Pasta</td>\n",
       "      <td>7.212567e+07</td>\n",
       "      <td>1.820812</td>\n",
       "    </tr>\n",
       "    <tr>\n",
       "      <th>7</th>\n",
       "      <td>Pizza</td>\n",
       "      <td>8.279369e+08</td>\n",
       "      <td>20.901262</td>\n",
       "    </tr>\n",
       "    <tr>\n",
       "      <th>8</th>\n",
       "      <td>Rice Bowl</td>\n",
       "      <td>9.001842e+08</td>\n",
       "      <td>22.725146</td>\n",
       "    </tr>\n",
       "    <tr>\n",
       "      <th>9</th>\n",
       "      <td>Salad</td>\n",
       "      <td>2.419834e+08</td>\n",
       "      <td>6.108870</td>\n",
       "    </tr>\n",
       "    <tr>\n",
       "      <th>10</th>\n",
       "      <td>Sandwich</td>\n",
       "      <td>6.881787e+08</td>\n",
       "      <td>17.373067</td>\n",
       "    </tr>\n",
       "    <tr>\n",
       "      <th>11</th>\n",
       "      <td>Seafood</td>\n",
       "      <td>3.423710e+08</td>\n",
       "      <td>8.643153</td>\n",
       "    </tr>\n",
       "    <tr>\n",
       "      <th>12</th>\n",
       "      <td>Soup</td>\n",
       "      <td>9.403219e+06</td>\n",
       "      <td>0.237384</td>\n",
       "    </tr>\n",
       "    <tr>\n",
       "      <th>13</th>\n",
       "      <td>Starters</td>\n",
       "      <td>5.459771e+07</td>\n",
       "      <td>1.378319</td>\n",
       "    </tr>\n",
       "  </tbody>\n",
       "</table>\n",
       "</div>"
      ],
      "text/plain": [
       "        category  discount_amt  discount_amt_percc\n",
       "0      Beverages  5.092354e+08           12.855646\n",
       "1        Biryani  7.904522e+06            0.199550\n",
       "2         Desert  8.578011e+07            2.165518\n",
       "3         Extras  8.463568e+07            2.136627\n",
       "4           Fish  3.262405e+07            0.823594\n",
       "5   Other Snacks  1.042207e+08            2.631051\n",
       "6          Pasta  7.212567e+07            1.820812\n",
       "7          Pizza  8.279369e+08           20.901262\n",
       "8      Rice Bowl  9.001842e+08           22.725146\n",
       "9          Salad  2.419834e+08            6.108870\n",
       "10      Sandwich  6.881787e+08           17.373067\n",
       "11       Seafood  3.423710e+08            8.643153\n",
       "12          Soup  9.403219e+06            0.237384\n",
       "13      Starters  5.459771e+07            1.378319"
      ]
     },
     "execution_count": 43,
     "metadata": {},
     "output_type": "execute_result"
    }
   ],
   "source": [
    "pivot=pd.DataFrame(res.groupby('category').discount_amt.sum()).reset_index()\n",
    "pivot['discount_amt_percc'] = pivot['discount_amt']/pivot['discount_amt'].sum()*100\n",
    "pivot"
   ]
  },
  {
   "cell_type": "code",
   "execution_count": 44,
   "metadata": {},
   "outputs": [
    {
     "data": {
      "image/png": "[encoded data removed]",
      "text/plain": [
       "<Figure size 432x288 with 1 Axes>"
      ]
     },
     "metadata": {
      "needs_background": "light"
     },
     "output_type": "display_data"
    }
   ],
   "source": [
    "b = sns.barplot(data =pivot, x = 'category', y='discount_amt_percc')\n",
    "b.set_xticklabels(b.get_xticklabels(),rotation = 90)\n",
    "plt.title('categories getting high discounts(By amount)')\n",
    "plt.show()"
   ]
  },
  {
   "cell_type": "markdown",
   "metadata": {},
   "source": [
    "Rice Bowl and pizza are getting highest discount on the base price"
   ]
  },
  {
   "cell_type": "code",
   "execution_count": 45,
   "metadata": {},
   "outputs": [
    {
     "data": {
      "text/html": [
       "<div>\n",
       "<style scoped>\n",
       "    .dataframe tbody tr th:only-of-type {\n",
       "        vertical-align: middle;\n",
       "    }\n",
       "\n",
       "    .dataframe tbody tr th {\n",
       "        vertical-align: top;\n",
       "    }\n",
       "\n",
       "    .dataframe thead th {\n",
       "        text-align: right;\n",
       "    }\n",
       "</style>\n",
       "<table border=\"1\" class=\"dataframe\">\n",
       "  <thead>\n",
       "    <tr style=\"text-align: right;\">\n",
       "      <th></th>\n",
       "      <th>week</th>\n",
       "      <th>num_orders</th>\n",
       "    </tr>\n",
       "  </thead>\n",
       "  <tbody>\n",
       "    <tr>\n",
       "      <th>0</th>\n",
       "      <td>1</td>\n",
       "      <td>792261</td>\n",
       "    </tr>\n",
       "    <tr>\n",
       "      <th>1</th>\n",
       "      <td>2</td>\n",
       "      <td>787084</td>\n",
       "    </tr>\n",
       "    <tr>\n",
       "      <th>2</th>\n",
       "      <td>3</td>\n",
       "      <td>695262</td>\n",
       "    </tr>\n",
       "    <tr>\n",
       "      <th>3</th>\n",
       "      <td>4</td>\n",
       "      <td>743529</td>\n",
       "    </tr>\n",
       "    <tr>\n",
       "      <th>4</th>\n",
       "      <td>5</td>\n",
       "      <td>1198675</td>\n",
       "    </tr>\n",
       "    <tr>\n",
       "      <th>...</th>\n",
       "      <td>...</td>\n",
       "      <td>...</td>\n",
       "    </tr>\n",
       "    <tr>\n",
       "      <th>140</th>\n",
       "      <td>141</td>\n",
       "      <td>776240</td>\n",
       "    </tr>\n",
       "    <tr>\n",
       "      <th>141</th>\n",
       "      <td>142</td>\n",
       "      <td>739661</td>\n",
       "    </tr>\n",
       "    <tr>\n",
       "      <th>142</th>\n",
       "      <td>143</td>\n",
       "      <td>759926</td>\n",
       "    </tr>\n",
       "    <tr>\n",
       "      <th>143</th>\n",
       "      <td>144</td>\n",
       "      <td>801197</td>\n",
       "    </tr>\n",
       "    <tr>\n",
       "      <th>144</th>\n",
       "      <td>145</td>\n",
       "      <td>671926</td>\n",
       "    </tr>\n",
       "  </tbody>\n",
       "</table>\n",
       "<p>145 rows × 2 columns</p>\n",
       "</div>"
      ],
      "text/plain": [
       "     week  num_orders\n",
       "0       1      792261\n",
       "1       2      787084\n",
       "2       3      695262\n",
       "3       4      743529\n",
       "4       5     1198675\n",
       "..    ...         ...\n",
       "140   141      776240\n",
       "141   142      739661\n",
       "142   143      759926\n",
       "143   144      801197\n",
       "144   145      671926\n",
       "\n",
       "[145 rows x 2 columns]"
      ]
     },
     "execution_count": 45,
     "metadata": {},
     "output_type": "execute_result"
    }
   ],
   "source": [
    "pivot = res.pivot_table(index=['week'], values=['num_orders'], aggfunc='sum').reset_index()\n",
    "pivot\n"
   ]
  },
  {
   "cell_type": "markdown",
   "metadata": {},
   "source": [
    "# Plotting number of orders week wise"
   ]
  },
  {
   "cell_type": "code",
   "execution_count": 46,
   "metadata": {
    "scrolled": true
   },
   "outputs": [
    {
     "data": {
      "image/png": "[encoded data removed]",
      "text/plain": [
       "<Figure size 432x288 with 1 Axes>"
      ]
     },
     "metadata": {
      "needs_background": "light"
     },
     "output_type": "display_data"
    }
   ],
   "source": [
    "b = sns.scatterplot(data =pivot, x = 'week', y='num_orders')\n",
    "plt.title('')\n",
    "plt.show()"
   ]
  },
  {
   "cell_type": "code",
   "execution_count": 47,
   "metadata": {},
   "outputs": [
    {
     "data": {
      "text/plain": [
       "Index(['id', 'week', 'center_id', 'meal_id', 'checkout_price', 'base_price',\n",
       "       'emailer_for_promotion', 'homepage_featured', 'num_orders', 'category',\n",
       "       'cuisine', 'city_code', 'region_code', 'center_type', 'op_area',\n",
       "       'discount', 'discount_amt'],\n",
       "      dtype='object')"
      ]
     },
     "execution_count": 47,
     "metadata": {},
     "output_type": "execute_result"
    }
   ],
   "source": [
    "res.columns"
   ]
  },
  {
   "cell_type": "markdown",
   "metadata": {},
   "source": [
    "# Feature Engineering and Selection\n"
   ]
  },
  {
   "cell_type": "markdown",
   "metadata": {},
   "source": [
    "# Removing id column\n"
   ]
  },
  {
   "cell_type": "code",
   "execution_count": 48,
   "metadata": {},
   "outputs": [],
   "source": [
    "res.drop(['id'],axis=1,inplace=True) #dropiing id columns \n"
   ]
  },
  {
   "cell_type": "code",
   "execution_count": 49,
   "metadata": {},
   "outputs": [
    {
     "data": {
      "text/html": [
       "<div>\n",
       "<style scoped>\n",
       "    .dataframe tbody tr th:only-of-type {\n",
       "        vertical-align: middle;\n",
       "    }\n",
       "\n",
       "    .dataframe tbody tr th {\n",
       "        vertical-align: top;\n",
       "    }\n",
       "\n",
       "    .dataframe thead th {\n",
       "        text-align: right;\n",
       "    }\n",
       "</style>\n",
       "<table border=\"1\" class=\"dataframe\">\n",
       "  <thead>\n",
       "    <tr style=\"text-align: right;\">\n",
       "      <th></th>\n",
       "      <th>week</th>\n",
       "      <th>center_id</th>\n",
       "      <th>meal_id</th>\n",
       "      <th>checkout_price</th>\n",
       "      <th>base_price</th>\n",
       "      <th>emailer_for_promotion</th>\n",
       "      <th>homepage_featured</th>\n",
       "      <th>num_orders</th>\n",
       "      <th>category</th>\n",
       "      <th>cuisine</th>\n",
       "      <th>city_code</th>\n",
       "      <th>region_code</th>\n",
       "      <th>center_type</th>\n",
       "      <th>op_area</th>\n",
       "      <th>discount</th>\n",
       "      <th>discount_amt</th>\n",
       "    </tr>\n",
       "  </thead>\n",
       "  <tbody>\n",
       "    <tr>\n",
       "      <th>0</th>\n",
       "      <td>1</td>\n",
       "      <td>55</td>\n",
       "      <td>1885</td>\n",
       "      <td>136.83</td>\n",
       "      <td>152.29</td>\n",
       "      <td>0</td>\n",
       "      <td>0</td>\n",
       "      <td>177</td>\n",
       "      <td>Beverages</td>\n",
       "      <td>Thai</td>\n",
       "      <td>647</td>\n",
       "      <td>56</td>\n",
       "      <td>TYPE_C</td>\n",
       "      <td>2.0</td>\n",
       "      <td>1.0</td>\n",
       "      <td>2736.42</td>\n",
       "    </tr>\n",
       "    <tr>\n",
       "      <th>284804</th>\n",
       "      <td>1</td>\n",
       "      <td>113</td>\n",
       "      <td>2444</td>\n",
       "      <td>658.63</td>\n",
       "      <td>660.63</td>\n",
       "      <td>0</td>\n",
       "      <td>0</td>\n",
       "      <td>14</td>\n",
       "      <td>Seafood</td>\n",
       "      <td>Continental</td>\n",
       "      <td>680</td>\n",
       "      <td>77</td>\n",
       "      <td>TYPE_C</td>\n",
       "      <td>4.0</td>\n",
       "      <td>1.0</td>\n",
       "      <td>28.00</td>\n",
       "    </tr>\n",
       "    <tr>\n",
       "      <th>285005</th>\n",
       "      <td>1</td>\n",
       "      <td>113</td>\n",
       "      <td>1525</td>\n",
       "      <td>244.50</td>\n",
       "      <td>282.33</td>\n",
       "      <td>0</td>\n",
       "      <td>0</td>\n",
       "      <td>14</td>\n",
       "      <td>Other Snacks</td>\n",
       "      <td>Thai</td>\n",
       "      <td>680</td>\n",
       "      <td>77</td>\n",
       "      <td>TYPE_C</td>\n",
       "      <td>4.0</td>\n",
       "      <td>1.0</td>\n",
       "      <td>529.62</td>\n",
       "    </tr>\n",
       "    <tr>\n",
       "      <th>285106</th>\n",
       "      <td>1</td>\n",
       "      <td>113</td>\n",
       "      <td>2704</td>\n",
       "      <td>242.50</td>\n",
       "      <td>280.33</td>\n",
       "      <td>0</td>\n",
       "      <td>0</td>\n",
       "      <td>121</td>\n",
       "      <td>Other Snacks</td>\n",
       "      <td>Thai</td>\n",
       "      <td>680</td>\n",
       "      <td>77</td>\n",
       "      <td>TYPE_C</td>\n",
       "      <td>4.0</td>\n",
       "      <td>1.0</td>\n",
       "      <td>4577.43</td>\n",
       "    </tr>\n",
       "    <tr>\n",
       "      <th>43263</th>\n",
       "      <td>1</td>\n",
       "      <td>52</td>\n",
       "      <td>1248</td>\n",
       "      <td>247.35</td>\n",
       "      <td>247.35</td>\n",
       "      <td>0</td>\n",
       "      <td>0</td>\n",
       "      <td>81</td>\n",
       "      <td>Beverages</td>\n",
       "      <td>Indian</td>\n",
       "      <td>685</td>\n",
       "      <td>56</td>\n",
       "      <td>TYPE_B</td>\n",
       "      <td>5.6</td>\n",
       "      <td>0.0</td>\n",
       "      <td>0.00</td>\n",
       "    </tr>\n",
       "  </tbody>\n",
       "</table>\n",
       "</div>"
      ],
      "text/plain": [
       "        week  center_id  meal_id  checkout_price  base_price  \\\n",
       "0          1         55     1885          136.83      152.29   \n",
       "284804     1        113     2444          658.63      660.63   \n",
       "285005     1        113     1525          244.50      282.33   \n",
       "285106     1        113     2704          242.50      280.33   \n",
       "43263      1         52     1248          247.35      247.35   \n",
       "\n",
       "        emailer_for_promotion  homepage_featured  num_orders      category  \\\n",
       "0                           0                  0         177     Beverages   \n",
       "284804                      0                  0          14       Seafood   \n",
       "285005                      0                  0          14  Other Snacks   \n",
       "285106                      0                  0         121  Other Snacks   \n",
       "43263                       0                  0          81     Beverages   \n",
       "\n",
       "            cuisine  city_code  region_code center_type  op_area  discount  \\\n",
       "0              Thai        647           56      TYPE_C      2.0       1.0   \n",
       "284804  Continental        680           77      TYPE_C      4.0       1.0   \n",
       "285005         Thai        680           77      TYPE_C      4.0       1.0   \n",
       "285106         Thai        680           77      TYPE_C      4.0       1.0   \n",
       "43263        Indian        685           56      TYPE_B      5.6       0.0   \n",
       "\n",
       "        discount_amt  \n",
       "0            2736.42  \n",
       "284804         28.00  \n",
       "285005        529.62  \n",
       "285106       4577.43  \n",
       "43263           0.00  "
      ]
     },
     "execution_count": 49,
     "metadata": {},
     "output_type": "execute_result"
    }
   ],
   "source": [
    "res.head()"
   ]
  },
  {
   "cell_type": "code",
   "execution_count": 50,
   "metadata": {},
   "outputs": [
    {
     "data": {
      "text/plain": [
       "cuisine\n",
       "Continental    515.978809\n",
       "Indian         340.769833\n",
       "Italian        285.133102\n",
       "Thai           213.323235\n",
       "Name: checkout_price, dtype: float64"
      ]
     },
     "execution_count": 50,
     "metadata": {},
     "output_type": "execute_result"
    }
   ],
   "source": [
    "res.groupby('cuisine').checkout_price.mean()"
   ]
  },
  {
   "cell_type": "code",
   "execution_count": 51,
   "metadata": {},
   "outputs": [
    {
     "data": {
      "text/plain": [
       "center_type\n",
       "TYPE_A    57.081447\n",
       "TYPE_B    54.680060\n",
       "TYPE_C    57.209513\n",
       "Name: region_code, dtype: float64"
      ]
     },
     "execution_count": 51,
     "metadata": {},
     "output_type": "execute_result"
    }
   ],
   "source": [
    "res.groupby('center_type').region_code.mean()"
   ]
  },
  {
   "cell_type": "markdown",
   "metadata": {},
   "source": [
    "# DISCOUNT,DISCOUNT_AMT  columns made in EDA section."
   ]
  },
  {
   "cell_type": "markdown",
   "metadata": {},
   "source": [
    "\n",
    "# Discount is a binary column stating wether discount was there on order or not"
   ]
  },
  {
   "cell_type": "markdown",
   "metadata": {},
   "source": [
    "# Discount Amt is continous column which states the ammount of discount offered.|| Discount_amt=(base_price-checkout_price)*num_orders"
   ]
  },
  {
   "cell_type": "markdown",
   "metadata": {},
   "source": [
    "Checking the correlation of the discount and discount amt feature with correlation matrix"
   ]
  },
  {
   "cell_type": "code",
   "execution_count": 52,
   "metadata": {},
   "outputs": [
    {
     "data": {
      "text/html": [
       "<div>\n",
       "<style scoped>\n",
       "    .dataframe tbody tr th:only-of-type {\n",
       "        vertical-align: middle;\n",
       "    }\n",
       "\n",
       "    .dataframe tbody tr th {\n",
       "        vertical-align: top;\n",
       "    }\n",
       "\n",
       "    .dataframe thead th {\n",
       "        text-align: right;\n",
       "    }\n",
       "</style>\n",
       "<table border=\"1\" class=\"dataframe\">\n",
       "  <thead>\n",
       "    <tr style=\"text-align: right;\">\n",
       "      <th></th>\n",
       "      <th>week</th>\n",
       "      <th>center_id</th>\n",
       "      <th>meal_id</th>\n",
       "      <th>checkout_price</th>\n",
       "      <th>base_price</th>\n",
       "      <th>emailer_for_promotion</th>\n",
       "      <th>homepage_featured</th>\n",
       "      <th>num_orders</th>\n",
       "      <th>city_code</th>\n",
       "      <th>region_code</th>\n",
       "      <th>op_area</th>\n",
       "      <th>discount</th>\n",
       "      <th>discount_amt</th>\n",
       "    </tr>\n",
       "  </thead>\n",
       "  <tbody>\n",
       "    <tr>\n",
       "      <th>week</th>\n",
       "      <td>1.000000</td>\n",
       "      <td>-0.003450</td>\n",
       "      <td>0.019814</td>\n",
       "      <td>0.026581</td>\n",
       "      <td>0.028614</td>\n",
       "      <td>-0.000841</td>\n",
       "      <td>-0.008263</td>\n",
       "      <td>-0.017210</td>\n",
       "      <td>0.000405</td>\n",
       "      <td>0.004600</td>\n",
       "      <td>0.001550</td>\n",
       "      <td>-0.017744</td>\n",
       "      <td>-0.015816</td>\n",
       "    </tr>\n",
       "    <tr>\n",
       "      <th>center_id</th>\n",
       "      <td>-0.003450</td>\n",
       "      <td>1.000000</td>\n",
       "      <td>0.009893</td>\n",
       "      <td>0.001348</td>\n",
       "      <td>0.000604</td>\n",
       "      <td>0.013658</td>\n",
       "      <td>-0.005043</td>\n",
       "      <td>-0.053035</td>\n",
       "      <td>0.061078</td>\n",
       "      <td>-0.003426</td>\n",
       "      <td>-0.111869</td>\n",
       "      <td>-0.002971</td>\n",
       "      <td>-0.017998</td>\n",
       "    </tr>\n",
       "    <tr>\n",
       "      <th>meal_id</th>\n",
       "      <td>0.019814</td>\n",
       "      <td>0.009893</td>\n",
       "      <td>1.000000</td>\n",
       "      <td>0.010748</td>\n",
       "      <td>0.002605</td>\n",
       "      <td>0.013402</td>\n",
       "      <td>0.016354</td>\n",
       "      <td>0.010597</td>\n",
       "      <td>-0.003198</td>\n",
       "      <td>-0.001662</td>\n",
       "      <td>-0.001546</td>\n",
       "      <td>-0.033679</td>\n",
       "      <td>-0.006283</td>\n",
       "    </tr>\n",
       "    <tr>\n",
       "      <th>checkout_price</th>\n",
       "      <td>0.026581</td>\n",
       "      <td>0.001348</td>\n",
       "      <td>0.010748</td>\n",
       "      <td>1.000000</td>\n",
       "      <td>0.953389</td>\n",
       "      <td>0.004818</td>\n",
       "      <td>-0.057184</td>\n",
       "      <td>-0.282108</td>\n",
       "      <td>-0.004805</td>\n",
       "      <td>-0.003648</td>\n",
       "      <td>0.021569</td>\n",
       "      <td>-0.103340</td>\n",
       "      <td>-0.054459</td>\n",
       "    </tr>\n",
       "    <tr>\n",
       "      <th>base_price</th>\n",
       "      <td>0.028614</td>\n",
       "      <td>0.000604</td>\n",
       "      <td>0.002605</td>\n",
       "      <td>0.953389</td>\n",
       "      <td>1.000000</td>\n",
       "      <td>0.171173</td>\n",
       "      <td>0.057156</td>\n",
       "      <td>-0.222306</td>\n",
       "      <td>-0.002054</td>\n",
       "      <td>-0.001934</td>\n",
       "      <td>0.018031</td>\n",
       "      <td>0.043064</td>\n",
       "      <td>0.096008</td>\n",
       "    </tr>\n",
       "    <tr>\n",
       "      <th>emailer_for_promotion</th>\n",
       "      <td>-0.000841</td>\n",
       "      <td>0.013658</td>\n",
       "      <td>0.013402</td>\n",
       "      <td>0.004818</td>\n",
       "      <td>0.171173</td>\n",
       "      <td>1.000000</td>\n",
       "      <td>0.390534</td>\n",
       "      <td>0.277147</td>\n",
       "      <td>-0.005234</td>\n",
       "      <td>-0.007462</td>\n",
       "      <td>-0.019462</td>\n",
       "      <td>0.276454</td>\n",
       "      <td>0.427860</td>\n",
       "    </tr>\n",
       "    <tr>\n",
       "      <th>homepage_featured</th>\n",
       "      <td>-0.008263</td>\n",
       "      <td>-0.005043</td>\n",
       "      <td>0.016354</td>\n",
       "      <td>-0.057184</td>\n",
       "      <td>0.057156</td>\n",
       "      <td>0.390534</td>\n",
       "      <td>1.000000</td>\n",
       "      <td>0.294490</td>\n",
       "      <td>0.008640</td>\n",
       "      <td>0.003605</td>\n",
       "      <td>0.041498</td>\n",
       "      <td>0.213979</td>\n",
       "      <td>0.321384</td>\n",
       "    </tr>\n",
       "    <tr>\n",
       "      <th>num_orders</th>\n",
       "      <td>-0.017210</td>\n",
       "      <td>-0.053035</td>\n",
       "      <td>0.010597</td>\n",
       "      <td>-0.282108</td>\n",
       "      <td>-0.222306</td>\n",
       "      <td>0.277147</td>\n",
       "      <td>0.294490</td>\n",
       "      <td>1.000000</td>\n",
       "      <td>0.041596</td>\n",
       "      <td>0.029744</td>\n",
       "      <td>0.176976</td>\n",
       "      <td>0.111766</td>\n",
       "      <td>0.673281</td>\n",
       "    </tr>\n",
       "    <tr>\n",
       "      <th>city_code</th>\n",
       "      <td>0.000405</td>\n",
       "      <td>0.061078</td>\n",
       "      <td>-0.003198</td>\n",
       "      <td>-0.004805</td>\n",
       "      <td>-0.002054</td>\n",
       "      <td>-0.005234</td>\n",
       "      <td>0.008640</td>\n",
       "      <td>0.041596</td>\n",
       "      <td>1.000000</td>\n",
       "      <td>0.042686</td>\n",
       "      <td>0.131476</td>\n",
       "      <td>0.003876</td>\n",
       "      <td>0.020490</td>\n",
       "    </tr>\n",
       "    <tr>\n",
       "      <th>region_code</th>\n",
       "      <td>0.004600</td>\n",
       "      <td>-0.003426</td>\n",
       "      <td>-0.001662</td>\n",
       "      <td>-0.003648</td>\n",
       "      <td>-0.001934</td>\n",
       "      <td>-0.007462</td>\n",
       "      <td>0.003605</td>\n",
       "      <td>0.029744</td>\n",
       "      <td>0.042686</td>\n",
       "      <td>1.000000</td>\n",
       "      <td>0.023327</td>\n",
       "      <td>0.003672</td>\n",
       "      <td>0.014681</td>\n",
       "    </tr>\n",
       "    <tr>\n",
       "      <th>op_area</th>\n",
       "      <td>0.001550</td>\n",
       "      <td>-0.111869</td>\n",
       "      <td>-0.001546</td>\n",
       "      <td>0.021569</td>\n",
       "      <td>0.018031</td>\n",
       "      <td>-0.019462</td>\n",
       "      <td>0.041498</td>\n",
       "      <td>0.176976</td>\n",
       "      <td>0.131476</td>\n",
       "      <td>0.023327</td>\n",
       "      <td>1.000000</td>\n",
       "      <td>-0.004067</td>\n",
       "      <td>0.053793</td>\n",
       "    </tr>\n",
       "    <tr>\n",
       "      <th>discount</th>\n",
       "      <td>-0.017744</td>\n",
       "      <td>-0.002971</td>\n",
       "      <td>-0.033679</td>\n",
       "      <td>-0.103340</td>\n",
       "      <td>0.043064</td>\n",
       "      <td>0.276454</td>\n",
       "      <td>0.213979</td>\n",
       "      <td>0.111766</td>\n",
       "      <td>0.003876</td>\n",
       "      <td>0.003672</td>\n",
       "      <td>-0.004067</td>\n",
       "      <td>1.000000</td>\n",
       "      <td>0.219813</td>\n",
       "    </tr>\n",
       "    <tr>\n",
       "      <th>discount_amt</th>\n",
       "      <td>-0.015816</td>\n",
       "      <td>-0.017998</td>\n",
       "      <td>-0.006283</td>\n",
       "      <td>-0.054459</td>\n",
       "      <td>0.096008</td>\n",
       "      <td>0.427860</td>\n",
       "      <td>0.321384</td>\n",
       "      <td>0.673281</td>\n",
       "      <td>0.020490</td>\n",
       "      <td>0.014681</td>\n",
       "      <td>0.053793</td>\n",
       "      <td>0.219813</td>\n",
       "      <td>1.000000</td>\n",
       "    </tr>\n",
       "  </tbody>\n",
       "</table>\n",
       "</div>"
      ],
      "text/plain": [
       "                           week  center_id   meal_id  checkout_price  \\\n",
       "week                   1.000000  -0.003450  0.019814        0.026581   \n",
       "center_id             -0.003450   1.000000  0.009893        0.001348   \n",
       "meal_id                0.019814   0.009893  1.000000        0.010748   \n",
       "checkout_price         0.026581   0.001348  0.010748        1.000000   \n",
       "base_price             0.028614   0.000604  0.002605        0.953389   \n",
       "emailer_for_promotion -0.000841   0.013658  0.013402        0.004818   \n",
       "homepage_featured     -0.008263  -0.005043  0.016354       -0.057184   \n",
       "num_orders            -0.017210  -0.053035  0.010597       -0.282108   \n",
       "city_code              0.000405   0.061078 -0.003198       -0.004805   \n",
       "region_code            0.004600  -0.003426 -0.001662       -0.003648   \n",
       "op_area                0.001550  -0.111869 -0.001546        0.021569   \n",
       "discount              -0.017744  -0.002971 -0.033679       -0.103340   \n",
       "discount_amt          -0.015816  -0.017998 -0.006283       -0.054459   \n",
       "\n",
       "                       base_price  emailer_for_promotion  homepage_featured  \\\n",
       "week                     0.028614              -0.000841          -0.008263   \n",
       "center_id                0.000604               0.013658          -0.005043   \n",
       "meal_id                  0.002605               0.013402           0.016354   \n",
       "checkout_price           0.953389               0.004818          -0.057184   \n",
       "base_price               1.000000               0.171173           0.057156   \n",
       "emailer_for_promotion    0.171173               1.000000           0.390534   \n",
       "homepage_featured        0.057156               0.390534           1.000000   \n",
       "num_orders              -0.222306               0.277147           0.294490   \n",
       "city_code               -0.002054              -0.005234           0.008640   \n",
       "region_code             -0.001934              -0.007462           0.003605   \n",
       "op_area                  0.018031              -0.019462           0.041498   \n",
       "discount                 0.043064               0.276454           0.213979   \n",
       "discount_amt             0.096008               0.427860           0.321384   \n",
       "\n",
       "                       num_orders  city_code  region_code   op_area  discount  \\\n",
       "week                    -0.017210   0.000405     0.004600  0.001550 -0.017744   \n",
       "center_id               -0.053035   0.061078    -0.003426 -0.111869 -0.002971   \n",
       "meal_id                  0.010597  -0.003198    -0.001662 -0.001546 -0.033679   \n",
       "checkout_price          -0.282108  -0.004805    -0.003648  0.021569 -0.103340   \n",
       "base_price              -0.222306  -0.002054    -0.001934  0.018031  0.043064   \n",
       "emailer_for_promotion    0.277147  -0.005234    -0.007462 -0.019462  0.276454   \n",
       "homepage_featured        0.294490   0.008640     0.003605  0.041498  0.213979   \n",
       "num_orders               1.000000   0.041596     0.029744  0.176976  0.111766   \n",
       "city_code                0.041596   1.000000     0.042686  0.131476  0.003876   \n",
       "region_code              0.029744   0.042686     1.000000  0.023327  0.003672   \n",
       "op_area                  0.176976   0.131476     0.023327  1.000000 -0.004067   \n",
       "discount                 0.111766   0.003876     0.003672 -0.004067  1.000000   \n",
       "discount_amt             0.673281   0.020490     0.014681  0.053793  0.219813   \n",
       "\n",
       "                       discount_amt  \n",
       "week                      -0.015816  \n",
       "center_id                 -0.017998  \n",
       "meal_id                   -0.006283  \n",
       "checkout_price            -0.054459  \n",
       "base_price                 0.096008  \n",
       "emailer_for_promotion      0.427860  \n",
       "homepage_featured          0.321384  \n",
       "num_orders                 0.673281  \n",
       "city_code                  0.020490  \n",
       "region_code                0.014681  \n",
       "op_area                    0.053793  \n",
       "discount                   0.219813  \n",
       "discount_amt               1.000000  "
      ]
     },
     "execution_count": 52,
     "metadata": {},
     "output_type": "execute_result"
    }
   ],
   "source": [
    "res.corr()"
   ]
  },
  {
   "cell_type": "markdown",
   "metadata": {},
   "source": [
    "# Here we can see that dicount_ amt is having great correlation with target column"
   ]
  },
  {
   "cell_type": "markdown",
   "metadata": {},
   "source": [
    "# Analyzing category and its respective cuisines"
   ]
  },
  {
   "cell_type": "code",
   "execution_count": 53,
   "metadata": {},
   "outputs": [
    {
     "data": {
      "text/html": [
       "<div>\n",
       "<style scoped>\n",
       "    .dataframe tbody tr th:only-of-type {\n",
       "        vertical-align: middle;\n",
       "    }\n",
       "\n",
       "    .dataframe tbody tr th {\n",
       "        vertical-align: top;\n",
       "    }\n",
       "\n",
       "    .dataframe thead th {\n",
       "        text-align: right;\n",
       "    }\n",
       "</style>\n",
       "<table border=\"1\" class=\"dataframe\">\n",
       "  <thead>\n",
       "    <tr style=\"text-align: right;\">\n",
       "      <th></th>\n",
       "      <th>category</th>\n",
       "      <th>cuisine</th>\n",
       "      <th>num_orders</th>\n",
       "    </tr>\n",
       "  </thead>\n",
       "  <tbody>\n",
       "    <tr>\n",
       "      <th>0</th>\n",
       "      <td>Beverages</td>\n",
       "      <td>Continental</td>\n",
       "      <td>5943046</td>\n",
       "    </tr>\n",
       "    <tr>\n",
       "      <th>1</th>\n",
       "      <td>Beverages</td>\n",
       "      <td>Indian</td>\n",
       "      <td>2345879</td>\n",
       "    </tr>\n",
       "    <tr>\n",
       "      <th>2</th>\n",
       "      <td>Beverages</td>\n",
       "      <td>Italian</td>\n",
       "      <td>13953970</td>\n",
       "    </tr>\n",
       "    <tr>\n",
       "      <th>3</th>\n",
       "      <td>Beverages</td>\n",
       "      <td>Thai</td>\n",
       "      <td>18237630</td>\n",
       "    </tr>\n",
       "    <tr>\n",
       "      <th>4</th>\n",
       "      <td>Biryani</td>\n",
       "      <td>Indian</td>\n",
       "      <td>631848</td>\n",
       "    </tr>\n",
       "    <tr>\n",
       "      <th>5</th>\n",
       "      <td>Desert</td>\n",
       "      <td>Indian</td>\n",
       "      <td>1940754</td>\n",
       "    </tr>\n",
       "    <tr>\n",
       "      <th>6</th>\n",
       "      <td>Extras</td>\n",
       "      <td>Thai</td>\n",
       "      <td>3984979</td>\n",
       "    </tr>\n",
       "    <tr>\n",
       "      <th>7</th>\n",
       "      <td>Fish</td>\n",
       "      <td>Continental</td>\n",
       "      <td>871959</td>\n",
       "    </tr>\n",
       "    <tr>\n",
       "      <th>8</th>\n",
       "      <td>Other Snacks</td>\n",
       "      <td>Thai</td>\n",
       "      <td>4766293</td>\n",
       "    </tr>\n",
       "    <tr>\n",
       "      <th>9</th>\n",
       "      <td>Pasta</td>\n",
       "      <td>Italian</td>\n",
       "      <td>1637744</td>\n",
       "    </tr>\n",
       "    <tr>\n",
       "      <th>10</th>\n",
       "      <td>Pizza</td>\n",
       "      <td>Continental</td>\n",
       "      <td>7383720</td>\n",
       "    </tr>\n",
       "    <tr>\n",
       "      <th>11</th>\n",
       "      <td>Rice Bowl</td>\n",
       "      <td>Indian</td>\n",
       "      <td>20874063</td>\n",
       "    </tr>\n",
       "    <tr>\n",
       "      <th>12</th>\n",
       "      <td>Salad</td>\n",
       "      <td>Italian</td>\n",
       "      <td>10944336</td>\n",
       "    </tr>\n",
       "    <tr>\n",
       "      <th>13</th>\n",
       "      <td>Sandwich</td>\n",
       "      <td>Italian</td>\n",
       "      <td>17636782</td>\n",
       "    </tr>\n",
       "    <tr>\n",
       "      <th>14</th>\n",
       "      <td>Seafood</td>\n",
       "      <td>Continental</td>\n",
       "      <td>2715714</td>\n",
       "    </tr>\n",
       "    <tr>\n",
       "      <th>15</th>\n",
       "      <td>Soup</td>\n",
       "      <td>Thai</td>\n",
       "      <td>1039646</td>\n",
       "    </tr>\n",
       "    <tr>\n",
       "      <th>16</th>\n",
       "      <td>Starters</td>\n",
       "      <td>Thai</td>\n",
       "      <td>4649122</td>\n",
       "    </tr>\n",
       "  </tbody>\n",
       "</table>\n",
       "</div>"
      ],
      "text/plain": [
       "        category      cuisine  num_orders\n",
       "0      Beverages  Continental     5943046\n",
       "1      Beverages       Indian     2345879\n",
       "2      Beverages      Italian    13953970\n",
       "3      Beverages         Thai    18237630\n",
       "4        Biryani       Indian      631848\n",
       "5         Desert       Indian     1940754\n",
       "6         Extras         Thai     3984979\n",
       "7           Fish  Continental      871959\n",
       "8   Other Snacks         Thai     4766293\n",
       "9          Pasta      Italian     1637744\n",
       "10         Pizza  Continental     7383720\n",
       "11     Rice Bowl       Indian    20874063\n",
       "12         Salad      Italian    10944336\n",
       "13      Sandwich      Italian    17636782\n",
       "14       Seafood  Continental     2715714\n",
       "15          Soup         Thai     1039646\n",
       "16      Starters         Thai     4649122"
      ]
     },
     "execution_count": 53,
     "metadata": {},
     "output_type": "execute_result"
    }
   ],
   "source": [
    "pivot=pd.DataFrame(res.groupby(['category','cuisine']).num_orders.sum()).reset_index()\n",
    "pivot"
   ]
  },
  {
   "cell_type": "markdown",
   "metadata": {},
   "source": [
    "# From here we can see that only beverage is the item which is all cuisine"
   ]
  },
  {
   "cell_type": "markdown",
   "metadata": {},
   "source": [
    "\n",
    "# We can combine these columns and get one column called product"
   ]
  },
  {
   "cell_type": "code",
   "execution_count": 54,
   "metadata": {},
   "outputs": [],
   "source": [
    "res[\"item\"] = res[\"category\"] +\"_\"+ res[\"cuisine\"]"
   ]
  },
  {
   "cell_type": "code",
   "execution_count": 55,
   "metadata": {},
   "outputs": [
    {
     "data": {
      "text/plain": [
       "Rice Bowl_Indian         33408\n",
       "Beverages_Italian        33381\n",
       "Sandwich_Italian         33291\n",
       "Pizza_Continental        33138\n",
       "Beverages_Thai           32659\n",
       "Beverages_Continental    32554\n",
       "Starters_Thai            29941\n",
       "Other Snacks_Thai        29379\n",
       "Beverages_Indian         29296\n",
       "Desert_Indian            29294\n",
       "Salad_Italian            28559\n",
       "Pasta_Italian            27694\n",
       "Seafood_Continental      26916\n",
       "Biryani_Indian           20614\n",
       "Extras_Thai              13562\n",
       "Soup_Thai                12675\n",
       "Fish_Continental         10187\n",
       "Name: item, dtype: int64"
      ]
     },
     "execution_count": 55,
     "metadata": {},
     "output_type": "execute_result"
    }
   ],
   "source": [
    "res.item.value_counts()"
   ]
  },
  {
   "cell_type": "code",
   "execution_count": null,
   "metadata": {},
   "outputs": [],
   "source": []
  },
  {
   "cell_type": "code",
   "execution_count": null,
   "metadata": {},
   "outputs": [],
   "source": []
  },
  {
   "cell_type": "code",
   "execution_count": 56,
   "metadata": {},
   "outputs": [
    {
     "data": {
      "text/plain": [
       "Index(['week', 'center_id', 'meal_id', 'checkout_price', 'base_price',\n",
       "       'emailer_for_promotion', 'homepage_featured', 'num_orders', 'category',\n",
       "       'cuisine', 'city_code', 'region_code', 'center_type', 'op_area',\n",
       "       'discount', 'discount_amt', 'item'],\n",
       "      dtype='object')"
      ]
     },
     "execution_count": 56,
     "metadata": {},
     "output_type": "execute_result"
    }
   ],
   "source": [
    "res.columns"
   ]
  },
  {
   "cell_type": "markdown",
   "metadata": {},
   "source": [
    "# Dropping the cuisine and category column as we already made a new column out of it"
   ]
  },
  {
   "cell_type": "code",
   "execution_count": 57,
   "metadata": {},
   "outputs": [],
   "source": [
    "res.drop(['cuisine','category'],axis=1,inplace=True)"
   ]
  },
  {
   "cell_type": "code",
   "execution_count": 58,
   "metadata": {},
   "outputs": [
    {
     "data": {
      "text/plain": [
       "array([  1,   2,   3,   4,   5,   6,   7,   8,   9,  10,  11,  12,  13,\n",
       "        14,  15,  16,  17,  18,  19,  20,  21,  22,  23,  24,  25,  26,\n",
       "        27,  28,  29,  30,  31,  32,  33,  34,  35,  36,  37,  38,  39,\n",
       "        40,  41,  42,  43,  44,  45,  46,  47,  48,  49,  50,  51,  52,\n",
       "        53,  54,  55,  56,  57,  58,  59,  60,  61,  62,  63,  64,  65,\n",
       "        66,  67,  68,  69,  70,  71,  72,  73,  74,  75,  76,  77,  78,\n",
       "        79,  80,  81,  82,  83,  84,  85,  86,  87,  88,  89,  90,  91,\n",
       "        92,  93,  94,  95,  96,  97,  98,  99, 100, 101, 102, 103, 104,\n",
       "       105, 106, 107, 108, 109, 110, 111, 112, 113, 114, 115, 116, 117,\n",
       "       118, 119, 120, 121, 122, 123, 124, 125, 126, 127, 128, 129, 130,\n",
       "       131, 132, 133, 134, 135, 136, 137, 138, 139, 140, 141, 142, 143,\n",
       "       144, 145], dtype=int64)"
      ]
     },
     "execution_count": 58,
     "metadata": {},
     "output_type": "execute_result"
    }
   ],
   "source": [
    "res.week.unique()"
   ]
  },
  {
   "cell_type": "markdown",
   "metadata": {},
   "source": [
    "# Splitting the data into two train and test "
   ]
  },
  {
   "cell_type": "markdown",
   "metadata": {},
   "source": [
    "# This is a forecasting problem statement so we need to preserve the time "
   ]
  },
  {
   "cell_type": "markdown",
   "metadata": {},
   "source": [
    "# So, Splitting on basis of week "
   ]
  },
  {
   "cell_type": "code",
   "execution_count": null,
   "metadata": {},
   "outputs": [],
   "source": []
  },
  {
   "cell_type": "code",
   "execution_count": null,
   "metadata": {},
   "outputs": [],
   "source": []
  },
  {
   "cell_type": "code",
   "execution_count": 59,
   "metadata": {},
   "outputs": [],
   "source": [
    "res_test=res[res['week']>116]"
   ]
  },
  {
   "cell_type": "code",
   "execution_count": 60,
   "metadata": {},
   "outputs": [],
   "source": [
    "res_train=res[res['week']<=116]"
   ]
  },
  {
   "cell_type": "code",
   "execution_count": null,
   "metadata": {},
   "outputs": [],
   "source": []
  },
  {
   "cell_type": "code",
   "execution_count": 61,
   "metadata": {},
   "outputs": [
    {
     "data": {
      "text/html": [
       "<div>\n",
       "<style scoped>\n",
       "    .dataframe tbody tr th:only-of-type {\n",
       "        vertical-align: middle;\n",
       "    }\n",
       "\n",
       "    .dataframe tbody tr th {\n",
       "        vertical-align: top;\n",
       "    }\n",
       "\n",
       "    .dataframe thead th {\n",
       "        text-align: right;\n",
       "    }\n",
       "</style>\n",
       "<table border=\"1\" class=\"dataframe\">\n",
       "  <thead>\n",
       "    <tr style=\"text-align: right;\">\n",
       "      <th></th>\n",
       "      <th>week</th>\n",
       "      <th>center_id</th>\n",
       "      <th>meal_id</th>\n",
       "      <th>checkout_price</th>\n",
       "      <th>base_price</th>\n",
       "      <th>emailer_for_promotion</th>\n",
       "      <th>homepage_featured</th>\n",
       "      <th>num_orders</th>\n",
       "      <th>city_code</th>\n",
       "      <th>region_code</th>\n",
       "      <th>center_type</th>\n",
       "      <th>op_area</th>\n",
       "      <th>discount</th>\n",
       "      <th>discount_amt</th>\n",
       "      <th>item</th>\n",
       "    </tr>\n",
       "  </thead>\n",
       "  <tbody>\n",
       "    <tr>\n",
       "      <th>0</th>\n",
       "      <td>1</td>\n",
       "      <td>55</td>\n",
       "      <td>1885</td>\n",
       "      <td>136.83</td>\n",
       "      <td>152.29</td>\n",
       "      <td>0</td>\n",
       "      <td>0</td>\n",
       "      <td>177</td>\n",
       "      <td>647</td>\n",
       "      <td>56</td>\n",
       "      <td>TYPE_C</td>\n",
       "      <td>2.0</td>\n",
       "      <td>1.0</td>\n",
       "      <td>2736.42</td>\n",
       "      <td>Beverages_Thai</td>\n",
       "    </tr>\n",
       "    <tr>\n",
       "      <th>284804</th>\n",
       "      <td>1</td>\n",
       "      <td>113</td>\n",
       "      <td>2444</td>\n",
       "      <td>658.63</td>\n",
       "      <td>660.63</td>\n",
       "      <td>0</td>\n",
       "      <td>0</td>\n",
       "      <td>14</td>\n",
       "      <td>680</td>\n",
       "      <td>77</td>\n",
       "      <td>TYPE_C</td>\n",
       "      <td>4.0</td>\n",
       "      <td>1.0</td>\n",
       "      <td>28.00</td>\n",
       "      <td>Seafood_Continental</td>\n",
       "    </tr>\n",
       "    <tr>\n",
       "      <th>285005</th>\n",
       "      <td>1</td>\n",
       "      <td>113</td>\n",
       "      <td>1525</td>\n",
       "      <td>244.50</td>\n",
       "      <td>282.33</td>\n",
       "      <td>0</td>\n",
       "      <td>0</td>\n",
       "      <td>14</td>\n",
       "      <td>680</td>\n",
       "      <td>77</td>\n",
       "      <td>TYPE_C</td>\n",
       "      <td>4.0</td>\n",
       "      <td>1.0</td>\n",
       "      <td>529.62</td>\n",
       "      <td>Other Snacks_Thai</td>\n",
       "    </tr>\n",
       "    <tr>\n",
       "      <th>285106</th>\n",
       "      <td>1</td>\n",
       "      <td>113</td>\n",
       "      <td>2704</td>\n",
       "      <td>242.50</td>\n",
       "      <td>280.33</td>\n",
       "      <td>0</td>\n",
       "      <td>0</td>\n",
       "      <td>121</td>\n",
       "      <td>680</td>\n",
       "      <td>77</td>\n",
       "      <td>TYPE_C</td>\n",
       "      <td>4.0</td>\n",
       "      <td>1.0</td>\n",
       "      <td>4577.43</td>\n",
       "      <td>Other Snacks_Thai</td>\n",
       "    </tr>\n",
       "    <tr>\n",
       "      <th>43263</th>\n",
       "      <td>1</td>\n",
       "      <td>52</td>\n",
       "      <td>1248</td>\n",
       "      <td>247.35</td>\n",
       "      <td>247.35</td>\n",
       "      <td>0</td>\n",
       "      <td>0</td>\n",
       "      <td>81</td>\n",
       "      <td>685</td>\n",
       "      <td>56</td>\n",
       "      <td>TYPE_B</td>\n",
       "      <td>5.6</td>\n",
       "      <td>0.0</td>\n",
       "      <td>0.00</td>\n",
       "      <td>Beverages_Indian</td>\n",
       "    </tr>\n",
       "    <tr>\n",
       "      <th>...</th>\n",
       "      <td>...</td>\n",
       "      <td>...</td>\n",
       "      <td>...</td>\n",
       "      <td>...</td>\n",
       "      <td>...</td>\n",
       "      <td>...</td>\n",
       "      <td>...</td>\n",
       "      <td>...</td>\n",
       "      <td>...</td>\n",
       "      <td>...</td>\n",
       "      <td>...</td>\n",
       "      <td>...</td>\n",
       "      <td>...</td>\n",
       "      <td>...</td>\n",
       "      <td>...</td>\n",
       "    </tr>\n",
       "    <tr>\n",
       "      <th>231824</th>\n",
       "      <td>116</td>\n",
       "      <td>153</td>\n",
       "      <td>2306</td>\n",
       "      <td>325.92</td>\n",
       "      <td>325.92</td>\n",
       "      <td>0</td>\n",
       "      <td>0</td>\n",
       "      <td>42</td>\n",
       "      <td>590</td>\n",
       "      <td>56</td>\n",
       "      <td>TYPE_A</td>\n",
       "      <td>3.9</td>\n",
       "      <td>0.0</td>\n",
       "      <td>0.00</td>\n",
       "      <td>Pasta_Italian</td>\n",
       "    </tr>\n",
       "    <tr>\n",
       "      <th>305605</th>\n",
       "      <td>116</td>\n",
       "      <td>67</td>\n",
       "      <td>2539</td>\n",
       "      <td>150.38</td>\n",
       "      <td>149.38</td>\n",
       "      <td>0</td>\n",
       "      <td>0</td>\n",
       "      <td>636</td>\n",
       "      <td>638</td>\n",
       "      <td>56</td>\n",
       "      <td>TYPE_B</td>\n",
       "      <td>7.0</td>\n",
       "      <td>0.0</td>\n",
       "      <td>-636.00</td>\n",
       "      <td>Beverages_Thai</td>\n",
       "    </tr>\n",
       "    <tr>\n",
       "      <th>68940</th>\n",
       "      <td>116</td>\n",
       "      <td>57</td>\n",
       "      <td>1109</td>\n",
       "      <td>328.83</td>\n",
       "      <td>329.83</td>\n",
       "      <td>0</td>\n",
       "      <td>0</td>\n",
       "      <td>96</td>\n",
       "      <td>541</td>\n",
       "      <td>77</td>\n",
       "      <td>TYPE_C</td>\n",
       "      <td>2.8</td>\n",
       "      <td>1.0</td>\n",
       "      <td>96.00</td>\n",
       "      <td>Rice Bowl_Indian</td>\n",
       "    </tr>\n",
       "    <tr>\n",
       "      <th>304709</th>\n",
       "      <td>116</td>\n",
       "      <td>72</td>\n",
       "      <td>1543</td>\n",
       "      <td>472.39</td>\n",
       "      <td>473.39</td>\n",
       "      <td>0</td>\n",
       "      <td>0</td>\n",
       "      <td>27</td>\n",
       "      <td>638</td>\n",
       "      <td>56</td>\n",
       "      <td>TYPE_C</td>\n",
       "      <td>3.9</td>\n",
       "      <td>1.0</td>\n",
       "      <td>27.00</td>\n",
       "      <td>Desert_Indian</td>\n",
       "    </tr>\n",
       "    <tr>\n",
       "      <th>353973</th>\n",
       "      <td>116</td>\n",
       "      <td>88</td>\n",
       "      <td>1248</td>\n",
       "      <td>150.35</td>\n",
       "      <td>152.35</td>\n",
       "      <td>0</td>\n",
       "      <td>0</td>\n",
       "      <td>82</td>\n",
       "      <td>526</td>\n",
       "      <td>34</td>\n",
       "      <td>TYPE_A</td>\n",
       "      <td>4.1</td>\n",
       "      <td>1.0</td>\n",
       "      <td>164.00</td>\n",
       "      <td>Beverages_Indian</td>\n",
       "    </tr>\n",
       "  </tbody>\n",
       "</table>\n",
       "<p>361348 rows × 15 columns</p>\n",
       "</div>"
      ],
      "text/plain": [
       "        week  center_id  meal_id  checkout_price  base_price  \\\n",
       "0          1         55     1885          136.83      152.29   \n",
       "284804     1        113     2444          658.63      660.63   \n",
       "285005     1        113     1525          244.50      282.33   \n",
       "285106     1        113     2704          242.50      280.33   \n",
       "43263      1         52     1248          247.35      247.35   \n",
       "...      ...        ...      ...             ...         ...   \n",
       "231824   116        153     2306          325.92      325.92   \n",
       "305605   116         67     2539          150.38      149.38   \n",
       "68940    116         57     1109          328.83      329.83   \n",
       "304709   116         72     1543          472.39      473.39   \n",
       "353973   116         88     1248          150.35      152.35   \n",
       "\n",
       "        emailer_for_promotion  homepage_featured  num_orders  city_code  \\\n",
       "0                           0                  0         177        647   \n",
       "284804                      0                  0          14        680   \n",
       "285005                      0                  0          14        680   \n",
       "285106                      0                  0         121        680   \n",
       "43263                       0                  0          81        685   \n",
       "...                       ...                ...         ...        ...   \n",
       "231824                      0                  0          42        590   \n",
       "305605                      0                  0         636        638   \n",
       "68940                       0                  0          96        541   \n",
       "304709                      0                  0          27        638   \n",
       "353973                      0                  0          82        526   \n",
       "\n",
       "        region_code center_type  op_area  discount  discount_amt  \\\n",
       "0                56      TYPE_C      2.0       1.0       2736.42   \n",
       "284804           77      TYPE_C      4.0       1.0         28.00   \n",
       "285005           77      TYPE_C      4.0       1.0        529.62   \n",
       "285106           77      TYPE_C      4.0       1.0       4577.43   \n",
       "43263            56      TYPE_B      5.6       0.0          0.00   \n",
       "...             ...         ...      ...       ...           ...   \n",
       "231824           56      TYPE_A      3.9       0.0          0.00   \n",
       "305605           56      TYPE_B      7.0       0.0       -636.00   \n",
       "68940            77      TYPE_C      2.8       1.0         96.00   \n",
       "304709           56      TYPE_C      3.9       1.0         27.00   \n",
       "353973           34      TYPE_A      4.1       1.0        164.00   \n",
       "\n",
       "                       item  \n",
       "0            Beverages_Thai  \n",
       "284804  Seafood_Continental  \n",
       "285005    Other Snacks_Thai  \n",
       "285106    Other Snacks_Thai  \n",
       "43263      Beverages_Indian  \n",
       "...                     ...  \n",
       "231824        Pasta_Italian  \n",
       "305605       Beverages_Thai  \n",
       "68940      Rice Bowl_Indian  \n",
       "304709        Desert_Indian  \n",
       "353973     Beverages_Indian  \n",
       "\n",
       "[361348 rows x 15 columns]"
      ]
     },
     "execution_count": 61,
     "metadata": {},
     "output_type": "execute_result"
    }
   ],
   "source": [
    "res_train"
   ]
  },
  {
   "cell_type": "code",
   "execution_count": 62,
   "metadata": {},
   "outputs": [
    {
     "data": {
      "text/plain": [
       "center_type\n",
       "TYPE_A    262.394456\n",
       "TYPE_B    318.856145\n",
       "TYPE_C    206.670097\n",
       "Name: num_orders, dtype: float64"
      ]
     },
     "execution_count": 62,
     "metadata": {},
     "output_type": "execute_result"
    }
   ],
   "source": [
    "res.groupby('center_type').num_orders.mean()"
   ]
  },
  {
   "cell_type": "markdown",
   "metadata": {},
   "source": [
    "# Target Encoding The center_type Columns"
   ]
  },
  {
   "cell_type": "markdown",
   "metadata": {},
   "source": [
    "# Here we are using target encode , Using num_orders to encode the center_type will replace categorical variable with mean of num_of orders "
   ]
  },
  {
   "cell_type": "code",
   "execution_count": null,
   "metadata": {},
   "outputs": [],
   "source": []
  },
  {
   "cell_type": "code",
   "execution_count": 63,
   "metadata": {},
   "outputs": [
    {
     "name": "stderr",
     "output_type": "stream",
     "text": [
      "C:\\Users\\akhil.damri\\anaconda3\\lib\\site-packages\\pandas\\core\\indexing.py:965: SettingWithCopyWarning: \n",
      "A value is trying to be set on a copy of a slice from a DataFrame.\n",
      "Try using .loc[row_indexer,col_indexer] = value instead\n",
      "\n",
      "See the caveats in the documentation: https://pandas.pydata.org/pandas-docs/stable/user_guide/indexing.html#returning-a-view-versus-a-copy\n",
      "  self.obj[item] = s\n"
     ]
    }
   ],
   "source": [
    "res_train.loc[:,'center_type']=res_train['center_type'].map(res_train.groupby('center_type').num_orders.mean())\n"
   ]
  },
  {
   "cell_type": "code",
   "execution_count": 64,
   "metadata": {},
   "outputs": [],
   "source": [
    "lookup=(res_train.groupby('center_type').num_orders.mean())"
   ]
  },
  {
   "cell_type": "markdown",
   "metadata": {},
   "source": [
    "# Mapping the test data with lookup table "
   ]
  },
  {
   "cell_type": "code",
   "execution_count": 65,
   "metadata": {},
   "outputs": [],
   "source": [
    "res_test.loc[:,'center_type']=res_test['center_type'].map(lookup)\n"
   ]
  },
  {
   "cell_type": "code",
   "execution_count": null,
   "metadata": {},
   "outputs": [],
   "source": []
  },
  {
   "cell_type": "code",
   "execution_count": 66,
   "metadata": {},
   "outputs": [
    {
     "data": {
      "text/html": [
       "<div>\n",
       "<style scoped>\n",
       "    .dataframe tbody tr th:only-of-type {\n",
       "        vertical-align: middle;\n",
       "    }\n",
       "\n",
       "    .dataframe tbody tr th {\n",
       "        vertical-align: top;\n",
       "    }\n",
       "\n",
       "    .dataframe thead th {\n",
       "        text-align: right;\n",
       "    }\n",
       "</style>\n",
       "<table border=\"1\" class=\"dataframe\">\n",
       "  <thead>\n",
       "    <tr style=\"text-align: right;\">\n",
       "      <th></th>\n",
       "      <th>week</th>\n",
       "      <th>center_id</th>\n",
       "      <th>meal_id</th>\n",
       "      <th>checkout_price</th>\n",
       "      <th>base_price</th>\n",
       "      <th>emailer_for_promotion</th>\n",
       "      <th>homepage_featured</th>\n",
       "      <th>num_orders</th>\n",
       "      <th>city_code</th>\n",
       "      <th>region_code</th>\n",
       "      <th>center_type</th>\n",
       "      <th>op_area</th>\n",
       "      <th>discount</th>\n",
       "      <th>discount_amt</th>\n",
       "      <th>item</th>\n",
       "    </tr>\n",
       "  </thead>\n",
       "  <tbody>\n",
       "    <tr>\n",
       "      <th>171425</th>\n",
       "      <td>117</td>\n",
       "      <td>36</td>\n",
       "      <td>2569</td>\n",
       "      <td>298.76</td>\n",
       "      <td>300.76</td>\n",
       "      <td>0</td>\n",
       "      <td>0</td>\n",
       "      <td>229</td>\n",
       "      <td>517</td>\n",
       "      <td>56</td>\n",
       "      <td>NaN</td>\n",
       "      <td>4.4</td>\n",
       "      <td>1.0</td>\n",
       "      <td>458.00</td>\n",
       "      <td>Salad_Italian</td>\n",
       "    </tr>\n",
       "    <tr>\n",
       "      <th>184681</th>\n",
       "      <td>117</td>\n",
       "      <td>177</td>\n",
       "      <td>2826</td>\n",
       "      <td>314.34</td>\n",
       "      <td>314.34</td>\n",
       "      <td>0</td>\n",
       "      <td>0</td>\n",
       "      <td>365</td>\n",
       "      <td>683</td>\n",
       "      <td>56</td>\n",
       "      <td>NaN</td>\n",
       "      <td>3.4</td>\n",
       "      <td>0.0</td>\n",
       "      <td>0.00</td>\n",
       "      <td>Sandwich_Italian</td>\n",
       "    </tr>\n",
       "    <tr>\n",
       "      <th>274623</th>\n",
       "      <td>117</td>\n",
       "      <td>104</td>\n",
       "      <td>2760</td>\n",
       "      <td>243.53</td>\n",
       "      <td>242.53</td>\n",
       "      <td>0</td>\n",
       "      <td>0</td>\n",
       "      <td>108</td>\n",
       "      <td>647</td>\n",
       "      <td>56</td>\n",
       "      <td>NaN</td>\n",
       "      <td>4.5</td>\n",
       "      <td>0.0</td>\n",
       "      <td>-108.00</td>\n",
       "      <td>Other Snacks_Thai</td>\n",
       "    </tr>\n",
       "    <tr>\n",
       "      <th>310167</th>\n",
       "      <td>117</td>\n",
       "      <td>67</td>\n",
       "      <td>1878</td>\n",
       "      <td>290.03</td>\n",
       "      <td>290.03</td>\n",
       "      <td>0</td>\n",
       "      <td>0</td>\n",
       "      <td>310</td>\n",
       "      <td>638</td>\n",
       "      <td>56</td>\n",
       "      <td>NaN</td>\n",
       "      <td>7.0</td>\n",
       "      <td>0.0</td>\n",
       "      <td>0.00</td>\n",
       "      <td>Starters_Thai</td>\n",
       "    </tr>\n",
       "    <tr>\n",
       "      <th>427869</th>\n",
       "      <td>117</td>\n",
       "      <td>23</td>\n",
       "      <td>2306</td>\n",
       "      <td>358.93</td>\n",
       "      <td>357.93</td>\n",
       "      <td>0</td>\n",
       "      <td>0</td>\n",
       "      <td>13</td>\n",
       "      <td>698</td>\n",
       "      <td>23</td>\n",
       "      <td>NaN</td>\n",
       "      <td>3.4</td>\n",
       "      <td>0.0</td>\n",
       "      <td>-13.00</td>\n",
       "      <td>Pasta_Italian</td>\n",
       "    </tr>\n",
       "    <tr>\n",
       "      <th>...</th>\n",
       "      <td>...</td>\n",
       "      <td>...</td>\n",
       "      <td>...</td>\n",
       "      <td>...</td>\n",
       "      <td>...</td>\n",
       "      <td>...</td>\n",
       "      <td>...</td>\n",
       "      <td>...</td>\n",
       "      <td>...</td>\n",
       "      <td>...</td>\n",
       "      <td>...</td>\n",
       "      <td>...</td>\n",
       "      <td>...</td>\n",
       "      <td>...</td>\n",
       "      <td>...</td>\n",
       "    </tr>\n",
       "    <tr>\n",
       "      <th>287668</th>\n",
       "      <td>145</td>\n",
       "      <td>145</td>\n",
       "      <td>1778</td>\n",
       "      <td>160.05</td>\n",
       "      <td>160.08</td>\n",
       "      <td>1</td>\n",
       "      <td>0</td>\n",
       "      <td>378</td>\n",
       "      <td>620</td>\n",
       "      <td>77</td>\n",
       "      <td>NaN</td>\n",
       "      <td>3.9</td>\n",
       "      <td>1.0</td>\n",
       "      <td>11.34</td>\n",
       "      <td>Beverages_Italian</td>\n",
       "    </tr>\n",
       "    <tr>\n",
       "      <th>350483</th>\n",
       "      <td>145</td>\n",
       "      <td>59</td>\n",
       "      <td>1445</td>\n",
       "      <td>727.53</td>\n",
       "      <td>726.53</td>\n",
       "      <td>0</td>\n",
       "      <td>1</td>\n",
       "      <td>40</td>\n",
       "      <td>456</td>\n",
       "      <td>56</td>\n",
       "      <td>NaN</td>\n",
       "      <td>4.2</td>\n",
       "      <td>0.0</td>\n",
       "      <td>-40.00</td>\n",
       "      <td>Seafood_Continental</td>\n",
       "    </tr>\n",
       "    <tr>\n",
       "      <th>262083</th>\n",
       "      <td>145</td>\n",
       "      <td>73</td>\n",
       "      <td>1770</td>\n",
       "      <td>440.38</td>\n",
       "      <td>442.38</td>\n",
       "      <td>0</td>\n",
       "      <td>0</td>\n",
       "      <td>55</td>\n",
       "      <td>576</td>\n",
       "      <td>34</td>\n",
       "      <td>NaN</td>\n",
       "      <td>4.0</td>\n",
       "      <td>1.0</td>\n",
       "      <td>110.00</td>\n",
       "      <td>Biryani_Indian</td>\n",
       "    </tr>\n",
       "    <tr>\n",
       "      <th>448468</th>\n",
       "      <td>145</td>\n",
       "      <td>51</td>\n",
       "      <td>2304</td>\n",
       "      <td>484.03</td>\n",
       "      <td>485.03</td>\n",
       "      <td>0</td>\n",
       "      <td>0</td>\n",
       "      <td>80</td>\n",
       "      <td>638</td>\n",
       "      <td>56</td>\n",
       "      <td>NaN</td>\n",
       "      <td>7.0</td>\n",
       "      <td>1.0</td>\n",
       "      <td>80.00</td>\n",
       "      <td>Desert_Indian</td>\n",
       "    </tr>\n",
       "    <tr>\n",
       "      <th>456547</th>\n",
       "      <td>145</td>\n",
       "      <td>61</td>\n",
       "      <td>2104</td>\n",
       "      <td>581.03</td>\n",
       "      <td>582.03</td>\n",
       "      <td>0</td>\n",
       "      <td>0</td>\n",
       "      <td>27</td>\n",
       "      <td>473</td>\n",
       "      <td>77</td>\n",
       "      <td>NaN</td>\n",
       "      <td>4.5</td>\n",
       "      <td>1.0</td>\n",
       "      <td>27.00</td>\n",
       "      <td>Fish_Continental</td>\n",
       "    </tr>\n",
       "  </tbody>\n",
       "</table>\n",
       "<p>95200 rows × 15 columns</p>\n",
       "</div>"
      ],
      "text/plain": [
       "        week  center_id  meal_id  checkout_price  base_price  \\\n",
       "171425   117         36     2569          298.76      300.76   \n",
       "184681   117        177     2826          314.34      314.34   \n",
       "274623   117        104     2760          243.53      242.53   \n",
       "310167   117         67     1878          290.03      290.03   \n",
       "427869   117         23     2306          358.93      357.93   \n",
       "...      ...        ...      ...             ...         ...   \n",
       "287668   145        145     1778          160.05      160.08   \n",
       "350483   145         59     1445          727.53      726.53   \n",
       "262083   145         73     1770          440.38      442.38   \n",
       "448468   145         51     2304          484.03      485.03   \n",
       "456547   145         61     2104          581.03      582.03   \n",
       "\n",
       "        emailer_for_promotion  homepage_featured  num_orders  city_code  \\\n",
       "171425                      0                  0         229        517   \n",
       "184681                      0                  0         365        683   \n",
       "274623                      0                  0         108        647   \n",
       "310167                      0                  0         310        638   \n",
       "427869                      0                  0          13        698   \n",
       "...                       ...                ...         ...        ...   \n",
       "287668                      1                  0         378        620   \n",
       "350483                      0                  1          40        456   \n",
       "262083                      0                  0          55        576   \n",
       "448468                      0                  0          80        638   \n",
       "456547                      0                  0          27        473   \n",
       "\n",
       "        region_code  center_type  op_area  discount  discount_amt  \\\n",
       "171425           56          NaN      4.4       1.0        458.00   \n",
       "184681           56          NaN      3.4       0.0          0.00   \n",
       "274623           56          NaN      4.5       0.0       -108.00   \n",
       "310167           56          NaN      7.0       0.0          0.00   \n",
       "427869           23          NaN      3.4       0.0        -13.00   \n",
       "...             ...          ...      ...       ...           ...   \n",
       "287668           77          NaN      3.9       1.0         11.34   \n",
       "350483           56          NaN      4.2       0.0        -40.00   \n",
       "262083           34          NaN      4.0       1.0        110.00   \n",
       "448468           56          NaN      7.0       1.0         80.00   \n",
       "456547           77          NaN      4.5       1.0         27.00   \n",
       "\n",
       "                       item  \n",
       "171425        Salad_Italian  \n",
       "184681     Sandwich_Italian  \n",
       "274623    Other Snacks_Thai  \n",
       "310167        Starters_Thai  \n",
       "427869        Pasta_Italian  \n",
       "...                     ...  \n",
       "287668    Beverages_Italian  \n",
       "350483  Seafood_Continental  \n",
       "262083       Biryani_Indian  \n",
       "448468        Desert_Indian  \n",
       "456547     Fish_Continental  \n",
       "\n",
       "[95200 rows x 15 columns]"
      ]
     },
     "execution_count": 66,
     "metadata": {},
     "output_type": "execute_result"
    }
   ],
   "source": [
    "res_test"
   ]
  },
  {
   "cell_type": "markdown",
   "metadata": {},
   "source": [
    "# Target Encoding The item Columns"
   ]
  },
  {
   "cell_type": "markdown",
   "metadata": {},
   "source": [
    "Encoding ITEM column with num_orders will replace the item with average number of order for each"
   ]
  },
  {
   "cell_type": "code",
   "execution_count": 67,
   "metadata": {},
   "outputs": [
    {
     "data": {
      "text/plain": [
       "item\n",
       "Beverages_Continental    188.684152\n",
       "Beverages_Indian          79.610942\n",
       "Beverages_Italian        414.319820\n",
       "Beverages_Thai           577.249279\n",
       "Biryani_Indian            30.211457\n",
       "Desert_Indian             63.385334\n",
       "Extras_Thai              300.667321\n",
       "Fish_Continental          74.950796\n",
       "Other Snacks_Thai        164.568553\n",
       "Pasta_Italian             59.633162\n",
       "Pizza_Continental        221.806778\n",
       "Rice Bowl_Indian         626.602980\n",
       "Salad_Italian            398.751532\n",
       "Sandwich_Italian         527.610911\n",
       "Seafood_Continental      104.640442\n",
       "Soup_Thai                 74.812394\n",
       "Starters_Thai            163.135485\n",
       "Name: num_orders, dtype: float64"
      ]
     },
     "execution_count": 67,
     "metadata": {},
     "output_type": "execute_result"
    }
   ],
   "source": [
    "encode=res_train.groupby('item').num_orders.mean()\n",
    "encode"
   ]
  },
  {
   "cell_type": "code",
   "execution_count": 68,
   "metadata": {},
   "outputs": [
    {
     "name": "stderr",
     "output_type": "stream",
     "text": [
      "C:\\Users\\akhil.damri\\anaconda3\\lib\\site-packages\\pandas\\core\\indexing.py:965: SettingWithCopyWarning: \n",
      "A value is trying to be set on a copy of a slice from a DataFrame.\n",
      "Try using .loc[row_indexer,col_indexer] = value instead\n",
      "\n",
      "See the caveats in the documentation: https://pandas.pydata.org/pandas-docs/stable/user_guide/indexing.html#returning-a-view-versus-a-copy\n",
      "  self.obj[item] = s\n"
     ]
    }
   ],
   "source": [
    "res_train.loc[:,'item']=res_train['item'].map(res_train.groupby('item').num_orders.mean())"
   ]
  },
  {
   "cell_type": "markdown",
   "metadata": {},
   "source": [
    "# Mapping encode lookup table with test set"
   ]
  },
  {
   "cell_type": "code",
   "execution_count": 69,
   "metadata": {},
   "outputs": [],
   "source": [
    "res_test.loc[:,'item']=res_test['item'].map(encode)"
   ]
  },
  {
   "cell_type": "code",
   "execution_count": 70,
   "metadata": {},
   "outputs": [],
   "source": [
    "res_test = res_test.apply(pd.to_numeric, errors='coerce')\n",
    "res_train = res_train.apply(pd.to_numeric, errors='coerce')"
   ]
  },
  {
   "cell_type": "code",
   "execution_count": 71,
   "metadata": {},
   "outputs": [
    {
     "data": {
      "text/plain": [
       "Index(['week', 'center_id', 'meal_id', 'checkout_price', 'base_price',\n",
       "       'emailer_for_promotion', 'homepage_featured', 'num_orders', 'city_code',\n",
       "       'region_code', 'center_type', 'op_area', 'discount', 'discount_amt',\n",
       "       'item'],\n",
       "      dtype='object')"
      ]
     },
     "execution_count": 71,
     "metadata": {},
     "output_type": "execute_result"
    }
   ],
   "source": [
    "res_train.columns"
   ]
  },
  {
   "cell_type": "code",
   "execution_count": 72,
   "metadata": {},
   "outputs": [
    {
     "data": {
      "text/plain": [
       "0"
      ]
     },
     "execution_count": 72,
     "metadata": {},
     "output_type": "execute_result"
    }
   ],
   "source": [
    "res.meal_id.isnull().sum()"
   ]
  },
  {
   "cell_type": "markdown",
   "metadata": {},
   "source": [
    "# meal_id and center_id are the columns which were used to merge table ."
   ]
  },
  {
   "cell_type": "markdown",
   "metadata": {},
   "source": [
    "# meal_id and center_id are type of categorical variables of particular meal and center respectively "
   ]
  },
  {
   "cell_type": "code",
   "execution_count": 73,
   "metadata": {},
   "outputs": [
    {
     "name": "stdout",
     "output_type": "stream",
     "text": [
      "Number of unique meals are : 51\n",
      "Number of unique centers are : 77\n"
     ]
    }
   ],
   "source": [
    "print(\"Number of unique meals are :\",res.meal_id.nunique())\n",
    "print(\"Number of unique centers are :\",res.center_id.nunique())"
   ]
  },
  {
   "cell_type": "code",
   "execution_count": null,
   "metadata": {},
   "outputs": [],
   "source": []
  },
  {
   "cell_type": "markdown",
   "metadata": {},
   "source": [
    "# Target Encoding meal_id and center_id"
   ]
  },
  {
   "cell_type": "code",
   "execution_count": null,
   "metadata": {},
   "outputs": [],
   "source": []
  },
  {
   "cell_type": "code",
   "execution_count": 74,
   "metadata": {},
   "outputs": [],
   "source": [
    "tencode=res_train.groupby('meal_id').num_orders.mean()\n"
   ]
  },
  {
   "cell_type": "code",
   "execution_count": 75,
   "metadata": {},
   "outputs": [],
   "source": [
    "res_train.loc[:,'meal_id']=res_train['meal_id'].map(tencode)"
   ]
  },
  {
   "cell_type": "code",
   "execution_count": 76,
   "metadata": {},
   "outputs": [],
   "source": [
    "res_test.loc[:,'meal_id']=res_test['meal_id'].map(tencode)"
   ]
  },
  {
   "cell_type": "markdown",
   "metadata": {},
   "source": [
    "# Target Encoding center_id"
   ]
  },
  {
   "cell_type": "code",
   "execution_count": 77,
   "metadata": {},
   "outputs": [],
   "source": [
    "tencode=res_train.groupby('center_id').num_orders.mean()\n"
   ]
  },
  {
   "cell_type": "code",
   "execution_count": 78,
   "metadata": {},
   "outputs": [],
   "source": [
    "res_train.loc[:,'center_id']=res_train['center_id'].map(tencode)"
   ]
  },
  {
   "cell_type": "code",
   "execution_count": 79,
   "metadata": {},
   "outputs": [],
   "source": [
    "res_test.loc[:,'center_id']=res_test['center_id'].map(tencode)"
   ]
  },
  {
   "cell_type": "code",
   "execution_count": 80,
   "metadata": {},
   "outputs": [
    {
     "data": {
      "text/html": [
       "<div>\n",
       "<style scoped>\n",
       "    .dataframe tbody tr th:only-of-type {\n",
       "        vertical-align: middle;\n",
       "    }\n",
       "\n",
       "    .dataframe tbody tr th {\n",
       "        vertical-align: top;\n",
       "    }\n",
       "\n",
       "    .dataframe thead th {\n",
       "        text-align: right;\n",
       "    }\n",
       "</style>\n",
       "<table border=\"1\" class=\"dataframe\">\n",
       "  <thead>\n",
       "    <tr style=\"text-align: right;\">\n",
       "      <th></th>\n",
       "      <th>week</th>\n",
       "      <th>center_id</th>\n",
       "      <th>meal_id</th>\n",
       "      <th>checkout_price</th>\n",
       "      <th>base_price</th>\n",
       "      <th>emailer_for_promotion</th>\n",
       "      <th>homepage_featured</th>\n",
       "      <th>num_orders</th>\n",
       "      <th>city_code</th>\n",
       "      <th>region_code</th>\n",
       "      <th>center_type</th>\n",
       "      <th>op_area</th>\n",
       "      <th>discount</th>\n",
       "      <th>discount_amt</th>\n",
       "      <th>item</th>\n",
       "    </tr>\n",
       "  </thead>\n",
       "  <tbody>\n",
       "    <tr>\n",
       "      <th>171425</th>\n",
       "      <td>117</td>\n",
       "      <td>295.283103</td>\n",
       "      <td>359.130206</td>\n",
       "      <td>298.76</td>\n",
       "      <td>300.76</td>\n",
       "      <td>0</td>\n",
       "      <td>0</td>\n",
       "      <td>229</td>\n",
       "      <td>517</td>\n",
       "      <td>56</td>\n",
       "      <td>NaN</td>\n",
       "      <td>4.4</td>\n",
       "      <td>1.0</td>\n",
       "      <td>458.00</td>\n",
       "      <td>398.751532</td>\n",
       "    </tr>\n",
       "    <tr>\n",
       "      <th>184681</th>\n",
       "      <td>117</td>\n",
       "      <td>196.202140</td>\n",
       "      <td>457.328612</td>\n",
       "      <td>314.34</td>\n",
       "      <td>314.34</td>\n",
       "      <td>0</td>\n",
       "      <td>0</td>\n",
       "      <td>365</td>\n",
       "      <td>683</td>\n",
       "      <td>56</td>\n",
       "      <td>NaN</td>\n",
       "      <td>3.4</td>\n",
       "      <td>0.0</td>\n",
       "      <td>0.00</td>\n",
       "      <td>527.610911</td>\n",
       "    </tr>\n",
       "    <tr>\n",
       "      <th>274623</th>\n",
       "      <td>117</td>\n",
       "      <td>369.961220</td>\n",
       "      <td>143.813661</td>\n",
       "      <td>243.53</td>\n",
       "      <td>242.53</td>\n",
       "      <td>0</td>\n",
       "      <td>0</td>\n",
       "      <td>108</td>\n",
       "      <td>647</td>\n",
       "      <td>56</td>\n",
       "      <td>NaN</td>\n",
       "      <td>4.5</td>\n",
       "      <td>0.0</td>\n",
       "      <td>-108.00</td>\n",
       "      <td>164.568553</td>\n",
       "    </tr>\n",
       "    <tr>\n",
       "      <th>310167</th>\n",
       "      <td>117</td>\n",
       "      <td>408.421738</td>\n",
       "      <td>155.364336</td>\n",
       "      <td>290.03</td>\n",
       "      <td>290.03</td>\n",
       "      <td>0</td>\n",
       "      <td>0</td>\n",
       "      <td>310</td>\n",
       "      <td>638</td>\n",
       "      <td>56</td>\n",
       "      <td>NaN</td>\n",
       "      <td>7.0</td>\n",
       "      <td>0.0</td>\n",
       "      <td>0.00</td>\n",
       "      <td>163.135485</td>\n",
       "    </tr>\n",
       "    <tr>\n",
       "      <th>427869</th>\n",
       "      <td>117</td>\n",
       "      <td>252.442840</td>\n",
       "      <td>63.329234</td>\n",
       "      <td>358.93</td>\n",
       "      <td>357.93</td>\n",
       "      <td>0</td>\n",
       "      <td>0</td>\n",
       "      <td>13</td>\n",
       "      <td>698</td>\n",
       "      <td>23</td>\n",
       "      <td>NaN</td>\n",
       "      <td>3.4</td>\n",
       "      <td>0.0</td>\n",
       "      <td>-13.00</td>\n",
       "      <td>59.633162</td>\n",
       "    </tr>\n",
       "    <tr>\n",
       "      <th>...</th>\n",
       "      <td>...</td>\n",
       "      <td>...</td>\n",
       "      <td>...</td>\n",
       "      <td>...</td>\n",
       "      <td>...</td>\n",
       "      <td>...</td>\n",
       "      <td>...</td>\n",
       "      <td>...</td>\n",
       "      <td>...</td>\n",
       "      <td>...</td>\n",
       "      <td>...</td>\n",
       "      <td>...</td>\n",
       "      <td>...</td>\n",
       "      <td>...</td>\n",
       "      <td>...</td>\n",
       "    </tr>\n",
       "    <tr>\n",
       "      <th>287668</th>\n",
       "      <td>145</td>\n",
       "      <td>264.523621</td>\n",
       "      <td>290.177178</td>\n",
       "      <td>160.05</td>\n",
       "      <td>160.08</td>\n",
       "      <td>1</td>\n",
       "      <td>0</td>\n",
       "      <td>378</td>\n",
       "      <td>620</td>\n",
       "      <td>77</td>\n",
       "      <td>NaN</td>\n",
       "      <td>3.9</td>\n",
       "      <td>1.0</td>\n",
       "      <td>11.34</td>\n",
       "      <td>414.319820</td>\n",
       "    </tr>\n",
       "    <tr>\n",
       "      <th>350483</th>\n",
       "      <td>145</td>\n",
       "      <td>291.793935</td>\n",
       "      <td>112.474276</td>\n",
       "      <td>727.53</td>\n",
       "      <td>726.53</td>\n",
       "      <td>0</td>\n",
       "      <td>1</td>\n",
       "      <td>40</td>\n",
       "      <td>456</td>\n",
       "      <td>56</td>\n",
       "      <td>NaN</td>\n",
       "      <td>4.2</td>\n",
       "      <td>0.0</td>\n",
       "      <td>-40.00</td>\n",
       "      <td>104.640442</td>\n",
       "    </tr>\n",
       "    <tr>\n",
       "      <th>262083</th>\n",
       "      <td>145</td>\n",
       "      <td>198.705227</td>\n",
       "      <td>27.842055</td>\n",
       "      <td>440.38</td>\n",
       "      <td>442.38</td>\n",
       "      <td>0</td>\n",
       "      <td>0</td>\n",
       "      <td>55</td>\n",
       "      <td>576</td>\n",
       "      <td>34</td>\n",
       "      <td>NaN</td>\n",
       "      <td>4.0</td>\n",
       "      <td>1.0</td>\n",
       "      <td>110.00</td>\n",
       "      <td>30.211457</td>\n",
       "    </tr>\n",
       "    <tr>\n",
       "      <th>448468</th>\n",
       "      <td>145</td>\n",
       "      <td>327.035149</td>\n",
       "      <td>61.510328</td>\n",
       "      <td>484.03</td>\n",
       "      <td>485.03</td>\n",
       "      <td>0</td>\n",
       "      <td>0</td>\n",
       "      <td>80</td>\n",
       "      <td>638</td>\n",
       "      <td>56</td>\n",
       "      <td>NaN</td>\n",
       "      <td>7.0</td>\n",
       "      <td>1.0</td>\n",
       "      <td>80.00</td>\n",
       "      <td>63.385334</td>\n",
       "    </tr>\n",
       "    <tr>\n",
       "      <th>456547</th>\n",
       "      <td>145</td>\n",
       "      <td>209.513036</td>\n",
       "      <td>52.320784</td>\n",
       "      <td>581.03</td>\n",
       "      <td>582.03</td>\n",
       "      <td>0</td>\n",
       "      <td>0</td>\n",
       "      <td>27</td>\n",
       "      <td>473</td>\n",
       "      <td>77</td>\n",
       "      <td>NaN</td>\n",
       "      <td>4.5</td>\n",
       "      <td>1.0</td>\n",
       "      <td>27.00</td>\n",
       "      <td>74.950796</td>\n",
       "    </tr>\n",
       "  </tbody>\n",
       "</table>\n",
       "<p>95200 rows × 15 columns</p>\n",
       "</div>"
      ],
      "text/plain": [
       "        week   center_id     meal_id  checkout_price  base_price  \\\n",
       "171425   117  295.283103  359.130206          298.76      300.76   \n",
       "184681   117  196.202140  457.328612          314.34      314.34   \n",
       "274623   117  369.961220  143.813661          243.53      242.53   \n",
       "310167   117  408.421738  155.364336          290.03      290.03   \n",
       "427869   117  252.442840   63.329234          358.93      357.93   \n",
       "...      ...         ...         ...             ...         ...   \n",
       "287668   145  264.523621  290.177178          160.05      160.08   \n",
       "350483   145  291.793935  112.474276          727.53      726.53   \n",
       "262083   145  198.705227   27.842055          440.38      442.38   \n",
       "448468   145  327.035149   61.510328          484.03      485.03   \n",
       "456547   145  209.513036   52.320784          581.03      582.03   \n",
       "\n",
       "        emailer_for_promotion  homepage_featured  num_orders  city_code  \\\n",
       "171425                      0                  0         229        517   \n",
       "184681                      0                  0         365        683   \n",
       "274623                      0                  0         108        647   \n",
       "310167                      0                  0         310        638   \n",
       "427869                      0                  0          13        698   \n",
       "...                       ...                ...         ...        ...   \n",
       "287668                      1                  0         378        620   \n",
       "350483                      0                  1          40        456   \n",
       "262083                      0                  0          55        576   \n",
       "448468                      0                  0          80        638   \n",
       "456547                      0                  0          27        473   \n",
       "\n",
       "        region_code  center_type  op_area  discount  discount_amt        item  \n",
       "171425           56          NaN      4.4       1.0        458.00  398.751532  \n",
       "184681           56          NaN      3.4       0.0          0.00  527.610911  \n",
       "274623           56          NaN      4.5       0.0       -108.00  164.568553  \n",
       "310167           56          NaN      7.0       0.0          0.00  163.135485  \n",
       "427869           23          NaN      3.4       0.0        -13.00   59.633162  \n",
       "...             ...          ...      ...       ...           ...         ...  \n",
       "287668           77          NaN      3.9       1.0         11.34  414.319820  \n",
       "350483           56          NaN      4.2       0.0        -40.00  104.640442  \n",
       "262083           34          NaN      4.0       1.0        110.00   30.211457  \n",
       "448468           56          NaN      7.0       1.0         80.00   63.385334  \n",
       "456547           77          NaN      4.5       1.0         27.00   74.950796  \n",
       "\n",
       "[95200 rows x 15 columns]"
      ]
     },
     "execution_count": 80,
     "metadata": {},
     "output_type": "execute_result"
    }
   ],
   "source": [
    "res_test"
   ]
  },
  {
   "cell_type": "code",
   "execution_count": null,
   "metadata": {},
   "outputs": [],
   "source": []
  },
  {
   "cell_type": "code",
   "execution_count": 81,
   "metadata": {},
   "outputs": [],
   "source": [
    "y_train= res_train.filter(['num_orders'], axis=1)"
   ]
  },
  {
   "cell_type": "code",
   "execution_count": 82,
   "metadata": {},
   "outputs": [],
   "source": [
    "X_train=res_train.drop(['num_orders'],axis=1)"
   ]
  },
  {
   "cell_type": "code",
   "execution_count": 83,
   "metadata": {},
   "outputs": [],
   "source": [
    "y_test= res_test.filter(['num_orders'], axis=1)"
   ]
  },
  {
   "cell_type": "code",
   "execution_count": 84,
   "metadata": {},
   "outputs": [],
   "source": [
    "X_test=res_test.drop(['num_orders'],axis=1)"
   ]
  },
  {
   "cell_type": "markdown",
   "metadata": {},
   "source": [
    "# Scaling the prediction vector"
   ]
  },
  {
   "cell_type": "code",
   "execution_count": 85,
   "metadata": {},
   "outputs": [],
   "source": [
    "y_train=np.log(y_train)"
   ]
  },
  {
   "cell_type": "code",
   "execution_count": 86,
   "metadata": {},
   "outputs": [
    {
     "data": {
      "text/html": [
       "<div>\n",
       "<style scoped>\n",
       "    .dataframe tbody tr th:only-of-type {\n",
       "        vertical-align: middle;\n",
       "    }\n",
       "\n",
       "    .dataframe tbody tr th {\n",
       "        vertical-align: top;\n",
       "    }\n",
       "\n",
       "    .dataframe thead th {\n",
       "        text-align: right;\n",
       "    }\n",
       "</style>\n",
       "<table border=\"1\" class=\"dataframe\">\n",
       "  <thead>\n",
       "    <tr style=\"text-align: right;\">\n",
       "      <th></th>\n",
       "      <th>week</th>\n",
       "      <th>center_id</th>\n",
       "      <th>meal_id</th>\n",
       "      <th>checkout_price</th>\n",
       "      <th>base_price</th>\n",
       "      <th>emailer_for_promotion</th>\n",
       "      <th>homepage_featured</th>\n",
       "      <th>city_code</th>\n",
       "      <th>region_code</th>\n",
       "      <th>center_type</th>\n",
       "      <th>op_area</th>\n",
       "      <th>discount</th>\n",
       "      <th>discount_amt</th>\n",
       "      <th>item</th>\n",
       "    </tr>\n",
       "  </thead>\n",
       "  <tbody>\n",
       "    <tr>\n",
       "      <th>0</th>\n",
       "      <td>1</td>\n",
       "      <td>167.661982</td>\n",
       "      <td>760.348827</td>\n",
       "      <td>136.83</td>\n",
       "      <td>152.29</td>\n",
       "      <td>0</td>\n",
       "      <td>0</td>\n",
       "      <td>647</td>\n",
       "      <td>56</td>\n",
       "      <td>209.118177</td>\n",
       "      <td>2.0</td>\n",
       "      <td>1.0</td>\n",
       "      <td>2736.42</td>\n",
       "      <td>577.249279</td>\n",
       "    </tr>\n",
       "    <tr>\n",
       "      <th>284804</th>\n",
       "      <td>1</td>\n",
       "      <td>249.250641</td>\n",
       "      <td>107.307881</td>\n",
       "      <td>658.63</td>\n",
       "      <td>660.63</td>\n",
       "      <td>0</td>\n",
       "      <td>0</td>\n",
       "      <td>680</td>\n",
       "      <td>77</td>\n",
       "      <td>209.118177</td>\n",
       "      <td>4.0</td>\n",
       "      <td>1.0</td>\n",
       "      <td>28.00</td>\n",
       "      <td>104.640442</td>\n",
       "    </tr>\n",
       "    <tr>\n",
       "      <th>285005</th>\n",
       "      <td>1</td>\n",
       "      <td>249.250641</td>\n",
       "      <td>186.777703</td>\n",
       "      <td>244.50</td>\n",
       "      <td>282.33</td>\n",
       "      <td>0</td>\n",
       "      <td>0</td>\n",
       "      <td>680</td>\n",
       "      <td>77</td>\n",
       "      <td>209.118177</td>\n",
       "      <td>4.0</td>\n",
       "      <td>1.0</td>\n",
       "      <td>529.62</td>\n",
       "      <td>164.568553</td>\n",
       "    </tr>\n",
       "    <tr>\n",
       "      <th>285106</th>\n",
       "      <td>1</td>\n",
       "      <td>249.250641</td>\n",
       "      <td>165.307453</td>\n",
       "      <td>242.50</td>\n",
       "      <td>280.33</td>\n",
       "      <td>0</td>\n",
       "      <td>0</td>\n",
       "      <td>680</td>\n",
       "      <td>77</td>\n",
       "      <td>209.118177</td>\n",
       "      <td>4.0</td>\n",
       "      <td>1.0</td>\n",
       "      <td>4577.43</td>\n",
       "      <td>164.568553</td>\n",
       "    </tr>\n",
       "    <tr>\n",
       "      <th>43263</th>\n",
       "      <td>1</td>\n",
       "      <td>442.001086</td>\n",
       "      <td>89.702309</td>\n",
       "      <td>247.35</td>\n",
       "      <td>247.35</td>\n",
       "      <td>0</td>\n",
       "      <td>0</td>\n",
       "      <td>685</td>\n",
       "      <td>56</td>\n",
       "      <td>322.315483</td>\n",
       "      <td>5.6</td>\n",
       "      <td>0.0</td>\n",
       "      <td>0.00</td>\n",
       "      <td>79.610942</td>\n",
       "    </tr>\n",
       "    <tr>\n",
       "      <th>...</th>\n",
       "      <td>...</td>\n",
       "      <td>...</td>\n",
       "      <td>...</td>\n",
       "      <td>...</td>\n",
       "      <td>...</td>\n",
       "      <td>...</td>\n",
       "      <td>...</td>\n",
       "      <td>...</td>\n",
       "      <td>...</td>\n",
       "      <td>...</td>\n",
       "      <td>...</td>\n",
       "      <td>...</td>\n",
       "      <td>...</td>\n",
       "      <td>...</td>\n",
       "    </tr>\n",
       "    <tr>\n",
       "      <th>231824</th>\n",
       "      <td>116</td>\n",
       "      <td>232.822942</td>\n",
       "      <td>63.329234</td>\n",
       "      <td>325.92</td>\n",
       "      <td>325.92</td>\n",
       "      <td>0</td>\n",
       "      <td>0</td>\n",
       "      <td>590</td>\n",
       "      <td>56</td>\n",
       "      <td>266.669195</td>\n",
       "      <td>3.9</td>\n",
       "      <td>0.0</td>\n",
       "      <td>0.00</td>\n",
       "      <td>59.633162</td>\n",
       "    </tr>\n",
       "    <tr>\n",
       "      <th>305605</th>\n",
       "      <td>116</td>\n",
       "      <td>408.421738</td>\n",
       "      <td>330.870612</td>\n",
       "      <td>150.38</td>\n",
       "      <td>149.38</td>\n",
       "      <td>0</td>\n",
       "      <td>0</td>\n",
       "      <td>638</td>\n",
       "      <td>56</td>\n",
       "      <td>322.315483</td>\n",
       "      <td>7.0</td>\n",
       "      <td>0.0</td>\n",
       "      <td>-636.00</td>\n",
       "      <td>577.249279</td>\n",
       "    </tr>\n",
       "    <tr>\n",
       "      <th>68940</th>\n",
       "      <td>116</td>\n",
       "      <td>172.250630</td>\n",
       "      <td>551.053589</td>\n",
       "      <td>328.83</td>\n",
       "      <td>329.83</td>\n",
       "      <td>0</td>\n",
       "      <td>0</td>\n",
       "      <td>541</td>\n",
       "      <td>77</td>\n",
       "      <td>209.118177</td>\n",
       "      <td>2.8</td>\n",
       "      <td>1.0</td>\n",
       "      <td>96.00</td>\n",
       "      <td>626.602980</td>\n",
       "    </tr>\n",
       "    <tr>\n",
       "      <th>304709</th>\n",
       "      <td>116</td>\n",
       "      <td>252.348160</td>\n",
       "      <td>71.781595</td>\n",
       "      <td>472.39</td>\n",
       "      <td>473.39</td>\n",
       "      <td>0</td>\n",
       "      <td>0</td>\n",
       "      <td>638</td>\n",
       "      <td>56</td>\n",
       "      <td>209.118177</td>\n",
       "      <td>3.9</td>\n",
       "      <td>1.0</td>\n",
       "      <td>27.00</td>\n",
       "      <td>63.385334</td>\n",
       "    </tr>\n",
       "    <tr>\n",
       "      <th>353973</th>\n",
       "      <td>116</td>\n",
       "      <td>185.435212</td>\n",
       "      <td>89.702309</td>\n",
       "      <td>150.35</td>\n",
       "      <td>152.35</td>\n",
       "      <td>0</td>\n",
       "      <td>0</td>\n",
       "      <td>526</td>\n",
       "      <td>34</td>\n",
       "      <td>266.669195</td>\n",
       "      <td>4.1</td>\n",
       "      <td>1.0</td>\n",
       "      <td>164.00</td>\n",
       "      <td>79.610942</td>\n",
       "    </tr>\n",
       "  </tbody>\n",
       "</table>\n",
       "<p>361348 rows × 14 columns</p>\n",
       "</div>"
      ],
      "text/plain": [
       "        week   center_id     meal_id  checkout_price  base_price  \\\n",
       "0          1  167.661982  760.348827          136.83      152.29   \n",
       "284804     1  249.250641  107.307881          658.63      660.63   \n",
       "285005     1  249.250641  186.777703          244.50      282.33   \n",
       "285106     1  249.250641  165.307453          242.50      280.33   \n",
       "43263      1  442.001086   89.702309          247.35      247.35   \n",
       "...      ...         ...         ...             ...         ...   \n",
       "231824   116  232.822942   63.329234          325.92      325.92   \n",
       "305605   116  408.421738  330.870612          150.38      149.38   \n",
       "68940    116  172.250630  551.053589          328.83      329.83   \n",
       "304709   116  252.348160   71.781595          472.39      473.39   \n",
       "353973   116  185.435212   89.702309          150.35      152.35   \n",
       "\n",
       "        emailer_for_promotion  homepage_featured  city_code  region_code  \\\n",
       "0                           0                  0        647           56   \n",
       "284804                      0                  0        680           77   \n",
       "285005                      0                  0        680           77   \n",
       "285106                      0                  0        680           77   \n",
       "43263                       0                  0        685           56   \n",
       "...                       ...                ...        ...          ...   \n",
       "231824                      0                  0        590           56   \n",
       "305605                      0                  0        638           56   \n",
       "68940                       0                  0        541           77   \n",
       "304709                      0                  0        638           56   \n",
       "353973                      0                  0        526           34   \n",
       "\n",
       "        center_type  op_area  discount  discount_amt        item  \n",
       "0        209.118177      2.0       1.0       2736.42  577.249279  \n",
       "284804   209.118177      4.0       1.0         28.00  104.640442  \n",
       "285005   209.118177      4.0       1.0        529.62  164.568553  \n",
       "285106   209.118177      4.0       1.0       4577.43  164.568553  \n",
       "43263    322.315483      5.6       0.0          0.00   79.610942  \n",
       "...             ...      ...       ...           ...         ...  \n",
       "231824   266.669195      3.9       0.0          0.00   59.633162  \n",
       "305605   322.315483      7.0       0.0       -636.00  577.249279  \n",
       "68940    209.118177      2.8       1.0         96.00  626.602980  \n",
       "304709   209.118177      3.9       1.0         27.00   63.385334  \n",
       "353973   266.669195      4.1       1.0        164.00   79.610942  \n",
       "\n",
       "[361348 rows x 14 columns]"
      ]
     },
     "execution_count": 86,
     "metadata": {},
     "output_type": "execute_result"
    }
   ],
   "source": [
    "X_train"
   ]
  },
  {
   "cell_type": "code",
   "execution_count": 87,
   "metadata": {},
   "outputs": [],
   "source": [
    "import xgboost as xgb"
   ]
  },
  {
   "cell_type": "markdown",
   "metadata": {},
   "source": [
    "#  GETTING FEATURE SCORE"
   ]
  },
  {
   "cell_type": "code",
   "execution_count": 88,
   "metadata": {},
   "outputs": [],
   "source": [
    "from sklearn.metrics import auc, accuracy_score, mean_squared_error,mean_absolute_error"
   ]
  },
  {
   "cell_type": "code",
   "execution_count": 89,
   "metadata": {},
   "outputs": [
    {
     "name": "stdout",
     "output_type": "stream",
     "text": [
      "[12:38:28] WARNING: src/objective/regression_obj.cu:152: reg:linear is now deprecated in favor of reg:squarederror.\n"
     ]
    },
    {
     "data": {
      "text/plain": [
       "XGBRegressor(base_score=0.5, booster='gbtree', colsample_bylevel=1,\n",
       "             colsample_bynode=1, colsample_bytree=1, gamma=0,\n",
       "             importance_type='gain', learning_rate=0.1, max_delta_step=0,\n",
       "             max_depth=3, min_child_weight=1, missing=None, n_estimators=100,\n",
       "             n_jobs=1, nthread=None, objective='reg:linear', random_state=42,\n",
       "             reg_alpha=0, reg_lambda=1, scale_pos_weight=1, seed=None,\n",
       "             silent=None, subsample=1, verbosity=1)"
      ]
     },
     "execution_count": 89,
     "metadata": {},
     "output_type": "execute_result"
    }
   ],
   "source": [
    "xgb_model = xgb.XGBRegressor(objective=\"reg:linear\", random_state=42)\n",
    "xgb_model.fit(X_train, y_train)"
   ]
  },
  {
   "cell_type": "markdown",
   "metadata": {},
   "source": [
    "# Plotting F-score (feature importance)"
   ]
  },
  {
   "cell_type": "code",
   "execution_count": 90,
   "metadata": {},
   "outputs": [
    {
     "data": {
      "text/plain": [
       "<matplotlib.axes._subplots.AxesSubplot at 0x14d2c8c0948>"
      ]
     },
     "execution_count": 90,
     "metadata": {},
     "output_type": "execute_result"
    },
    {
     "data": {
      "image/png": "[encoded data removed]",
      "text/plain": [
       "<Figure size 432x288 with 1 Axes>"
      ]
     },
     "metadata": {
      "needs_background": "light"
     },
     "output_type": "display_data"
    }
   ],
   "source": [
    "xgb.plot_importance(xgb_model)"
   ]
  },
  {
   "cell_type": "markdown",
   "metadata": {},
   "source": [
    "# discount_amt , base_price ,meal_id, center_id, checkout_price, item are most contributing features"
   ]
  },
  {
   "cell_type": "markdown",
   "metadata": {},
   "source": [
    "# Dropping columns with less f-score"
   ]
  },
  {
   "cell_type": "code",
   "execution_count": 91,
   "metadata": {},
   "outputs": [],
   "source": [
    "res_test.drop(['discount','city_code','emailer_for_promotion','homepage_featured','center_type','region_code'],axis=1,inplace=True)\n",
    "res_train.drop(['discount','city_code','emailer_for_promotion','homepage_featured','center_type','region_code'],axis=1,inplace=True)"
   ]
  },
  {
   "cell_type": "markdown",
   "metadata": {},
   "source": [
    "# Final Columns taken for training"
   ]
  },
  {
   "cell_type": "code",
   "execution_count": 92,
   "metadata": {},
   "outputs": [
    {
     "data": {
      "text/html": [
       "<div>\n",
       "<style scoped>\n",
       "    .dataframe tbody tr th:only-of-type {\n",
       "        vertical-align: middle;\n",
       "    }\n",
       "\n",
       "    .dataframe tbody tr th {\n",
       "        vertical-align: top;\n",
       "    }\n",
       "\n",
       "    .dataframe thead th {\n",
       "        text-align: right;\n",
       "    }\n",
       "</style>\n",
       "<table border=\"1\" class=\"dataframe\">\n",
       "  <thead>\n",
       "    <tr style=\"text-align: right;\">\n",
       "      <th></th>\n",
       "      <th>week</th>\n",
       "      <th>center_id</th>\n",
       "      <th>meal_id</th>\n",
       "      <th>checkout_price</th>\n",
       "      <th>base_price</th>\n",
       "      <th>num_orders</th>\n",
       "      <th>op_area</th>\n",
       "      <th>discount_amt</th>\n",
       "      <th>item</th>\n",
       "    </tr>\n",
       "  </thead>\n",
       "  <tbody>\n",
       "    <tr>\n",
       "      <th>0</th>\n",
       "      <td>1</td>\n",
       "      <td>167.661982</td>\n",
       "      <td>760.348827</td>\n",
       "      <td>136.83</td>\n",
       "      <td>152.29</td>\n",
       "      <td>177</td>\n",
       "      <td>2.0</td>\n",
       "      <td>2736.42</td>\n",
       "      <td>577.249279</td>\n",
       "    </tr>\n",
       "    <tr>\n",
       "      <th>284804</th>\n",
       "      <td>1</td>\n",
       "      <td>249.250641</td>\n",
       "      <td>107.307881</td>\n",
       "      <td>658.63</td>\n",
       "      <td>660.63</td>\n",
       "      <td>14</td>\n",
       "      <td>4.0</td>\n",
       "      <td>28.00</td>\n",
       "      <td>104.640442</td>\n",
       "    </tr>\n",
       "    <tr>\n",
       "      <th>285005</th>\n",
       "      <td>1</td>\n",
       "      <td>249.250641</td>\n",
       "      <td>186.777703</td>\n",
       "      <td>244.50</td>\n",
       "      <td>282.33</td>\n",
       "      <td>14</td>\n",
       "      <td>4.0</td>\n",
       "      <td>529.62</td>\n",
       "      <td>164.568553</td>\n",
       "    </tr>\n",
       "    <tr>\n",
       "      <th>285106</th>\n",
       "      <td>1</td>\n",
       "      <td>249.250641</td>\n",
       "      <td>165.307453</td>\n",
       "      <td>242.50</td>\n",
       "      <td>280.33</td>\n",
       "      <td>121</td>\n",
       "      <td>4.0</td>\n",
       "      <td>4577.43</td>\n",
       "      <td>164.568553</td>\n",
       "    </tr>\n",
       "    <tr>\n",
       "      <th>43263</th>\n",
       "      <td>1</td>\n",
       "      <td>442.001086</td>\n",
       "      <td>89.702309</td>\n",
       "      <td>247.35</td>\n",
       "      <td>247.35</td>\n",
       "      <td>81</td>\n",
       "      <td>5.6</td>\n",
       "      <td>0.00</td>\n",
       "      <td>79.610942</td>\n",
       "    </tr>\n",
       "  </tbody>\n",
       "</table>\n",
       "</div>"
      ],
      "text/plain": [
       "        week   center_id     meal_id  checkout_price  base_price  num_orders  \\\n",
       "0          1  167.661982  760.348827          136.83      152.29         177   \n",
       "284804     1  249.250641  107.307881          658.63      660.63          14   \n",
       "285005     1  249.250641  186.777703          244.50      282.33          14   \n",
       "285106     1  249.250641  165.307453          242.50      280.33         121   \n",
       "43263      1  442.001086   89.702309          247.35      247.35          81   \n",
       "\n",
       "        op_area  discount_amt        item  \n",
       "0           2.0       2736.42  577.249279  \n",
       "284804      4.0         28.00  104.640442  \n",
       "285005      4.0        529.62  164.568553  \n",
       "285106      4.0       4577.43  164.568553  \n",
       "43263       5.6          0.00   79.610942  "
      ]
     },
     "execution_count": 92,
     "metadata": {},
     "output_type": "execute_result"
    }
   ],
   "source": [
    "res_train.head()"
   ]
  },
  {
   "cell_type": "code",
   "execution_count": 93,
   "metadata": {},
   "outputs": [],
   "source": [
    "y_train= res_train.filter(['num_orders'], axis=1)\n",
    "X_train=res_train.drop(['num_orders'],axis=1)\n",
    "y_test= res_test.filter(['num_orders'], axis=1)\n",
    "X_test=res_test.drop(['num_orders'],axis=1)\n",
    "y_train=np.log(y_train)"
   ]
  },
  {
   "cell_type": "code",
   "execution_count": null,
   "metadata": {},
   "outputs": [],
   "source": []
  },
  {
   "cell_type": "markdown",
   "metadata": {},
   "source": [
    "# Applying model"
   ]
  },
  {
   "cell_type": "markdown",
   "metadata": {},
   "source": [
    "Feature scaling using standard scaler"
   ]
  },
  {
   "cell_type": "markdown",
   "metadata": {},
   "source": [
    "from sklearn.preprocessing import StandardScaler\n",
    "sc = StandardScaler()\n",
    "X_train = sc.fit_transform(X_train)\n",
    "X_test = sc.transform(X_test)"
   ]
  },
  {
   "cell_type": "markdown",
   "metadata": {},
   "source": [
    "# Training model using XGBoost Regressor"
   ]
  },
  {
   "cell_type": "code",
   "execution_count": 94,
   "metadata": {},
   "outputs": [
    {
     "name": "stdout",
     "output_type": "stream",
     "text": [
      "[12:38:51] WARNING: src/objective/regression_obj.cu:152: reg:linear is now deprecated in favor of reg:squarederror.\n"
     ]
    },
    {
     "data": {
      "text/plain": [
       "XGBRegressor(base_score=0.5, booster='gbtree', colsample_bylevel=1,\n",
       "             colsample_bynode=1, colsample_bytree=1, gamma=0,\n",
       "             importance_type='gain', learning_rate=0.1, max_delta_step=0,\n",
       "             max_depth=3, min_child_weight=1, missing=None, n_estimators=100,\n",
       "             n_jobs=1, nthread=None, objective='reg:linear', random_state=42,\n",
       "             reg_alpha=0, reg_lambda=1, scale_pos_weight=1, seed=None,\n",
       "             silent=None, subsample=1, verbosity=1)"
      ]
     },
     "execution_count": 94,
     "metadata": {},
     "output_type": "execute_result"
    }
   ],
   "source": [
    "xgb_model = xgb.XGBRegressor(objective=\"reg:linear\", random_state=42)\n",
    "xgb_model.fit(X_train, y_train)"
   ]
  },
  {
   "cell_type": "markdown",
   "metadata": {},
   "source": [
    "# RMSE ON TEST SET"
   ]
  },
  {
   "cell_type": "code",
   "execution_count": 95,
   "metadata": {},
   "outputs": [
    {
     "name": "stdout",
     "output_type": "stream",
     "text": [
      "174.39983577260912\n"
     ]
    }
   ],
   "source": [
    "y_pred = xgb_model.predict(X_test)\n",
    "y_pred=np.exp(y_pred)\n",
    "mse=mean_squared_error(y_test, y_pred)\n",
    "\n",
    "print(np.sqrt(mse))"
   ]
  },
  {
   "cell_type": "markdown",
   "metadata": {},
   "source": [
    "# RMSE ON TRAIN SET"
   ]
  },
  {
   "cell_type": "code",
   "execution_count": 96,
   "metadata": {},
   "outputs": [
    {
     "name": "stdout",
     "output_type": "stream",
     "text": [
      "175.84203390899367\n"
     ]
    }
   ],
   "source": [
    "y_pred1= xgb_model.predict(X_train)\n",
    "y_pred1=np.exp(y_pred1)\n",
    "y_train=np.exp(y_train)\n",
    "mse=mean_squared_error(y_train, y_pred1)\n",
    "\n",
    "print(np.sqrt(mse))"
   ]
  },
  {
   "cell_type": "markdown",
   "metadata": {},
   "source": [
    "# MAE on TEST SET"
   ]
  },
  {
   "cell_type": "code",
   "execution_count": 97,
   "metadata": {},
   "outputs": [
    {
     "data": {
      "text/plain": [
       "79.0806030220244"
      ]
     },
     "execution_count": 97,
     "metadata": {},
     "output_type": "execute_result"
    }
   ],
   "source": [
    "from sklearn.metrics import mean_absolute_error\n",
    "mae=mean_absolute_error(y_test,y_pred)\n",
    "mae"
   ]
  },
  {
   "cell_type": "markdown",
   "metadata": {},
   "source": [
    "# MAE ON TRAIN SET"
   ]
  },
  {
   "cell_type": "code",
   "execution_count": 98,
   "metadata": {},
   "outputs": [
    {
     "data": {
      "text/plain": [
       "79.70443584616338"
      ]
     },
     "execution_count": 98,
     "metadata": {},
     "output_type": "execute_result"
    }
   ],
   "source": [
    "mae=mean_absolute_error(y_train,y_pred1)\n",
    "mae"
   ]
  },
  {
   "cell_type": "markdown",
   "metadata": {},
   "source": [
    "# R2 SCORE ON TEST SET\n"
   ]
  },
  {
   "cell_type": "code",
   "execution_count": 99,
   "metadata": {},
   "outputs": [
    {
     "data": {
      "text/plain": [
       "0.7719627700060571"
      ]
     },
     "execution_count": 99,
     "metadata": {},
     "output_type": "execute_result"
    }
   ],
   "source": [
    "r2_score(y_test, y_pred)"
   ]
  },
  {
   "cell_type": "markdown",
   "metadata": {},
   "source": [
    "# R2 SCORE ON TRAIN SET\n"
   ]
  },
  {
   "cell_type": "code",
   "execution_count": 100,
   "metadata": {},
   "outputs": [
    {
     "data": {
      "text/plain": [
       "0.8101293277846586"
      ]
     },
     "execution_count": 100,
     "metadata": {},
     "output_type": "execute_result"
    }
   ],
   "source": [
    "r2_score(y_train, y_pred1)"
   ]
  },
  {
   "cell_type": "code",
   "execution_count": 101,
   "metadata": {},
   "outputs": [
    {
     "data": {
      "text/plain": [
       "<matplotlib.axes._subplots.AxesSubplot at 0x14d29c32648>"
      ]
     },
     "execution_count": 101,
     "metadata": {},
     "output_type": "execute_result"
    },
    {
     "data": {
      "image/png": "[encoded data removed]",
      "text/plain": [
       "<Figure size 432x288 with 1 Axes>"
      ]
     },
     "metadata": {
      "needs_background": "light"
     },
     "output_type": "display_data"
    }
   ],
   "source": [
    "xgb.plot_importance(xgb_model)"
   ]
  },
  {
   "cell_type": "code",
   "execution_count": null,
   "metadata": {},
   "outputs": [],
   "source": []
  },
  {
   "cell_type": "code",
   "execution_count": 102,
   "metadata": {},
   "outputs": [],
   "source": [
    "    \n",
    "from sklearn.linear_model import LinearRegression\n",
    "from sklearn.neighbors import KNeighborsRegressor\n",
    "from sklearn.tree import DecisionTreeRegressor\n",
    "from sklearn import metrics\n"
   ]
  },
  {
   "cell_type": "markdown",
   "metadata": {},
   "source": [
    "# Linear Regression "
   ]
  },
  {
   "cell_type": "code",
   "execution_count": 103,
   "metadata": {},
   "outputs": [],
   "source": [
    "X_test_new=X_test.reset_index(drop=True)"
   ]
  },
  {
   "cell_type": "code",
   "execution_count": 104,
   "metadata": {},
   "outputs": [
    {
     "name": "stdout",
     "output_type": "stream",
     "text": [
      "Root Mean Squared Error for LinearRegression: 198.3994249366241\n"
     ]
    }
   ],
   "source": [
    "lr = LinearRegression()  \n",
    "lr.fit(X_train, y_train)\n",
    "y_pred = lr.predict(X_test_new)\n",
    "\n",
    "print('Root Mean Squared Error for LinearRegression:', np.sqrt(metrics.mean_squared_error(y_test, y_pred)))"
   ]
  },
  {
   "cell_type": "code",
   "execution_count": 105,
   "metadata": {},
   "outputs": [
    {
     "data": {
      "text/html": [
       "<div>\n",
       "<style scoped>\n",
       "    .dataframe tbody tr th:only-of-type {\n",
       "        vertical-align: middle;\n",
       "    }\n",
       "\n",
       "    .dataframe tbody tr th {\n",
       "        vertical-align: top;\n",
       "    }\n",
       "\n",
       "    .dataframe thead th {\n",
       "        text-align: right;\n",
       "    }\n",
       "</style>\n",
       "<table border=\"1\" class=\"dataframe\">\n",
       "  <thead>\n",
       "    <tr style=\"text-align: right;\">\n",
       "      <th></th>\n",
       "      <th>num_orders</th>\n",
       "    </tr>\n",
       "  </thead>\n",
       "  <tbody>\n",
       "    <tr>\n",
       "      <th>0</th>\n",
       "      <td>177.0</td>\n",
       "    </tr>\n",
       "    <tr>\n",
       "      <th>284804</th>\n",
       "      <td>14.0</td>\n",
       "    </tr>\n",
       "    <tr>\n",
       "      <th>285005</th>\n",
       "      <td>14.0</td>\n",
       "    </tr>\n",
       "    <tr>\n",
       "      <th>285106</th>\n",
       "      <td>121.0</td>\n",
       "    </tr>\n",
       "    <tr>\n",
       "      <th>43263</th>\n",
       "      <td>81.0</td>\n",
       "    </tr>\n",
       "    <tr>\n",
       "      <th>...</th>\n",
       "      <td>...</td>\n",
       "    </tr>\n",
       "    <tr>\n",
       "      <th>231824</th>\n",
       "      <td>42.0</td>\n",
       "    </tr>\n",
       "    <tr>\n",
       "      <th>305605</th>\n",
       "      <td>636.0</td>\n",
       "    </tr>\n",
       "    <tr>\n",
       "      <th>68940</th>\n",
       "      <td>96.0</td>\n",
       "    </tr>\n",
       "    <tr>\n",
       "      <th>304709</th>\n",
       "      <td>27.0</td>\n",
       "    </tr>\n",
       "    <tr>\n",
       "      <th>353973</th>\n",
       "      <td>82.0</td>\n",
       "    </tr>\n",
       "  </tbody>\n",
       "</table>\n",
       "<p>361348 rows × 1 columns</p>\n",
       "</div>"
      ],
      "text/plain": [
       "        num_orders\n",
       "0            177.0\n",
       "284804        14.0\n",
       "285005        14.0\n",
       "285106       121.0\n",
       "43263         81.0\n",
       "...            ...\n",
       "231824        42.0\n",
       "305605       636.0\n",
       "68940         96.0\n",
       "304709        27.0\n",
       "353973        82.0\n",
       "\n",
       "[361348 rows x 1 columns]"
      ]
     },
     "execution_count": 105,
     "metadata": {},
     "output_type": "execute_result"
    }
   ],
   "source": [
    "y_train"
   ]
  },
  {
   "cell_type": "code",
   "execution_count": 106,
   "metadata": {},
   "outputs": [
    {
     "data": {
      "text/plain": [
       "array([[334.85572982],\n",
       "       [316.82415053],\n",
       "       [240.63200331],\n",
       "       ...,\n",
       "       [-32.1809927 ],\n",
       "       [116.26705452],\n",
       "       [-29.98712625]])"
      ]
     },
     "execution_count": 106,
     "metadata": {},
     "output_type": "execute_result"
    }
   ],
   "source": [
    "y_pred"
   ]
  },
  {
   "cell_type": "markdown",
   "metadata": {},
   "source": [
    "# R2 score Linear Regression"
   ]
  },
  {
   "cell_type": "code",
   "execution_count": 107,
   "metadata": {},
   "outputs": [
    {
     "data": {
      "text/plain": [
       "0.7048828612161595"
      ]
     },
     "execution_count": 107,
     "metadata": {},
     "output_type": "execute_result"
    }
   ],
   "source": [
    "r2_score(y_test, y_pred)"
   ]
  },
  {
   "cell_type": "code",
   "execution_count": 108,
   "metadata": {},
   "outputs": [
    {
     "name": "stdout",
     "output_type": "stream",
     "text": [
      "11544\n"
     ]
    }
   ],
   "source": [
    "flag=0\n",
    "for i in y_pred:\n",
    "    if i<0:\n",
    "        flag=flag+1\n",
    "print(flag)"
   ]
  },
  {
   "cell_type": "markdown",
   "metadata": {},
   "source": [
    "# KNN "
   ]
  },
  {
   "cell_type": "code",
   "execution_count": 109,
   "metadata": {},
   "outputs": [
    {
     "name": "stdout",
     "output_type": "stream",
     "text": [
      "Root Mean Squared Error for knn: 153.02886050781183\n"
     ]
    }
   ],
   "source": [
    "knn = KNeighborsRegressor()  \n",
    "knn.fit(X_train, y_train)\n",
    "y_pred = knn.predict(X_test)\n",
    "\n",
    "print('Root Mean Squared Error for knn:', np.sqrt(metrics.mean_squared_error(y_test, y_pred)))"
   ]
  },
  {
   "cell_type": "code",
   "execution_count": 120,
   "metadata": {},
   "outputs": [
    {
     "name": "stdout",
     "output_type": "stream",
     "text": [
      "0\n"
     ]
    }
   ],
   "source": [
    "flag=0\n",
    "for i in y_pred:\n",
    "    if i<0:\n",
    "        flag=flag+1\n",
    "print(flag)"
   ]
  },
  {
   "cell_type": "markdown",
   "metadata": {},
   "source": [
    "# KNN R2 Score"
   ]
  },
  {
   "cell_type": "code",
   "execution_count": 121,
   "metadata": {},
   "outputs": [
    {
     "data": {
      "text/plain": [
       "0.8721961020599844"
      ]
     },
     "execution_count": 121,
     "metadata": {},
     "output_type": "execute_result"
    }
   ],
   "source": [
    "r2_score(y_test, y_pred)"
   ]
  },
  {
   "cell_type": "markdown",
   "metadata": {},
   "source": [
    "# Decision Tree Regressor"
   ]
  },
  {
   "cell_type": "code",
   "execution_count": 122,
   "metadata": {},
   "outputs": [
    {
     "name": "stdout",
     "output_type": "stream",
     "text": [
      "Root Mean Squared Error for DecisionTree: 147.34311479295786\n"
     ]
    }
   ],
   "source": [
    "dt = DecisionTreeRegressor()  \n",
    "dt.fit(X_train, y_train)\n",
    "y_pred = dt.predict(X_test)\n",
    "\n",
    "\n",
    "print('Root Mean Squared Error for DecisionTree:', np.sqrt(metrics.mean_squared_error(y_test, y_pred)))"
   ]
  },
  {
   "cell_type": "code",
   "execution_count": 123,
   "metadata": {},
   "outputs": [
    {
     "name": "stdout",
     "output_type": "stream",
     "text": [
      "0\n"
     ]
    }
   ],
   "source": [
    "flag=0\n",
    "for i in y_pred:\n",
    "    if i<0:\n",
    "        flag=flag+1\n",
    "print(flag)"
   ]
  },
  {
   "cell_type": "markdown",
   "metadata": {},
   "source": [
    "# Decision Tree R2 score"
   ]
  },
  {
   "cell_type": "code",
   "execution_count": 124,
   "metadata": {},
   "outputs": [
    {
     "data": {
      "text/plain": [
       "0.837230396105637"
      ]
     },
     "execution_count": 124,
     "metadata": {},
     "output_type": "execute_result"
    }
   ],
   "source": [
    "r2_score(y_test, y_pred)"
   ]
  },
  {
   "cell_type": "code",
   "execution_count": 125,
   "metadata": {},
   "outputs": [],
   "source": [
    "from sklearn.ensemble import VotingRegressor"
   ]
  },
  {
   "cell_type": "code",
   "execution_count": 126,
   "metadata": {},
   "outputs": [],
   "source": [
    "r1 =  KNeighborsRegressor()  \n",
    "r2 = DecisionTreeRegressor()"
   ]
  },
  {
   "cell_type": "code",
   "execution_count": 127,
   "metadata": {},
   "outputs": [
    {
     "name": "stderr",
     "output_type": "stream",
     "text": [
      "C:\\Users\\akhil.damri\\anaconda3\\lib\\site-packages\\sklearn\\ensemble\\_voting.py:406: DataConversionWarning: A column-vector y was passed when a 1d array was expected. Please change the shape of y to (n_samples, ), for example using ravel().\n",
      "  y = column_or_1d(y, warn=True)\n"
     ]
    },
    {
     "name": "stdout",
     "output_type": "stream",
     "text": [
      "[458.3 204.7 101.2 ...  56.1  82.   24.5]\n"
     ]
    }
   ],
   "source": [
    "er = VotingRegressor([('knn', r1), ('dt', r2)])\n",
    "print(er.fit(X_train, y_train).predict(X_test))"
   ]
  },
  {
   "cell_type": "code",
   "execution_count": 128,
   "metadata": {},
   "outputs": [],
   "source": [
    "y_pred=er.predict(X_test)"
   ]
  },
  {
   "cell_type": "code",
   "execution_count": 129,
   "metadata": {},
   "outputs": [
    {
     "data": {
      "text/plain": [
       "0.8737937056837851"
      ]
     },
     "execution_count": 129,
     "metadata": {},
     "output_type": "execute_result"
    }
   ],
   "source": [
    "r2_score(y_test, y_pred)"
   ]
  },
  {
   "cell_type": "markdown",
   "metadata": {},
   "source": [
    "import lightgbm\n",
    "parameters = {\n",
    "    'application': 'binary',\n",
    "    'objective': 'binary',\n",
    "    'metric': 'auc',\n",
    "    'is_unbalance': 'true',\n",
    "    'boosting': 'gbdt',\n",
    "    'num_leaves': 31,\n",
    "    'feature_fraction': 0.5,\n",
    "    'bagging_fraction': 0.5,\n",
    "    'bagging_freq': 20,\n",
    "    'learning_rate': 0.05,\n",
    "    'verbose': 0\n",
    "}\n",
    "model = lightgbm.train(parameters,\n",
    "                       X_train,\n",
    "                       valid_sets=y_test,\n",
    "                       num_boost_round=5000,\n",
    "                       early_stopping_rounds=100)"
   ]
  },
  {
   "cell_type": "code",
   "execution_count": 130,
   "metadata": {},
   "outputs": [
    {
     "name": "stdout",
     "output_type": "stream",
     "text": [
      "Root Mean Squared Error for LinearRegression: 129.7429297927154\n"
     ]
    }
   ],
   "source": [
    "print('Root Mean Squared Error for LinearRegression:', np.sqrt(metrics.mean_squared_error(y_test, y_pred)))"
   ]
  },
  {
   "cell_type": "code",
   "execution_count": 131,
   "metadata": {},
   "outputs": [
    {
     "name": "stdout",
     "output_type": "stream",
     "text": [
      "0\n"
     ]
    }
   ],
   "source": [
    "flag=0\n",
    "for i in y_pred:\n",
    "    if i<0:\n",
    "        flag=flag+1\n",
    "print(flag)"
   ]
  },
  {
   "cell_type": "code",
   "execution_count": null,
   "metadata": {},
   "outputs": [],
   "source": []
  }
 ],
 "metadata": {
  "kernelspec": {
   "display_name": "Python 3",
   "language": "python",
   "name": "python3"
  },
  "language_info": {
   "codemirror_mode": {
    "name": "ipython",
    "version": 3
   },
   "file_extension": ".py",
   "mimetype": "text/x-python",
   "name": "python",
   "nbconvert_exporter": "python",
   "pygments_lexer": "ipython3",
   "version": "3.7.6"
  }
 },
 "nbformat": 4,
 "nbformat_minor": 4
}
